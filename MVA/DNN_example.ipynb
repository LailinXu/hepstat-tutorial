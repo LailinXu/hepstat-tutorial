{
 "cells": [
  {
   "cell_type": "markdown",
   "id": "03f829b4-39ad-400c-89a8-e85bad2539da",
   "metadata": {},
   "source": [
    "# A simple DNN example using PyTorch"
   ]
  },
  {
   "cell_type": "markdown",
   "id": "30ee3958-266c-4c13-86fb-1ba4653275b0",
   "metadata": {},
   "source": [
    "This note describs a simplified DNN procedure in practical data analysis. In general there are two mostly-used machine learning frames: tensorflow and pytorch. These two tools share similar user's interface and pytorch will be introduced particularly. \n",
    "A complete DNN model usually contains one input layer, one output layer and several hiden layers. Such model reads arrays of size [nbatch, nfeature] and output arrays of size [nbatch, ndim_out], where \"nbatch\" denotes the number of events used in each training/test, \"nfeature\" denotes the number of signatures/properties of each event inputed to the model, and ndim_out is the dimension of expected output, hence 1 for regression problem and 2/3/n for classification problem. To build a NN procedure, the first step is to prepare the training and test datasets from \".root\" files."
   ]
  },
  {
   "cell_type": "markdown",
   "id": "c3b95bce-32d4-4d13-a438-486276060cd8",
   "metadata": {},
   "source": [
    "## Preparing the training and test datasets"
   ]
  },
  {
   "cell_type": "code",
   "execution_count": 84,
   "id": "ddae3ef5-771d-47ec-b411-2c6cc6ffd425",
   "metadata": {},
   "outputs": [],
   "source": [
    "import ROOT\n",
    "from ROOT import TFile, TTree, TH1, TObject, TCanvas, gROOT, TH1D, TColor, TEnv, TGraph\n",
    "import io\n",
    "import os\n",
    "from os import system\n",
    "import numpy as np\n",
    "import sys\n",
    "import array\n",
    "from array import array\n",
    "vars_dnn = [\n",
    "    \"lep1_pt\",\"lep1_eta\",\"lep1_phi\",\"lep1_m\",\n",
    "    \"lep2_pt\",\"lep2_eta\",\"lep2_phi\",\"lep2_m\",\n",
    "    \"jet1_pt\",\"jet1_eta\",\"jet1_phi\",\"jet1_m\",\n",
    "    \"jet2_pt\",\"jet2_eta\",\"jet2_phi\",\"jet2_m\",\n",
    "    \"jet3_pt\",\"jet3_eta\",\"jet3_phi\",\"jet3_m\", \n",
    "    \"met\",\"met_phi\",\n",
    "    \"mtt_truth\",\"mtt_reco\"\n",
    "]"
   ]
  },
  {
   "cell_type": "markdown",
   "id": "c592cf41-0a20-4900-aee5-e90ae80df4a0",
   "metadata": {},
   "source": [
    "Import tools and set the kinematics used in DNN. \"mtt_truth\" and \"mtt_reco\" are labels. The others are features."
   ]
  },
  {
   "cell_type": "code",
   "execution_count": 85,
   "id": "4497972b-151c-4b83-8ba7-dc32b1f23336",
   "metadata": {},
   "outputs": [],
   "source": [
    "def root_to_np_dnn(_file, _tree, _vars):\n",
    "  print(\"loading DNN branches\\n\")\n",
    "  f = TFile.Open(_file)\n",
    "  tree = getattr(f,_tree)\n",
    "  N_evts = tree.GetEntries()\n",
    "  data_np = np.zeros((N_evts, len(_vars)))\n",
    "\n",
    "  for n, event in enumerate(tree):\n",
    "    if(n%100000 == 0) : print('Loading DNN:  {:n}/{:n}'.format(n, N_evts))\n",
    "    for i, key in enumerate(_vars) :\n",
    "      try:\n",
    "        fresh = getattr(event, key)\n",
    "      except:\n",
    "        fresh = None\n",
    "      data_np[n][i] = fresh\n",
    "\n",
    "  return data_np"
   ]
  },
  {
   "cell_type": "markdown",
   "id": "0c9ce59e-9684-4ee2-bf22-6b8021f89865",
   "metadata": {},
   "source": [
    "Read the branches in root file, then store it as \"numpy\" of size [N_entry, N_var]. Numpy is a library for the Python programming language, adding support for large, multi-dimensional arrays and matrices, along with a large collection of high-level mathematical functions to operate on these arrays."
   ]
  },
  {
   "cell_type": "code",
   "execution_count": 86,
   "id": "2ae73dc6-57f0-4a94-8862-ee54e0ffcb1c",
   "metadata": {},
   "outputs": [],
   "source": [
    "def split_and_save(_input, _tree,   save_path= \"./\", pfx = \"\" , train_frac = 0.8):\n",
    "    system('mkdir -p  '+ save_path+'/'+pfx)\n",
    "    print('using working dir: ' + save_path+'/'+pfx )\n",
    "    \n",
    "    np_dnn = root_to_np_dnn(_input, _tree, vars_dnn)\n",
    "    \n",
    "    #shuffle the array and split it into two sets [train_frac, 1-train_frac]\n",
    "    np.random.shuffle(np_dnn)\n",
    "    ntrain =int(np_dnn.shape[0] * train_frac)\n",
    "    np_train = np_dnn[0:ntrain]\n",
    "    np_test = np_dnn[ntrain:-1]\n",
    "\n",
    "    #label1 \"truth_mtt\" and label2 \"reco_mtt\" are splitted from the latest two columns [-2, -1]\n",
    "    (np_dnn_feature, np_dnn_label1, np_dnn_label2) = np.hsplit(np_dnn, [-2,-1])\n",
    "    (np_train_feature, np_train_label1, np_train_label2) = np.hsplit(np_train, [-2,-1])\n",
    "    (np_test_feature, np_test_label1, np_test_label2) = np.hsplit(np_test, [-2,-1])\n",
    "\n",
    "    #print(np_dnn_feature)\n",
    "    #print(np_dnn_label1)\n",
    "    #print(np_dnn_label2)\n",
    "    \n",
    "    #save all arrays as \".npy\"\n",
    "    with io.open(save_path+'/'+pfx+'/full_feature.npy', 'wb') as f:\n",
    "        np.save(f,np_dnn_feature)\n",
    "    with io.open(save_path+'/'+pfx+'/train_feature.npy', 'wb') as f:\n",
    "        np.save(f,np_train_feature)\n",
    "    with io.open(save_path+'/'+pfx+'/test_feature.npy', 'wb') as f:\n",
    "        np.save(f,np_test_feature)\n",
    "\n",
    "    with io.open(save_path+'/'+pfx+'/full_label1.npy', 'wb') as f:\n",
    "        np.save(f,np_dnn_label1)\n",
    "    with io.open(save_path+'/'+pfx+'/train_label1.npy', 'wb') as f:\n",
    "        np.save(f,np_train_label1)\n",
    "    with io.open(save_path+'/'+pfx+'/test_label1.npy', 'wb') as f:\n",
    "        np.save(f,np_test_label1)\n",
    "\n",
    "    with io.open(save_path+'/'+pfx+'/full_label2.npy', 'wb') as f:\n",
    "        np.save(f,np_dnn_label2)\n",
    "    with io.open(save_path+'/'+pfx+'/train_label2.npy', 'wb') as f:\n",
    "        np.save(f,np_train_label2)\n",
    "    with io.open(save_path+'/'+pfx+'/test_label2.npy', 'wb') as f:\n",
    "        np.save(f,np_test_label2)\n",
    "\n",
    "    return"
   ]
  },
  {
   "cell_type": "markdown",
   "id": "25dedeb2-91e9-471b-bd8d-70d1dce68b6d",
   "metadata": {},
   "source": [
    "Read the output numpy of \"root_to_np_dnn\", then split into training set and test set accoring to the given fraction."
   ]
  },
  {
   "cell_type": "code",
   "execution_count": 87,
   "id": "2816397e-34ed-4c42-b95d-6342f3f4a3dc",
   "metadata": {},
   "outputs": [
    {
     "name": "stdout",
     "output_type": "stream",
     "text": [
      "using working dir: ./npys/signal\n",
      "loading DNN branches\n",
      "\n",
      "Loading DNN:  0/62710\n",
      "using working dir: ./npys/test1\n",
      "loading DNN branches\n",
      "\n",
      "Loading DNN:  0/24634\n",
      "using working dir: ./npys/test2\n",
      "loading DNN branches\n",
      "\n",
      "Loading DNN:  0/18395\n"
     ]
    }
   ],
   "source": [
    "tree_name = \"tree\"\n",
    "kp = \"./input/\"\n",
    "signal = kp +\"SM_ttbar.root\"\n",
    "test1 = kp +\"Zp1TeV_ttbar.root\"\n",
    "test2 = kp +\"Zp2TeV_ttbar.root\"\n",
    "# signal is the SM ttbar decay, used in training. the other two are BSM, only for test, with train_frac = 0\n",
    "split_and_save(signal, tree_name, './npys', 'signal', 0.8)\n",
    "split_and_save(test1, tree_name, './npys', 'test1', 0.)\n",
    "split_and_save(test2, tree_name, './npys', 'test2', 0.)"
   ]
  },
  {
   "cell_type": "markdown",
   "id": "4e96ab11-6114-4c42-baa1-1880d2d1a942",
   "metadata": {},
   "source": [
    "Then we have the \".npy\" inputs ready for training. "
   ]
  },
  {
   "cell_type": "markdown",
   "id": "efd9c15f-aca7-4bf3-aa42-f37ecacc1e64",
   "metadata": {},
   "source": [
    "## Build DNN model and Training"
   ]
  },
  {
   "cell_type": "code",
   "execution_count": 88,
   "id": "4663332b-2ba6-4070-ac6a-dc7e4aeabcfb",
   "metadata": {},
   "outputs": [],
   "source": [
    "import torch\n",
    "from torch import nn, optim\n",
    "sys.path.append(\"..\")\n",
    "torch.manual_seed(42)\n",
    "torch.autograd.set_detect_anomaly(True)\n",
    "torch.set_default_tensor_type(torch.DoubleTensor)\n",
    "device = torch.device('cuda:7' if torch.cuda.is_available() else 'cpu') # the cuda is the Nvidia interface for GPU training"
   ]
  },
  {
   "cell_type": "code",
   "execution_count": 89,
   "id": "bbaaaefa-0b30-40bd-aebc-f26886d13ec4",
   "metadata": {},
   "outputs": [],
   "source": [
    "class DNNModel(nn.Module):\n",
    "    def __init__(self, N_dnn_var, N_dimout = 1):\n",
    "      super(DNNModel, self).__init__()\n",
    "      self.N_dnn_var = N_dnn_var\n",
    "      self.N_dimout = N_dimout\n",
    "      self.dnn = nn.Sequential(\n",
    "        nn.Linear(self.N_dnn_var, 100),\n",
    "        nn.ReLU(),\n",
    "        nn.Linear(100, 100),\n",
    "        nn.ReLU(),\n",
    "        nn.Linear(100, 100),\n",
    "        nn.ReLU(),\n",
    "        nn.Linear(100, self.N_dimout),\n",
    "        )\n",
    "#define how the model proceeds when calling\n",
    "    def forward(self, inputsDNN):\n",
    "      output = self.dnn(inputsDNN)\n",
    "      return output"
   ]
  },
  {
   "cell_type": "markdown",
   "id": "8b83c5bd-2aab-4cce-89f9-ea39c14a719f",
   "metadata": {},
   "source": [
    "\"nn\" is the Base class for all neural network modules in pytorch. Your models should also subclass this class. Modules can also contain other Modules, allowing to nest them in a tree structure. You can assign the submodules as regular attributes. Submodules assigned in this way will be registered.\n",
    "Here the model is simplied. \"N_dnn_var\" is the number of features in training. nn.Sequential help to define a sequence of nn layers:\n",
    "\n",
    "    1. nn.Linear(self.N_dnn_var, 100)： first fullly-connected layer connecting the input layer and hidden layer1 with 100 nodes. \n",
    "    2. nn.Linear(100, 100) x 2: connect the [hidden layer1, hidden layer2]. and [hidden layer2, hidden layer3]\n",
    "    3. nn.Linear(100, 1): regression layer between the hidden layer 3 and 1-dim output.\n",
    "    \n",
    "nn.ReLU() is the activation function，defines the output of that node given an input or set of inputs. ReLU(x) = max(x, 0)."
   ]
  },
  {
   "cell_type": "markdown",
   "id": "b98a1dad-80ec-48ec-8a4d-44375dee0251",
   "metadata": {},
   "source": [
    "Then we can start training!"
   ]
  },
  {
   "cell_type": "code",
   "execution_count": 90,
   "id": "66a8a3b2-2c2e-4266-a7bc-34557ede6d4b",
   "metadata": {},
   "outputs": [],
   "source": [
    "def train():\n",
    "    # inputs prepared before\n",
    "    path = (\"./npys/signal/\")\n",
    "    train_feature = torch.from_numpy(np.load(path+\"train_feature.npy\"))\n",
    "    train_label = torch.from_numpy(np.load(path+\"train_label1.npy\"))\n",
    "    test_feature = torch.from_numpy(np.load(path+\"test_feature.npy\"))\n",
    "    test_label = torch.from_numpy(np.load(path+\"test_label1.npy\"))\n",
    "\n",
    "    model = DNNModel(train_feature.shape[1],1).to(device)\n",
    "    \n",
    "    #loss function in training, L1Loss means MAE (mean absolute error)\n",
    "    loss = nn.L1Loss().to(device)\n",
    "    \n",
    "    #optimizer is the tool helping to optimize the paramters according to Loss function \n",
    "    #lr means \"learing rate\", the speed at which a machine learning model \"learns\"\n",
    "    optimizer = torch.optim.Adam(model.parameters(), lr=0.001)\n",
    "\n",
    "    os.system('mkdir -p ./models/')\n",
    "    os.system('mkdir -p ./loss/')\n",
    "    \n",
    "    floss = open(\"./loss/loss.txt\", \"w+\")\n",
    "\n",
    "    num_epochs = 51\n",
    "  \n",
    "    for epoch in range(num_epochs):\n",
    "      #set the model to train mode\n",
    "      model.train()\n",
    "      train_out = model(train_feature.to(device))\n",
    "      L = loss( train_out.to(device), train_label.to(device))\n",
    "      \n",
    "      # clear the gradient, backward the loss function and optimize the paramters\n",
    "      optimizer.zero_grad()\n",
    "      L.backward()\n",
    "      optimizer.step()\n",
    "    \n",
    "      #set the model to evaluation mode\n",
    "      # measure the loss of test set\n",
    "      model.eval()\n",
    "      with torch.no_grad():\n",
    "        test_out = model(test_feature.to(device))\n",
    "      L_test = loss(test_out.to(device),  test_label.to(device))\n",
    "    \n",
    "      floss.write(\"+Epoch:  {:n}\\n\".format(epoch))\n",
    "      floss.write(\"+train_loss:  {:f}\\n\".format(L.item()))\n",
    "      floss.write(\"+test_loss:  {:f}\\n\\n\".format(L_test.item()))\n",
    "\n",
    "      print('epoch: {:d}      |     train_loss: {:6.4f}      |    test_loss: {:6.4f} '.format(epoch,  L.item(), L_test.item()))\n",
    "      if(epoch%10 == 0 ): torch.save(model.state_dict(), './models/epoch_{:d}.pkl'.format(epoch))\n",
    "\n",
    "    floss.close()"
   ]
  },
  {
   "cell_type": "markdown",
   "id": "9b30f0c5-da20-4e5e-9567-e7e6f7f46c07",
   "metadata": {},
   "source": [
    "This the main function for training, using the two most important tools \"Loss\" and \"Optimizer\" of pytorch to measure the Loss function, perform back-ward propagation and optimize all paramters in the model. "
   ]
  },
  {
   "cell_type": "code",
   "execution_count": 91,
   "id": "eba70ea8-28f2-4bee-9465-618187ec0c13",
   "metadata": {},
   "outputs": [
    {
     "name": "stdout",
     "output_type": "stream",
     "text": [
      "epoch: 0      |     train_loss: 551.1341      |    test_loss: 547.9028 \n",
      "epoch: 1      |     train_loss: 549.0781      |    test_loss: 545.9478 \n",
      "epoch: 2      |     train_loss: 547.1155      |    test_loss: 544.0599 \n",
      "epoch: 3      |     train_loss: 545.2200      |    test_loss: 542.1061 \n",
      "epoch: 4      |     train_loss: 543.2589      |    test_loss: 540.0044 \n",
      "epoch: 5      |     train_loss: 541.1493      |    test_loss: 537.7078 \n",
      "epoch: 6      |     train_loss: 538.8435      |    test_loss: 535.1854 \n",
      "epoch: 7      |     train_loss: 536.3100      |    test_loss: 532.3935 \n",
      "epoch: 8      |     train_loss: 533.5064      |    test_loss: 529.2885 \n",
      "epoch: 9      |     train_loss: 530.3891      |    test_loss: 525.8437 \n",
      "epoch: 10      |     train_loss: 526.9306      |    test_loss: 522.0091 \n",
      "epoch: 11      |     train_loss: 523.0804      |    test_loss: 517.6795 \n",
      "epoch: 12      |     train_loss: 518.7325      |    test_loss: 512.7485 \n",
      "epoch: 13      |     train_loss: 513.7815      |    test_loss: 507.1450 \n",
      "epoch: 14      |     train_loss: 508.1555      |    test_loss: 500.8101 \n",
      "epoch: 15      |     train_loss: 501.7950      |    test_loss: 493.6611 \n",
      "epoch: 16      |     train_loss: 494.6162      |    test_loss: 485.6058 \n",
      "epoch: 17      |     train_loss: 486.5271      |    test_loss: 476.5445 \n",
      "epoch: 18      |     train_loss: 477.4288      |    test_loss: 466.3627 \n",
      "epoch: 19      |     train_loss: 467.2139      |    test_loss: 454.9274 \n",
      "epoch: 20      |     train_loss: 455.7477      |    test_loss: 442.1435 \n",
      "epoch: 21      |     train_loss: 442.9210      |    test_loss: 427.8683 \n",
      "epoch: 22      |     train_loss: 428.6118      |    test_loss: 411.9671 \n",
      "epoch: 23      |     train_loss: 412.6827      |    test_loss: 394.3163 \n",
      "epoch: 24      |     train_loss: 394.9831      |    test_loss: 374.7961 \n",
      "epoch: 25      |     train_loss: 375.4026      |    test_loss: 353.2671 \n",
      "epoch: 26      |     train_loss: 353.8281      |    test_loss: 329.6198 \n",
      "epoch: 27      |     train_loss: 330.2342      |    test_loss: 303.9326 \n",
      "epoch: 28      |     train_loss: 304.6764      |    test_loss: 276.3020 \n",
      "epoch: 29      |     train_loss: 277.3632      |    test_loss: 247.2278 \n",
      "epoch: 30      |     train_loss: 248.7412      |    test_loss: 217.8789 \n",
      "epoch: 31      |     train_loss: 219.7898      |    test_loss: 190.3559 \n",
      "epoch: 32      |     train_loss: 192.5146      |    test_loss: 167.7808 \n",
      "epoch: 33      |     train_loss: 170.1437      |    test_loss: 154.2482 \n",
      "epoch: 34      |     train_loss: 156.7834      |    test_loss: 151.8623 \n",
      "epoch: 35      |     train_loss: 154.5941      |    test_loss: 159.7048 \n",
      "epoch: 36      |     train_loss: 162.2822      |    test_loss: 172.7215 \n",
      "epoch: 37      |     train_loss: 175.0947      |    test_loss: 185.0864 \n",
      "epoch: 38      |     train_loss: 187.3679      |    test_loss: 192.9719 \n",
      "epoch: 39      |     train_loss: 195.1870      |    test_loss: 195.0511 \n",
      "epoch: 40      |     train_loss: 197.2397      |    test_loss: 191.8234 \n",
      "epoch: 41      |     train_loss: 194.0339      |    test_loss: 184.8184 \n",
      "epoch: 42      |     train_loss: 187.0794      |    test_loss: 175.8794 \n",
      "epoch: 43      |     train_loss: 178.1683      |    test_loss: 166.7318 \n",
      "epoch: 44      |     train_loss: 169.1055      |    test_loss: 158.9857 \n",
      "epoch: 45      |     train_loss: 161.4760      |    test_loss: 153.4465 \n",
      "epoch: 46      |     train_loss: 156.1022      |    test_loss: 150.6703 \n",
      "epoch: 47      |     train_loss: 153.3218      |    test_loss: 150.3649 \n",
      "epoch: 48      |     train_loss: 152.9440      |    test_loss: 151.8797 \n",
      "epoch: 49      |     train_loss: 154.3740      |    test_loss: 154.2539 \n",
      "epoch: 50      |     train_loss: 156.7641      |    test_loss: 156.7422 \n"
     ]
    }
   ],
   "source": [
    "train()"
   ]
  },
  {
   "cell_type": "markdown",
   "id": "51cc6d53-386a-4ce3-a1c6-022b7a8b7974",
   "metadata": {},
   "source": [
    "The train loop over all events for 50 times, recorded as 50 epoches. In experiments, one epoch may contain millions of events which can't be handled by CPU/GPU, thereby one epoch is divided into some batches. The loos decays sharply at a high learning rate, but the high lr could also lead to easy over training. And the adjustment of lr, as well as other \"hyperparameters\" is the key to a decent NN model. "
   ]
  },
  {
   "cell_type": "markdown",
   "id": "7327d331",
   "metadata": {},
   "source": [
    "The Loss function can also be plotted:"
   ]
  },
  {
   "cell_type": "code",
   "execution_count": 92,
   "id": "91ef6011",
   "metadata": {},
   "outputs": [
    {
     "name": "stderr",
     "output_type": "stream",
     "text": [
      "Warning in <TCanvas::Constructor>: Deleting canvas with same name: c\n",
      "Info in <TCanvas::Print>: png file loss.png has been created\n"
     ]
    }
   ],
   "source": [
    "gROOT.SetStyle(\"ATLAS\")\n",
    "\n",
    "env = TEnv()\n",
    "env.ReadFile(\"./loss/loss.txt\", ROOT.EEnvLevel(0))\n",
    "ltrain = env.GetValue(\"train_loss\", \"0.\")\n",
    "ltest = env.GetValue(\"test_loss\", \"0.\")\n",
    "train = ltrain.split(\" \")\n",
    "test = ltest.split(\" \")\n",
    "n_epoch = len(test)\n",
    "\n",
    "x_train = np.zeros(n_epoch)\n",
    "x_test = np.zeros(n_epoch)\n",
    "y_train = np.zeros(n_epoch)\n",
    "y_test = np.zeros(n_epoch)\n",
    "\n",
    "for i in range(n_epoch):\n",
    "  x_train[i] = i+1\n",
    "  y_train[i] = float(train[i])\n",
    "\n",
    "  x_test[i] = i+ 1.\n",
    "  y_test[i] = float(test[i])\n",
    "\n",
    "g1 = TGraph(n_epoch, x_train, y_train)\n",
    "g2 = TGraph(n_epoch, x_test, y_test)\n",
    "\n",
    "g1.SetMarkerColor(2)\n",
    "g1.SetLineColor(2)\n",
    "g1.SetMarkerSize(0.2)\n",
    "g2.SetMarkerColor(4)\n",
    "g2.SetMarkerSize(0.2)\n",
    "g2.SetLineColor(4)\n",
    "\n",
    "mg = ROOT.TMultiGraph()\n",
    "mg.Add(g1)\n",
    "mg.Add(g2)\n",
    "myc = TCanvas(\"c\", \"test\")\n",
    "myc.SetLeftMargin(0.15)\n",
    "myc.SetBottomMargin(0.2)\n",
    "h1 =ROOT.TH2F(\"h1\", \"zoom\", 10, -1., n_epoch+10, 10, 0.3, 0.8)\n",
    "\n",
    "h1.GetYaxis().SetLimits(100, 600)\n",
    "h1.GetXaxis().SetTitle(\"Epoch\")\n",
    "h1.GetYaxis().SetTitle(\"Loss\")\n",
    "h1.GetYaxis().SetNdivisions(505)\n",
    "h1.Draw()\n",
    "\n",
    "mg.Draw(\"PC\")\n",
    "leg = ROOT.TLegend(0.65, 0.65, 0.85, 0.85)\n",
    "leg.SetBorderSize(0)\n",
    "leg.AddEntry(g1, \"Train\", \"L\" )\n",
    "leg.AddEntry(g2, \"Test\", \"L\" )\n",
    "leg.Draw(\"same\")\n",
    "\n",
    "myc.Modified()\n",
    "myc.Update()\n",
    "\n",
    "myc.SaveAs(\"loss.png\")"
   ]
  },
  {
   "cell_type": "code",
   "execution_count": 93,
   "id": "e93613a4",
   "metadata": {},
   "outputs": [
    {
     "data": {
      "image/png": "[encoded data removed]",
      "text/plain": [
       "<IPython.core.display.Image object>"
      ]
     },
     "execution_count": 93,
     "metadata": {},
     "output_type": "execute_result"
    }
   ],
   "source": [
    "from IPython.display import Image \n",
    "Image(filename='loss.png') "
   ]
  },
  {
   "cell_type": "markdown",
   "id": "74efa11c-8333-468d-8def-b7fa4362c154",
   "metadata": {},
   "source": [
    "The trained model is now saved. One can easily re-access it with:"
   ]
  },
  {
   "cell_type": "code",
   "execution_count": 94,
   "id": "61e0bd18-a8f1-40e6-ab6b-b9e2c41695f3",
   "metadata": {},
   "outputs": [],
   "source": [
    "def modelload(model, path):\n",
    "    model.load_state_dict(torch.load(path))"
   ]
  },
  {
   "cell_type": "markdown",
   "id": "a196141b-d0c1-46a5-b8e2-a3939908e056",
   "metadata": {},
   "source": [
    "## Test / Application of the DNN model "
   ]
  },
  {
   "cell_type": "markdown",
   "id": "32209ea1-59a6-44f9-858a-9f41e0948478",
   "metadata": {},
   "source": [
    "The trained DNN model can be then used to perform various of tests. In principle you can apply the model to all kinds of datasets except the training set itself. We train the ttbar regreesion model using standard model input. Here we'll test it using SM ttbar and BDM ttar from Z', produced at mZ' = 1 TeV and 2 TeV. "
   ]
  },
  {
   "cell_type": "markdown",
   "id": "9dc353c3-c420-44e9-af35-6616ce2793ee",
   "metadata": {},
   "source": [
    "The new inputs are read from numpy, while the output can be ether numpy or root. Considering the output is usually decorated as a new branch of input tree, we will have the output stored in root file, including three branches \"DNN_output\", \"mtt_reco\" and \"mtt_truth\", denoting the mtt from DNN, mtt from event reconstruction and the ture mtt respectively.  "
   ]
  },
  {
   "cell_type": "code",
   "execution_count": 95,
   "id": "7ffc7102-a0dc-41e5-a9e2-0c26cfb2b44a",
   "metadata": {},
   "outputs": [],
   "source": [
    "def WTR(_outdir, _file, model, dnn_in, dnn_label, dnn_reco):\n",
    "  _out = _outdir + _file\n",
    "  model.eval()\n",
    "  with torch.no_grad():\n",
    "    dnn_out = model(dnn_in)\n",
    "\n",
    "  f = TFile.Open(_out, \"RECREATE\")\n",
    "  t = ROOT.TTree(\"DNN\", \"DNN\")\n",
    "  _val1 = array('f', [0.])\n",
    "  _val2 = array('f', [0.])\n",
    "  _val3 = array('f', [0.])\n",
    "  branch1 = t.Branch(\"DNN_output\",  _val1, \"newbranch1\")\n",
    "  branch2 = t.Branch(\"mtt_truth\",  _val2, \"newbranch2\")\n",
    "  branch3 = t.Branch(\"mtt_reco\",  _val3, \"newbranch3\")\n",
    "  Nevts = dnn_out.shape[0]\n",
    "  for n in range(Nevts):\n",
    "    _val1[0] = dnn_out[n]\n",
    "    _val2[0] = dnn_label[n]\n",
    "    _val3[0] = dnn_reco[n]\n",
    "    t.Fill()\n",
    "  t.Write(\"\", TObject.kOverwrite)\n",
    "  f.Write()\n",
    "  f.Close()"
   ]
  },
  {
   "cell_type": "code",
   "execution_count": 96,
   "id": "0bc6ae1a-7222-46a7-b04e-f495a7b6b708",
   "metadata": {},
   "outputs": [],
   "source": [
    "testmodel = DNNModel(22, 1)\n",
    "modelload(testmodel, './models/epoch_500.pkl')\n",
    "\n",
    "_outdir = './output/'\n",
    "os.system('mkdir -p '+_outdir)\n",
    "\n",
    "path = (\"./npys/signal/\")\n",
    "SM_feature = torch.from_numpy(np.load(path+\"test_feature.npy\"))\n",
    "SM_label = torch.from_numpy(np.load(path+\"test_label1.npy\"))\n",
    "SM_label2 = torch.from_numpy(np.load(path+\"test_label2.npy\"))\n",
    "path = (\"./npys/test1/\")\n",
    "Z1_feature = torch.from_numpy(np.load(path+\"test_feature.npy\"))\n",
    "Z1_label = torch.from_numpy(np.load(path+\"test_label1.npy\"))\n",
    "Z1_label2 = torch.from_numpy(np.load(path+\"test_label2.npy\"))\n",
    "path = (\"./npys/test2/\")\n",
    "Z2_feature = torch.from_numpy(np.load(path+\"test_feature.npy\"))\n",
    "Z2_label = torch.from_numpy(np.load(path+\"test_label1.npy\"))\n",
    "Z2_label2 = torch.from_numpy(np.load(path+\"test_label2.npy\"))\n",
    "\n",
    "WTR(_outdir,\"SM.root\", testmodel, SM_feature, SM_label, SM_label2)\n",
    "WTR(_outdir,\"Z1.root\", testmodel, Z1_feature, Z1_label, Z1_label2)\n",
    "WTR(_outdir,\"Z2.root\", testmodel, Z2_feature, Z2_label, Z2_label2)\n"
   ]
  },
  {
   "cell_type": "markdown",
   "id": "aa12efac-6389-4618-9358-b72d77c64bed",
   "metadata": {},
   "source": [
    "Then the DNN procedure is done! One can try some plotings. In example, to check the performance of DNN and even-reco mtt. "
   ]
  },
  {
   "cell_type": "code",
   "execution_count": 97,
   "id": "372e0d68-2e24-4053-99b6-3ca6703ffa5b",
   "metadata": {},
   "outputs": [
    {
     "name": "stderr",
     "output_type": "stream",
     "text": [
      "Warning in <TCanvas::Constructor>: Deleting canvas with same name: c\n",
      "Info in <TCanvas::Print>: png file DNN_Mass.png has been created\n"
     ]
    }
   ],
   "source": [
    "\n",
    "myc = TCanvas(\"c\", \"test\", 200, 10, 700, 700)\n",
    "myc.SetLeftMargin(0.15)\n",
    "myc.SetBottomMargin(0.2)\n",
    "gROOT.SetStyle(\"ATLAS\")\n",
    "\n",
    "f1 = TFile.Open(\"./output/SM.root\")\n",
    "f2 = TFile.Open(\"./output/Z1.root\")\n",
    "f3 = TFile.Open(\"./output/Z2.root\")\n",
    "\n",
    "t1 = f1.DNN\n",
    "t2 = f2.DNN\n",
    "t3 = f3.DNN\n",
    "\n",
    "h11 = TH1D(\"h11\", \"h11\", 50, 0, 2500)\n",
    "h12 = TH1D(\"h12\", \"h12\", 50, 0, 2500)\n",
    "h21 = TH1D(\"h21\", \"h21\", 50, 0, 2500)\n",
    "h22 = TH1D(\"h22\", \"h22\", 50, 0, 2500)\n",
    "h31 = TH1D(\"h31\", \"h31\", 50, 0, 2500)\n",
    "h32 = TH1D(\"h32\", \"h32\", 50, 0, 2500)\n",
    "\n",
    "def btoh(t, h, var):\n",
    "  for evt in t :\n",
    "    k = getattr(evt, var)\n",
    "    h.Fill(k)\n",
    "  h.Scale(1./h.Integral())\n",
    "  return\n",
    "\n",
    "btoh(t1, h11, \"DNN_output\")\n",
    "btoh(t1, h12, \"mtt_truth\")\n",
    "btoh(t2, h21, \"DNN_output\")\n",
    "btoh(t2, h22, \"mtt_truth\")\n",
    "btoh(t3, h31, \"DNN_output\")\n",
    "btoh(t3, h32, \"mtt_truth\")\n",
    "\n",
    "h11.SetLineColor(ROOT.kRed)\n",
    "h12.SetLineColor(ROOT.kRed)\n",
    "h21.SetLineColor(ROOT.kBlue)\n",
    "h22.SetLineColor(ROOT.kBlue)\n",
    "h31.SetLineColor(ROOT.kGreen)\n",
    "h32.SetLineColor(ROOT.kGreen)\n",
    "\n",
    "h31.SetAxisRange(0.,0.5,\"Y\")\n",
    "h31.GetXaxis().SetTitle(\"mtt[MeV]\")\n",
    "h31.GetYaxis().SetTitle(\"Normalisation\")\n",
    "h31.GetYaxis().SetNdivisions(505)\n",
    "\n",
    "h12.SetLineStyle(9)\n",
    "h22.SetLineStyle(9)\n",
    "h32.SetLineStyle(9)\n",
    "\n",
    "h31.Draw(\"HIST\")\n",
    "h32.Draw(\"HISTsame\")\n",
    "h21.Draw(\"HISTsame\")\n",
    "h22.Draw(\"HISTsame\")\n",
    "h11.Draw(\"HISTsame\")\n",
    "h12.Draw(\"HISTsame\")\n",
    "\n",
    "leg = ROOT.TLegend(0.6, 0.6, 0.85, 0.85)\n",
    "leg.SetBorderSize(0)\n",
    "leg.AddEntry(h11, \"DNN SM t#bar{t}\", \"f\" )\n",
    "leg.AddEntry(h21, \"DNN Z' #rightarrow t#bar{t} 1 TeV\", \"f\" )\n",
    "leg.AddEntry(h31, \"DNN Z' #rightarrow t#bar{t} 2 TeV\", \"f\" )\n",
    "leg.AddEntry(h12, \"True SM t#bar{t}\", \"f\" )\n",
    "leg.AddEntry(h22, \"True Z' #rightarrow t#bar{t} 1 TeV\", \"f\" )\n",
    "leg.AddEntry(h32, \"True Z' #rightarrow t#bar{t} 2 TeV\", \"f\" )\n",
    "leg.Draw(\"same\")\n",
    "\n",
    "myc.SaveAs(\"DNN_Mass.png\")"
   ]
  },
  {
   "cell_type": "code",
   "execution_count": 98,
   "id": "b82bbd33-85a9-43f7-96a6-e5e528208dce",
   "metadata": {},
   "outputs": [
    {
     "name": "stderr",
     "output_type": "stream",
     "text": [
      "Warning in <TCanvas::Constructor>: Deleting canvas with same name: c\n",
      "Info in <TCanvas::Print>: png file Reco_Mass.png has been created\n"
     ]
    }
   ],
   "source": [
    "myc = TCanvas(\"c\", \"test\", 200, 10, 700, 700)\n",
    "myc.SetLeftMargin(0.15)\n",
    "myc.SetBottomMargin(0.2)\n",
    "gROOT.SetStyle(\"ATLAS\")\n",
    "\n",
    "f1 = TFile.Open(\"./output/SM.root\")\n",
    "f2 = TFile.Open(\"./output/Z1.root\")\n",
    "f3 = TFile.Open(\"./output/Z2.root\")\n",
    "\n",
    "t1 = f1.DNN\n",
    "t2 = f2.DNN\n",
    "t3 = f3.DNN\n",
    "\n",
    "h11 = TH1D(\"h11\", \"h11\", 50, 0, 2500)\n",
    "h12 = TH1D(\"h12\", \"h12\", 50, 0, 2500)\n",
    "h21 = TH1D(\"h21\", \"h21\", 50, 0, 2500)\n",
    "h22 = TH1D(\"h22\", \"h22\", 50, 0, 2500)\n",
    "h31 = TH1D(\"h31\", \"h31\", 50, 0, 2500)\n",
    "h32 = TH1D(\"h32\", \"h32\", 50, 0, 2500)\n",
    "\n",
    "def btoh(t, h, var):\n",
    "  for evt in t :\n",
    "    k = getattr(evt, var)\n",
    "    h.Fill(k)\n",
    "  h.Scale(1./h.Integral())\n",
    "  return\n",
    "\n",
    "btoh(t1, h11, \"mtt_reco\")\n",
    "btoh(t1, h12, \"mtt_truth\")\n",
    "btoh(t2, h21, \"mtt_reco\")\n",
    "btoh(t2, h22, \"mtt_truth\")\n",
    "btoh(t3, h31, \"mtt_reco\")\n",
    "btoh(t3, h32, \"mtt_truth\")\n",
    "\n",
    "h11.SetLineColor(ROOT.kRed)\n",
    "h12.SetLineColor(ROOT.kRed)\n",
    "h21.SetLineColor(ROOT.kBlue)\n",
    "\n",
    "h22.SetLineColor(ROOT.kBlue)\n",
    "h31.SetLineColor(ROOT.kGreen)\n",
    "h32.SetLineColor(ROOT.kGreen)\n",
    "\n",
    "h31.SetAxisRange(0.,0.5,\"Y\")\n",
    "h31.GetXaxis().SetTitle(\"mtt[MeV]\")\n",
    "h31.GetYaxis().SetTitle(\"Normalisation\")\n",
    "h31.GetYaxis().SetNdivisions(505)\n",
    "\n",
    "h12.SetLineStyle(9)\n",
    "h22.SetLineStyle(9)\n",
    "h32.SetLineStyle(9)\n",
    "\n",
    "h31.Draw(\"HIST\")\n",
    "h32.Draw(\"HISTsame\")\n",
    "h21.Draw(\"HISTsame\")\n",
    "h22.Draw(\"HISTsame\")\n",
    "h11.Draw(\"HISTsame\")\n",
    "h12.Draw(\"HISTsame\")\n",
    "\n",
    "leg = ROOT.TLegend(0.6, 0.6, 0.85, 0.85)\n",
    "leg.SetBorderSize(0)\n",
    "leg.AddEntry(h11, \"Reco SM t#bar{t}\", \"f\" )\n",
    "leg.AddEntry(h21, \"Reco Z' #rightarrow t#bar{t} 1 TeV\", \"f\" )\n",
    "leg.AddEntry(h31, \"Reco Z' #rightarrow t#bar{t} 2 TeV\", \"f\" )\n",
    "leg.AddEntry(h12, \"True SM t#bar{t}\", \"f\" )\n",
    "leg.AddEntry(h22, \"True Z' #rightarrow t#bar{t} 1 TeV\", \"f\" )\n",
    "leg.AddEntry(h32, \"True Z' #rightarrow t#bar{t} 2 TeV\", \"f\" )\n",
    "leg.Draw(\"same\")\n",
    "\n",
    "myc.SaveAs(\"Reco_Mass.png\")"
   ]
  },
  {
   "cell_type": "code",
   "execution_count": 99,
   "id": "249162e1-d5af-4106-99c8-112b6758682b",
   "metadata": {},
   "outputs": [
    {
     "data": {
      "image/png": "[encoded data removed]",
      "text/plain": [
       "<IPython.core.display.Image object>"
      ]
     },
     "execution_count": 99,
     "metadata": {},
     "output_type": "execute_result"
    }
   ],
   "source": [
    "from IPython.display import Image \n",
    "Image(filename='Reco_Mass.png') "
   ]
  },
  {
   "cell_type": "code",
   "execution_count": 100,
   "id": "125550c8-f7c4-425e-9b42-e10b8c00610f",
   "metadata": {},
   "outputs": [
    {
     "data": {
      "image/png": "[encoded data removed]",
      "text/plain": [
       "<IPython.core.display.Image object>"
      ]
     },
     "execution_count": 100,
     "metadata": {},
     "output_type": "execute_result"
    }
   ],
   "source": [
    "Image(filename='DNN_Mass.png')"
   ]
  },
  {
   "cell_type": "markdown",
   "id": "591211f8-f62a-4ec9-a100-142742f40877",
   "metadata": {},
   "source": [
    "The DNN model works significantly superior at low mass. To improve the performance at high mass, a tricky way is to adjust the distribution of mtt in training set. By introducing more high-mass events and wider distribution in training, the model will be more sensitive to the changing of mtt. The adjustment of parameters, even the model itself always provides opportunities. "
   ]
  },
  {
   "cell_type": "markdown",
   "id": "42e5000d",
   "metadata": {},
   "source": [
    "## DNN in classification"
   ]
  },
  {
   "cell_type": "markdown",
   "id": "dffae969",
   "metadata": {},
   "source": [
    "Classification, particularly signal/background classification is a \"classic\" usage of NN. The BDT method is relatively more widely used in experiments. However, to dedicate issues, like more-than-2-item classificaiton and complicated non-linear system, the NN is an optional choice. "
   ]
  },
  {
   "cell_type": "markdown",
   "id": "1b72f83c",
   "metadata": {},
   "source": [
    "We also take the ttbar event as an example. The classification DNN model shares the same structure of the regression DNN. The input features are identical as well, but the classification DNN requires both signal and background events inputed to the training. In addition, the output is the [p1, p2] of event type, i.e. possibility of being background or signal ([1, 0] or [0, 1], dim = 2). "
   ]
  },
  {
   "cell_type": "markdown",
   "id": "6d70262c",
   "metadata": {},
   "source": [
    "We consider the SM ttbar as signal while Z' at 1 TeV as background. The new numpy are generated like:"
   ]
  },
  {
   "cell_type": "code",
   "execution_count": 101,
   "id": "7645bda1",
   "metadata": {},
   "outputs": [],
   "source": [
    "path = (\"./npys/\")\n",
    "np_sig_feature = (np.load(path+\"signal/train_feature.npy\"))[0:20000]\n",
    "np_bkg_feature = (np.load(path+\"test1/test_feature.npy\"))[0:20000]\n",
    "np_sig_label = np.full(np_sig_feature.shape[0], 1)\n",
    "np_bkg_label = np.full(np_bkg_feature.shape[0], 0)\n",
    "np_class_input = np.concatenate((np_sig_feature,np_bkg_feature),axis=0)\n",
    "np_class_label = np.concatenate((np_sig_label,np_bkg_label),axis=0)\n",
    "class_input = torch.from_numpy(np_class_input)\n",
    "class_label = torch.from_numpy(np_class_label)\n",
    "\n",
    "np_sig_feature_test = (np.load(path+\"signal/train_feature.npy\"))[20000:24000]\n",
    "np_bkg_feature_test = (np.load(path+\"test1/test_feature.npy\"))[20000:24000]\n",
    "np_sig_label_test = np.full(np_sig_feature_test.shape[0], 1)\n",
    "np_bkg_label_test = np.full(np_bkg_feature_test.shape[0], 0)\n",
    "np_class_input_test = np.concatenate((np_sig_feature_test,np_bkg_feature_test),axis=0)\n",
    "np_class_label_test = np.concatenate((np_sig_label_test,np_bkg_label_test),axis=0)\n",
    "class_input_test = torch.from_numpy(np_class_input_test)\n",
    "class_label_test = torch.from_numpy(np_class_label_test)"
   ]
  },
  {
   "cell_type": "code",
   "execution_count": 103,
   "id": "96350930",
   "metadata": {},
   "outputs": [],
   "source": [
    "def train_class():\n",
    "    # inputs prepared before\n",
    "    # dim out is now set to 2\n",
    "    model = DNNModel(class_input.shape[1], 2).to(device)\n",
    "    \n",
    "    #loss function in training, cross entropy is for classification\n",
    "    loss = nn.CrossEntropyLoss().to(device)\n",
    "    \n",
    "    #optimizer is the tool helping to optimize the paramters according to Loss function \n",
    "    #lr means \"learing rate\", the speed at which a machine learning model \"learns\"\n",
    "    optimizer = torch.optim.Adam(model.parameters(), lr=0.001)\n",
    "\n",
    "    os.system('mkdir -p ./models_class/')\n",
    "    os.system('mkdir -p ./loss_class/')\n",
    "    \n",
    "    floss = open(\"./loss_class/loss.txt\", \"w+\")\n",
    "\n",
    "    num_epochs = 51\n",
    "  \n",
    "    for epoch in range(num_epochs):\n",
    "      #set the model to train mode\n",
    "      model.train()\n",
    "      train_out = model(class_input.to(device))\n",
    "      L = loss( train_out.to(device), class_label.to(device))\n",
    "      \n",
    "      # clear the gradient, backward the loss function and optimize the paramters\n",
    "      optimizer.zero_grad()\n",
    "      L.backward()\n",
    "      optimizer.step()\n",
    "    \n",
    "      #set the model to evaluation mode\n",
    "      # measure the loss of test set\n",
    "      model.eval()\n",
    "      with torch.no_grad():\n",
    "        test_out = model(class_input_test.to(device))\n",
    "      L_test = loss(test_out.to(device),  class_label_test.to(device))\n",
    "    \n",
    "      floss.write(\"+Epoch:  {:n}\\n\".format(epoch))\n",
    "      floss.write(\"+train_loss:  {:f}\\n\".format(L.item()))\n",
    "      floss.write(\"+test_loss:  {:f}\\n\\n\".format(L_test.item()))\n",
    "\n",
    "      print('epoch: {:d}      |     train_loss: {:6.4f}      |    test_loss: {:6.4f} '.format(epoch,  L.item(), L_test.item()))\n",
    "      if(epoch%10 == 0 ): torch.save(model.state_dict(), './models_class/epoch_{:d}.pkl'.format(epoch))\n",
    "\n",
    "    floss.close()"
   ]
  },
  {
   "cell_type": "code",
   "execution_count": 104,
   "id": "870296da",
   "metadata": {},
   "outputs": [
    {
     "name": "stdout",
     "output_type": "stream",
     "text": [
      "epoch: 0      |     train_loss: 0.7499      |    test_loss: 1.2574 \n",
      "epoch: 1      |     train_loss: 1.2462      |    test_loss: 0.7425 \n",
      "epoch: 2      |     train_loss: 0.7347      |    test_loss: 0.7302 \n",
      "epoch: 3      |     train_loss: 0.7214      |    test_loss: 0.8714 \n",
      "epoch: 4      |     train_loss: 0.8600      |    test_loss: 0.8563 \n",
      "epoch: 5      |     train_loss: 0.8449      |    test_loss: 0.7545 \n",
      "epoch: 6      |     train_loss: 0.7449      |    test_loss: 0.6666 \n",
      "epoch: 7      |     train_loss: 0.6588      |    test_loss: 0.6527 \n",
      "epoch: 8      |     train_loss: 0.6458      |    test_loss: 0.6943 \n",
      "epoch: 9      |     train_loss: 0.6878      |    test_loss: 0.7227 \n",
      "epoch: 10      |     train_loss: 0.7167      |    test_loss: 0.7060 \n",
      "epoch: 11      |     train_loss: 0.7007      |    test_loss: 0.6655 \n",
      "epoch: 12      |     train_loss: 0.6609      |    test_loss: 0.6353 \n",
      "epoch: 13      |     train_loss: 0.6312      |    test_loss: 0.6313 \n",
      "epoch: 14      |     train_loss: 0.6274      |    test_loss: 0.6451 \n",
      "epoch: 15      |     train_loss: 0.6411      |    test_loss: 0.6589 \n",
      "epoch: 16      |     train_loss: 0.6548      |    test_loss: 0.6615 \n",
      "epoch: 17      |     train_loss: 0.6575      |    test_loss: 0.6526 \n",
      "epoch: 18      |     train_loss: 0.6489      |    test_loss: 0.6382 \n",
      "epoch: 19      |     train_loss: 0.6350      |    test_loss: 0.6261 \n",
      "epoch: 20      |     train_loss: 0.6232      |    test_loss: 0.6214 \n",
      "epoch: 21      |     train_loss: 0.6187      |    test_loss: 0.6243 \n",
      "epoch: 22      |     train_loss: 0.6216      |    test_loss: 0.6303 \n",
      "epoch: 23      |     train_loss: 0.6274      |    test_loss: 0.6336 \n",
      "epoch: 24      |     train_loss: 0.6305      |    test_loss: 0.6318 \n",
      "epoch: 25      |     train_loss: 0.6284      |    test_loss: 0.6261 \n",
      "epoch: 26      |     train_loss: 0.6226      |    test_loss: 0.6201 \n",
      "epoch: 27      |     train_loss: 0.6165      |    test_loss: 0.6168 \n",
      "epoch: 28      |     train_loss: 0.6130      |    test_loss: 0.6168 \n",
      "epoch: 29      |     train_loss: 0.6128      |    test_loss: 0.6188 \n",
      "epoch: 30      |     train_loss: 0.6146      |    test_loss: 0.6207 \n",
      "epoch: 31      |     train_loss: 0.6163      |    test_loss: 0.6208 \n",
      "epoch: 32      |     train_loss: 0.6163      |    test_loss: 0.6188 \n",
      "epoch: 33      |     train_loss: 0.6144      |    test_loss: 0.6159 \n",
      "epoch: 34      |     train_loss: 0.6115      |    test_loss: 0.6134 \n",
      "epoch: 35      |     train_loss: 0.6093      |    test_loss: 0.6125 \n",
      "epoch: 36      |     train_loss: 0.6087      |    test_loss: 0.6123 \n",
      "epoch: 37      |     train_loss: 0.6087      |    test_loss: 0.6117 \n",
      "epoch: 38      |     train_loss: 0.6082      |    test_loss: 0.6104 \n",
      "epoch: 39      |     train_loss: 0.6067      |    test_loss: 0.6090 \n",
      "epoch: 40      |     train_loss: 0.6052      |    test_loss: 0.6081 \n",
      "epoch: 41      |     train_loss: 0.6043      |    test_loss: 0.6079 \n",
      "epoch: 42      |     train_loss: 0.6040      |    test_loss: 0.6080 \n",
      "epoch: 43      |     train_loss: 0.6040      |    test_loss: 0.6079 \n",
      "epoch: 44      |     train_loss: 0.6038      |    test_loss: 0.6072 \n",
      "epoch: 45      |     train_loss: 0.6031      |    test_loss: 0.6062 \n",
      "epoch: 46      |     train_loss: 0.6019      |    test_loss: 0.6051 \n",
      "epoch: 47      |     train_loss: 0.6008      |    test_loss: 0.6043 \n",
      "epoch: 48      |     train_loss: 0.5999      |    test_loss: 0.6037 \n",
      "epoch: 49      |     train_loss: 0.5993      |    test_loss: 0.6033 \n",
      "epoch: 50      |     train_loss: 0.5988      |    test_loss: 0.6028 \n"
     ]
    }
   ],
   "source": [
    "train_class()"
   ]
  },
  {
   "cell_type": "code",
   "execution_count": 106,
   "id": "5233eb6d",
   "metadata": {},
   "outputs": [
    {
     "name": "stderr",
     "output_type": "stream",
     "text": [
      "<ipython-input-106-92a4d17e549f>:10: UserWarning: Implicit dimension choice for softmax has been deprecated. Change the call to include dim=X as an argument.\n",
      "  sigout = (F.softmax(class_model(torch.from_numpy(np_sig_feature_test))))[:,-1]\n",
      "<ipython-input-106-92a4d17e549f>:11: UserWarning: Implicit dimension choice for softmax has been deprecated. Change the call to include dim=X as an argument.\n",
      "  bkgout = (F.softmax(class_model(torch.from_numpy(np_bkg_feature_test))))[:,-1]\n",
      "Warning in <TFile::Append>: Replacing existing TH1: h1 (Potential memory leak).\n",
      "Warning in <TFile::Append>: Replacing existing TH1: h2 (Potential memory leak).\n",
      "Info in <TCanvas::Print>: png file softmax.png has been created\n"
     ]
    }
   ],
   "source": [
    "import torch.nn.functional as F\n",
    "\n",
    "class_model = DNNModel(22, 2)\n",
    "modelload(class_model, './models_class/epoch_400.pkl')\n",
    "class_model.eval()\n",
    "with torch.no_grad():\n",
    "#    sigout = class_model(torch.from_numpy(np_sig_feature_test))\n",
    "#    bkgout = class_model(torch.from_numpy(np_bkg_feature_test))\n",
    "\n",
    "    sigout = (F.softmax(class_model(torch.from_numpy(np_sig_feature_test))))[:,-1]\n",
    "    bkgout = (F.softmax(class_model(torch.from_numpy(np_bkg_feature_test))))[:,-1]\n",
    "\n",
    "h1 = TH1D(\"h1\", \"h1\", 100, 0, 1.00)\n",
    "h2 = TH1D(\"h2\", \"h1\", 100, 0, 1.00)\n",
    "for i in range(sigout.shape[0]):\n",
    "    h1.Fill(sigout[i])\n",
    "for i in range(bkgout.shape[0]):\n",
    "    h2.Fill(bkgout[i])  \n",
    "h1.Scale(1./h1.Integral())\n",
    "h2.Scale(1./h2.Integral())\n",
    "\n",
    "h1.SetLineColor(ROOT.kRed)\n",
    "h2.SetLineColor(ROOT.kBlue)\n",
    "\n",
    "h1.SetAxisRange(0.,0.04,\"Y\")\n",
    "h1.GetXaxis().SetTitle(\"DNN score\")\n",
    "h1.GetYaxis().SetTitle(\"Normalisation\")\n",
    "h1.GetYaxis().SetNdivisions(505)\n",
    "\n",
    "h1.Draw(\"HIST\")\n",
    "h2.Draw(\"HISTsame\")\n",
    "\n",
    "leg = ROOT.TLegend(0.5, 0.6, 0.75, 0.85)\n",
    "leg.SetBorderSize(0)\n",
    "leg.AddEntry(h1, \"signal\", \"f\" )\n",
    "leg.AddEntry(h2, \"background\", \"f\" )\n",
    "leg.Draw(\"same\")\n",
    "\n",
    "myc.SaveAs(\"softmax.png\")\n"
   ]
  },
  {
   "cell_type": "code",
   "execution_count": 107,
   "id": "76356aba",
   "metadata": {},
   "outputs": [
    {
     "data": {
      "image/png": "[encoded data removed]",
      "text/plain": [
       "<IPython.core.display.Image object>"
      ]
     },
     "execution_count": 107,
     "metadata": {},
     "output_type": "execute_result"
    }
   ],
   "source": [
    "Image(filename='softmax.png')"
   ]
  },
  {
   "cell_type": "raw",
   "id": "9979aeab",
   "metadata": {},
   "source": []
  }
 ],
 "metadata": {
  "kernelspec": {
   "display_name": "Python 3",
   "language": "python",
   "name": "python3"
  },
  "language_info": {
   "codemirror_mode": {
    "name": "ipython",
    "version": 3
   },
   "file_extension": ".py",
   "mimetype": "text/x-python",
   "name": "python",
   "nbconvert_exporter": "python",
   "pygments_lexer": "ipython3",
   "version": "3.9.2"
  }
 },
 "nbformat": 4,
 "nbformat_minor": 5
}
