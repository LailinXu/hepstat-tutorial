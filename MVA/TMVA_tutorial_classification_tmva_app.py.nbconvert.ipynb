{
 "cells": [
  {
   "cell_type": "markdown",
   "id": "level-irrigation",
   "metadata": {},
   "source": [
    "#  T M V A_Tutorial_Classification_Tmva_App\n",
    "TMVA example, for classification\n",
    " with following objectives:\n",
    " * Apply a BDT with TMVA\n",
    "\n",
    "\n",
    "\n",
    "\n",
    "**Author:** Lailin XU  \n",
    "<i><small>This notebook tutorial was automatically generated with <a href= \"https://github.com/root-project/root/blob/master/documentation/doxygen/converttonotebook.py\">ROOTBOOK-izer</a> from the macro found in the ROOT repository  on Tuesday, April 27, 2021 at 01:21 AM.</small></i>"
   ]
  },
  {
   "cell_type": "code",
   "execution_count": 1,
   "id": "fatal-contest",
   "metadata": {
    "collapsed": false,
    "execution": {
     "iopub.execute_input": "2021-04-26T17:21:08.186955Z",
     "iopub.status.busy": "2021-04-26T17:21:08.186015Z",
     "iopub.status.idle": "2021-04-26T17:21:08.759903Z",
     "shell.execute_reply": "2021-04-26T17:21:08.760087Z"
    }
   },
   "outputs": [
    {
     "name": "stdout",
     "output_type": "stream",
     "text": [
      "Welcome to JupyROOT 6.22/07\n"
     ]
    }
   ],
   "source": [
    "from ROOT import TMVA, TFile, TTree, TCut, TH1F, TCanvas, gROOT, TLegend\n",
    "from subprocess import call\n",
    "from os.path import isfile\n",
    "from array import array\n",
    " \n",
    "gROOT.SetStyle(\"ATLAS\")"
   ]
  },
  {
   "cell_type": "markdown",
   "id": "identical-authority",
   "metadata": {},
   "source": [
    "Setup TMVA"
   ]
  },
  {
   "cell_type": "code",
   "execution_count": 2,
   "id": "opening-lithuania",
   "metadata": {
    "collapsed": false,
    "execution": {
     "iopub.execute_input": "2021-04-26T17:21:08.770803Z",
     "iopub.status.busy": "2021-04-26T17:21:08.770497Z",
     "iopub.status.idle": "2021-04-26T17:21:08.878216Z",
     "shell.execute_reply": "2021-04-26T17:21:08.878607Z"
    }
   },
   "outputs": [
    {
     "data": {
      "text/plain": [
       "<cppyy.gbl.TMVA.Tools object at 0x1421ce6b0>"
      ]
     },
     "execution_count": 1,
     "metadata": {},
     "output_type": "execute_result"
    }
   ],
   "source": [
    "TMVA.Tools.Instance()"
   ]
  },
  {
   "cell_type": "markdown",
   "id": "paperback-characteristic",
   "metadata": {},
   "source": [
    "Reader. One reader for each application."
   ]
  },
  {
   "cell_type": "code",
   "execution_count": 3,
   "id": "tutorial-muscle",
   "metadata": {
    "collapsed": false,
    "execution": {
     "iopub.execute_input": "2021-04-26T17:21:08.905066Z",
     "iopub.status.busy": "2021-04-26T17:21:08.904608Z",
     "iopub.status.idle": "2021-04-26T17:21:09.010478Z",
     "shell.execute_reply": "2021-04-26T17:21:09.011079Z"
    }
   },
   "outputs": [],
   "source": [
    "reader = TMVA.Reader(\"Color:!Silent\")\n",
    "reader_S = TMVA.Reader(\"Color:!Silent\")\n",
    "reader_B = TMVA.Reader(\"Color:!Silent\")\n",
    " "
   ]
  },
  {
   "cell_type": "markdown",
   "id": "upper-sound",
   "metadata": {},
   "source": [
    "Inputs\n",
    "=============\n",
    "Load data\n",
    "An unknown sample"
   ]
  },
  {
   "cell_type": "code",
   "execution_count": 4,
   "id": "educational-kidney",
   "metadata": {
    "collapsed": false,
    "execution": {
     "iopub.execute_input": "2021-04-26T17:21:09.077041Z",
     "iopub.status.busy": "2021-04-26T17:21:09.076649Z",
     "iopub.status.idle": "2021-04-26T17:21:09.184571Z",
     "shell.execute_reply": "2021-04-26T17:21:09.184082Z"
    }
   },
   "outputs": [],
   "source": [
    "trfile = \"Zp2TeV_ttbar.root\"\n",
    "data = TFile.Open(trfile)\n",
    "tree = data.Get('tree')"
   ]
  },
  {
   "cell_type": "markdown",
   "id": "demanding-hierarchy",
   "metadata": {},
   "source": [
    "Known signal"
   ]
  },
  {
   "cell_type": "code",
   "execution_count": 5,
   "id": "generous-attachment",
   "metadata": {
    "collapsed": false,
    "execution": {
     "iopub.execute_input": "2021-04-26T17:21:09.190600Z",
     "iopub.status.busy": "2021-04-26T17:21:09.190074Z",
     "iopub.status.idle": "2021-04-26T17:21:09.301681Z",
     "shell.execute_reply": "2021-04-26T17:21:09.302372Z"
    }
   },
   "outputs": [],
   "source": [
    "trfile_S = \"Zp1TeV_ttbar.root\"\n",
    "data_S = TFile.Open(trfile_S)\n",
    "tree_S = data_S.Get('tree')"
   ]
  },
  {
   "cell_type": "markdown",
   "id": "pregnant-workshop",
   "metadata": {},
   "source": [
    "Known background"
   ]
  },
  {
   "cell_type": "code",
   "execution_count": 6,
   "id": "referenced-thunder",
   "metadata": {
    "collapsed": false,
    "execution": {
     "iopub.execute_input": "2021-04-26T17:21:09.309740Z",
     "iopub.status.busy": "2021-04-26T17:21:09.309021Z",
     "iopub.status.idle": "2021-04-26T17:21:09.418935Z",
     "shell.execute_reply": "2021-04-26T17:21:09.419605Z"
    }
   },
   "outputs": [],
   "source": [
    "trfile_B = \"SM_ttbar.root\"\n",
    "data_B = TFile.Open(trfile_B)\n",
    "tree_B = data_B.Get('tree')\n",
    " "
   ]
  },
  {
   "cell_type": "markdown",
   "id": "assigned-spine",
   "metadata": {},
   "source": [
    "Set input variables. Do this for each reader"
   ]
  },
  {
   "cell_type": "code",
   "execution_count": 7,
   "id": "german-rolling",
   "metadata": {
    "collapsed": false,
    "execution": {
     "iopub.execute_input": "2021-04-26T17:21:09.438779Z",
     "iopub.status.busy": "2021-04-26T17:21:09.438136Z",
     "iopub.status.idle": "2021-04-26T17:21:09.548908Z",
     "shell.execute_reply": "2021-04-26T17:21:09.549550Z"
    }
   },
   "outputs": [],
   "source": [
    "branches = {}\n",
    "for branch in tree.GetListOfBranches():\n",
    "    branchName = branch.GetName()\n",
    "    branches[branchName] = array('f', [-999])\n",
    "    tree.SetBranchAddress(branchName, branches[branchName])\n",
    "    if branchName not in [\"mtt_truth\", \"weight\", \"nlep\", \"njets\"]:\n",
    "        reader.AddVariable(branchName, branches[branchName])\n",
    "\n",
    "branches_S = {}\n",
    "for branch in tree_S.GetListOfBranches():\n",
    "    branchName = branch.GetName()\n",
    "    branches_S[branchName] = array('f', [-999])\n",
    "    tree_S.SetBranchAddress(branchName, branches_S[branchName])\n",
    "    if branchName not in [\"mtt_truth\", \"weight\", \"nlep\", \"njets\"]:\n",
    "        reader_S.AddVariable(branchName, branches_S[branchName])\n",
    "\n",
    "branches_B = {}\n",
    "for branch in tree_B.GetListOfBranches():\n",
    "    branchName = branch.GetName()\n",
    "    branches_B[branchName] = array('f', [-999])\n",
    "    tree_B.SetBranchAddress(branchName, branches_B[branchName])\n",
    "    if branchName not in [\"mtt_truth\", \"weight\", \"nlep\", \"njets\"]:\n",
    "        reader_B.AddVariable(branchName, branches_B[branchName])\n",
    " "
   ]
  },
  {
   "cell_type": "markdown",
   "id": "minus-swiss",
   "metadata": {},
   "source": [
    "Book method(s)\n",
    "=============\n",
    "BDT"
   ]
  },
  {
   "cell_type": "code",
   "execution_count": 8,
   "id": "victorian-break",
   "metadata": {
    "collapsed": false,
    "execution": {
     "iopub.execute_input": "2021-04-26T17:21:09.618903Z",
     "iopub.status.busy": "2021-04-26T17:21:09.618504Z",
     "iopub.status.idle": "2021-04-26T17:21:09.724588Z",
     "shell.execute_reply": "2021-04-26T17:21:09.725116Z"
    }
   },
   "outputs": [
    {
     "data": {
      "text/plain": [
       "<cppyy.gbl.TMVA.MethodBDT object at 0x123313a00>"
      ]
     },
     "execution_count": 1,
     "metadata": {},
     "output_type": "execute_result"
    },
    {
     "name": "stdout",
     "output_type": "stream",
     "text": [
      "                         : Booking \"BDT\" of type \"BDT\" from dataset/weights/TMVAClassification_BDT.weights.xml.\n",
      "                         : Reading weight file: \u001b[0;36mdataset/weights/TMVAClassification_BDT.weights.xml\u001b[0m\n",
      "DataSetInfo              : [Default] : Added class \"Signal\"\n",
      "DataSetInfo              : [Default] : Added class \"Background\"\n",
      "                         : Booked classifier \"BDT\" of type: \"BDT\"\n",
      "                         : Booking \"BDT\" of type \"BDT\" from dataset/weights/TMVAClassification_BDT.weights.xml.\n",
      "                         : Reading weight file: \u001b[0;36mdataset/weights/TMVAClassification_BDT.weights.xml\u001b[0m\n",
      "DataSetInfo              : [Default] : Added class \"Signal\"\n",
      "DataSetInfo              : [Default] : Added class \"Background\"\n",
      "                         : Booked classifier \"BDT\" of type: \"BDT\"\n",
      "                         : Booking \"BDT\" of type \"BDT\" from dataset/weights/TMVAClassification_BDT.weights.xml.\n",
      "                         : Reading weight file: \u001b[0;36mdataset/weights/TMVAClassification_BDT.weights.xml\u001b[0m\n",
      "DataSetInfo              : [Default] : Added class \"Signal\"\n",
      "DataSetInfo              : [Default] : Added class \"Background\"\n",
      "                         : Booked classifier \"BDT\" of type: \"BDT\"\n"
     ]
    }
   ],
   "source": [
    "methodName1 = \"BDT\"\n",
    "weightfile = 'dataset/weights/TMVAClassification_{0}.weights.xml'.format(methodName1)\n",
    "reader.BookMVA( methodName1, weightfile )\n",
    "reader_S.BookMVA( methodName1, weightfile )\n",
    "reader_B.BookMVA( methodName1, weightfile )"
   ]
  },
  {
   "cell_type": "markdown",
   "id": "unusual-myrtle",
   "metadata": {},
   "source": [
    "BDTG"
   ]
  },
  {
   "cell_type": "code",
   "execution_count": 9,
   "id": "remarkable-warrior",
   "metadata": {
    "collapsed": false,
    "execution": {
     "iopub.execute_input": "2021-04-26T17:21:09.860270Z",
     "iopub.status.busy": "2021-04-26T17:21:09.859954Z",
     "iopub.status.idle": "2021-04-26T17:21:09.967400Z",
     "shell.execute_reply": "2021-04-26T17:21:09.967794Z"
    }
   },
   "outputs": [
    {
     "data": {
      "text/plain": [
       "<cppyy.gbl.TMVA.MethodBDT object at 0x127b79200>"
      ]
     },
     "execution_count": 1,
     "metadata": {},
     "output_type": "execute_result"
    },
    {
     "name": "stdout",
     "output_type": "stream",
     "text": [
      "                         : Booking \"BDTG\" of type \"BDT\" from dataset/weights/TMVAClassification_BDTG.weights.xml.\n",
      "                         : Reading weight file: \u001b[0;36mdataset/weights/TMVAClassification_BDTG.weights.xml\u001b[0m\n",
      "                         : Booked classifier \"BDTG\" of type: \"BDT\"\n",
      "                         : Booking \"BDTG\" of type \"BDT\" from dataset/weights/TMVAClassification_BDTG.weights.xml.\n",
      "                         : Reading weight file: \u001b[0;36mdataset/weights/TMVAClassification_BDTG.weights.xml\u001b[0m\n",
      "                         : Booked classifier \"BDTG\" of type: \"BDT\"\n",
      "                         : Booking \"BDTG\" of type \"BDT\" from dataset/weights/TMVAClassification_BDTG.weights.xml.\n",
      "                         : Reading weight file: \u001b[0;36mdataset/weights/TMVAClassification_BDTG.weights.xml\u001b[0m\n",
      "                         : Booked classifier \"BDTG\" of type: \"BDT\"\n"
     ]
    }
   ],
   "source": [
    "methodName2 = \"BDTG\"\n",
    "weightfile = 'dataset/weights/TMVAClassification_{0}.weights.xml'.format(methodName2)\n",
    "reader.BookMVA( methodName2, weightfile )\n",
    "reader_S.BookMVA( methodName2, weightfile )\n",
    "reader_B.BookMVA( methodName2, weightfile )"
   ]
  },
  {
   "cell_type": "markdown",
   "id": "attempted-breath",
   "metadata": {},
   "source": [
    "Loop events for evaluation\n",
    "================"
   ]
  },
  {
   "cell_type": "markdown",
   "id": "worthy-context",
   "metadata": {},
   "source": [
    "Book histograms"
   ]
  },
  {
   "cell_type": "code",
   "execution_count": 10,
   "id": "prospective-street",
   "metadata": {
    "collapsed": false,
    "execution": {
     "iopub.execute_input": "2021-04-26T17:21:09.971088Z",
     "iopub.status.busy": "2021-04-26T17:21:09.970579Z",
     "iopub.status.idle": "2021-04-26T17:21:10.080491Z",
     "shell.execute_reply": "2021-04-26T17:21:10.081185Z"
    }
   },
   "outputs": [],
   "source": [
    "nbins, xmin, xmax=20, -1, 1"
   ]
  },
  {
   "cell_type": "markdown",
   "id": "confidential-pointer",
   "metadata": {},
   "source": [
    "Signal"
   ]
  },
  {
   "cell_type": "code",
   "execution_count": 11,
   "id": "adopted-seafood",
   "metadata": {
    "collapsed": false,
    "execution": {
     "iopub.execute_input": "2021-04-26T17:21:10.192412Z",
     "iopub.status.busy": "2021-04-26T17:21:10.142489Z",
     "iopub.status.idle": "2021-04-26T17:21:10.899730Z",
     "shell.execute_reply": "2021-04-26T17:21:10.900124Z"
    }
   },
   "outputs": [],
   "source": [
    "tag = \"S\"\n",
    "hname=\"BDT_{0}\".format(tag)\n",
    "h1 = TH1F(hname, hname, nbins, xmin, xmax)\n",
    "h1.Sumw2()\n",
    "hname=\"BDTG_{0}\".format(tag)\n",
    "h2 = TH1F(hname, hname, nbins, xmin, xmax)\n",
    "h2.Sumw2()\n",
    "\n",
    "nevents = tree_S.GetEntries()\n",
    "for i in range(nevents):\n",
    "  tree_S.GetEntry(i)\n",
    "\n",
    "  BDT = reader_S.EvaluateMVA(methodName1)\n",
    "  BDTG = reader_S.EvaluateMVA(methodName2)\n",
    "  h1.Fill(BDT)\n",
    "  h2.Fill(BDTG)"
   ]
  },
  {
   "cell_type": "markdown",
   "id": "prescribed-toyota",
   "metadata": {},
   "source": [
    "Background"
   ]
  },
  {
   "cell_type": "code",
   "execution_count": 12,
   "id": "ordered-lancaster",
   "metadata": {
    "collapsed": false,
    "execution": {
     "iopub.execute_input": "2021-04-26T17:21:11.009384Z",
     "iopub.status.busy": "2021-04-26T17:21:10.952089Z",
     "iopub.status.idle": "2021-04-26T17:21:12.631080Z",
     "shell.execute_reply": "2021-04-26T17:21:12.631437Z"
    }
   },
   "outputs": [],
   "source": [
    "tag = \"B\"\n",
    "hname=\"BDT_{0}\".format(tag)\n",
    "h3 = TH1F(hname, hname, nbins, xmin, xmax)\n",
    "h3.Sumw2()\n",
    "hname=\"BDTG_{0}\".format(tag)\n",
    "h4 = TH1F(hname, hname, nbins, xmin, xmax)\n",
    "h4.Sumw2()\n",
    "\n",
    "nevents = tree_B.GetEntries()\n",
    "for i in range(nevents):\n",
    "  tree_B.GetEntry(i)\n",
    "\n",
    "  BDT = reader_B.EvaluateMVA(methodName1)\n",
    "  BDTG = reader_B.EvaluateMVA(methodName2)\n",
    "  h3.Fill(BDT)\n",
    "  h4.Fill(BDTG)"
   ]
  },
  {
   "cell_type": "markdown",
   "id": "polyphonic-issue",
   "metadata": {},
   "source": [
    "New sample"
   ]
  },
  {
   "cell_type": "code",
   "execution_count": 13,
   "id": "polar-liberia",
   "metadata": {
    "collapsed": false,
    "execution": {
     "iopub.execute_input": "2021-04-26T17:21:12.732440Z",
     "iopub.status.busy": "2021-04-26T17:21:12.688674Z",
     "iopub.status.idle": "2021-04-26T17:21:13.237203Z",
     "shell.execute_reply": "2021-04-26T17:21:13.237591Z"
    }
   },
   "outputs": [],
   "source": [
    "tag = \"N\"\n",
    "hname=\"BDT_{0}\".format(tag)\n",
    "h5 = TH1F(hname, hname, nbins, xmin, xmax)\n",
    "h5.Sumw2()\n",
    "hname=\"BDTG_{0}\".format(tag)\n",
    "h6 = TH1F(hname, hname, nbins, xmin, xmax)\n",
    "h6.Sumw2()\n",
    "\n",
    "nevents = tree.GetEntries()\n",
    "for i in range(nevents):\n",
    "  tree.GetEntry(i)\n",
    "\n",
    "  BDT = reader.EvaluateMVA(methodName1)\n",
    "  BDTG = reader.EvaluateMVA(methodName2)\n",
    "  h5.Fill(BDT)\n",
    "  h6.Fill(BDTG)"
   ]
  },
  {
   "cell_type": "markdown",
   "id": "beautiful-cambodia",
   "metadata": {},
   "source": [
    "Helper function to normalize hists"
   ]
  },
  {
   "cell_type": "code",
   "execution_count": 14,
   "id": "international-uncertainty",
   "metadata": {
    "collapsed": false,
    "execution": {
     "iopub.execute_input": "2021-04-26T17:21:13.241801Z",
     "iopub.status.busy": "2021-04-26T17:21:13.241254Z",
     "iopub.status.idle": "2021-04-26T17:21:13.350817Z",
     "shell.execute_reply": "2021-04-26T17:21:13.351378Z"
    }
   },
   "outputs": [],
   "source": [
    "def norm_hists(h):\n",
    "\n",
    "  h_new = h.Clone()\n",
    "  hname = h.GetName() + \"_normalized\"\n",
    "  h_new.SetName(hname)\n",
    "  h_new.SetTitle(hname)\n",
    "  ntot = h.Integral()\n",
    "  if ntot!=0:\n",
    "    h_new.Scale(1./ntot)\n",
    "\n",
    "  return h_new"
   ]
  },
  {
   "cell_type": "markdown",
   "id": "essential-rover",
   "metadata": {},
   "source": [
    "Plotting"
   ]
  },
  {
   "cell_type": "code",
   "execution_count": 15,
   "id": "brief-metro",
   "metadata": {
    "collapsed": false,
    "execution": {
     "iopub.execute_input": "2021-04-26T17:21:13.371162Z",
     "iopub.status.busy": "2021-04-26T17:21:13.370547Z",
     "iopub.status.idle": "2021-04-26T17:21:13.488586Z",
     "shell.execute_reply": "2021-04-26T17:21:13.489320Z"
    }
   },
   "outputs": [
    {
     "data": {
      "text/plain": [
       "<cppyy.gbl.TCanvas object at 0x1441aec00>"
      ]
     },
     "execution_count": 1,
     "metadata": {},
     "output_type": "execute_result"
    }
   ],
   "source": [
    "myc = TCanvas(\"c\", \"c\", 800, 600)\n",
    "myc.SetFillColor(0)\n",
    "myc.cd()"
   ]
  },
  {
   "cell_type": "markdown",
   "id": "civic-logic",
   "metadata": {},
   "source": [
    "Compare the performance for BDT"
   ]
  },
  {
   "cell_type": "code",
   "execution_count": 16,
   "id": "broadband-pavilion",
   "metadata": {
    "collapsed": false,
    "execution": {
     "iopub.execute_input": "2021-04-26T17:21:13.519789Z",
     "iopub.status.busy": "2021-04-26T17:21:13.519215Z",
     "iopub.status.idle": "2021-04-26T17:21:13.630132Z",
     "shell.execute_reply": "2021-04-26T17:21:13.630899Z"
    }
   },
   "outputs": [],
   "source": [
    "nh1 = norm_hists(h1)\n",
    "nh1.GetXaxis().SetTitle(\"BDT\")\n",
    "nh1.GetYaxis().SetTitle(\"A.U.\")\n",
    "nh1.Draw(\"hist\")\n",
    "nh3 = norm_hists(h3)\n",
    "nh3.SetLineColor(2)\n",
    "nh3.SetMarkerColor(2)\n",
    "nh3.Draw(\"same hist\")\n",
    "nh5 = norm_hists(h5)\n",
    "nh5.SetLineColor(4)\n",
    "nh5.SetMarkerColor(4)\n",
    "nh5.Draw(\"same\")\n",
    "\n",
    "ymin = 0\n",
    "ymax = max(nh1.GetMaximum(), nh3.GetMaximum(), nh5.GetMaximum())\n",
    "nh1.GetYaxis().SetRangeUser(ymin, ymax*1.5)"
   ]
  },
  {
   "cell_type": "markdown",
   "id": "helpful-algebra",
   "metadata": {},
   "source": [
    "Draw legends"
   ]
  },
  {
   "cell_type": "code",
   "execution_count": 17,
   "id": "interstate-parallel",
   "metadata": {
    "collapsed": false,
    "execution": {
     "iopub.execute_input": "2021-04-26T17:21:13.734038Z",
     "iopub.status.busy": "2021-04-26T17:21:13.733707Z",
     "iopub.status.idle": "2021-04-26T17:21:13.890401Z",
     "shell.execute_reply": "2021-04-26T17:21:13.890641Z"
    }
   },
   "outputs": [
    {
     "name": "stderr",
     "output_type": "stream",
     "text": [
      "Info in <TCanvas::Print>: png file TMVA_tutorial_cla_app_1.png has been created\n"
     ]
    },
    {
     "data": {
      "image/png": "[encoded data removed]",
      "text/plain": [
       "<IPython.core.display.Image object>"
      ]
     },
     "metadata": {},
     "output_type": "display_data"
    }
   ],
   "source": [
    "lIy = 0.92\n",
    "lg = TLegend(0.60, lIy-0.25, 0.85, lIy)\n",
    "lg.SetBorderSize(0)\n",
    "lg.SetFillStyle(0)\n",
    "lg.SetTextFont(42)\n",
    "lg.SetTextSize(0.04)\n",
    "lg.AddEntry(nh1, \"Signal 1 TeV\", \"l\")\n",
    "lg.AddEntry(nh3, \"Background\", \"l\")\n",
    "lg.AddEntry(nh5, \"Signal 2 TeV\", \"l\")\n",
    "lg.Draw()\n",
    "\n",
    "myc.Draw()\n",
    "myc.SaveAs(\"TMVA_tutorial_cla_app_1.png\")"
   ]
  },
  {
   "cell_type": "markdown",
   "id": "extraordinary-marshall",
   "metadata": {},
   "source": [
    "Compare the performance for BDTG"
   ]
  },
  {
   "cell_type": "code",
   "execution_count": 18,
   "id": "changing-lighter",
   "metadata": {
    "collapsed": false,
    "execution": {
     "iopub.execute_input": "2021-04-26T17:21:13.893944Z",
     "iopub.status.busy": "2021-04-26T17:21:13.893632Z",
     "iopub.status.idle": "2021-04-26T17:21:13.997761Z",
     "shell.execute_reply": "2021-04-26T17:21:13.998113Z"
    }
   },
   "outputs": [],
   "source": [
    "nh1 = norm_hists(h2)\n",
    "nh1.GetXaxis().SetTitle(\"BDTG\")\n",
    "nh1.GetYaxis().SetTitle(\"A.U.\")\n",
    "nh1.Draw(\"hist\")\n",
    "nh3 = norm_hists(h4)\n",
    "nh3.SetLineColor(2)\n",
    "nh3.SetMarkerColor(2)\n",
    "nh3.Draw(\"same hist\")\n",
    "nh5 = norm_hists(h6)\n",
    "nh5.SetLineColor(4)\n",
    "nh5.SetMarkerColor(4)\n",
    "nh5.Draw(\"same\")\n",
    "\n",
    "ymin = 0\n",
    "ymax = max(nh1.GetMaximum(), nh3.GetMaximum(), nh5.GetMaximum())\n",
    "nh1.GetYaxis().SetRangeUser(ymin, ymax*1.5)"
   ]
  },
  {
   "cell_type": "markdown",
   "id": "incomplete-guide",
   "metadata": {},
   "source": [
    "Draw legends"
   ]
  },
  {
   "cell_type": "code",
   "execution_count": 19,
   "id": "appropriate-ambassador",
   "metadata": {
    "collapsed": false,
    "execution": {
     "iopub.execute_input": "2021-04-26T17:21:14.033584Z",
     "iopub.status.busy": "2021-04-26T17:21:14.033196Z",
     "iopub.status.idle": "2021-04-26T17:21:14.177747Z",
     "shell.execute_reply": "2021-04-26T17:21:14.178033Z"
    }
   },
   "outputs": [
    {
     "name": "stderr",
     "output_type": "stream",
     "text": [
      "Info in <TCanvas::Print>: png file TMVA_tutorial_cla_app_2.png has been created\n"
     ]
    },
    {
     "data": {
      "image/png": "[encoded data removed]",
      "text/plain": [
       "<IPython.core.display.Image object>"
      ]
     },
     "metadata": {},
     "output_type": "display_data"
    }
   ],
   "source": [
    "lIy = 0.92\n",
    "lg = TLegend(0.60, lIy-0.25, 0.85, lIy)\n",
    "lg.SetBorderSize(0)\n",
    "lg.SetFillStyle(0)\n",
    "lg.SetTextFont(42)\n",
    "lg.SetTextSize(0.04)\n",
    "lg.AddEntry(nh1, \"Signal 1 TeV\", \"l\")\n",
    "lg.AddEntry(nh3, \"Background\", \"l\")\n",
    "lg.AddEntry(nh5, \"Signal 2 TeV\", \"l\")\n",
    "lg.Draw()\n",
    "\n",
    "myc.Draw()\n",
    "myc.SaveAs(\"TMVA_tutorial_cla_app_2.png\")"
   ]
  },
  {
   "cell_type": "markdown",
   "id": "lesser-stopping",
   "metadata": {},
   "source": [
    "Draw all canvases "
   ]
  },
  {
   "cell_type": "code",
   "execution_count": 20,
   "id": "explicit-pizza",
   "metadata": {
    "collapsed": false,
    "execution": {
     "iopub.execute_input": "2021-04-26T17:21:14.182316Z",
     "iopub.status.busy": "2021-04-26T17:21:14.181922Z",
     "iopub.status.idle": "2021-04-26T17:21:14.325194Z",
     "shell.execute_reply": "2021-04-26T17:21:14.325507Z"
    }
   },
   "outputs": [
    {
     "data": {
      "image/png": "[encoded data removed]",
      "text/plain": [
       "<IPython.core.display.Image object>"
      ]
     },
     "metadata": {},
     "output_type": "display_data"
    }
   ],
   "source": [
    "from ROOT import gROOT \n",
    "gROOT.GetListOfCanvases().Draw()"
   ]
  }
 ],
 "metadata": {
  "kernelspec": {
   "display_name": "Python 3",
   "language": "python",
   "name": "python3"
  },
  "language_info": {
   "codemirror_mode": {
    "name": "ipython",
    "version": 3
   },
   "file_extension": ".py",
   "mimetype": "text/x-python",
   "name": "python",
   "nbconvert_exporter": "python",
   "pygments_lexer": "ipython3",
   "version": "3.8.8"
  }
 },
 "nbformat": 4,
 "nbformat_minor": 5
}
