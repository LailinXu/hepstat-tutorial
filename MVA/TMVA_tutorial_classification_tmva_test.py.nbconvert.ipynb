{
 "cells": [
  {
   "cell_type": "markdown",
   "id": "noted-transcript",
   "metadata": {},
   "source": [
    "#  T M V A_Tutorial_Classification_Tmva_Test\n",
    "TMVA example, for classification\n",
    " with following objectives:\n",
    " * Test a BDT with TMVA\n",
    "\n",
    "\n",
    "\n",
    "\n",
    "**Author:** Lailin XU  \n",
    "<i><small>This notebook tutorial was automatically generated with <a href= \"https://github.com/root-project/root/blob/master/documentation/doxygen/converttonotebook.py\">ROOTBOOK-izer</a> from the macro found in the ROOT repository  on Tuesday, April 27, 2021 at 01:27 AM.</small></i>"
   ]
  },
  {
   "cell_type": "code",
   "execution_count": 1,
   "id": "molecular-banks",
   "metadata": {
    "collapsed": false,
    "execution": {
     "iopub.execute_input": "2021-04-26T17:27:21.075433Z",
     "iopub.status.busy": "2021-04-26T17:27:21.074613Z",
     "iopub.status.idle": "2021-04-26T17:27:21.701649Z",
     "shell.execute_reply": "2021-04-26T17:27:21.701880Z"
    }
   },
   "outputs": [
    {
     "name": "stdout",
     "output_type": "stream",
     "text": [
      "Welcome to JupyROOT 6.22/07\n"
     ]
    }
   ],
   "source": [
    "from ROOT import TMVA, TFile, TTree, TCut, TH1F, TCanvas, gROOT, TLegend\n",
    "from subprocess import call\n",
    "from os.path import isfile\n",
    " \n",
    "gROOT.SetStyle(\"ATLAS\")\n",
    " \n",
    "outfileName = 'TMVA_tutorial_cla_1.root'\n",
    "tfin = TFile.Open(outfileName, 'READ')"
   ]
  },
  {
   "cell_type": "markdown",
   "id": "lovely-whole",
   "metadata": {},
   "source": [
    "Helper function to fill histograms"
   ]
  },
  {
   "cell_type": "code",
   "execution_count": 2,
   "id": "vietnamese-transportation",
   "metadata": {
    "collapsed": false,
    "execution": {
     "iopub.execute_input": "2021-04-26T17:27:21.705700Z",
     "iopub.status.busy": "2021-04-26T17:27:21.705391Z",
     "iopub.status.idle": "2021-04-26T17:27:21.812539Z",
     "shell.execute_reply": "2021-04-26T17:27:21.812916Z"
    }
   },
   "outputs": [],
   "source": [
    "def fill_hists(tr, tag):\n",
    "  nevents = tr.GetEntries()\n",
    "\n",
    "  nbins, xmin, xmax=20, -1, 1\n",
    "  hname=\"BDT_S_{0}\".format(tag)\n",
    "  h1 = TH1F(hname, hname, nbins, xmin, xmax)\n",
    "  h1.Sumw2()\n",
    "  hname=\"BDTG_S_{0}\".format(tag)\n",
    "  h2 = TH1F(hname, hname, nbins, xmin, xmax)\n",
    "  h2.Sumw2()\n",
    "  hname=\"BDT_B_{0}\".format(tag)\n",
    "  h3 = TH1F(hname, hname, nbins, xmin, xmax)\n",
    "  h3.Sumw2()\n",
    "  hname=\"BDTG_B_{0}\".format(tag)\n",
    "  h4 = TH1F(hname, hname, nbins, xmin, xmax)\n",
    "  h4.Sumw2()\n",
    "  \n",
    "  for i in range(nevents):\n",
    "    tr.GetEntry(i)\n",
    " \n",
    "    BDT = tr.BDT     \n",
    "    BDTG = tr.BDTG     \n",
    "    # Signal\n",
    "    if tr.classID == 0:\n",
    "      h1.Fill(BDT)\n",
    "      h2.Fill(BDTG)\n",
    "    # Background\n",
    "    if tr.classID == 1:\n",
    "      h3.Fill(BDT)\n",
    "      h4.Fill(BDTG)\n",
    "    \n",
    "  return [h1, h2, h3, h4]"
   ]
  },
  {
   "cell_type": "markdown",
   "id": "after-nelson",
   "metadata": {},
   "source": [
    "Helper function to normalize hists"
   ]
  },
  {
   "cell_type": "code",
   "execution_count": 3,
   "id": "antique-routine",
   "metadata": {
    "collapsed": false,
    "execution": {
     "iopub.execute_input": "2021-04-26T17:27:21.816776Z",
     "iopub.status.busy": "2021-04-26T17:27:21.816242Z",
     "iopub.status.idle": "2021-04-26T17:27:21.926403Z",
     "shell.execute_reply": "2021-04-26T17:27:21.927176Z"
    }
   },
   "outputs": [],
   "source": [
    "def norm_hists(h):\n",
    "\n",
    "  h_new = h.Clone()\n",
    "  hname = h.GetName() + \"_normalized\"\n",
    "  h_new.SetName(hname)\n",
    "  h_new.SetTitle(hname)\n",
    "  ntot = h.Integral()\n",
    "  if ntot!=0:\n",
    "    h_new.Scale(1./ntot)\n",
    "\n",
    "  return h_new"
   ]
  },
  {
   "cell_type": "markdown",
   "id": "racial-hypothesis",
   "metadata": {},
   "source": [
    "Fill histograms"
   ]
  },
  {
   "cell_type": "code",
   "execution_count": 4,
   "id": "through-southeast",
   "metadata": {
    "collapsed": false,
    "execution": {
     "iopub.execute_input": "2021-04-26T17:27:22.053332Z",
     "iopub.status.busy": "2021-04-26T17:27:22.003262Z",
     "iopub.status.idle": "2021-04-26T17:27:22.837600Z",
     "shell.execute_reply": "2021-04-26T17:27:22.837999Z"
    }
   },
   "outputs": [],
   "source": [
    "tr_train = tfin.Get(\"dataset/TrainTree\")\n",
    "h_train = fill_hists(tr_train, \"train\")\n",
    "\n",
    "tr_test = tfin.Get(\"dataset/TestTree\")\n",
    "h_test = fill_hists(tr_test, \"test\")"
   ]
  },
  {
   "cell_type": "markdown",
   "id": "returning-parking",
   "metadata": {},
   "source": [
    "Plotting"
   ]
  },
  {
   "cell_type": "code",
   "execution_count": 5,
   "id": "banner-genealogy",
   "metadata": {
    "collapsed": false,
    "execution": {
     "iopub.execute_input": "2021-04-26T17:27:22.854314Z",
     "iopub.status.busy": "2021-04-26T17:27:22.853791Z",
     "iopub.status.idle": "2021-04-26T17:27:22.967863Z",
     "shell.execute_reply": "2021-04-26T17:27:22.968391Z"
    }
   },
   "outputs": [
    {
     "data": {
      "text/plain": [
       "<cppyy.gbl.TCanvas object at 0x143897230>"
      ]
     },
     "execution_count": 1,
     "metadata": {},
     "output_type": "execute_result"
    }
   ],
   "source": [
    "myc = TCanvas(\"c\", \"c\", 800, 600)\n",
    "myc.SetFillColor(0)\n",
    "myc.cd()"
   ]
  },
  {
   "cell_type": "markdown",
   "id": "billion-proposal",
   "metadata": {},
   "source": [
    "Train vs Test\n",
    "===============\n",
    "BDT"
   ]
  },
  {
   "cell_type": "code",
   "execution_count": 6,
   "id": "limited-yellow",
   "metadata": {
    "collapsed": false,
    "execution": {
     "iopub.execute_input": "2021-04-26T17:27:22.995740Z",
     "iopub.status.busy": "2021-04-26T17:27:22.995225Z",
     "iopub.status.idle": "2021-04-26T17:27:23.104974Z",
     "shell.execute_reply": "2021-04-26T17:27:23.105529Z"
    }
   },
   "outputs": [],
   "source": [
    "h1 = norm_hists(h_train[0])\n",
    "h1.GetXaxis().SetTitle(\"BDT\")\n",
    "h1.GetYaxis().SetTitle(\"A.U.\")\n",
    "h1.Draw()\n",
    "h2 = norm_hists(h_test[0])\n",
    "h2.Draw(\"same hist\")\n",
    "h3 = norm_hists(h_train[2])\n",
    "h3.SetLineColor(2)\n",
    "h3.SetMarkerColor(2)\n",
    "h3.Draw(\"same\")\n",
    "h4 = norm_hists(h_test[2])\n",
    "h4.SetLineColor(2)\n",
    "h4.SetMarkerColor(2)\n",
    "h4.Draw(\"same hist\")\n",
    "\n",
    "ymin = 0\n",
    "ymax = max(h1.GetMaximum(), h2.GetMaximum(), h3.GetMaximum(), h4.GetMaximum())\n",
    "h1.GetYaxis().SetRangeUser(ymin, ymax*1.2)"
   ]
  },
  {
   "cell_type": "markdown",
   "id": "waiting-fairy",
   "metadata": {},
   "source": [
    "Draw legends"
   ]
  },
  {
   "cell_type": "code",
   "execution_count": 7,
   "id": "prospective-reset",
   "metadata": {
    "collapsed": false,
    "execution": {
     "iopub.execute_input": "2021-04-26T17:27:23.207052Z",
     "iopub.status.busy": "2021-04-26T17:27:23.206720Z",
     "iopub.status.idle": "2021-04-26T17:27:23.362963Z",
     "shell.execute_reply": "2021-04-26T17:27:23.363197Z"
    }
   },
   "outputs": [
    {
     "name": "stderr",
     "output_type": "stream",
     "text": [
      "Info in <TCanvas::Print>: png file TMVA_tutorial_cla_test_1.png has been created\n"
     ]
    },
    {
     "data": {
      "image/png": "[encoded data removed]",
      "text/plain": [
       "<IPython.core.display.Image object>"
      ]
     },
     "metadata": {},
     "output_type": "display_data"
    }
   ],
   "source": [
    "lIy = 0.92\n",
    "lg = TLegend(0.60, lIy-0.25, 0.85, lIy)\n",
    "lg.SetBorderSize(0)\n",
    "lg.SetFillStyle(0)\n",
    "lg.SetTextFont(42)\n",
    "lg.SetTextSize(0.04)\n",
    "lg.AddEntry(h1, \"Training S\", \"lp\")\n",
    "lg.AddEntry(h2, \"Testing S\", \"l\")\n",
    "lg.AddEntry(h3, \"Training B\", \"lp\")\n",
    "lg.AddEntry(h4, \"Testing B\", \"l\")\n",
    "lg.Draw()\n",
    "\n",
    "myc.Draw()\n",
    "myc.SaveAs(\"TMVA_tutorial_cla_test_1.png\")"
   ]
  },
  {
   "cell_type": "markdown",
   "id": "legislative-breed",
   "metadata": {},
   "source": [
    "BDTG"
   ]
  },
  {
   "cell_type": "code",
   "execution_count": 8,
   "id": "static-salmon",
   "metadata": {
    "collapsed": false,
    "execution": {
     "iopub.execute_input": "2021-04-26T17:27:23.366716Z",
     "iopub.status.busy": "2021-04-26T17:27:23.366391Z",
     "iopub.status.idle": "2021-04-26T17:27:23.473389Z",
     "shell.execute_reply": "2021-04-26T17:27:23.473752Z"
    }
   },
   "outputs": [],
   "source": [
    "h1 = norm_hists(h_train[1])\n",
    "h1.GetXaxis().SetTitle(\"BDTG\")\n",
    "h1.GetYaxis().SetTitle(\"A.U.\")\n",
    "h1.Draw()\n",
    "h2 = norm_hists(h_test[1])\n",
    "h2.Draw(\"same hist\")\n",
    "h3 = norm_hists(h_train[3])\n",
    "h3.SetLineColor(2)\n",
    "h3.SetMarkerColor(2)\n",
    "h3.Draw(\"same\")\n",
    "h4 = norm_hists(h_test[3])\n",
    "h4.SetLineColor(2)\n",
    "h4.SetMarkerColor(2)\n",
    "h4.Draw(\"same hist\")\n",
    "\n",
    "ymin = 0\n",
    "ymax = max(h1.GetMaximum(), h2.GetMaximum(), h3.GetMaximum(), h4.GetMaximum())\n",
    "h1.GetYaxis().SetRangeUser(ymin, ymax*1.2)"
   ]
  },
  {
   "cell_type": "markdown",
   "id": "weighted-organization",
   "metadata": {},
   "source": [
    "Draw legends"
   ]
  },
  {
   "cell_type": "code",
   "execution_count": 9,
   "id": "decreased-inside",
   "metadata": {
    "collapsed": false,
    "execution": {
     "iopub.execute_input": "2021-04-26T17:27:23.514827Z",
     "iopub.status.busy": "2021-04-26T17:27:23.514462Z",
     "iopub.status.idle": "2021-04-26T17:27:23.658139Z",
     "shell.execute_reply": "2021-04-26T17:27:23.658390Z"
    }
   },
   "outputs": [
    {
     "name": "stderr",
     "output_type": "stream",
     "text": [
      "Info in <TCanvas::Print>: png file TMVA_tutorial_cla_test_2.png has been created\n"
     ]
    },
    {
     "data": {
      "image/png": "[encoded data removed]",
      "text/plain": [
       "<IPython.core.display.Image object>"
      ]
     },
     "metadata": {},
     "output_type": "display_data"
    }
   ],
   "source": [
    "lIy = 0.92\n",
    "lg = TLegend(0.60, lIy-0.25, 0.85, lIy)\n",
    "lg.SetBorderSize(0)\n",
    "lg.SetFillStyle(0)\n",
    "lg.SetTextFont(42)\n",
    "lg.SetTextSize(0.04)\n",
    "lg.AddEntry(h1, \"Training S\", \"lp\")\n",
    "lg.AddEntry(h2, \"Testing S\", \"l\")\n",
    "lg.AddEntry(h3, \"Training B\", \"lp\")\n",
    "lg.AddEntry(h4, \"Testing B\", \"l\")\n",
    "lg.Draw()\n",
    "\n",
    "myc.Draw()\n",
    "myc.SaveAs(\"TMVA_tutorial_cla_test_2.png\")"
   ]
  },
  {
   "cell_type": "markdown",
   "id": "packed-creature",
   "metadata": {},
   "source": [
    "Draw all canvases "
   ]
  },
  {
   "cell_type": "code",
   "execution_count": 10,
   "id": "fuzzy-warehouse",
   "metadata": {
    "collapsed": false,
    "execution": {
     "iopub.execute_input": "2021-04-26T17:27:23.662215Z",
     "iopub.status.busy": "2021-04-26T17:27:23.661851Z",
     "iopub.status.idle": "2021-04-26T17:27:23.810958Z",
     "shell.execute_reply": "2021-04-26T17:27:23.811214Z"
    }
   },
   "outputs": [
    {
     "data": {
      "image/png": "[encoded data removed]",
      "text/plain": [
       "<IPython.core.display.Image object>"
      ]
     },
     "metadata": {},
     "output_type": "display_data"
    }
   ],
   "source": [
    "from ROOT import gROOT \n",
    "gROOT.GetListOfCanvases().Draw()"
   ]
  }
 ],
 "metadata": {
  "kernelspec": {
   "display_name": "Python 3",
   "language": "python",
   "name": "python3"
  },
  "language_info": {
   "codemirror_mode": {
    "name": "ipython",
    "version": 3
   },
   "file_extension": ".py",
   "mimetype": "text/x-python",
   "name": "python",
   "nbconvert_exporter": "python",
   "pygments_lexer": "ipython3",
   "version": "3.8.8"
  }
 },
 "nbformat": 4,
 "nbformat_minor": 5
}
