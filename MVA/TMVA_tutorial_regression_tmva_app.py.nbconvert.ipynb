{
 "cells": [
  {
   "cell_type": "markdown",
   "id": "senior-branch",
   "metadata": {},
   "source": [
    "#  T M V A_Tutorial_Regression_Tmva_App\n",
    "TMVA example, for regression\n",
    " with following objectives:\n",
    " * Apply a BDT with TMVA\n",
    "\n",
    "\n",
    "\n",
    "\n",
    "**Author:** Lailin XU  \n",
    "<i><small>This notebook tutorial was automatically generated with <a href= \"https://github.com/root-project/root/blob/master/documentation/doxygen/converttonotebook.py\">ROOTBOOK-izer</a> from the macro found in the ROOT repository  on Monday, April 26, 2021 at 04:07 PM.</small></i>"
   ]
  },
  {
   "cell_type": "code",
   "execution_count": 1,
   "id": "realistic-framework",
   "metadata": {
    "collapsed": false,
    "execution": {
     "iopub.execute_input": "2021-04-26T08:07:20.603867Z",
     "iopub.status.busy": "2021-04-26T08:07:20.603190Z",
     "iopub.status.idle": "2021-04-26T08:07:21.210822Z",
     "shell.execute_reply": "2021-04-26T08:07:21.211031Z"
    }
   },
   "outputs": [
    {
     "name": "stdout",
     "output_type": "stream",
     "text": [
      "Welcome to JupyROOT 6.22/07\n"
     ]
    }
   ],
   "source": [
    "from ROOT import TMVA, TFile, TTree, TCut, TH1F, TCanvas, gROOT, TLegend\n",
    "from subprocess import call\n",
    "from os.path import isfile\n",
    "from array import array\n",
    " \n",
    "gROOT.SetStyle(\"ATLAS\")"
   ]
  },
  {
   "cell_type": "markdown",
   "id": "chemical-pipeline",
   "metadata": {},
   "source": [
    "Setup TMVA"
   ]
  },
  {
   "cell_type": "code",
   "execution_count": 2,
   "id": "distant-wichita",
   "metadata": {
    "collapsed": false,
    "execution": {
     "iopub.execute_input": "2021-04-26T08:07:21.221935Z",
     "iopub.status.busy": "2021-04-26T08:07:21.221594Z",
     "iopub.status.idle": "2021-04-26T08:07:21.329239Z",
     "shell.execute_reply": "2021-04-26T08:07:21.329649Z"
    }
   },
   "outputs": [
    {
     "data": {
      "text/plain": [
       "<cppyy.gbl.TMVA.Tools object at 0x127382360>"
      ]
     },
     "execution_count": 1,
     "metadata": {},
     "output_type": "execute_result"
    }
   ],
   "source": [
    "TMVA.Tools.Instance()"
   ]
  },
  {
   "cell_type": "markdown",
   "id": "final-assurance",
   "metadata": {},
   "source": [
    "Reader"
   ]
  },
  {
   "cell_type": "code",
   "execution_count": 3,
   "id": "authentic-incident",
   "metadata": {
    "collapsed": false,
    "execution": {
     "iopub.execute_input": "2021-04-26T08:07:21.351436Z",
     "iopub.status.busy": "2021-04-26T08:07:21.351012Z",
     "iopub.status.idle": "2021-04-26T08:07:21.459478Z",
     "shell.execute_reply": "2021-04-26T08:07:21.460016Z"
    }
   },
   "outputs": [],
   "source": [
    "reader = TMVA.Reader(\"Color:!Silent\")\n",
    " "
   ]
  },
  {
   "cell_type": "markdown",
   "id": "intelligent-parking",
   "metadata": {},
   "source": [
    "Inputs\n",
    "=============\n",
    "Load data"
   ]
  },
  {
   "cell_type": "code",
   "execution_count": 4,
   "id": "desperate-culture",
   "metadata": {
    "collapsed": false,
    "execution": {
     "iopub.execute_input": "2021-04-26T08:07:21.525765Z",
     "iopub.status.busy": "2021-04-26T08:07:21.525374Z",
     "iopub.status.idle": "2021-04-26T08:07:21.632793Z",
     "shell.execute_reply": "2021-04-26T08:07:21.633258Z"
    }
   },
   "outputs": [],
   "source": [
    "trfile = \"SM_ttbar.root\"\n",
    " \n",
    "data = TFile.Open(trfile)\n",
    "tree = data.Get('tree')\n",
    " "
   ]
  },
  {
   "cell_type": "markdown",
   "id": "genuine-touch",
   "metadata": {},
   "source": [
    "Set input variables"
   ]
  },
  {
   "cell_type": "code",
   "execution_count": 5,
   "id": "tested-county",
   "metadata": {
    "collapsed": false,
    "execution": {
     "iopub.execute_input": "2021-04-26T08:07:21.647117Z",
     "iopub.status.busy": "2021-04-26T08:07:21.646599Z",
     "iopub.status.idle": "2021-04-26T08:07:21.757196Z",
     "shell.execute_reply": "2021-04-26T08:07:21.757860Z"
    }
   },
   "outputs": [],
   "source": [
    "branches = {}\n",
    "for branch in tree.GetListOfBranches():\n",
    "    branchName = branch.GetName()\n",
    "    branches[branchName] = array('f', [-999])\n",
    "    tree.SetBranchAddress(branchName, branches[branchName])\n",
    "    if not 'mtt' in branchName:\n",
    "        reader.AddVariable(branchName, branches[branchName])\n",
    " "
   ]
  },
  {
   "cell_type": "markdown",
   "id": "decimal-wesley",
   "metadata": {},
   "source": [
    "Book method(s)\n",
    "=============\n",
    "BDT"
   ]
  },
  {
   "cell_type": "code",
   "execution_count": 6,
   "id": "signal-swaziland",
   "metadata": {
    "collapsed": false,
    "execution": {
     "iopub.execute_input": "2021-04-26T08:07:21.846924Z",
     "iopub.status.busy": "2021-04-26T08:07:21.846578Z",
     "iopub.status.idle": "2021-04-26T08:07:21.953979Z",
     "shell.execute_reply": "2021-04-26T08:07:21.954410Z"
    }
   },
   "outputs": [
    {
     "data": {
      "text/plain": [
       "<cppyy.gbl.TMVA.MethodBDT object at 0x126a4d600>"
      ]
     },
     "execution_count": 1,
     "metadata": {},
     "output_type": "execute_result"
    },
    {
     "name": "stdout",
     "output_type": "stream",
     "text": [
      "                         : Booking \"BDT\" of type \"BDT\" from dataset/weights/TMVARegression_BDT.weights.xml.\n",
      "                         : Reading weight file: \u001b[0;36mdataset/weights/TMVARegression_BDT.weights.xml\u001b[0m\n",
      "DataSetInfo              : [Default] : Added class \"Regression\"\n",
      "                         : Booked classifier \"BDT\" of type: \"BDT\"\n"
     ]
    }
   ],
   "source": [
    "methodName1 = \"BDT\"\n",
    "weightfile = 'dataset/weights/TMVARegression_{0}.weights.xml'.format(methodName1)\n",
    "reader.BookMVA( methodName1, weightfile )"
   ]
  },
  {
   "cell_type": "markdown",
   "id": "impaired-particle",
   "metadata": {},
   "source": [
    "BDTG"
   ]
  },
  {
   "cell_type": "code",
   "execution_count": 7,
   "id": "referenced-brooklyn",
   "metadata": {
    "collapsed": false,
    "execution": {
     "iopub.execute_input": "2021-04-26T08:07:22.225853Z",
     "iopub.status.busy": "2021-04-26T08:07:22.225535Z",
     "iopub.status.idle": "2021-04-26T08:07:22.332989Z",
     "shell.execute_reply": "2021-04-26T08:07:22.333366Z"
    }
   },
   "outputs": [
    {
     "data": {
      "text/plain": [
       "<cppyy.gbl.TMVA.MethodBDT object at 0x125a1ce00>"
      ]
     },
     "execution_count": 1,
     "metadata": {},
     "output_type": "execute_result"
    },
    {
     "name": "stdout",
     "output_type": "stream",
     "text": [
      "                         : Booking \"BDTG\" of type \"BDT\" from dataset/weights/TMVARegression_BDTG.weights.xml.\n",
      "                         : Reading weight file: \u001b[0;36mdataset/weights/TMVARegression_BDTG.weights.xml\u001b[0m\n",
      "                         : Booked classifier \"BDTG\" of type: \"BDT\"\n"
     ]
    }
   ],
   "source": [
    "methodName2 = \"BDTG\"\n",
    "weightfile = 'dataset/weights/TMVARegression_{0}.weights.xml'.format(methodName2)\n",
    "reader.BookMVA( methodName2, weightfile )"
   ]
  },
  {
   "cell_type": "markdown",
   "id": "synthetic-airport",
   "metadata": {},
   "source": [
    "Loop events"
   ]
  },
  {
   "cell_type": "code",
   "execution_count": 8,
   "id": "dietary-emperor",
   "metadata": {
    "collapsed": false,
    "execution": {
     "iopub.execute_input": "2021-04-26T08:07:22.339420Z",
     "iopub.status.busy": "2021-04-26T08:07:22.338745Z",
     "iopub.status.idle": "2021-04-26T08:07:22.449241Z",
     "shell.execute_reply": "2021-04-26T08:07:22.449891Z"
    }
   },
   "outputs": [],
   "source": [
    "nevents = tree.GetEntries()"
   ]
  },
  {
   "cell_type": "markdown",
   "id": "peaceful-fusion",
   "metadata": {},
   "source": [
    "Book histograms"
   ]
  },
  {
   "cell_type": "code",
   "execution_count": 9,
   "id": "designing-paste",
   "metadata": {
    "collapsed": false,
    "execution": {
     "iopub.execute_input": "2021-04-26T08:07:22.574424Z",
     "iopub.status.busy": "2021-04-26T08:07:22.511661Z",
     "iopub.status.idle": "2021-04-26T08:07:30.132921Z",
     "shell.execute_reply": "2021-04-26T08:07:30.133329Z"
    }
   },
   "outputs": [],
   "source": [
    "tag = \"SM\"\n",
    "hname=\"mtt_truth_{0}\".format(tag)\n",
    "nbins, xmin, xmax=200, 0, 2000\n",
    "h1 = TH1F(hname, hname, nbins, xmin, xmax)\n",
    "h1.Sumw2()\n",
    "hname=\"mtt_reco_{0}\".format(tag)\n",
    "h2 = TH1F(hname, hname, nbins, xmin, xmax)\n",
    "h2.Sumw2()\n",
    "hname=\"BDT_{0}\".format(tag)\n",
    "h3 = TH1F(hname, hname, nbins, xmin, xmax)\n",
    "h3.Sumw2()\n",
    "hname=\"BDTG_{0}\".format(tag)\n",
    "h4 = TH1F(hname, hname, nbins, xmin, xmax)\n",
    "h4.Sumw2()\n",
    "\n",
    "for i in range(nevents):\n",
    "  tree.GetEntry(i)\n",
    "\n",
    "  mtt_truth = tree.mtt_truth     \n",
    "  mtt_reco = tree.mtt_reco     \n",
    "  # BDT = reader.EvaluateMVA(methodName1)\n",
    "  # BDTG = reader.EvaluateMVA(methodName2)\n",
    "  BDT = reader.EvaluateRegression(methodName1)[0]\n",
    "  BDTG = reader.EvaluateRegression(methodName2)[0]\n",
    "  h1.Fill(mtt_truth)\n",
    "  h2.Fill(mtt_reco)\n",
    "  h3.Fill(BDT)\n",
    "  h4.Fill(BDTG)"
   ]
  },
  {
   "cell_type": "markdown",
   "id": "structured-lending",
   "metadata": {},
   "source": [
    "Helper function to normalize hists"
   ]
  },
  {
   "cell_type": "code",
   "execution_count": 10,
   "id": "forced-gnome",
   "metadata": {
    "collapsed": false,
    "execution": {
     "iopub.execute_input": "2021-04-26T08:07:30.137746Z",
     "iopub.status.busy": "2021-04-26T08:07:30.137187Z",
     "iopub.status.idle": "2021-04-26T08:07:30.248506Z",
     "shell.execute_reply": "2021-04-26T08:07:30.249149Z"
    }
   },
   "outputs": [],
   "source": [
    "def norm_hists(h):\n",
    "\n",
    "  h_new = h.Clone()\n",
    "  hname = h.GetName() + \"_normalized\"\n",
    "  h_new.SetName(hname)\n",
    "  h_new.SetTitle(hname)\n",
    "  ntot = h.Integral()\n",
    "  if ntot!=0:\n",
    "    h_new.Scale(1./ntot)\n",
    "\n",
    "  return h_new"
   ]
  },
  {
   "cell_type": "markdown",
   "id": "golden-filename",
   "metadata": {},
   "source": [
    "Plotting"
   ]
  },
  {
   "cell_type": "code",
   "execution_count": 11,
   "id": "eligible-intervention",
   "metadata": {
    "collapsed": false,
    "execution": {
     "iopub.execute_input": "2021-04-26T08:07:30.267672Z",
     "iopub.status.busy": "2021-04-26T08:07:30.267063Z",
     "iopub.status.idle": "2021-04-26T08:07:30.384521Z",
     "shell.execute_reply": "2021-04-26T08:07:30.383960Z"
    }
   },
   "outputs": [
    {
     "data": {
      "text/plain": [
       "<cppyy.gbl.TCanvas object at 0x13182d070>"
      ]
     },
     "execution_count": 1,
     "metadata": {},
     "output_type": "execute_result"
    }
   ],
   "source": [
    "myc = TCanvas(\"c\", \"c\", 800, 600)\n",
    "myc.SetFillColor(0)\n",
    "myc.cd()"
   ]
  },
  {
   "cell_type": "markdown",
   "id": "steady-junction",
   "metadata": {},
   "source": [
    "Compare the performance"
   ]
  },
  {
   "cell_type": "code",
   "execution_count": 12,
   "id": "instrumental-garage",
   "metadata": {
    "collapsed": false,
    "execution": {
     "iopub.execute_input": "2021-04-26T08:07:30.415179Z",
     "iopub.status.busy": "2021-04-26T08:07:30.414614Z",
     "iopub.status.idle": "2021-04-26T08:07:30.525690Z",
     "shell.execute_reply": "2021-04-26T08:07:30.526307Z"
    }
   },
   "outputs": [],
   "source": [
    "nh1 = norm_hists(h1)\n",
    "nh1.GetXaxis().SetTitle(\"m_{t#bar{t}} [GeV]\")\n",
    "nh1.GetYaxis().SetTitle(\"A.U.\")\n",
    "nh1.Draw()\n",
    "nh2 = norm_hists(h2)\n",
    "nh2.SetLineColor(2)\n",
    "nh2.SetMarkerColor(2)\n",
    "nh2.Draw(\"same\")\n",
    "nh3 = norm_hists(h3)\n",
    "nh3.SetLineColor(4)\n",
    "nh3.SetMarkerColor(4)\n",
    "nh3.Draw(\"same\")\n",
    "nh4 = norm_hists(h4)\n",
    "nh4.SetLineColor(5)\n",
    "nh4.SetMarkerColor(5)\n",
    "nh4.Draw(\"same\")\n",
    "\n",
    "ymin = 0\n",
    "ymax = max(nh1.GetMaximum(), nh2.GetMaximum(), nh3.GetMaximum())\n",
    "nh1.GetYaxis().SetRangeUser(ymin, ymax*1.2)"
   ]
  },
  {
   "cell_type": "markdown",
   "id": "fixed-sound",
   "metadata": {},
   "source": [
    "Draw legends"
   ]
  },
  {
   "cell_type": "code",
   "execution_count": 13,
   "id": "above-nancy",
   "metadata": {
    "collapsed": false,
    "execution": {
     "iopub.execute_input": "2021-04-26T08:07:30.711282Z",
     "iopub.status.busy": "2021-04-26T08:07:30.562999Z",
     "iopub.status.idle": "2021-04-26T08:07:30.964494Z",
     "shell.execute_reply": "2021-04-26T08:07:30.964288Z"
    }
   },
   "outputs": [
    {
     "name": "stderr",
     "output_type": "stream",
     "text": [
      "Info in <TCanvas::Print>: png file TMVA_tutorial_reg_app_1.png has been created\n"
     ]
    },
    {
     "data": {
      "image/png": "[encoded data removed]",
      "text/plain": [
       "<IPython.core.display.Image object>"
      ]
     },
     "metadata": {},
     "output_type": "display_data"
    }
   ],
   "source": [
    "lIy = 0.92\n",
    "lg = TLegend(0.60, lIy-0.25, 0.85, lIy)\n",
    "lg.SetBorderSize(0)\n",
    "lg.SetFillStyle(0)\n",
    "lg.SetTextFont(42)\n",
    "lg.SetTextSize(0.04)\n",
    "lg.AddEntry(nh1, \"Truth\", \"l\")\n",
    "lg.AddEntry(nh2, \"Reco\", \"l\")\n",
    "lg.AddEntry(nh3, \"Regression BDT\", \"l\")\n",
    "lg.AddEntry(nh4, \"Regression BDTG\", \"l\")\n",
    "lg.Draw()\n",
    "\n",
    "myc.Draw()\n",
    "myc.SaveAs(\"TMVA_tutorial_reg_app_1.png\")"
   ]
  },
  {
   "cell_type": "markdown",
   "id": "isolated-blood",
   "metadata": {},
   "source": [
    "Draw all canvases "
   ]
  },
  {
   "cell_type": "code",
   "execution_count": 14,
   "id": "excited-involvement",
   "metadata": {
    "collapsed": false,
    "execution": {
     "iopub.execute_input": "2021-04-26T08:07:30.967399Z",
     "iopub.status.busy": "2021-04-26T08:07:30.967104Z",
     "iopub.status.idle": "2021-04-26T08:07:31.207332Z",
     "shell.execute_reply": "2021-04-26T08:07:31.207548Z"
    }
   },
   "outputs": [
    {
     "data": {
      "image/png": "[encoded data removed]",
      "text/plain": [
       "<IPython.core.display.Image object>"
      ]
     },
     "metadata": {},
     "output_type": "display_data"
    }
   ],
   "source": [
    "from ROOT import gROOT \n",
    "gROOT.GetListOfCanvases().Draw()"
   ]
  }
 ],
 "metadata": {
  "kernelspec": {
   "display_name": "Python 3",
   "language": "python",
   "name": "python3"
  },
  "language_info": {
   "codemirror_mode": {
    "name": "ipython",
    "version": 3
   },
   "file_extension": ".py",
   "mimetype": "text/x-python",
   "name": "python",
   "nbconvert_exporter": "python",
   "pygments_lexer": "ipython3",
   "version": "3.8.8"
  }
 },
 "nbformat": 4,
 "nbformat_minor": 5
}
