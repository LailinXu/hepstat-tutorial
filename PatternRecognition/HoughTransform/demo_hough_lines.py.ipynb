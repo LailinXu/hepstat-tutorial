{
 "cells": [
  {
   "cell_type": "markdown",
   "id": "historical-intervention",
   "metadata": {},
   "source": [
    "# Demo_Hough_Lines\n",
    "\n",
    "\n",
    "\n",
    "\n",
    "**Author:** Lailin XU  \n",
    "<i><small>This notebook tutorial was automatically generated with <a href= \"https://github.com/root-project/root/blob/master/documentation/doxygen/converttonotebook.py\">ROOTBOOK-izer</a> from the macro found in the ROOT repository  on Thursday, March 24, 2022 at 02:06 PM.</small></i>"
   ]
  },
  {
   "cell_type": "code",
   "execution_count": 1,
   "id": "emerging-tennessee",
   "metadata": {},
   "outputs": [],
   "source": [
    "import numpy as np\n",
    "import matplotlib.pyplot as plt\n",
    "\n",
    "def houghLine(image):\n",
    "    ''' Basic Hough line transform that builds the accumulator array\n",
    "    Input : image : edge image (canny)\n",
    "    Output : accumulator : the accumulator of hough space\n",
    "             thetas : values of theta (-90 : 90)\n",
    "             rs : values of radius (-max distance : max distance)\n",
    "    Reference: https://sbme-tutorials.github.io/2018/cv/notes/5_week5.html\n",
    "    '''\n",
    "\n",
    "    # Get image dimensions\n",
    "    # y for rows and x for columns \n",
    "    Ny = image.shape[0]\n",
    "    Nx = image.shape[1]\n",
    "\n",
    "    # Max diatance is diagonal one \n",
    "    Maxdist = int(np.round(np.sqrt(Nx**2 + Ny ** 2)))\n",
    "\n",
    "\n",
    "    # Theta in range from -90 to 90 degrees\n",
    "    thetas = np.deg2rad(np.arange(-90, 90))\n",
    "    # Range of radius\n",
    "    rs = np.linspace(-Maxdist, Maxdist, 2*Maxdist)\n",
    "\n",
    "    accumulator = np.zeros((2 * Maxdist, len(thetas)))\n",
    "\n",
    "    # Loop all points of the image\n",
    "    for y in range(Ny):\n",
    "      for x in range(Nx):\n",
    "         # Check if it is an edge pixel\n",
    "         #  NB: y -> rows , x -> columns\n",
    "         if image[y,x] > 0:\n",
    "           # Map edge pixel to hough space\n",
    "           for k in range(len(thetas)):\n",
    "              # Calculate space parameter\n",
    "              r = x*np.cos(thetas[k]) + y * np.sin(thetas[k])\n",
    "\n",
    "              # Update the accumulator\n",
    "              # N.B: r has value -max to max\n",
    "              # map r to its idx 0 : 2*max\n",
    "              accumulator[int(r) + Maxdist,k] += 1\n",
    "\n",
    "    return accumulator, thetas, rs"
   ]
  },
  {
   "cell_type": "markdown",
   "id": "developmental-dutch",
   "metadata": {},
   "source": [
    "Input image"
   ]
  },
  {
   "cell_type": "code",
   "execution_count": 2,
   "id": "spare-potential",
   "metadata": {},
   "outputs": [],
   "source": [
    "image = np.zeros((150,150))"
   ]
  },
  {
   "cell_type": "markdown",
   "id": "widespread-pennsylvania",
   "metadata": {},
   "source": [
    "Add points, start with one point"
   ]
  },
  {
   "cell_type": "code",
   "execution_count": 3,
   "id": "given-request",
   "metadata": {},
   "outputs": [],
   "source": [
    "image[75, 75] = 1"
   ]
  },
  {
   "cell_type": "markdown",
   "id": "inner-illinois",
   "metadata": {},
   "source": [
    "Do Hough Transform"
   ]
  },
  {
   "cell_type": "code",
   "execution_count": 4,
   "id": "sound-frank",
   "metadata": {},
   "outputs": [],
   "source": [
    "accumulator, thetas, rhos = houghLine(image)"
   ]
  },
  {
   "cell_type": "markdown",
   "id": "disabled-newsletter",
   "metadata": {},
   "source": [
    "Plotting"
   ]
  },
  {
   "cell_type": "code",
   "execution_count": 5,
   "id": "sapphire-heaven",
   "metadata": {},
   "outputs": [
    {
     "data": {
      "text/plain": [
       "<matplotlib.image.AxesImage at 0x40430bfe50>"
      ]
     },
     "execution_count": 5,
     "metadata": {},
     "output_type": "execute_result"
    },
    {
     "data": {
      "image/png": "[encoded data removed]",
      "text/plain": [
       "<Figure size 576x576 with 1 Axes>"
      ]
     },
     "metadata": {
      "needs_background": "light"
     },
     "output_type": "display_data"
    }
   ],
   "source": [
    "plt.figure('Hough Transform', figsize=(8,8))\n",
    "plt.tight_layout()\n",
    "\n",
    "plt.subplot(1,2,1)\n",
    "plt.title('Original Image')\n",
    "plt.xlabel(\"x\")\n",
    "plt.ylabel(\"y\")\n",
    "plt.imshow(image)"
   ]
  },
  {
   "cell_type": "markdown",
   "id": "progressive-passport",
   "metadata": {},
   "source": [
    "lt.set_cmap('gray')"
   ]
  },
  {
   "cell_type": "code",
   "execution_count": 6,
   "id": "empirical-swimming",
   "metadata": {},
   "outputs": [
    {
     "data": {
      "text/plain": [
       "<matplotlib.image.AxesImage at 0x40430bf430>"
      ]
     },
     "execution_count": 6,
     "metadata": {},
     "output_type": "execute_result"
    },
    {
     "data": {
      "image/png": "[encoded data removed]",
      "text/plain": [
       "<Figure size 432x288 with 1 Axes>"
      ]
     },
     "metadata": {
      "needs_background": "light"
     },
     "output_type": "display_data"
    }
   ],
   "source": [
    "plt.subplot(1,2,2)\n",
    "plt.title('Hough Space')\n",
    "plt.xlabel(r'$\\theta$')\n",
    "plt.ylabel(r'$\\rho$')\n",
    "plt.imshow(accumulator)"
   ]
  },
  {
   "cell_type": "markdown",
   "id": "regional-germany",
   "metadata": {},
   "source": [
    "lt.set_cmap('gray')"
   ]
  },
  {
   "cell_type": "code",
   "execution_count": 7,
   "id": "portuguese-street",
   "metadata": {},
   "outputs": [
    {
     "data": {
      "text/plain": [
       "<Figure size 432x288 with 0 Axes>"
      ]
     },
     "metadata": {},
     "output_type": "display_data"
    }
   ],
   "source": [
    "plt.show()\n",
    "\n",
    "plt.savefig('demo_hough_transform_lines_1.png')"
   ]
  },
  {
   "cell_type": "markdown",
   "id": "every-vector",
   "metadata": {},
   "source": [
    "Add more points"
   ]
  },
  {
   "cell_type": "code",
   "execution_count": 8,
   "id": "basic-effort",
   "metadata": {},
   "outputs": [],
   "source": [
    "image[50, 100] = 1\n",
    "image[100, 50] = 1"
   ]
  },
  {
   "cell_type": "markdown",
   "id": "systematic-israel",
   "metadata": {},
   "source": [
    "Do Hough Transform"
   ]
  },
  {
   "cell_type": "code",
   "execution_count": 9,
   "id": "collective-auckland",
   "metadata": {},
   "outputs": [],
   "source": [
    "accumulator, thetas, rhos = houghLine(image)"
   ]
  },
  {
   "cell_type": "markdown",
   "id": "intense-fellow",
   "metadata": {},
   "source": [
    "Plotting"
   ]
  },
  {
   "cell_type": "code",
   "execution_count": 10,
   "id": "fourth-figure",
   "metadata": {},
   "outputs": [
    {
     "data": {
      "text/plain": [
       "<matplotlib.image.AxesImage at 0x4066b5a8b0>"
      ]
     },
     "execution_count": 10,
     "metadata": {},
     "output_type": "execute_result"
    },
    {
     "data": {
      "image/png": "[encoded data removed]",
      "text/plain": [
       "<Figure size 576x576 with 1 Axes>"
      ]
     },
     "metadata": {
      "needs_background": "light"
     },
     "output_type": "display_data"
    }
   ],
   "source": [
    "plt.figure('Hough Transform', figsize=(8,8))\n",
    "plt.tight_layout()\n",
    "\n",
    "plt.subplot(1,2,1)\n",
    "plt.title('Original Image')\n",
    "plt.xlabel(\"x\")\n",
    "plt.ylabel(\"y\")\n",
    "plt.imshow(image)"
   ]
  },
  {
   "cell_type": "markdown",
   "id": "optional-validation",
   "metadata": {},
   "source": [
    "lt.set_cmap('gray')"
   ]
  },
  {
   "cell_type": "code",
   "execution_count": 11,
   "id": "yellow-boring",
   "metadata": {},
   "outputs": [
    {
     "data": {
      "text/plain": [
       "<matplotlib.image.AxesImage at 0x40668c5e50>"
      ]
     },
     "execution_count": 11,
     "metadata": {},
     "output_type": "execute_result"
    },
    {
     "data": {
      "image/png": "[encoded data removed]",
      "text/plain": [
       "<Figure size 432x288 with 1 Axes>"
      ]
     },
     "metadata": {
      "needs_background": "light"
     },
     "output_type": "display_data"
    }
   ],
   "source": [
    "plt.subplot(1,2,2)\n",
    "plt.title('Hough Space')\n",
    "plt.xlabel(r'$\\theta$')\n",
    "plt.ylabel(r'$\\rho$')\n",
    "plt.imshow(accumulator)"
   ]
  },
  {
   "cell_type": "markdown",
   "id": "finite-volume",
   "metadata": {},
   "source": [
    "lt.set_cmap('gray')"
   ]
  },
  {
   "cell_type": "code",
   "execution_count": 12,
   "id": "modular-austria",
   "metadata": {},
   "outputs": [],
   "source": [
    "plt.show()\n",
    "\n",
    "plt.savefig('demo_hough_transform_lines_2.png')\n",
    "\n",
    "plt.close()"
   ]
  },
  {
   "cell_type": "markdown",
   "id": "stock-tragedy",
   "metadata": {},
   "source": [
    "Draw all canvases "
   ]
  },
  {
   "cell_type": "code",
   "execution_count": 13,
   "id": "blank-attack",
   "metadata": {},
   "outputs": [
    {
     "name": "stderr",
     "output_type": "stream",
     "text": [
      "ldd: exited with unknown exit code (134)\n"
     ]
    },
    {
     "name": "stdout",
     "output_type": "stream",
     "text": [
      "Welcome to JupyROOT 6.26/00\n"
     ]
    }
   ],
   "source": [
    "from ROOT import gROOT \n",
    "gROOT.GetListOfCanvases().Draw()"
   ]
  },
  {
   "cell_type": "code",
   "execution_count": null,
   "id": "046df01f",
   "metadata": {},
   "outputs": [],
   "source": []
  }
 ],
 "metadata": {
  "kernelspec": {
   "display_name": "Python 3 (ipykernel)",
   "language": "python",
   "name": "python3"
  },
  "language_info": {
   "codemirror_mode": {
    "name": "ipython",
    "version": 3
   },
   "file_extension": ".py",
   "mimetype": "text/x-python",
   "name": "python",
   "nbconvert_exporter": "python",
   "pygments_lexer": "ipython3",
   "version": "3.8.10"
  }
 },
 "nbformat": 4,
 "nbformat_minor": 5
}
