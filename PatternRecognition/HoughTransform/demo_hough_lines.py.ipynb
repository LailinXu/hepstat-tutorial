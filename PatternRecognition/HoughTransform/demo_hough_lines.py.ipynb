{
 "cells": [
  {
   "cell_type": "markdown",
   "id": "welcome-lambda",
   "metadata": {},
   "source": [
    "# Demo_Hough_Lines\n",
    "\n",
    "\n",
    "\n",
    "\n",
    "**Author:** Lailin XU  \n",
    "<i><small>This notebook tutorial was automatically generated with <a href= \"https://github.com/root-project/root/blob/master/documentation/doxygen/converttonotebook.py\">ROOTBOOK-izer</a> from the macro found in the ROOT repository  on Sunday, April 10, 2022 at 06:21 PM.</small></i>"
   ]
  },
  {
   "cell_type": "code",
   "execution_count": null,
   "id": "natural-music",
   "metadata": {
    "collapsed": false
   },
   "outputs": [],
   "source": [
    "import numpy as np\n",
    "import matplotlib.pyplot as plt\n",
    "\n",
    "def houghLine(image):\n",
    "    ''' Basic Hough line transform that builds the accumulator array\n",
    "    Input : image : edge image (canny)\n",
    "    Output : accumulator : the accumulator of hough space\n",
    "             thetas : values of theta (-90 : 90)\n",
    "             rs : values of radius (-max distance : max distance)\n",
    "    Reference: https://sbme-tutorials.github.io/2018/cv/notes/5_week5.html\n",
    "    '''\n",
    "\n",
    "    # Get image dimensions\n",
    "    # y for rows and x for columns \n",
    "    Ny = image.shape[0]\n",
    "    Nx = image.shape[1]\n",
    "\n",
    "    # Max diatance is diagonal one \n",
    "    Maxdist = int(np.round(np.sqrt(Nx**2 + Ny ** 2)))\n",
    "\n",
    "\n",
    "    # Theta in range from -90 to 90 degrees\n",
    "    thetas = np.deg2rad(np.arange(-90, 90))\n",
    "    # Range of radius\n",
    "    rs = np.linspace(-Maxdist, Maxdist, 2*Maxdist)\n",
    "\n",
    "    accumulator = np.zeros((2 * Maxdist, len(thetas)))\n",
    "\n",
    "    # Loop all points of the image\n",
    "    for y in range(Ny):\n",
    "      for x in range(Nx):\n",
    "         # Check if it is an edge pixel\n",
    "         #  NB: y -> rows , x -> columns\n",
    "         if image[y,x] > 0:\n",
    "           # Map edge pixel to hough space\n",
    "           for k in range(len(thetas)):\n",
    "              # Calculate space parameter\n",
    "              r = x*np.cos(thetas[k]) + y * np.sin(thetas[k])\n",
    "\n",
    "              # Update the accumulator\n",
    "              # N.B: r has value -max to max\n",
    "              # map r to its idx 0 : 2*max\n",
    "              accumulator[int(r) + Maxdist,k] += 1\n",
    "\n",
    "    return accumulator, thetas, rs"
   ]
  },
  {
   "cell_type": "markdown",
   "id": "guilty-aurora",
   "metadata": {},
   "source": [
    "Input image"
   ]
  },
  {
   "cell_type": "code",
   "execution_count": null,
   "id": "studied-planet",
   "metadata": {
    "collapsed": false
   },
   "outputs": [],
   "source": [
    "image = np.zeros((150,150))"
   ]
  },
  {
   "cell_type": "markdown",
   "id": "serial-steps",
   "metadata": {},
   "source": [
    "Add points, start with one point"
   ]
  },
  {
   "cell_type": "code",
   "execution_count": null,
   "id": "functional-fitting",
   "metadata": {
    "collapsed": false
   },
   "outputs": [],
   "source": [
    "image[75, 75] = 1"
   ]
  },
  {
   "cell_type": "markdown",
   "id": "spoken-diesel",
   "metadata": {},
   "source": [
    "Do Hough Transform"
   ]
  },
  {
   "cell_type": "code",
   "execution_count": null,
   "id": "indie-performance",
   "metadata": {
    "collapsed": false
   },
   "outputs": [],
   "source": [
    "accumulator, thetas, rhos = houghLine(image)"
   ]
  },
  {
   "cell_type": "markdown",
   "id": "exterior-uzbekistan",
   "metadata": {},
   "source": [
    "Plotting"
   ]
  },
  {
   "cell_type": "code",
   "execution_count": null,
   "id": "optical-passage",
   "metadata": {
    "collapsed": false
   },
   "outputs": [],
   "source": [
    "plt.figure('Hough Transform', figsize=(8,8))"
   ]
  },
  {
   "cell_type": "markdown",
   "id": "dying-attraction",
   "metadata": {},
   "source": [
    "lt.tight_layout()"
   ]
  },
  {
   "cell_type": "code",
   "execution_count": null,
   "id": "classified-while",
   "metadata": {
    "collapsed": false
   },
   "outputs": [],
   "source": [
    "plt.subplot(1,2,1)\n",
    "plt.title('Original Image')\n",
    "plt.xlabel(\"x\")\n",
    "plt.ylabel(\"y\")\n",
    "plt.imshow(image)"
   ]
  },
  {
   "cell_type": "markdown",
   "id": "explicit-circle",
   "metadata": {},
   "source": [
    "lt.set_cmap('gray')"
   ]
  },
  {
   "cell_type": "code",
   "execution_count": null,
   "id": "loved-threshold",
   "metadata": {
    "collapsed": false
   },
   "outputs": [],
   "source": [
    "plt.subplot(1,2,2)\n",
    "plt.title('Hough Space')\n",
    "plt.xlabel(r'$\\theta$')\n",
    "plt.ylabel(r'$\\rho$')\n",
    "plt.imshow(accumulator)"
   ]
  },
  {
   "cell_type": "markdown",
   "id": "subject-centre",
   "metadata": {},
   "source": [
    "lt.set_cmap('gray')"
   ]
  },
  {
   "cell_type": "code",
   "execution_count": null,
   "id": "complex-stuff",
   "metadata": {
    "collapsed": false
   },
   "outputs": [],
   "source": [
    "plt.savefig('demo_hough_transform_lines_1.png')\n",
    "plt.show()"
   ]
  },
  {
   "cell_type": "markdown",
   "id": "specific-bowling",
   "metadata": {},
   "source": [
    "Add more points"
   ]
  },
  {
   "cell_type": "code",
   "execution_count": null,
   "id": "reserved-conviction",
   "metadata": {
    "collapsed": false
   },
   "outputs": [],
   "source": [
    "image[50, 100] = 1\n",
    "image[100, 50] = 1"
   ]
  },
  {
   "cell_type": "markdown",
   "id": "fixed-hearing",
   "metadata": {},
   "source": [
    "Do Hough Transform"
   ]
  },
  {
   "cell_type": "code",
   "execution_count": null,
   "id": "contained-wilderness",
   "metadata": {
    "collapsed": false
   },
   "outputs": [],
   "source": [
    "accumulator, thetas, rhos = houghLine(image)"
   ]
  },
  {
   "cell_type": "markdown",
   "id": "announced-administrator",
   "metadata": {},
   "source": [
    "Plotting"
   ]
  },
  {
   "cell_type": "code",
   "execution_count": null,
   "id": "abroad-minority",
   "metadata": {
    "collapsed": false
   },
   "outputs": [],
   "source": [
    "plt.figure('Hough Transform', figsize=(8,8))\n",
    "plt.tight_layout()\n",
    "\n",
    "plt.subplot(1,2,1)\n",
    "plt.title('Original Image')\n",
    "plt.xlabel(\"x\")\n",
    "plt.ylabel(\"y\")\n",
    "plt.imshow(image)"
   ]
  },
  {
   "cell_type": "markdown",
   "id": "abroad-procurement",
   "metadata": {},
   "source": [
    "lt.set_cmap('gray')"
   ]
  },
  {
   "cell_type": "code",
   "execution_count": null,
   "id": "noticed-decision",
   "metadata": {
    "collapsed": false
   },
   "outputs": [],
   "source": [
    "plt.subplot(1,2,2)\n",
    "plt.title('Hough Space')\n",
    "plt.xlabel(r'$\\theta$')\n",
    "plt.ylabel(r'$\\rho$')\n",
    "plt.imshow(accumulator)"
   ]
  },
  {
   "cell_type": "markdown",
   "id": "respiratory-destruction",
   "metadata": {},
   "source": [
    "lt.set_cmap('gray')"
   ]
  },
  {
   "cell_type": "code",
   "execution_count": null,
   "id": "random-suffering",
   "metadata": {
    "collapsed": false
   },
   "outputs": [],
   "source": [
    "plt.savefig('demo_hough_transform_lines_2.png')\n",
    "plt.show()\n",
    "\n",
    "plt.close()"
   ]
  },
  {
   "cell_type": "markdown",
   "id": "external-benjamin",
   "metadata": {},
   "source": [
    "Draw all canvases "
   ]
  },
  {
   "cell_type": "code",
   "execution_count": null,
   "id": "smoking-chile",
   "metadata": {
    "collapsed": false
   },
   "outputs": [],
   "source": [
    "from ROOT import gROOT \n",
    "gROOT.GetListOfCanvases().Draw()"
   ]
  }
 ],
 "metadata": {
  "kernelspec": {
   "display_name": "Python 3",
   "language": "python",
   "name": "python3"
  },
  "language_info": {
   "codemirror_mode": {
    "name": "ipython",
    "version": 2
   },
   "file_extension": ".py",
   "mimetype": "text/x-python",
   "name": "python",
   "nbconvert_exporter": "python",
   "pygments_lexer": "ipython2",
   "version": "2.7.10"
  }
 },
 "nbformat": 4,
 "nbformat_minor": 5
}