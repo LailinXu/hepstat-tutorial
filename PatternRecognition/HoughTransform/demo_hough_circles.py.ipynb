{
 "cells": [
  {
   "cell_type": "markdown",
   "id": "orange-prize",
   "metadata": {},
   "source": [
    "# Demo_Hough_Circles\n",
    "\n",
    "\n",
    "\n",
    "\n",
    "**Author:** Lailin XU  \n",
    "<i><small>This notebook tutorial was automatically generated with <a href= \"https://github.com/root-project/root/blob/master/documentation/doxygen/converttonotebook.py\">ROOTBOOK-izer</a> from the macro found in the ROOT repository  on Sunday, April 10, 2022 at 06:21 PM.</small></i>"
   ]
  },
  {
   "cell_type": "code",
   "execution_count": null,
   "id": "junior-fishing",
   "metadata": {
    "collapsed": false
   },
   "outputs": [],
   "source": [
    "import numpy as np\n",
    "import matplotlib.pyplot as plt\n",
    "import ROOT as R\n",
    "from math import fabs\n",
    "\n",
    "xHits=[]\n",
    "yHits=[]\n",
    "layerId=[]"
   ]
  },
  {
   "cell_type": "markdown",
   "id": "wireless-aurora",
   "metadata": {},
   "source": [
    "3 layers of cylindrical pixel detectors, with the following radius (mm)"
   ]
  },
  {
   "cell_type": "code",
   "execution_count": null,
   "id": "respected-square",
   "metadata": {
    "collapsed": false
   },
   "outputs": [],
   "source": [
    "detR=[65.115, 115.11, 165.11]\n",
    "\n",
    "def readHits(infile, nTrks):\n",
    "\n",
    "  xHits=[]\n",
    "  yHits=[]\n",
    "  layerId=[]\n",
    "\n",
    "  tf=R.TFile.Open(infile, \"READ\")\n",
    "  tr=tf.Get(\"tree1\")\n",
    "  nevents=tr.GetEntries()\n",
    "\n",
    "  itrk=0\n",
    "  for i in range(nevents):\n",
    "    tr.GetEntry(i)\n",
    "    x = tr.posX\n",
    "    y = tr.posY\n",
    "    l = tr.layerID\n",
    "    # the first 3 hits\n",
    "    for j in range(3):\n",
    "      xHits.append(x[j])     \n",
    "      yHits.append(y[j])     \n",
    "      layerId.append(l[j])     \n",
    "\n",
    "    itrk+=1\n",
    "    if itrk >= nTrks: break\n",
    "  \n",
    "  return [xHits, yHits, layerId]\n",
    "\n",
    "def conformal(xHits, yHits):\n",
    "\n",
    "  cxHits, cyHits=[], []\n",
    "  for x, y in zip(xHits, yHits):\n",
    "    if x==0 and y==0:\n",
    "      print(\"Error! wrong hits\")\n",
    "      continue\n",
    "    cx=2 * x / (x * x + y * y) \n",
    "    cy=2 * y / (x * x + y * y) \n",
    "\n",
    "    cxHits.append(cx)\n",
    "    cyHits.append(cy)\n",
    "\n",
    "  return [cxHits, cyHits]\n",
    "\n",
    "def addNoise(nNoise):\n",
    "\n",
    "    xNoise, yNoise, lNoise=[], [], []\n",
    "    for i in range(nNoise):\n",
    "      \n",
    "      theta=np.random.rand()\n",
    "      layerId=int(np.random.rand()*100%3)\n",
    "      r = detR[layerId]\n",
    "      x, y = r * np.cos(theta), r * np.sin(theta)\n",
    "      xNoise.append(x)\n",
    "      yNoise.append(y)\n",
    "      lNoise.append(layerId)\n",
    "      \n",
    "\n",
    "    return [xNoise, yNoise, lNoise]\n",
    "\n",
    "def houghLine(xHits, yHits):\n",
    "    ''' Basic Hough line transform that builds the accumulator array\n",
    "    Input : xHits, yHits are x and y coodinates of all points\n",
    "    Output : accumulator : the accumulator of hough space\n",
    "             thetas : values of theta (-90 : 90)\n",
    "             rs : values of radius (-max distance : max distance)\n",
    "    Reference: https://sbme-tutorials.github.io/2018/cv/notes/5_week5.html\n",
    "    '''\n",
    "\n",
    "    # Get image dimensions\n",
    "    # y for rows and x for columns \n",
    "    Ny = len(yHits)\n",
    "    Nx = len(xHits)\n",
    "\n",
    "    maxx = max(fabs(max(xHits)), fabs(min(xHits)))\n",
    "    maxy = max(fabs(max(yHits)), fabs(min(yHits)))\n",
    "    # Max diatance is diagonal one \n",
    "    Maxdist = int(np.round(np.sqrt(maxx**2 + maxy ** 2)))\n",
    "    print('Maxdist: ', Maxdist, ' maxx= ', maxx, ' maxy= ', maxy)\n",
    "    Maxdist = 100\n",
    "\n",
    "    # Theta in range from -90 to 90 degrees\n",
    "    thetas = np.deg2rad(np.arange(-90, 90))\n",
    "    # Range of radius\n",
    "    rs = np.linspace(-Maxdist, Maxdist, 2*Maxdist)\n",
    "    rmin, rmax = 1e6, -1e6\n",
    "    # Loop all points of the image\n",
    "    for x, y in zip(xHits, yHits):\n",
    "        # Map edge pixel to hough space\n",
    "        for k in range(len(thetas)):\n",
    "           # Calculate space parameter\n",
    "           r = x*np.cos(thetas[k]) + y * np.sin(thetas[k])\n",
    "           if r > rmax: rmax=r\n",
    "           if r < rmin: rmin=r\n",
    "    rstep = (rmax-rmin)/(Maxdist*2)\n",
    "\n",
    "    accumulator = np.zeros((2 * Maxdist, len(thetas)))\n",
    "\n",
    "    # Loop all points of the image\n",
    "    for x, y in zip(xHits, yHits):\n",
    "        # Map edge pixel to hough space\n",
    "        for k in range(len(thetas)):\n",
    "           # Calculate space parameter\n",
    "           r = x*np.cos(thetas[k]) + y * np.sin(thetas[k])\n",
    "\n",
    "           # Update the accumulator\n",
    "           # N.B: r has value -max to max\n",
    "           # map r to its idx 0 : 2*max\n",
    "           #accumulator[int((r-rmin)/rstep) + Maxdist,k] += 1\n",
    "           rind = int((r-rmin)/rstep)\n",
    "           if rind < Maxdist*2:\n",
    "             accumulator[rind,k] += 1\n",
    "\n",
    "    return accumulator, thetas, rs"
   ]
  },
  {
   "cell_type": "markdown",
   "id": "caring-sustainability",
   "metadata": {},
   "source": [
    "Read hits"
   ]
  },
  {
   "cell_type": "code",
   "execution_count": null,
   "id": "spiritual-chair",
   "metadata": {
    "collapsed": false
   },
   "outputs": [],
   "source": [
    "infile=\"posPt100.root\"\n",
    "nTrks=1\n",
    "[xHits, yHits, layerId] = readHits(infile, nTrks)"
   ]
  },
  {
   "cell_type": "markdown",
   "id": "meaning-trader",
   "metadata": {},
   "source": [
    "Plotting"
   ]
  },
  {
   "cell_type": "code",
   "execution_count": null,
   "id": "actual-stake",
   "metadata": {
    "collapsed": false
   },
   "outputs": [],
   "source": [
    "plt.figure('Hits', figsize=(16,8))\n",
    "plt.subplot(1,3,1)\n",
    "plt.title('Original Hits')\n",
    "plt.xlabel(\"x\")\n",
    "plt.ylabel(\"y\")\n",
    "plt.scatter(xHits, yHits)\n",
    "\n",
    "plt.xlim((-detR[2]*1.05,detR[2]*1.05))\n",
    "plt.ylim((-detR[2]*1.05,detR[2]*1.05))"
   ]
  },
  {
   "cell_type": "markdown",
   "id": "exempt-witness",
   "metadata": {},
   "source": [
    "The central collision point"
   ]
  },
  {
   "cell_type": "code",
   "execution_count": null,
   "id": "every-jurisdiction",
   "metadata": {
    "collapsed": false
   },
   "outputs": [],
   "source": [
    "plt.plot([0], marker=\"*\", color='black')"
   ]
  },
  {
   "cell_type": "markdown",
   "id": "funky-president",
   "metadata": {},
   "source": [
    "Detector layers"
   ]
  },
  {
   "cell_type": "code",
   "execution_count": null,
   "id": "spiritual-knife",
   "metadata": {
    "collapsed": false
   },
   "outputs": [],
   "source": [
    "ly1 = plt.Circle((0, 0), detR[0], color='r', fill=False)\n",
    "ly2 = plt.Circle((0, 0), detR[1], color='r', fill=False)\n",
    "ly3 = plt.Circle((0, 0), detR[2], color='r', fill=False)\n",
    "\n",
    "plt.gca().add_patch(ly1)\n",
    "plt.gca().add_patch(ly2)\n",
    "plt.gca().add_patch(ly3)"
   ]
  },
  {
   "cell_type": "markdown",
   "id": "dried-primary",
   "metadata": {},
   "source": [
    "lt.show()"
   ]
  },
  {
   "cell_type": "markdown",
   "id": "israeli-honor",
   "metadata": {},
   "source": [
    "Conformal mapping (translate circles passing through the origin to straight lines)"
   ]
  },
  {
   "cell_type": "code",
   "execution_count": null,
   "id": "neither-tuesday",
   "metadata": {
    "collapsed": false
   },
   "outputs": [],
   "source": [
    "[cxHits, cyHits] = conformal(xHits, yHits)\n",
    "\n",
    "plt.subplot(1,3,2)\n",
    "plt.title('Conformal Space')\n",
    "\n",
    "plt.xlabel(\"X\")\n",
    "plt.ylabel(\"Y\")\n",
    "plt.scatter(cxHits, cyHits)"
   ]
  },
  {
   "cell_type": "markdown",
   "id": "supported-steam",
   "metadata": {},
   "source": [
    "Do Hough Transform"
   ]
  },
  {
   "cell_type": "code",
   "execution_count": null,
   "id": "sudden-married",
   "metadata": {
    "collapsed": false
   },
   "outputs": [],
   "source": [
    "accumulator, thetas, rhos = houghLine(cxHits, cyHits)\n",
    "\n",
    "plt.subplot(1,3,3)\n",
    "plt.title('Hough Space')\n",
    "plt.xlabel(r'$\\theta$')\n",
    "plt.ylabel(r'$\\rho$')\n",
    "plt.imshow(accumulator)"
   ]
  },
  {
   "cell_type": "markdown",
   "id": "lined-thanksgiving",
   "metadata": {},
   "source": [
    "lt.set_cmap('gray')"
   ]
  },
  {
   "cell_type": "code",
   "execution_count": null,
   "id": "clinical-inquiry",
   "metadata": {
    "collapsed": false
   },
   "outputs": [],
   "source": [
    "plt.savefig('demo_hough_transform_circles_1.png')\n",
    "plt.show()"
   ]
  },
  {
   "cell_type": "markdown",
   "id": "traditional-stevens",
   "metadata": {},
   "source": [
    "Draw all canvases "
   ]
  },
  {
   "cell_type": "code",
   "execution_count": null,
   "id": "caroline-justice",
   "metadata": {
    "collapsed": false
   },
   "outputs": [],
   "source": [
    "from ROOT import gROOT \n",
    "gROOT.GetListOfCanvases().Draw()"
   ]
  }
 ],
 "metadata": {
  "kernelspec": {
   "display_name": "Python 3",
   "language": "python",
   "name": "python3"
  },
  "language_info": {
   "codemirror_mode": {
    "name": "ipython",
    "version": 2
   },
   "file_extension": ".py",
   "mimetype": "text/x-python",
   "name": "python",
   "nbconvert_exporter": "python",
   "pygments_lexer": "ipython2",
   "version": "2.7.10"
  }
 },
 "nbformat": 4,
 "nbformat_minor": 5
}