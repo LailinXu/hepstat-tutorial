{
 "cells": [
  {
   "cell_type": "markdown",
   "id": "loving-raise",
   "metadata": {},
   "source": [
    "# Hepstat_Tutorial_Roofit\n",
    "Fit examples with RooFit, composite p.d.f with signal and background component\n",
    "```\n",
    "pdf = f_bkg * bkg(x,a0,a1) + (1-fbkg) * (f_sig1 * sig1(x,m,s1 + (1-f_sig1) * sig2(x,m,s2)))\n",
    "```\n",
    " with following objectives:\n",
    " * Construct a simple fit in RooFit and plot the NLL\n",
    " * Compare binned and unbinned fit results\n",
    " * Compare un-extended and extended likelihoof it\n",
    " * Compare plain likelihood fit and profile likelihood fit\n",
    " * Fit with nuisance parameters with constraints\n",
    "\n",
    "\n",
    "Modified from [rf201_composite.py](https://root.cern/doc/master/rf201__composite_8py.html)\n",
    "\n",
    "\n",
    "**Author:** Lailin XU  \n",
    "<i><small>This notebook tutorial was automatically generated with <a href= \"https://github.com/root-project/root/blob/master/documentation/doxygen/converttonotebook.py\">ROOTBOOK-izer</a> from the macro found in the ROOT repository  on Monday, March 29, 2021 at 02:12 PM.</small></i>"
   ]
  },
  {
   "cell_type": "markdown",
   "id": "naval-study",
   "metadata": {},
   "source": [
    "Import the ROOT libraries"
   ]
  },
  {
   "cell_type": "code",
   "execution_count": 1,
   "id": "prepared-recall",
   "metadata": {
    "collapsed": false,
    "execution": {
     "iopub.execute_input": "2021-03-29T06:12:13.688741Z",
     "iopub.status.busy": "2021-03-29T06:12:13.687934Z",
     "iopub.status.idle": "2021-03-29T06:12:14.141352Z",
     "shell.execute_reply": "2021-03-29T06:12:14.141567Z"
    }
   },
   "outputs": [
    {
     "name": "stdout",
     "output_type": "stream",
     "text": [
      "Welcome to JupyROOT 6.22/07\n"
     ]
    }
   ],
   "source": [
    "import ROOT as R\n",
    "from math import pow, sqrt\n",
    "R.gROOT.SetStyle(\"ATLAS\")"
   ]
  },
  {
   "cell_type": "markdown",
   "id": "trying-rebound",
   "metadata": {},
   "source": [
    "Setup component pdfs\n",
    "---------------------------------------"
   ]
  },
  {
   "cell_type": "markdown",
   "id": "decent-studio",
   "metadata": {},
   "source": [
    "Declare observable x"
   ]
  },
  {
   "cell_type": "markdown",
   "id": "naughty-chest",
   "metadata": {},
   "source": [
    "  [RooRealVar](https://root.cern.ch/doc/master/classRooRealVar.html) (const char *name, const char *title, Double_t minValue, Double_t maxValue, const char *unit=\"\")"
   ]
  },
  {
   "cell_type": "code",
   "execution_count": 2,
   "id": "beneficial-array",
   "metadata": {
    "collapsed": false,
    "execution": {
     "iopub.execute_input": "2021-03-29T06:12:14.221340Z",
     "iopub.status.busy": "2021-03-29T06:12:14.221024Z",
     "iopub.status.idle": "2021-03-29T06:12:14.328207Z",
     "shell.execute_reply": "2021-03-29T06:12:14.328636Z"
    }
   },
   "outputs": [
    {
     "name": "stdout",
     "output_type": "stream",
     "text": [
      "\n",
      "\u001b[1mRooFit v3.60 -- Developed by Wouter Verkerke and David Kirkby\u001b[0m \n",
      "                Copyright (C) 2000-2013 NIKHEF, University of California & Stanford University\n",
      "                All rights reserved, please read http://roofit.sourceforge.net/license.txt\n",
      "\n"
     ]
    }
   ],
   "source": [
    "x = R.RooRealVar(\"x\", \"x\", 0, 10)"
   ]
  },
  {
   "cell_type": "markdown",
   "id": "independent-fancy",
   "metadata": {},
   "source": [
    "Create two Gaussian PDFs g1(x,mean1,sigma) anf g2(x,mean2,sigma) and\n",
    "their parameters"
   ]
  },
  {
   "cell_type": "code",
   "execution_count": 3,
   "id": "special-journalist",
   "metadata": {
    "collapsed": false,
    "execution": {
     "iopub.execute_input": "2021-03-29T06:12:14.360731Z",
     "iopub.status.busy": "2021-03-29T06:12:14.360302Z",
     "iopub.status.idle": "2021-03-29T06:12:14.467710Z",
     "shell.execute_reply": "2021-03-29T06:12:14.468078Z"
    }
   },
   "outputs": [],
   "source": [
    "mean = R.RooRealVar(\"mean\", \"mean of gaussians\", 5)\n",
    "sigma1 = R.RooRealVar(\"sigma1\", \"width of gaussians\", 0.5)\n",
    "sigma2 = R.RooRealVar(\"sigma2\", \"width of gaussians\", 1)\n",
    "\n",
    "sig1 = R.RooGaussian(\"sig1\", \"Signal component 1\", x, mean, sigma1)\n",
    "sig2 = R.RooGaussian(\"sig2\", \"Signal component 2\", x, mean, sigma2)"
   ]
  },
  {
   "cell_type": "markdown",
   "id": "forbidden-participant",
   "metadata": {},
   "source": [
    "Build Chebychev polynomial p.d.f."
   ]
  },
  {
   "cell_type": "code",
   "execution_count": 4,
   "id": "center-justice",
   "metadata": {
    "collapsed": false,
    "execution": {
     "iopub.execute_input": "2021-03-29T06:12:14.490244Z",
     "iopub.status.busy": "2021-03-29T06:12:14.489836Z",
     "iopub.status.idle": "2021-03-29T06:12:14.597268Z",
     "shell.execute_reply": "2021-03-29T06:12:14.597663Z"
    }
   },
   "outputs": [],
   "source": [
    "a0 = R.RooRealVar(\"a0\", \"a0\", 0.5, 0., 1.)\n",
    "a1 = R.RooRealVar(\"a1\", \"a1\", -0.2, 0., 1.)\n",
    "bkg = R.RooChebychev(\"bkg\", \"Background\", x, R.RooArgList(a0, a1))"
   ]
  },
  {
   "cell_type": "markdown",
   "id": "prostate-introduction",
   "metadata": {},
   "source": [
    "Full model: the total PDF\n",
    "------------------------------------------\n",
    "Sum the signal components into a composite signal p.d.f.. Here we use [RooAddPdf](https://root.cern.ch/doc/master/classRooAddPdf.html)\n",
    "  RooAddPdf (const char *name, const char *title, const RooArgList &pdfList, const RooArgList &coefList, Bool_t recursiveFraction=kFALSE)"
   ]
  },
  {
   "cell_type": "code",
   "execution_count": 5,
   "id": "seasonal-forty",
   "metadata": {
    "collapsed": false,
    "execution": {
     "iopub.execute_input": "2021-03-29T06:12:14.611716Z",
     "iopub.status.busy": "2021-03-29T06:12:14.611255Z",
     "iopub.status.idle": "2021-03-29T06:12:14.721775Z",
     "shell.execute_reply": "2021-03-29T06:12:14.722451Z"
    }
   },
   "outputs": [],
   "source": [
    "sig1frac = R.RooRealVar(\"sig1frac\", \"fraction of component 1 in signal\", 0.8, 0., 1.)\n",
    "sig = R.RooAddPdf(\"sig\", \"Signal\", R.RooArgList(sig1, sig2), R.RooArgList(sig1frac))"
   ]
  },
  {
   "cell_type": "markdown",
   "id": "express-tunnel",
   "metadata": {},
   "source": [
    "Sum the composite signal and background"
   ]
  },
  {
   "cell_type": "code",
   "execution_count": 6,
   "id": "neutral-paraguay",
   "metadata": {
    "collapsed": false,
    "execution": {
     "iopub.execute_input": "2021-03-29T06:12:14.730844Z",
     "iopub.status.busy": "2021-03-29T06:12:14.730116Z",
     "iopub.status.idle": "2021-03-29T06:12:14.838955Z",
     "shell.execute_reply": "2021-03-29T06:12:14.839538Z"
    }
   },
   "outputs": [],
   "source": [
    "bkgfrac = R.RooRealVar(\"bkgfrac\", \"fraction of background\", 0.5, 0., 1.)\n",
    "model = R.RooAddPdf(\"model\", \"g1+g2+a\", R.RooArgList(bkg, sig), R.RooArgList(bkgfrac))"
   ]
  },
  {
   "cell_type": "markdown",
   "id": "reserved-vietnam",
   "metadata": {},
   "source": [
    "A quick look at the model"
   ]
  },
  {
   "cell_type": "code",
   "execution_count": 7,
   "id": "super-airport",
   "metadata": {
    "collapsed": false,
    "execution": {
     "iopub.execute_input": "2021-03-29T06:12:14.852888Z",
     "iopub.status.busy": "2021-03-29T06:12:14.851974Z",
     "iopub.status.idle": "2021-03-29T06:12:14.963647Z",
     "shell.execute_reply": "2021-03-29T06:12:14.965428Z"
    }
   },
   "outputs": [
    {
     "name": "stdout",
     "output_type": "stream",
     "text": [
      "RooAddPdf::model[ bkgfrac * bkg + [%] * sig ] = 1\n"
     ]
    }
   ],
   "source": [
    "model.Print()"
   ]
  },
  {
   "cell_type": "markdown",
   "id": "comprehensive-genetics",
   "metadata": {},
   "source": [
    "Sample, fit and plot model\n",
    "---------------------------------------------------"
   ]
  },
  {
   "cell_type": "code",
   "execution_count": 8,
   "id": "standard-event",
   "metadata": {
    "collapsed": false,
    "execution": {
     "iopub.execute_input": "2021-03-29T06:12:15.023571Z",
     "iopub.status.busy": "2021-03-29T06:12:15.023076Z",
     "iopub.status.idle": "2021-03-29T06:12:15.140828Z",
     "shell.execute_reply": "2021-03-29T06:12:15.141480Z"
    }
   },
   "outputs": [
    {
     "data": {
      "text/plain": [
       "<cppyy.gbl.TCanvas object at 0x11791ab80>"
      ]
     },
     "execution_count": 1,
     "metadata": {},
     "output_type": "execute_result"
    }
   ],
   "source": [
    "myc = R.TCanvas(\"c\", \"c\", 800, 600)\n",
    "myc.SetFillColor(0)\n",
    "myc.cd()"
   ]
  },
  {
   "cell_type": "markdown",
   "id": "expected-bracket",
   "metadata": {},
   "source": [
    "Generate a toy data sample of 1000 events in x from model"
   ]
  },
  {
   "cell_type": "code",
   "execution_count": 9,
   "id": "arctic-species",
   "metadata": {
    "collapsed": false,
    "execution": {
     "iopub.execute_input": "2021-03-29T06:12:15.181156Z",
     "iopub.status.busy": "2021-03-29T06:12:15.180658Z",
     "iopub.status.idle": "2021-03-29T06:12:15.289542Z",
     "shell.execute_reply": "2021-03-29T06:12:15.290280Z"
    }
   },
   "outputs": [],
   "source": [
    "data = model.generate(R.RooArgSet(x), 1000)"
   ]
  },
  {
   "cell_type": "markdown",
   "id": "southwest-serve",
   "metadata": {},
   "source": [
    "Fit model to data"
   ]
  },
  {
   "cell_type": "code",
   "execution_count": 10,
   "id": "vocational-brooklyn",
   "metadata": {
    "collapsed": false,
    "execution": {
     "iopub.execute_input": "2021-03-29T06:12:15.363655Z",
     "iopub.status.busy": "2021-03-29T06:12:15.363282Z",
     "iopub.status.idle": "2021-03-29T06:12:15.471586Z",
     "shell.execute_reply": "2021-03-29T06:12:15.472221Z"
    }
   },
   "outputs": [
    {
     "data": {
      "text/plain": [
       "<cppyy.gbl.RooFitResult object at 0x0>"
      ]
     },
     "execution_count": 1,
     "metadata": {},
     "output_type": "execute_result"
    },
    {
     "name": "stdout",
     "output_type": "stream",
     "text": [
      "[#1] INFO:Minization -- RooMinimizer::optimizeConst: activating const optimization\n",
      "[#1] INFO:Minization --  The following expressions have been identified as constant and will be precalculated and cached: (sig1,sig2)\n",
      "[#1] INFO:Minization --  The following expressions will be evaluated in cache-and-track mode: (bkg)\n",
      " **********\n",
      " **    1 **SET PRINT           1\n",
      " **********\n",
      " **********\n",
      " **    2 **SET NOGRAD\n",
      " **********\n",
      " PARAMETER DEFINITIONS:\n",
      "    NO.   NAME         VALUE      STEP SIZE      LIMITS\n",
      "     1 a0           5.00000e-01  1.00000e-01    0.00000e+00  1.00000e+00\n",
      "     2 a1           0.00000e+00  1.00000e-01    0.00000e+00  1.00000e+00\n",
      " MINUIT WARNING IN PARAM DEF\n",
      " ============== STARTING VALUE IS AT LIMIT.\n",
      " MINUIT WARNING IN PARAMETR\n",
      " ============== VARIABLE2 IS AT ITS LOWER ALLOWED LIMIT.\n",
      " MINUIT WARNING IN PARAMETR\n",
      " ============== VARIABLE2 BROUGHT BACK INSIDE LIMITS.\n",
      "     3 bkgfrac      5.00000e-01  1.00000e-01    0.00000e+00  1.00000e+00\n",
      "     4 sig1frac     8.00000e-01  1.00000e-01    0.00000e+00  1.00000e+00\n",
      " **********\n",
      " **    3 **SET ERR         0.5\n",
      " **********\n",
      " **********\n",
      " **    4 **SET PRINT           1\n",
      " **********\n",
      " **********\n",
      " **    5 **SET STR           1\n",
      " **********\n",
      " NOW USING STRATEGY  1: TRY TO BALANCE SPEED AGAINST RELIABILITY\n",
      " **********\n",
      " **    6 **MIGRAD        2000           1\n",
      " **********\n",
      " FIRST CALL TO USER FUNCTION AT NEW START POINT, WITH IFLAG=4.\n",
      " MINUIT WARNING IN MIGrad    \n",
      " ============== VARIABLE2 IS AT ITS LOWER ALLOWED LIMIT.\n",
      " START MIGRAD MINIMIZATION.  STRATEGY  1.  CONVERGENCE WHEN EDM .LT. 1.00e-03\n",
      " FCN=1926.2 FROM MIGRAD    STATUS=INITIATE       31 CALLS          32 TOTAL\n",
      "                     EDM= unknown      STRATEGY= 1      NO ERROR MATRIX       \n",
      "  EXT PARAMETER               CURRENT GUESS       STEP         FIRST   \n",
      "  NO.   NAME      VALUE            ERROR          SIZE      DERIVATIVE \n",
      "   1  a0           5.00000e-01   1.00000e-01   0.00000e+00   2.31850e+00\n",
      "   2  a1           7.50936e-02   1.00000e-01   5.53213e-01  -4.13475e-03\n",
      "   3  bkgfrac      5.00000e-01   1.00000e-01   0.00000e+00   2.67741e+01\n",
      "   4  sig1frac     8.00000e-01   1.00000e-01   0.00000e+00   3.58316e-01\n",
      "                               ERR DEF= 0.5\n",
      " MIGRAD MINIMIZATION HAS CONVERGED.\n",
      " MIGRAD WILL VERIFY CONVERGENCE AND ERROR MATRIX.\n",
      " COVARIANCE MATRIX CALCULATED SUCCESSFULLY\n",
      " FCN=1924.17 FROM MIGRAD    STATUS=CONVERGED     119 CALLS         120 TOTAL\n",
      "                     EDM=2.77609e-07    STRATEGY= 1      ERROR MATRIX ACCURATE \n",
      "  EXT PARAMETER                                   STEP         FIRST   \n",
      "  NO.   NAME      VALUE            ERROR          SIZE      DERIVATIVE \n",
      "   1  a0           5.07642e-01   7.96101e-02   4.71991e-03  -9.40696e-04\n",
      "   2  a1           2.66515e-01   1.34621e-01   5.72412e-03  -6.75205e-05\n",
      "   3  bkgfrac      4.27793e-01   3.57760e-02   1.24946e-03  -1.00877e-02\n",
      "   4  sig1frac     6.41234e-01   9.72166e-02   4.23189e-03   1.73342e-03\n",
      "                               ERR DEF= 0.5\n",
      " EXTERNAL ERROR MATRIX.    NDIM=  25    NPAR=  4    ERR DEF=0.5\n",
      "  6.392e-03  2.434e-03 -5.449e-04 -1.352e-03 \n",
      "  2.434e-03  1.871e-02 -3.804e-03 -8.768e-03 \n",
      " -5.449e-04 -3.804e-03  1.282e-03  2.494e-03 \n",
      " -1.352e-03 -8.768e-03  2.494e-03  9.583e-03 \n",
      " PARAMETER  CORRELATION COEFFICIENTS  \n",
      "       NO.  GLOBAL      1      2      3      4\n",
      "        1  0.22587   1.000  0.223 -0.190 -0.173\n",
      "        2  0.79303   0.223  1.000 -0.777 -0.655\n",
      "        3  0.82183  -0.190 -0.777  1.000  0.712\n",
      "        4  0.73007  -0.173 -0.655  0.712  1.000\n",
      " **********\n",
      " **    7 **SET ERR         0.5\n",
      " **********\n",
      " **********\n",
      " **    8 **SET PRINT           1\n",
      " **********\n",
      " **********\n",
      " **    9 **HESSE        2000\n",
      " **********\n",
      " COVARIANCE MATRIX CALCULATED SUCCESSFULLY\n",
      " FCN=1924.17 FROM HESSE     STATUS=OK             23 CALLS         143 TOTAL\n",
      "                     EDM=2.75649e-07    STRATEGY= 1      ERROR MATRIX ACCURATE \n",
      "  EXT PARAMETER                                INTERNAL      INTERNAL  \n",
      "  NO.   NAME      VALUE            ERROR       STEP SIZE       VALUE   \n",
      "   1  a0           5.07642e-01   7.95738e-02   1.88796e-04   1.52838e-02\n",
      "   2  a1           2.66515e-01   1.33780e-01   2.28965e-04  -4.85861e-01\n",
      "   3  bkgfrac      4.27793e-01   3.55511e-02   2.49893e-04  -1.44921e-01\n",
      "   4  sig1frac     6.41234e-01   9.67457e-02   8.46378e-04   2.86365e-01\n",
      "                               ERR DEF= 0.5\n",
      " EXTERNAL ERROR MATRIX.    NDIM=  25    NPAR=  4    ERR DEF=0.5\n",
      "  6.386e-03  2.397e-03 -5.349e-04 -1.328e-03 \n",
      "  2.397e-03  1.847e-02 -3.740e-03 -8.613e-03 \n",
      " -5.349e-04 -3.740e-03  1.266e-03  2.455e-03 \n",
      " -1.328e-03 -8.613e-03  2.455e-03  9.489e-03 \n",
      " PARAMETER  CORRELATION COEFFICIENTS  \n",
      "       NO.  GLOBAL      1      2      3      4\n",
      "        1  0.22394   1.000  0.221 -0.188 -0.171\n",
      "        2  0.78997   0.221  1.000 -0.773 -0.651\n",
      "        3  0.81931  -0.188 -0.773  1.000  0.708\n",
      "        4  0.72690  -0.171 -0.651  0.708  1.000\n",
      "[#1] INFO:Minization -- RooMinimizer::optimizeConst: deactivating const optimization\n"
     ]
    }
   ],
   "source": [
    "model.fitTo(data)"
   ]
  },
  {
   "cell_type": "markdown",
   "id": "vanilla-private",
   "metadata": {},
   "source": [
    "Plot data and PDF overlaid"
   ]
  },
  {
   "cell_type": "code",
   "execution_count": 11,
   "id": "revolutionary-brain",
   "metadata": {
    "collapsed": false,
    "execution": {
     "iopub.execute_input": "2021-03-29T06:12:15.510368Z",
     "iopub.status.busy": "2021-03-29T06:12:15.509972Z",
     "iopub.status.idle": "2021-03-29T06:12:15.694152Z",
     "shell.execute_reply": "2021-03-29T06:12:15.694426Z"
    }
   },
   "outputs": [
    {
     "data": {
      "image/png": "[encoded data removed]",
      "text/plain": [
       "<IPython.core.display.Image object>"
      ]
     },
     "metadata": {},
     "output_type": "display_data"
    }
   ],
   "source": [
    "xframe = x.frame(R.RooFit.Title(\"Example of composite pdf=(sig1+sig2)+bkg\"))\n",
    "data.plotOn(xframe)\n",
    "model.plotOn(xframe)\n",
    "myc.Draw()"
   ]
  },
  {
   "cell_type": "markdown",
   "id": "continent-integer",
   "metadata": {},
   "source": [
    "Overlay the background component of model with a dashed line"
   ]
  },
  {
   "cell_type": "code",
   "execution_count": 12,
   "id": "backed-yesterday",
   "metadata": {
    "collapsed": false,
    "execution": {
     "iopub.execute_input": "2021-03-29T06:12:15.701544Z",
     "iopub.status.busy": "2021-03-29T06:12:15.701222Z",
     "iopub.status.idle": "2021-03-29T06:12:15.832668Z",
     "shell.execute_reply": "2021-03-29T06:12:15.832940Z"
    }
   },
   "outputs": [
    {
     "name": "stdout",
     "output_type": "stream",
     "text": [
      "[#1] INFO:Plotting -- RooAbsPdf::plotOn(model) directly selected PDF components: (bkg)\n",
      "[#1] INFO:Plotting -- RooAbsPdf::plotOn(model) indirectly selected PDF components: ()\n"
     ]
    },
    {
     "data": {
      "image/png": "[encoded data removed]",
      "text/plain": [
       "<IPython.core.display.Image object>"
      ]
     },
     "metadata": {},
     "output_type": "display_data"
    }
   ],
   "source": [
    "ras_bkg = R.RooArgSet(bkg)\n",
    "model.plotOn(xframe, R.RooFit.Components(ras_bkg), R.RooFit.LineStyle(R.kDashed))\n",
    "myc.Draw()"
   ]
  },
  {
   "cell_type": "markdown",
   "id": "declared-relative",
   "metadata": {},
   "source": [
    "Overlay the background+sig2 components of model with a dotted line"
   ]
  },
  {
   "cell_type": "code",
   "execution_count": 13,
   "id": "premium-lincoln",
   "metadata": {
    "collapsed": false,
    "execution": {
     "iopub.execute_input": "2021-03-29T06:12:15.855260Z",
     "iopub.status.busy": "2021-03-29T06:12:15.854937Z",
     "iopub.status.idle": "2021-03-29T06:12:15.987814Z",
     "shell.execute_reply": "2021-03-29T06:12:15.988096Z"
    }
   },
   "outputs": [
    {
     "name": "stdout",
     "output_type": "stream",
     "text": [
      "[#1] INFO:Plotting -- RooAbsPdf::plotOn(model) directly selected PDF components: (bkg,sig2)\n",
      "[#1] INFO:Plotting -- RooAbsPdf::plotOn(model) indirectly selected PDF components: (sig)\n"
     ]
    },
    {
     "name": "stderr",
     "output_type": "stream",
     "text": [
      "Info in <TCanvas::Print>: png file test_roofit_1.png has been created\n"
     ]
    },
    {
     "data": {
      "image/png": "[encoded data removed]",
      "text/plain": [
       "<IPython.core.display.Image object>"
      ]
     },
     "metadata": {},
     "output_type": "display_data"
    }
   ],
   "source": [
    "ras_bkg_sig2 = R.RooArgSet(bkg, sig2)\n",
    "model.plotOn(xframe, R.RooFit.Components(ras_bkg_sig2), R.RooFit.LineStyle(R.kDotted))\n",
    "myc.Draw()\n",
    "\n",
    "myc.SaveAs(\"test_roofit_1.png\")"
   ]
  },
  {
   "cell_type": "markdown",
   "id": "surprised-bottom",
   "metadata": {},
   "source": [
    "Draw all canvases "
   ]
  },
  {
   "cell_type": "code",
   "execution_count": 14,
   "id": "urban-evening",
   "metadata": {
    "collapsed": false,
    "execution": {
     "iopub.execute_input": "2021-03-29T06:12:15.993146Z",
     "iopub.status.busy": "2021-03-29T06:12:15.992777Z",
     "iopub.status.idle": "2021-03-29T06:12:16.135977Z",
     "shell.execute_reply": "2021-03-29T06:12:16.136328Z"
    }
   },
   "outputs": [
    {
     "data": {
      "image/png": "[encoded data removed]",
      "text/plain": [
       "<IPython.core.display.Image object>"
      ]
     },
     "metadata": {},
     "output_type": "display_data"
    }
   ],
   "source": [
    "from ROOT import gROOT \n",
    "gROOT.GetListOfCanvases().Draw()"
   ]
  }
 ],
 "metadata": {
  "kernelspec": {
   "display_name": "Python 3",
   "language": "python",
   "name": "python3"
  },
  "language_info": {
   "codemirror_mode": {
    "name": "ipython",
    "version": 3
   },
   "file_extension": ".py",
   "mimetype": "text/x-python",
   "name": "python",
   "nbconvert_exporter": "python",
   "pygments_lexer": "ipython3",
   "version": "3.8.8"
  }
 },
 "nbformat": 4,
 "nbformat_minor": 5
}
