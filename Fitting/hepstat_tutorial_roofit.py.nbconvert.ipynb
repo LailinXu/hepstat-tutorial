{
 "cells": [
  {
   "cell_type": "markdown",
   "id": "engaged-comparison",
   "metadata": {},
   "source": [
    "# Hepstat_Tutorial_Roofit\n",
    "Fit examples with RooFit, composite p.d.f with signal and background component\n",
    "```\n",
    "pdf = f_bkg * bkg(x,a0,a1) + (1-fbkg) * (f_sig1 * sig1(x,m,s1 + (1-f_sig1) * sig2(x,m,s2)))\n",
    "```\n",
    " with following objectives:\n",
    " * Construct a simple fit in RooFit and plot the NLL\n",
    " * Compare binned and unbinned fit results\n",
    " * Compare un-extended and extended likelihoof it\n",
    " * Compare plain likelihood fit and profile likelihood fit\n",
    " * Fit with nuisance parameters with constraints\n",
    "\n",
    "\n",
    "\n",
    "\n",
    "**Author:** Lailin XU  \n",
    "<i><small>This notebook tutorial was automatically generated with <a href= \"https://github.com/root-project/root/blob/master/documentation/doxygen/converttonotebook.py\">ROOTBOOK-izer</a> from the macro found in the ROOT repository  on Monday, March 29, 2021 at 01:52 PM.</small></i>"
   ]
  },
  {
   "cell_type": "markdown",
   "id": "suspected-stake",
   "metadata": {},
   "source": [
    "Import the ROOT libraries"
   ]
  },
  {
   "cell_type": "code",
   "execution_count": 1,
   "id": "banner-canal",
   "metadata": {
    "collapsed": false,
    "execution": {
     "iopub.execute_input": "2021-03-29T05:52:30.578038Z",
     "iopub.status.busy": "2021-03-29T05:52:30.577256Z",
     "iopub.status.idle": "2021-03-29T05:52:31.023365Z",
     "shell.execute_reply": "2021-03-29T05:52:31.023567Z"
    }
   },
   "outputs": [
    {
     "name": "stdout",
     "output_type": "stream",
     "text": [
      "Welcome to JupyROOT 6.22/07\n"
     ]
    }
   ],
   "source": [
    "import ROOT as R\n",
    "from math import pow, sqrt\n",
    "R.gROOT.SetStyle(\"ATLAS\")"
   ]
  },
  {
   "cell_type": "markdown",
   "id": "municipal-passing",
   "metadata": {},
   "source": [
    "Draw all canvases "
   ]
  },
  {
   "cell_type": "code",
   "execution_count": 2,
   "id": "arabic-exclusive",
   "metadata": {
    "collapsed": false,
    "execution": {
     "iopub.execute_input": "2021-03-29T05:52:31.027016Z",
     "iopub.status.busy": "2021-03-29T05:52:31.026716Z",
     "iopub.status.idle": "2021-03-29T05:52:31.133868Z",
     "shell.execute_reply": "2021-03-29T05:52:31.134279Z"
    }
   },
   "outputs": [],
   "source": [
    "from ROOT import gROOT \n",
    "gROOT.GetListOfCanvases().Draw()"
   ]
  }
 ],
 "metadata": {
  "kernelspec": {
   "display_name": "Python 3",
   "language": "python",
   "name": "python3"
  },
  "language_info": {
   "codemirror_mode": {
    "name": "ipython",
    "version": 3
   },
   "file_extension": ".py",
   "mimetype": "text/x-python",
   "name": "python",
   "nbconvert_exporter": "python",
   "pygments_lexer": "ipython3",
   "version": "3.8.8"
  }
 },
 "nbformat": 4,
 "nbformat_minor": 5
}
