{
 "cells": [
  {
   "cell_type": "markdown",
   "id": "southwest-knife",
   "metadata": {},
   "source": [
    "# Hepstat_Tutorial_Roofit\n",
    "Fit examples with RooFit, composite p.d.f with signal and background component\n",
    "```\n",
    "pdf = f_bkg * bkg(x,a0,a1) + (1-fbkg) * (f_sig1 * sig1(x,m,s1 + (1-f_sig1) * sig2(x,m,s2)))\n",
    "```\n",
    " with following objectives:\n",
    " * Construct a simple fit in RooFit and plot the NLL\n",
    " * Compare binned and unbinned fit results\n",
    " * Compare un-extended and extended likelihoof it\n",
    "\n",
    "\n",
    "Modified from [rf201_composite.py](https://root.cern/doc/master/rf201__composite_8py.html)\n",
    "\n",
    "\n",
    "**Author:** Lailin XU  \n",
    "<i><small>This notebook tutorial was automatically generated with <a href= \"https://github.com/root-project/root/blob/master/documentation/doxygen/converttonotebook.py\">ROOTBOOK-izer</a> from the macro found in the ROOT repository  on Monday, March 29, 2021 at 03:45 PM.</small></i>"
   ]
  },
  {
   "cell_type": "markdown",
   "id": "eight-memory",
   "metadata": {},
   "source": [
    "Import the ROOT libraries"
   ]
  },
  {
   "cell_type": "code",
   "execution_count": 1,
   "id": "lesser-needle",
   "metadata": {
    "collapsed": false,
    "execution": {
     "iopub.execute_input": "2021-03-29T07:45:59.918418Z",
     "iopub.status.busy": "2021-03-29T07:45:59.917628Z",
     "iopub.status.idle": "2021-03-29T07:46:00.361273Z",
     "shell.execute_reply": "2021-03-29T07:46:00.361518Z"
    }
   },
   "outputs": [
    {
     "name": "stdout",
     "output_type": "stream",
     "text": [
      "Welcome to JupyROOT 6.22/07\n"
     ]
    }
   ],
   "source": [
    "import ROOT as R\n",
    "from math import pow, sqrt\n",
    "R.gROOT.SetStyle(\"ATLAS\")"
   ]
  },
  {
   "cell_type": "markdown",
   "id": "civil-completion",
   "metadata": {},
   "source": [
    "Setup component pdfs\n",
    "---------------------------------------"
   ]
  },
  {
   "cell_type": "markdown",
   "id": "extraordinary-measure",
   "metadata": {},
   "source": [
    "Declare observable x"
   ]
  },
  {
   "cell_type": "markdown",
   "id": "centered-magnitude",
   "metadata": {},
   "source": [
    "  [RooRealVar](https://root.cern.ch/doc/master/classRooRealVar.html) (const char *name, const char *title, Double_t minValue, Double_t maxValue, const char *unit=\"\")"
   ]
  },
  {
   "cell_type": "code",
   "execution_count": 2,
   "id": "soviet-toolbox",
   "metadata": {
    "collapsed": false,
    "execution": {
     "iopub.execute_input": "2021-03-29T07:46:00.440708Z",
     "iopub.status.busy": "2021-03-29T07:46:00.440392Z",
     "iopub.status.idle": "2021-03-29T07:46:00.547734Z",
     "shell.execute_reply": "2021-03-29T07:46:00.548110Z"
    }
   },
   "outputs": [
    {
     "name": "stdout",
     "output_type": "stream",
     "text": [
      "\n",
      "\u001b[1mRooFit v3.60 -- Developed by Wouter Verkerke and David Kirkby\u001b[0m \n",
      "                Copyright (C) 2000-2013 NIKHEF, University of California & Stanford University\n",
      "                All rights reserved, please read http://roofit.sourceforge.net/license.txt\n",
      "\n"
     ]
    }
   ],
   "source": [
    "x = R.RooRealVar(\"x\", \"x\", 0, 10)"
   ]
  },
  {
   "cell_type": "markdown",
   "id": "invalid-bulgarian",
   "metadata": {},
   "source": [
    "Create two Gaussian PDFs g1(x,mean1,sigma) anf g2(x,mean2,sigma) and\n",
    "their parameters"
   ]
  },
  {
   "cell_type": "code",
   "execution_count": 3,
   "id": "operating-decision",
   "metadata": {
    "collapsed": false,
    "execution": {
     "iopub.execute_input": "2021-03-29T07:46:00.579351Z",
     "iopub.status.busy": "2021-03-29T07:46:00.578914Z",
     "iopub.status.idle": "2021-03-29T07:46:00.686602Z",
     "shell.execute_reply": "2021-03-29T07:46:00.687155Z"
    }
   },
   "outputs": [],
   "source": [
    "mean = R.RooRealVar(\"mean\", \"mean of gaussians\", 5)\n",
    "sigma1 = R.RooRealVar(\"sigma1\", \"width of gaussians\", 0.5)\n",
    "sigma2 = R.RooRealVar(\"sigma2\", \"width of gaussians\", 1)\n",
    "\n",
    "sig1 = R.RooGaussian(\"sig1\", \"Signal component 1\", x, mean, sigma1)\n",
    "sig2 = R.RooGaussian(\"sig2\", \"Signal component 2\", x, mean, sigma2)"
   ]
  },
  {
   "cell_type": "markdown",
   "id": "united-mediterranean",
   "metadata": {},
   "source": [
    "Build Chebychev polynomial p.d.f."
   ]
  },
  {
   "cell_type": "code",
   "execution_count": 4,
   "id": "charitable-adelaide",
   "metadata": {
    "collapsed": false,
    "execution": {
     "iopub.execute_input": "2021-03-29T07:46:00.712932Z",
     "iopub.status.busy": "2021-03-29T07:46:00.712430Z",
     "iopub.status.idle": "2021-03-29T07:46:00.822541Z",
     "shell.execute_reply": "2021-03-29T07:46:00.823125Z"
    }
   },
   "outputs": [],
   "source": [
    "a0 = R.RooRealVar(\"a0\", \"a0\", 0.5, 0., 1.)\n",
    "a1 = R.RooRealVar(\"a1\", \"a1\", -0.2, 0., 1.)\n",
    "bkg = R.RooChebychev(\"bkg\", \"Background\", x, R.RooArgList(a0, a1))"
   ]
  },
  {
   "cell_type": "markdown",
   "id": "fatty-convention",
   "metadata": {},
   "source": [
    "Full model: the total PDF\n",
    "------------------------------------------\n",
    "Sum the signal components into a composite signal p.d.f.. Here we use [RooAddPdf](https://root.cern.ch/doc/master/classRooAddPdf.html)\n",
    "  RooAddPdf (const char *name, const char *title, const RooArgList &pdfList, const RooArgList &coefList, Bool_t recursiveFraction=kFALSE)"
   ]
  },
  {
   "cell_type": "code",
   "execution_count": 5,
   "id": "described-cylinder",
   "metadata": {
    "collapsed": false,
    "execution": {
     "iopub.execute_input": "2021-03-29T07:46:00.844477Z",
     "iopub.status.busy": "2021-03-29T07:46:00.843844Z",
     "iopub.status.idle": "2021-03-29T07:46:00.954674Z",
     "shell.execute_reply": "2021-03-29T07:46:00.954018Z"
    }
   },
   "outputs": [],
   "source": [
    "sig1frac = R.RooRealVar(\"sig1frac\", \"fraction of component 1 in signal\", 0.8, 0., 1.)\n",
    "sig = R.RooAddPdf(\"sig\", \"Signal\", R.RooArgList(sig1, sig2), R.RooArgList(sig1frac))"
   ]
  },
  {
   "cell_type": "markdown",
   "id": "surface-salvation",
   "metadata": {},
   "source": [
    "Sum the composite signal and background"
   ]
  },
  {
   "cell_type": "code",
   "execution_count": 6,
   "id": "known-buying",
   "metadata": {
    "collapsed": false,
    "execution": {
     "iopub.execute_input": "2021-03-29T07:46:00.961226Z",
     "iopub.status.busy": "2021-03-29T07:46:00.960477Z",
     "iopub.status.idle": "2021-03-29T07:46:01.069869Z",
     "shell.execute_reply": "2021-03-29T07:46:01.070523Z"
    }
   },
   "outputs": [],
   "source": [
    "bkgfrac = R.RooRealVar(\"bkgfrac\", \"fraction of background\", 0.5, 0., 1.)\n",
    "model = R.RooAddPdf(\"model\", \"g1+g2+a\", R.RooArgList(bkg, sig), R.RooArgList(bkgfrac))"
   ]
  },
  {
   "cell_type": "markdown",
   "id": "romance-yacht",
   "metadata": {},
   "source": [
    "A quick look at the model"
   ]
  },
  {
   "cell_type": "code",
   "execution_count": 7,
   "id": "generic-kinase",
   "metadata": {
    "collapsed": false,
    "execution": {
     "iopub.execute_input": "2021-03-29T07:46:01.079923Z",
     "iopub.status.busy": "2021-03-29T07:46:01.079195Z",
     "iopub.status.idle": "2021-03-29T07:46:01.189250Z",
     "shell.execute_reply": "2021-03-29T07:46:01.189834Z"
    }
   },
   "outputs": [
    {
     "name": "stdout",
     "output_type": "stream",
     "text": [
      "RooAddPdf::model[ bkgfrac * bkg + [%] * sig ] = 1\n"
     ]
    }
   ],
   "source": [
    "model.Print()"
   ]
  },
  {
   "cell_type": "markdown",
   "id": "equal-boring",
   "metadata": {},
   "source": [
    "Sample, fit and plot model\n",
    "---------------------------------------------------"
   ]
  },
  {
   "cell_type": "code",
   "execution_count": 8,
   "id": "neutral-belfast",
   "metadata": {
    "collapsed": false,
    "execution": {
     "iopub.execute_input": "2021-03-29T07:46:01.236399Z",
     "iopub.status.busy": "2021-03-29T07:46:01.235945Z",
     "iopub.status.idle": "2021-03-29T07:46:01.349868Z",
     "shell.execute_reply": "2021-03-29T07:46:01.350421Z"
    }
   },
   "outputs": [
    {
     "data": {
      "text/plain": [
       "<cppyy.gbl.TCanvas object at 0x132c96c30>"
      ]
     },
     "execution_count": 1,
     "metadata": {},
     "output_type": "execute_result"
    }
   ],
   "source": [
    "myc = R.TCanvas(\"c\", \"c\", 800, 600)\n",
    "myc.SetFillColor(0)\n",
    "myc.cd()"
   ]
  },
  {
   "cell_type": "markdown",
   "id": "quick-latin",
   "metadata": {},
   "source": [
    "Generate a toy data sample of 1000 events in x from model"
   ]
  },
  {
   "cell_type": "markdown",
   "id": "behind-poster",
   "metadata": {},
   "source": [
    " [RooAbsPdf::generate](https://root.cern.ch/doc/master/classRooAbsPdf.html), this will generate *unbinned* data, see [RooDataSet](https://root.cern.ch/doc/master/classRooDataSet.html)"
   ]
  },
  {
   "cell_type": "code",
   "execution_count": 9,
   "id": "whole-newcastle",
   "metadata": {
    "collapsed": false,
    "execution": {
     "iopub.execute_input": "2021-03-29T07:46:01.384041Z",
     "iopub.status.busy": "2021-03-29T07:46:01.383539Z",
     "iopub.status.idle": "2021-03-29T07:46:01.492815Z",
     "shell.execute_reply": "2021-03-29T07:46:01.493375Z"
    }
   },
   "outputs": [],
   "source": [
    "data = model.generate(R.RooArgSet(x), 1000)"
   ]
  },
  {
   "cell_type": "markdown",
   "id": "weighted-proceeding",
   "metadata": {},
   "source": [
    "Fit model to data"
   ]
  },
  {
   "cell_type": "code",
   "execution_count": 10,
   "id": "confirmed-fellowship",
   "metadata": {
    "collapsed": false,
    "execution": {
     "iopub.execute_input": "2021-03-29T07:46:01.558854Z",
     "iopub.status.busy": "2021-03-29T07:46:01.558475Z",
     "iopub.status.idle": "2021-03-29T07:46:01.666487Z",
     "shell.execute_reply": "2021-03-29T07:46:01.666939Z"
    }
   },
   "outputs": [
    {
     "data": {
      "text/plain": [
       "<cppyy.gbl.RooFitResult object at 0x0>"
      ]
     },
     "execution_count": 1,
     "metadata": {},
     "output_type": "execute_result"
    },
    {
     "name": "stdout",
     "output_type": "stream",
     "text": [
      "[#1] INFO:Minization -- RooMinimizer::optimizeConst: activating const optimization\n",
      "[#1] INFO:Minization --  The following expressions have been identified as constant and will be precalculated and cached: (sig1,sig2)\n",
      "[#1] INFO:Minization --  The following expressions will be evaluated in cache-and-track mode: (bkg)\n",
      " **********\n",
      " **    1 **SET PRINT           1\n",
      " **********\n",
      " **********\n",
      " **    2 **SET NOGRAD\n",
      " **********\n",
      " PARAMETER DEFINITIONS:\n",
      "    NO.   NAME         VALUE      STEP SIZE      LIMITS\n",
      "     1 a0           5.00000e-01  1.00000e-01    0.00000e+00  1.00000e+00\n",
      "     2 a1           0.00000e+00  1.00000e-01    0.00000e+00  1.00000e+00\n",
      " MINUIT WARNING IN PARAM DEF\n",
      " ============== STARTING VALUE IS AT LIMIT.\n",
      " MINUIT WARNING IN PARAMETR\n",
      " ============== VARIABLE2 IS AT ITS LOWER ALLOWED LIMIT.\n",
      " MINUIT WARNING IN PARAMETR\n",
      " ============== VARIABLE2 BROUGHT BACK INSIDE LIMITS.\n",
      "     3 bkgfrac      5.00000e-01  1.00000e-01    0.00000e+00  1.00000e+00\n",
      "     4 sig1frac     8.00000e-01  1.00000e-01    0.00000e+00  1.00000e+00\n",
      " **********\n",
      " **    3 **SET ERR         0.5\n",
      " **********\n",
      " **********\n",
      " **    4 **SET PRINT           1\n",
      " **********\n",
      " **********\n",
      " **    5 **SET STR           1\n",
      " **********\n",
      " NOW USING STRATEGY  1: TRY TO BALANCE SPEED AGAINST RELIABILITY\n",
      " **********\n",
      " **    6 **MIGRAD        2000           1\n",
      " **********\n",
      " FIRST CALL TO USER FUNCTION AT NEW START POINT, WITH IFLAG=4.\n",
      " MINUIT WARNING IN MIGrad    \n",
      " ============== VARIABLE2 IS AT ITS LOWER ALLOWED LIMIT.\n",
      " START MIGRAD MINIMIZATION.  STRATEGY  1.  CONVERGENCE WHEN EDM .LT. 1.00e-03\n",
      " FCN=1926.2 FROM MIGRAD    STATUS=INITIATE       31 CALLS          32 TOTAL\n",
      "                     EDM= unknown      STRATEGY= 1      NO ERROR MATRIX       \n",
      "  EXT PARAMETER               CURRENT GUESS       STEP         FIRST   \n",
      "  NO.   NAME      VALUE            ERROR          SIZE      DERIVATIVE \n",
      "   1  a0           5.00000e-01   1.00000e-01   0.00000e+00   2.31850e+00\n",
      "   2  a1           7.50936e-02   1.00000e-01   5.53213e-01  -4.13475e-03\n",
      "   3  bkgfrac      5.00000e-01   1.00000e-01   0.00000e+00   2.67741e+01\n",
      "   4  sig1frac     8.00000e-01   1.00000e-01   0.00000e+00   3.58316e-01\n",
      "                               ERR DEF= 0.5\n",
      " MIGRAD MINIMIZATION HAS CONVERGED.\n",
      " MIGRAD WILL VERIFY CONVERGENCE AND ERROR MATRIX.\n",
      " COVARIANCE MATRIX CALCULATED SUCCESSFULLY\n",
      " FCN=1924.17 FROM MIGRAD    STATUS=CONVERGED     119 CALLS         120 TOTAL\n",
      "                     EDM=2.77609e-07    STRATEGY= 1      ERROR MATRIX ACCURATE \n",
      "  EXT PARAMETER                                   STEP         FIRST   \n",
      "  NO.   NAME      VALUE            ERROR          SIZE      DERIVATIVE \n",
      "   1  a0           5.07642e-01   7.96101e-02   4.71991e-03  -9.40696e-04\n",
      "   2  a1           2.66515e-01   1.34621e-01   5.72412e-03  -6.75205e-05\n",
      "   3  bkgfrac      4.27793e-01   3.57760e-02   1.24946e-03  -1.00877e-02\n",
      "   4  sig1frac     6.41234e-01   9.72166e-02   4.23189e-03   1.73342e-03\n",
      "                               ERR DEF= 0.5\n",
      " EXTERNAL ERROR MATRIX.    NDIM=  25    NPAR=  4    ERR DEF=0.5\n",
      "  6.392e-03  2.434e-03 -5.449e-04 -1.352e-03 \n",
      "  2.434e-03  1.871e-02 -3.804e-03 -8.768e-03 \n",
      " -5.449e-04 -3.804e-03  1.282e-03  2.494e-03 \n",
      " -1.352e-03 -8.768e-03  2.494e-03  9.583e-03 \n",
      " PARAMETER  CORRELATION COEFFICIENTS  \n",
      "       NO.  GLOBAL      1      2      3      4\n",
      "        1  0.22587   1.000  0.223 -0.190 -0.173\n",
      "        2  0.79303   0.223  1.000 -0.777 -0.655\n",
      "        3  0.82183  -0.190 -0.777  1.000  0.712\n",
      "        4  0.73007  -0.173 -0.655  0.712  1.000\n",
      " **********\n",
      " **    7 **SET ERR         0.5\n",
      " **********\n",
      " **********\n",
      " **    8 **SET PRINT           1\n",
      " **********\n",
      " **********\n",
      " **    9 **HESSE        2000\n",
      " **********\n",
      " COVARIANCE MATRIX CALCULATED SUCCESSFULLY\n",
      " FCN=1924.17 FROM HESSE     STATUS=OK             23 CALLS         143 TOTAL\n",
      "                     EDM=2.75649e-07    STRATEGY= 1      ERROR MATRIX ACCURATE \n",
      "  EXT PARAMETER                                INTERNAL      INTERNAL  \n",
      "  NO.   NAME      VALUE            ERROR       STEP SIZE       VALUE   \n",
      "   1  a0           5.07642e-01   7.95738e-02   1.88796e-04   1.52838e-02\n",
      "   2  a1           2.66515e-01   1.33780e-01   2.28965e-04  -4.85861e-01\n",
      "   3  bkgfrac      4.27793e-01   3.55511e-02   2.49893e-04  -1.44921e-01\n",
      "   4  sig1frac     6.41234e-01   9.67457e-02   8.46378e-04   2.86365e-01\n",
      "                               ERR DEF= 0.5\n",
      " EXTERNAL ERROR MATRIX.    NDIM=  25    NPAR=  4    ERR DEF=0.5\n",
      "  6.386e-03  2.397e-03 -5.349e-04 -1.328e-03 \n",
      "  2.397e-03  1.847e-02 -3.740e-03 -8.613e-03 \n",
      " -5.349e-04 -3.740e-03  1.266e-03  2.455e-03 \n",
      " -1.328e-03 -8.613e-03  2.455e-03  9.489e-03 \n",
      " PARAMETER  CORRELATION COEFFICIENTS  \n",
      "       NO.  GLOBAL      1      2      3      4\n",
      "        1  0.22394   1.000  0.221 -0.188 -0.171\n",
      "        2  0.78997   0.221  1.000 -0.773 -0.651\n",
      "        3  0.81931  -0.188 -0.773  1.000  0.708\n",
      "        4  0.72690  -0.171 -0.651  0.708  1.000\n",
      "[#1] INFO:Minization -- RooMinimizer::optimizeConst: deactivating const optimization\n"
     ]
    }
   ],
   "source": [
    "model.fitTo(data)"
   ]
  },
  {
   "cell_type": "markdown",
   "id": "conditional-killer",
   "metadata": {},
   "source": [
    "Plot data and PDF overlaid"
   ]
  },
  {
   "cell_type": "code",
   "execution_count": 11,
   "id": "becoming-fundamental",
   "metadata": {
    "collapsed": false,
    "execution": {
     "iopub.execute_input": "2021-03-29T07:46:01.712217Z",
     "iopub.status.busy": "2021-03-29T07:46:01.707965Z",
     "iopub.status.idle": "2021-03-29T07:46:01.820041Z",
     "shell.execute_reply": "2021-03-29T07:46:01.820516Z"
    }
   },
   "outputs": [],
   "source": [
    "xframe = x.frame(R.RooFit.Title(\"Example of composite pdf=(sig1+sig2)+bkg\"))\n",
    "data.plotOn(xframe, R.RooFit.Name('Data'))\n",
    "model.plotOn(xframe, R.RooFit.Name('Full_Model'), R.RooFit.LineColor(R.kBlue))\n",
    "xframe.Draw()\n",
    "ymax = xframe.GetMaximum()\n",
    "xframe.SetMaximum(ymax*1.2)"
   ]
  },
  {
   "cell_type": "markdown",
   "id": "hungarian-manchester",
   "metadata": {},
   "source": [
    "Overlay the background component of model with a dashed line"
   ]
  },
  {
   "cell_type": "code",
   "execution_count": 12,
   "id": "surgical-kitty",
   "metadata": {
    "collapsed": false,
    "execution": {
     "iopub.execute_input": "2021-03-29T07:46:01.836994Z",
     "iopub.status.busy": "2021-03-29T07:46:01.836478Z",
     "iopub.status.idle": "2021-03-29T07:46:01.946423Z",
     "shell.execute_reply": "2021-03-29T07:46:01.947159Z"
    }
   },
   "outputs": [
    {
     "name": "stdout",
     "output_type": "stream",
     "text": [
      "[#1] INFO:Plotting -- RooAbsPdf::plotOn(model) directly selected PDF components: (bkg)\n",
      "[#1] INFO:Plotting -- RooAbsPdf::plotOn(model) indirectly selected PDF components: ()\n"
     ]
    }
   ],
   "source": [
    "ras_bkg = R.RooArgSet(bkg)\n",
    "model.plotOn(xframe, R.RooFit.Components(ras_bkg), R.RooFit.LineStyle(R.kDashed), R.RooFit.LineColor(R.kRed), R.RooFit.Name('Bkg'))\n",
    "xframe.Draw()"
   ]
  },
  {
   "cell_type": "markdown",
   "id": "naked-curve",
   "metadata": {},
   "source": [
    "Overlay the signal components of model with a dotted line"
   ]
  },
  {
   "cell_type": "code",
   "execution_count": 13,
   "id": "impressed-experiment",
   "metadata": {
    "collapsed": false,
    "execution": {
     "iopub.execute_input": "2021-03-29T07:46:01.958617Z",
     "iopub.status.busy": "2021-03-29T07:46:01.957862Z",
     "iopub.status.idle": "2021-03-29T07:46:02.068079Z",
     "shell.execute_reply": "2021-03-29T07:46:02.068764Z"
    }
   },
   "outputs": [
    {
     "name": "stdout",
     "output_type": "stream",
     "text": [
      "[#1] INFO:Plotting -- RooAbsPdf::plotOn(model) directly selected PDF components: (sig1)\n",
      "[#1] INFO:Plotting -- RooAbsPdf::plotOn(model) indirectly selected PDF components: (sig)\n",
      "[#1] INFO:Plotting -- RooAbsPdf::plotOn(model) directly selected PDF components: (sig2)\n",
      "[#1] INFO:Plotting -- RooAbsPdf::plotOn(model) indirectly selected PDF components: (sig)\n"
     ]
    }
   ],
   "source": [
    "ras_sig1 = R.RooArgSet(sig1)\n",
    "model.plotOn(xframe, R.RooFit.Components(ras_sig1), R.RooFit.LineStyle(R.kDotted), R.RooFit.LineColor(R.kMagenta), R.RooFit.Name('Sig1'))\n",
    "xframe.Draw()\n",
    "ras_sig2 = R.RooArgSet(sig2)\n",
    "model.plotOn(xframe, R.RooFit.Components(ras_sig2), R.RooFit.LineStyle(R.kDotted), R.RooFit.LineColor(R.kGreen+2), R.RooFit.Name('Sig2'))\n",
    "xframe.Draw()"
   ]
  },
  {
   "cell_type": "markdown",
   "id": "adolescent-harvard",
   "metadata": {},
   "source": [
    "Overlay the background+sig2 components of model with a dotted line"
   ]
  },
  {
   "cell_type": "code",
   "execution_count": 14,
   "id": "convertible-scottish",
   "metadata": {
    "collapsed": false,
    "execution": {
     "iopub.execute_input": "2021-03-29T07:46:02.084404Z",
     "iopub.status.busy": "2021-03-29T07:46:02.083802Z",
     "iopub.status.idle": "2021-03-29T07:46:02.194831Z",
     "shell.execute_reply": "2021-03-29T07:46:02.195497Z"
    }
   },
   "outputs": [
    {
     "data": {
      "text/plain": [
       "<cppyy.gbl.RooPlot object at 0x132e92b60>"
      ]
     },
     "execution_count": 1,
     "metadata": {},
     "output_type": "execute_result"
    },
    {
     "name": "stdout",
     "output_type": "stream",
     "text": [
      "[#1] INFO:Plotting -- RooAbsPdf::plotOn(model) directly selected PDF components: (bkg,sig2)\n",
      "[#1] INFO:Plotting -- RooAbsPdf::plotOn(model) indirectly selected PDF components: (sig)\n"
     ]
    }
   ],
   "source": [
    "ras_bkg_sig2 = R.RooArgSet(bkg, sig2)\n",
    "model.plotOn(xframe, R.RooFit.Components(ras_bkg_sig2), R.RooFit.LineStyle(R.kDotted), R.RooFit.LineColor(R.kCyan), R.RooFit.Name('Sig2Bkg'))"
   ]
  },
  {
   "cell_type": "markdown",
   "id": "active-soviet",
   "metadata": {},
   "source": [
    "Draw legends"
   ]
  },
  {
   "cell_type": "code",
   "execution_count": 15,
   "id": "recognized-campbell",
   "metadata": {
    "collapsed": false,
    "execution": {
     "iopub.execute_input": "2021-03-29T07:46:02.235567Z",
     "iopub.status.busy": "2021-03-29T07:46:02.226025Z",
     "iopub.status.idle": "2021-03-29T07:46:02.346300Z",
     "shell.execute_reply": "2021-03-29T07:46:02.346977Z"
    }
   },
   "outputs": [],
   "source": [
    "lIy = 0.92\n",
    "lg = R.TLegend(0.60, lIy-0.25, 0.85, lIy)\n",
    "lg.SetBorderSize(0)\n",
    "lg.SetFillStyle(0)\n",
    "lg.SetTextFont(42)\n",
    "lg.SetTextSize(0.04)\n",
    "lg.AddEntry(xframe.findObject(\"Data\"), 'Data', 'p')\n",
    "lg.AddEntry(xframe.findObject(\"Full_Model\"), 'Full model (Sig1+Sig2+Bkg)', 'l')\n",
    "lg.AddEntry(xframe.findObject(\"Bkg\"), 'Bkg', 'l')\n",
    "lg.AddEntry(xframe.findObject(\"Sig1\"), 'Sig1', 'l')\n",
    "lg.AddEntry(xframe.findObject(\"Sig2\"), 'Sig2', 'l')\n",
    "lg.Draw(\"same\")"
   ]
  },
  {
   "cell_type": "markdown",
   "id": "paperback-enlargement",
   "metadata": {},
   "source": [
    "Show fit results in the canvas"
   ]
  },
  {
   "cell_type": "code",
   "execution_count": 16,
   "id": "local-elephant",
   "metadata": {
    "collapsed": false,
    "execution": {
     "iopub.execute_input": "2021-03-29T07:46:02.454949Z",
     "iopub.status.busy": "2021-03-29T07:46:02.454621Z",
     "iopub.status.idle": "2021-03-29T07:46:02.561887Z",
     "shell.execute_reply": "2021-03-29T07:46:02.562281Z"
    }
   },
   "outputs": [
    {
     "name": "stderr",
     "output_type": "stream",
     "text": [
      "Info in <TCanvas::Print>: png file test_roofit_1.png has been created\n"
     ]
    }
   ],
   "source": [
    "xlab0, ylab0=0.18, 0.90\n",
    "fv1 = R.TPaveText(xlab0, ylab0, xlab0+0.20, 0.75,\"NDC\")\n",
    "fv1.SetBorderSize(0)\n",
    "fv1.SetFillStyle(0)\n",
    "fv1.SetTextAlign(11)\n",
    "fv1.SetTextSize(0.030)\n",
    "fv1.AddText(\"{0:s} = {1:.2f} #pm {2:.2f}\".format(bkgfrac.GetTitle(), bkgfrac.getVal(), bkgfrac.getError()))\n",
    "fv1.AddText(\"{0:s} = {1:.2f} #pm {2:.2f}\".format(sig1frac.GetTitle(), sig1frac.getVal(), sig1frac.getError()))\n",
    "fv1.Draw(\"same\")\n",
    "\n",
    "myc.Update()\n",
    "myc.SaveAs(\"test_roofit_1.png\")"
   ]
  },
  {
   "cell_type": "markdown",
   "id": "reflected-reference",
   "metadata": {},
   "source": [
    "Questions:\n",
    "---------------------------------------------------\n",
    "  * What are the free parameters of our model?\n",
    "  * Now suppose the background modelling is well controled from a side-band, for both its normalization and shape. Do the fit again.\n",
    "---------------------------------------------------"
   ]
  },
  {
   "cell_type": "markdown",
   "id": "unique-commissioner",
   "metadata": {},
   "source": [
    "Do fitting with Binned data\n",
    "---------------------------------------------------"
   ]
  },
  {
   "cell_type": "markdown",
   "id": "cordless-apache",
   "metadata": {},
   "source": [
    "Create a binned data"
   ]
  },
  {
   "cell_type": "code",
   "execution_count": 17,
   "id": "pediatric-tension",
   "metadata": {
    "collapsed": false,
    "execution": {
     "iopub.execute_input": "2021-03-29T07:46:02.590867Z",
     "iopub.status.busy": "2021-03-29T07:46:02.590452Z",
     "iopub.status.idle": "2021-03-29T07:46:02.698426Z",
     "shell.execute_reply": "2021-03-29T07:46:02.698933Z"
    }
   },
   "outputs": [
    {
     "name": "stdout",
     "output_type": "stream",
     "text": [
      "DataStore modelData (Generated From g1+g2+a)\n",
      "  Contains 1000 entries\n",
      "  Observables: \n",
      "    1)  x = 4.87104  L(0 - 10)  \"x\"\n",
      "DataStore dh (binned version of d)\n",
      "  Contains 10 entries\n",
      "  Observables: \n",
      "    1)  x = 4.87104  L(0 - 10) B(10)  \"x\"\n",
      "Binned Dataset dh (binned version of d)\n",
      "  Contains 10 bins with a total weight of 1000\n",
      "  Observables:     1)  x = 4.87104  L(0 - 10) B(10)  \"x\"\n"
     ]
    }
   ],
   "source": [
    "data.Print(\"v\")\n",
    "x.setBins(10)\n",
    "dh = R.RooDataHist(\"dh\", \"binned version of d\", R.RooArgSet(x), data)\n",
    "dh.Print(\"v\")\n",
    "\n",
    "xframe2 = x.frame(R.RooFit.Title(\"Binned data\"))\n",
    "dh.plotOn(xframe2, R.RooFit.LineColor(R.kRed), R.RooFit.MarkerColor(R.kRed), R.RooFit.Name('hData'))\n",
    "\n",
    "myc.Clear()\n",
    "xframe2.Draw()"
   ]
  },
  {
   "cell_type": "markdown",
   "id": "experienced-gothic",
   "metadata": {},
   "source": [
    "Do the fitting again"
   ]
  },
  {
   "cell_type": "code",
   "execution_count": 18,
   "id": "buried-protection",
   "metadata": {
    "collapsed": false,
    "execution": {
     "iopub.execute_input": "2021-03-29T07:46:02.707767Z",
     "iopub.status.busy": "2021-03-29T07:46:02.707156Z",
     "iopub.status.idle": "2021-03-29T07:46:02.817448Z",
     "shell.execute_reply": "2021-03-29T07:46:02.818175Z"
    }
   },
   "outputs": [
    {
     "data": {
      "text/plain": [
       "<cppyy.gbl.RooFitResult object at 0x0>"
      ]
     },
     "execution_count": 1,
     "metadata": {},
     "output_type": "execute_result"
    },
    {
     "name": "stdout",
     "output_type": "stream",
     "text": [
      "[#1] INFO:Minization -- RooMinimizer::optimizeConst: activating const optimization\n",
      "[#1] INFO:Minization --  The following expressions have been identified as constant and will be precalculated and cached: (sig1,sig2)\n",
      "[#1] INFO:Minization --  The following expressions will be evaluated in cache-and-track mode: (bkg)\n",
      " **********\n",
      " **   10 **SET PRINT           1\n",
      " **********\n",
      " **********\n",
      " **   11 **SET NOGRAD\n",
      " **********\n",
      " PARAMETER DEFINITIONS:\n",
      "    NO.   NAME         VALUE      STEP SIZE      LIMITS\n",
      "     1 a0           5.07642e-01  7.95738e-02    0.00000e+00  1.00000e+00\n",
      "     2 a1           2.66515e-01  1.33780e-01    0.00000e+00  1.00000e+00\n",
      "     3 bkgfrac      4.27793e-01  3.55511e-02    0.00000e+00  1.00000e+00\n",
      "     4 sig1frac     6.41234e-01  9.67457e-02    0.00000e+00  1.00000e+00\n",
      " **********\n",
      " **   12 **SET ERR         0.5\n",
      " **********\n",
      " **********\n",
      " **   13 **SET PRINT           1\n",
      " **********\n",
      " **********\n",
      " **   14 **SET STR           1\n",
      " **********\n",
      " NOW USING STRATEGY  1: TRY TO BALANCE SPEED AGAINST RELIABILITY\n",
      " **********\n",
      " **   15 **MIGRAD        2000           1\n",
      " **********\n",
      " FIRST CALL TO USER FUNCTION AT NEW START POINT, WITH IFLAG=4.\n",
      " START MIGRAD MINIMIZATION.  STRATEGY  1.  CONVERGENCE WHEN EDM .LT. 1.00e-03\n",
      " FCN=1968.39 FROM MIGRAD    STATUS=INITIATE       14 CALLS          15 TOTAL\n",
      "                     EDM= unknown      STRATEGY= 1      NO ERROR MATRIX       \n",
      "  EXT PARAMETER               CURRENT GUESS       STEP         FIRST   \n",
      "  NO.   NAME      VALUE            ERROR          SIZE      DERIVATIVE \n",
      "   1  a0           5.07642e-01   7.95738e-02   1.59847e-01  -3.92723e-01\n",
      "   2  a1           2.66515e-01   1.33780e-01   3.12109e-01   3.46601e+00\n",
      "   3  bkgfrac      4.27793e-01   3.55511e-02   7.19214e-02  -1.77674e+01\n",
      "   4  sig1frac     6.41234e-01   9.67457e-02   2.03480e-01   8.09061e+00\n",
      "                               ERR DEF= 0.5\n",
      " MIGRAD MINIMIZATION HAS CONVERGED.\n",
      " MIGRAD WILL VERIFY CONVERGENCE AND ERROR MATRIX.\n",
      " COVARIANCE MATRIX CALCULATED SUCCESSFULLY\n",
      " FCN=1967.22 FROM MIGRAD    STATUS=CONVERGED      90 CALLS          91 TOTAL\n",
      "                     EDM=4.07139e-06    STRATEGY= 1      ERROR MATRIX ACCURATE \n",
      "  EXT PARAMETER                                   STEP         FIRST   \n",
      "  NO.   NAME      VALUE            ERROR          SIZE      DERIVATIVE \n",
      "   1  a0           4.98590e-01   7.81121e-02   4.62628e-03  -3.54514e-03\n",
      "   2  a1           1.40781e-01   1.39317e-01   7.53590e-03  -5.25598e-03\n",
      "   3  bkgfrac      4.58855e-01   3.94453e-02   1.30608e-03  -2.93959e-02\n",
      "   4  sig1frac     6.25153e-01   1.23529e-01   5.07216e-03   5.52209e-03\n",
      "                               ERR DEF= 0.5\n",
      " EXTERNAL ERROR MATRIX.    NDIM=  25    NPAR=  4    ERR DEF=0.5\n",
      "  6.152e-03  2.996e-03 -6.925e-04 -1.986e-03 \n",
      "  2.996e-03  2.055e-02 -4.464e-03 -1.217e-02 \n",
      " -6.925e-04 -4.464e-03  1.559e-03  3.721e-03 \n",
      " -1.986e-03 -1.217e-02  3.721e-03  1.560e-02 \n",
      " PARAMETER  CORRELATION COEFFICIENTS  \n",
      "       NO.  GLOBAL      1      2      3      4\n",
      "        1  0.26822   1.000  0.266 -0.224 -0.203\n",
      "        2  0.80372   0.266  1.000 -0.789 -0.680\n",
      "        3  0.84295  -0.224 -0.789  1.000  0.754\n",
      "        4  0.76698  -0.203 -0.680  0.754  1.000\n",
      " **********\n",
      " **   16 **SET ERR         0.5\n",
      " **********\n",
      " **********\n",
      " **   17 **SET PRINT           1\n",
      " **********\n",
      " **********\n",
      " **   18 **HESSE        2000\n",
      " **********\n",
      " COVARIANCE MATRIX CALCULATED SUCCESSFULLY\n",
      " FCN=1967.22 FROM HESSE     STATUS=OK             23 CALLS         114 TOTAL\n",
      "                     EDM=4.03847e-06    STRATEGY= 1      ERROR MATRIX ACCURATE \n",
      "  EXT PARAMETER                                INTERNAL      INTERNAL  \n",
      "  NO.   NAME      VALUE            ERROR       STEP SIZE       VALUE   \n",
      "   1  a0           4.98590e-01   7.80245e-02   9.25257e-04  -2.82007e-03\n",
      "   2  a1           1.40781e-01   1.37820e-01   3.01436e-04  -8.01555e-01\n",
      "   3  bkgfrac      4.58855e-01   3.90038e-02   2.61216e-04  -8.23824e-02\n",
      "   4  sig1frac     6.25153e-01   1.22450e-01   1.01443e-03   2.52997e-01\n",
      "                               ERR DEF= 0.5\n",
      " EXTERNAL ERROR MATRIX.    NDIM=  25    NPAR=  4    ERR DEF=0.5\n",
      "  6.138e-03  2.914e-03 -6.704e-04 -1.922e-03 \n",
      "  2.914e-03  2.008e-02 -4.334e-03 -1.180e-02 \n",
      " -6.704e-04 -4.334e-03  1.524e-03  3.622e-03 \n",
      " -1.922e-03 -1.180e-02  3.622e-03  1.533e-02 \n",
      " PARAMETER  CORRELATION COEFFICIENTS  \n",
      "       NO.  GLOBAL      1      2      3      4\n",
      "        1  0.26428   1.000  0.263 -0.219 -0.198\n",
      "        2  0.79860   0.263  1.000 -0.783 -0.673\n",
      "        3  0.83902  -0.219 -0.783  1.000  0.749\n",
      "        4  0.76211  -0.198 -0.673  0.749  1.000\n",
      "[#1] INFO:Minization -- RooMinimizer::optimizeConst: deactivating const optimization\n"
     ]
    }
   ],
   "source": [
    "model.fitTo(dh)"
   ]
  },
  {
   "cell_type": "markdown",
   "id": "palestinian-skirt",
   "metadata": {},
   "source": [
    "Plot data and PDF overlaid"
   ]
  },
  {
   "cell_type": "code",
   "execution_count": 19,
   "id": "innocent-subject",
   "metadata": {
    "collapsed": false,
    "execution": {
     "iopub.execute_input": "2021-03-29T07:46:02.824977Z",
     "iopub.status.busy": "2021-03-29T07:46:02.824293Z",
     "iopub.status.idle": "2021-03-29T07:46:02.933647Z",
     "shell.execute_reply": "2021-03-29T07:46:02.934284Z"
    }
   },
   "outputs": [],
   "source": [
    "model.plotOn(xframe2, R.RooFit.Name('hFull_Model'), R.RooFit.LineColor(R.kBlue))\n",
    "xframe2.Draw()\n",
    "ymax = xframe2.GetMaximum()\n",
    "xframe2.SetMaximum(ymax*1.2)"
   ]
  },
  {
   "cell_type": "markdown",
   "id": "foster-folder",
   "metadata": {},
   "source": [
    "Overlay the background component of model with a dashed line"
   ]
  },
  {
   "cell_type": "code",
   "execution_count": 20,
   "id": "precise-metadata",
   "metadata": {
    "collapsed": false,
    "execution": {
     "iopub.execute_input": "2021-03-29T07:46:02.941290Z",
     "iopub.status.busy": "2021-03-29T07:46:02.940605Z",
     "iopub.status.idle": "2021-03-29T07:46:03.050515Z",
     "shell.execute_reply": "2021-03-29T07:46:03.051173Z"
    }
   },
   "outputs": [
    {
     "name": "stdout",
     "output_type": "stream",
     "text": [
      "[#1] INFO:Plotting -- RooAbsPdf::plotOn(model) directly selected PDF components: (bkg)\n",
      "[#1] INFO:Plotting -- RooAbsPdf::plotOn(model) indirectly selected PDF components: ()\n"
     ]
    }
   ],
   "source": [
    "ras_bkg = R.RooArgSet(bkg)\n",
    "model.plotOn(xframe2, R.RooFit.Components(ras_bkg), R.RooFit.LineStyle(R.kDashed), R.RooFit.LineColor(R.kRed), R.RooFit.Name('hBkg'))\n",
    "xframe2.Draw()"
   ]
  },
  {
   "cell_type": "markdown",
   "id": "representative-consultancy",
   "metadata": {},
   "source": [
    "Overlay the signal components of model with a dotted line"
   ]
  },
  {
   "cell_type": "code",
   "execution_count": 21,
   "id": "tropical-deficit",
   "metadata": {
    "collapsed": false,
    "execution": {
     "iopub.execute_input": "2021-03-29T07:46:03.105264Z",
     "iopub.status.busy": "2021-03-29T07:46:03.104819Z",
     "iopub.status.idle": "2021-03-29T07:46:03.213109Z",
     "shell.execute_reply": "2021-03-29T07:46:03.213727Z"
    }
   },
   "outputs": [
    {
     "name": "stdout",
     "output_type": "stream",
     "text": [
      "[#1] INFO:Plotting -- RooAbsPdf::plotOn(model) directly selected PDF components: (sig1)\n",
      "[#1] INFO:Plotting -- RooAbsPdf::plotOn(model) indirectly selected PDF components: (sig)\n",
      "[#1] INFO:Plotting -- RooAbsPdf::plotOn(model) directly selected PDF components: (sig2)\n",
      "[#1] INFO:Plotting -- RooAbsPdf::plotOn(model) indirectly selected PDF components: (sig)\n"
     ]
    },
    {
     "name": "stderr",
     "output_type": "stream",
     "text": [
      "Info in <TCanvas::Print>: png file test_roofit_2.png has been created\n"
     ]
    }
   ],
   "source": [
    "ras_sig1 = R.RooArgSet(sig1)\n",
    "model.plotOn(xframe2, R.RooFit.Components(ras_sig1), R.RooFit.LineStyle(R.kDotted), R.RooFit.LineColor(R.kMagenta), R.RooFit.Name('hSig1'))\n",
    "xframe2.Draw()\n",
    "ras_sig2 = R.RooArgSet(sig2)\n",
    "model.plotOn(xframe2, R.RooFit.Components(ras_sig2), R.RooFit.LineStyle(R.kDotted), R.RooFit.LineColor(R.kGreen+2), R.RooFit.Name('hSig2'))\n",
    "xframe2.Draw()\n",
    "\n",
    "lg.Clear()\n",
    "lg.AddEntry(xframe2.findObject(\"hData\"), 'Data', 'p')\n",
    "lg.AddEntry(xframe2.findObject(\"hFull_Model\"), 'Full model (Sig1+Sig2+Bkg)', 'l')\n",
    "lg.AddEntry(xframe2.findObject(\"hBkg\"), 'Bkg', 'l')\n",
    "lg.AddEntry(xframe2.findObject(\"hSig1\"), 'Sig1', 'l')\n",
    "lg.AddEntry(xframe2.findObject(\"hSig2\"), 'Sig2', 'l')\n",
    "lg.Draw(\"same\")\n",
    "\n",
    "fv1.Clear()\n",
    "fv1.AddText(\"{0:s} = {1:.2f} #pm {2:.2f}\".format(bkgfrac.GetTitle(), bkgfrac.getVal(), bkgfrac.getError()))\n",
    "fv1.AddText(\"{0:s} = {1:.2f} #pm {2:.2f}\".format(sig1frac.GetTitle(), sig1frac.getVal(), sig1frac.getError()))\n",
    "fv1.Draw(\"same\")\n",
    "\n",
    "\n",
    "myc.Update()\n",
    "myc.SaveAs(\"test_roofit_2.png\")"
   ]
  },
  {
   "cell_type": "markdown",
   "id": "victorian-pepper",
   "metadata": {},
   "source": [
    "Questions:\n",
    "---------------------------------------------------\n",
    "  * How the fit results are compared with the unbinned case?\n",
    "  * How the fit results will change with different binning size?\n",
    "---------------------------------------------------"
   ]
  },
  {
   "cell_type": "markdown",
   "id": "champion-strengthening",
   "metadata": {},
   "source": [
    "Draw all canvases "
   ]
  },
  {
   "cell_type": "code",
   "execution_count": 22,
   "id": "sized-institute",
   "metadata": {
    "collapsed": false,
    "execution": {
     "iopub.execute_input": "2021-03-29T07:46:03.224145Z",
     "iopub.status.busy": "2021-03-29T07:46:03.223520Z",
     "iopub.status.idle": "2021-03-29T07:46:03.398351Z",
     "shell.execute_reply": "2021-03-29T07:46:03.398733Z"
    }
   },
   "outputs": [
    {
     "data": {
      "image/png": "[encoded data removed]",
      "text/plain": [
       "<IPython.core.display.Image object>"
      ]
     },
     "metadata": {},
     "output_type": "display_data"
    }
   ],
   "source": [
    "from ROOT import gROOT \n",
    "gROOT.GetListOfCanvases().Draw()"
   ]
  }
 ],
 "metadata": {
  "kernelspec": {
   "display_name": "Python 3",
   "language": "python",
   "name": "python3"
  },
  "language_info": {
   "codemirror_mode": {
    "name": "ipython",
    "version": 3
   },
   "file_extension": ".py",
   "mimetype": "text/x-python",
   "name": "python",
   "nbconvert_exporter": "python",
   "pygments_lexer": "ipython3",
   "version": "3.8.8"
  }
 },
 "nbformat": 4,
 "nbformat_minor": 5
}
