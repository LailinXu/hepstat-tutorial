{
 "cells": [
  {
   "cell_type": "markdown",
   "id": "bulgarian-technique",
   "metadata": {},
   "source": [
    "# Hepstat_Tutorial_Roofit_Extended\n",
    "Fit examples with RooFit, composite p.d.f with signal and background component, extended\n",
    "```\n",
    "pdf = n_bkg * bkg(x,a0,a1) + n_sig * (f_sig1 * sig1(x,m,s1 + (1-f_sig1) * sig2(x,m,s2)))\n",
    "or using a signal strength\n",
    "pdf = n_bkg * bkg(x,a0,a1) + mu * n_sig * (f_sig1 * sig1(x,m,s1 + (1-f_sig1) * sig2(x,m,s2)))\n",
    "```\n",
    " with following objectives:\n",
    " * Compare plain likelihood fit and profile likelihood fit\n",
    " * Fit with nuisance parameters with constraints\n",
    "\n",
    "\n",
    "Modified from [rf201_composite.py](https://root.cern/doc/master/rf201__composite_8py.html)\n",
    "\n",
    "\n",
    "**Author:** Lailin XU  \n",
    "<i><small>This notebook tutorial was automatically generated with <a href= \"https://github.com/root-project/root/blob/master/documentation/doxygen/converttonotebook.py\">ROOTBOOK-izer</a> from the macro found in the ROOT repository  on Monday, March 29, 2021 at 05:03 PM.</small></i>"
   ]
  },
  {
   "cell_type": "markdown",
   "id": "flying-processor",
   "metadata": {},
   "source": [
    "Import the ROOT libraries"
   ]
  },
  {
   "cell_type": "code",
   "execution_count": 1,
   "id": "freelance-honduras",
   "metadata": {
    "collapsed": false,
    "execution": {
     "iopub.execute_input": "2021-03-29T09:03:47.696968Z",
     "iopub.status.busy": "2021-03-29T09:03:47.696234Z",
     "iopub.status.idle": "2021-03-29T09:03:48.145776Z",
     "shell.execute_reply": "2021-03-29T09:03:48.146040Z"
    }
   },
   "outputs": [
    {
     "name": "stdout",
     "output_type": "stream",
     "text": [
      "Welcome to JupyROOT 6.22/07\n"
     ]
    }
   ],
   "source": [
    "import ROOT as R\n",
    "from math import pow, sqrt, fabs\n",
    "R.gROOT.SetStyle(\"ATLAS\")"
   ]
  },
  {
   "cell_type": "markdown",
   "id": "grateful-involvement",
   "metadata": {},
   "source": [
    "Setup component pdfs\n",
    "---------------------------------------"
   ]
  },
  {
   "cell_type": "markdown",
   "id": "above-montgomery",
   "metadata": {},
   "source": [
    "Declare observable x"
   ]
  },
  {
   "cell_type": "markdown",
   "id": "coupled-october",
   "metadata": {},
   "source": [
    "  [RooRealVar](https://root.cern.ch/doc/master/classRooRealVar.html) (const char *name, const char *title, Double_t minValue, Double_t maxValue, const char *unit=\"\")"
   ]
  },
  {
   "cell_type": "code",
   "execution_count": 2,
   "id": "funded-personality",
   "metadata": {
    "collapsed": false,
    "execution": {
     "iopub.execute_input": "2021-03-29T09:03:48.227224Z",
     "iopub.status.busy": "2021-03-29T09:03:48.226904Z",
     "iopub.status.idle": "2021-03-29T09:03:48.334362Z",
     "shell.execute_reply": "2021-03-29T09:03:48.334762Z"
    }
   },
   "outputs": [
    {
     "name": "stdout",
     "output_type": "stream",
     "text": [
      "\n",
      "\u001b[1mRooFit v3.60 -- Developed by Wouter Verkerke and David Kirkby\u001b[0m \n",
      "                Copyright (C) 2000-2013 NIKHEF, University of California & Stanford University\n",
      "                All rights reserved, please read http://roofit.sourceforge.net/license.txt\n",
      "\n"
     ]
    }
   ],
   "source": [
    "x = R.RooRealVar(\"x\", \"x\", 0, 10)"
   ]
  },
  {
   "cell_type": "markdown",
   "id": "unsigned-maldives",
   "metadata": {},
   "source": [
    "Create two Gaussian PDFs g1(x,mean1,sigma) anf g2(x,mean2,sigma) and\n",
    "their parameters"
   ]
  },
  {
   "cell_type": "code",
   "execution_count": 3,
   "id": "political-thanksgiving",
   "metadata": {
    "collapsed": false,
    "execution": {
     "iopub.execute_input": "2021-03-29T09:03:48.366787Z",
     "iopub.status.busy": "2021-03-29T09:03:48.366383Z",
     "iopub.status.idle": "2021-03-29T09:03:48.474069Z",
     "shell.execute_reply": "2021-03-29T09:03:48.474580Z"
    }
   },
   "outputs": [],
   "source": [
    "mean = R.RooRealVar(\"mean\", \"mean of gaussians\", 5)\n",
    "sigma1 = R.RooRealVar(\"sigma1\", \"width of gaussians\", 0.5)\n",
    "sigma2 = R.RooRealVar(\"sigma2\", \"width of gaussians\", 1)\n",
    "\n",
    "sig1 = R.RooGaussian(\"sig1\", \"Signal component 1\", x, mean, sigma1)\n",
    "sig2 = R.RooGaussian(\"sig2\", \"Signal component 2\", x, mean, sigma2)"
   ]
  },
  {
   "cell_type": "markdown",
   "id": "sixth-bulletin",
   "metadata": {},
   "source": [
    "Build Chebychev polynomial p.d.f."
   ]
  },
  {
   "cell_type": "code",
   "execution_count": 4,
   "id": "industrial-retailer",
   "metadata": {
    "collapsed": false,
    "execution": {
     "iopub.execute_input": "2021-03-29T09:03:48.500537Z",
     "iopub.status.busy": "2021-03-29T09:03:48.500038Z",
     "iopub.status.idle": "2021-03-29T09:03:48.611238Z",
     "shell.execute_reply": "2021-03-29T09:03:48.611943Z"
    }
   },
   "outputs": [],
   "source": [
    "a0 = R.RooRealVar(\"a0\", \"a0\", 0.5, 0., 1.)\n",
    "a1 = R.RooRealVar(\"a1\", \"a1\", -0.2, 0., 1.)\n",
    "bkg = R.RooChebychev(\"bkg\", \"Background\", x, R.RooArgList(a0, a1))"
   ]
  },
  {
   "cell_type": "markdown",
   "id": "faced-yemen",
   "metadata": {},
   "source": [
    "Normalization of the components"
   ]
  },
  {
   "cell_type": "code",
   "execution_count": 5,
   "id": "visible-plain",
   "metadata": {
    "collapsed": false,
    "execution": {
     "iopub.execute_input": "2021-03-29T09:03:48.629778Z",
     "iopub.status.busy": "2021-03-29T09:03:48.629158Z",
     "iopub.status.idle": "2021-03-29T09:03:48.739591Z",
     "shell.execute_reply": "2021-03-29T09:03:48.740186Z"
    }
   },
   "outputs": [],
   "source": [
    "nsig_norm = R.RooRealVar(\"nsig_norm\", \"number of signal events\", 500, 0., 10000)\n",
    "mu_sig = R.RooRealVar(\"mu_sig\", \"signal strength\", 1, 0, 100.)\n",
    "mu_sig.setConstant(1)\n",
    "nsig = R.RooProduct(\"nsig\", \"number of signal events\", R.RooArgList(nsig_norm, mu_sig))\n",
    "nbkg = R.RooRealVar(\"nbkg\", \"number of background events\", 500, 0, 10000)"
   ]
  },
  {
   "cell_type": "markdown",
   "id": "enhanced-tamil",
   "metadata": {},
   "source": [
    "Full model: the total PDF\n",
    "------------------------------------------\n",
    "Sum the signal components into a composite signal p.d.f.. Here we use [RooAddPdf](https://root.cern.ch/doc/master/classRooAddPdf.html)\n",
    "  RooAddPdf (const char *name, const char *title, const RooArgList &pdfList, const RooArgList &coefList, Bool_t recursiveFraction=kFALSE)"
   ]
  },
  {
   "cell_type": "code",
   "execution_count": 6,
   "id": "respective-recruitment",
   "metadata": {
    "collapsed": false,
    "execution": {
     "iopub.execute_input": "2021-03-29T09:03:48.760739Z",
     "iopub.status.busy": "2021-03-29T09:03:48.760092Z",
     "iopub.status.idle": "2021-03-29T09:03:48.869998Z",
     "shell.execute_reply": "2021-03-29T09:03:48.870577Z"
    }
   },
   "outputs": [],
   "source": [
    "sig1frac = R.RooRealVar(\"sig1frac\", \"fraction of component 1 in signal\", 0.8, 0., 1.)\n",
    "sig = R.RooAddPdf(\"sig\", \"Signal\", R.RooArgList(sig1, sig2), R.RooArgList(sig1frac))"
   ]
  },
  {
   "cell_type": "markdown",
   "id": "shared-petroleum",
   "metadata": {},
   "source": [
    "Sum the composite signal and background"
   ]
  },
  {
   "cell_type": "code",
   "execution_count": 7,
   "id": "joint-ecuador",
   "metadata": {
    "collapsed": false,
    "execution": {
     "iopub.execute_input": "2021-03-29T09:03:48.876955Z",
     "iopub.status.busy": "2021-03-29T09:03:48.876248Z",
     "iopub.status.idle": "2021-03-29T09:03:48.985705Z",
     "shell.execute_reply": "2021-03-29T09:03:48.986322Z"
    }
   },
   "outputs": [],
   "source": [
    "model = R.RooAddPdf(\"model\", \"g1+g2+a\", R.RooArgList(bkg, sig), R.RooArgList(nbkg, nsig))"
   ]
  },
  {
   "cell_type": "markdown",
   "id": "cutting-narrow",
   "metadata": {},
   "source": [
    "A quick look at the model"
   ]
  },
  {
   "cell_type": "code",
   "execution_count": 8,
   "id": "earlier-activation",
   "metadata": {
    "collapsed": false,
    "execution": {
     "iopub.execute_input": "2021-03-29T09:03:48.995117Z",
     "iopub.status.busy": "2021-03-29T09:03:48.994398Z",
     "iopub.status.idle": "2021-03-29T09:03:49.104488Z",
     "shell.execute_reply": "2021-03-29T09:03:49.105114Z"
    }
   },
   "outputs": [
    {
     "name": "stdout",
     "output_type": "stream",
     "text": [
      "RooAddPdf::model[ nbkg * bkg + nsig * sig ] = 1\n"
     ]
    }
   ],
   "source": [
    "model.Print()"
   ]
  },
  {
   "cell_type": "markdown",
   "id": "continuing-gather",
   "metadata": {},
   "source": [
    "Sample, fit and plot model\n",
    "---------------------------------------------------"
   ]
  },
  {
   "cell_type": "code",
   "execution_count": 9,
   "id": "polar-elements",
   "metadata": {
    "collapsed": false,
    "execution": {
     "iopub.execute_input": "2021-03-29T09:03:49.151624Z",
     "iopub.status.busy": "2021-03-29T09:03:49.151143Z",
     "iopub.status.idle": "2021-03-29T09:03:49.264985Z",
     "shell.execute_reply": "2021-03-29T09:03:49.265592Z"
    }
   },
   "outputs": [
    {
     "data": {
      "text/plain": [
       "<cppyy.gbl.TCanvas object at 0x140614830>"
      ]
     },
     "execution_count": 1,
     "metadata": {},
     "output_type": "execute_result"
    }
   ],
   "source": [
    "myc = R.TCanvas(\"c\", \"c\", 800, 600)\n",
    "myc.SetFillColor(0)\n",
    "myc.cd()"
   ]
  },
  {
   "cell_type": "markdown",
   "id": "spectacular-lithuania",
   "metadata": {},
   "source": [
    "Generate a toy data sample of 1000 events in x from model"
   ]
  },
  {
   "cell_type": "markdown",
   "id": "cognitive-wonder",
   "metadata": {},
   "source": [
    " [RooAbsPdf::generate](https://root.cern.ch/doc/master/classRooAbsPdf.html), this will generate *unbinned* data, see [RooDataSet](https://root.cern.ch/doc/master/classRooDataSet.html)"
   ]
  },
  {
   "cell_type": "code",
   "execution_count": 10,
   "id": "precious-interaction",
   "metadata": {
    "collapsed": false,
    "execution": {
     "iopub.execute_input": "2021-03-29T09:03:49.299047Z",
     "iopub.status.busy": "2021-03-29T09:03:49.298488Z",
     "iopub.status.idle": "2021-03-29T09:03:49.408703Z",
     "shell.execute_reply": "2021-03-29T09:03:49.409430Z"
    }
   },
   "outputs": [],
   "source": [
    "data = model.generate(R.RooArgSet(x), 100)"
   ]
  },
  {
   "cell_type": "markdown",
   "id": "ranging-richards",
   "metadata": {},
   "source": [
    "Fit model to data"
   ]
  },
  {
   "cell_type": "code",
   "execution_count": 11,
   "id": "immune-locator",
   "metadata": {
    "collapsed": false,
    "execution": {
     "iopub.execute_input": "2021-03-29T09:03:49.441048Z",
     "iopub.status.busy": "2021-03-29T09:03:49.440660Z",
     "iopub.status.idle": "2021-03-29T09:03:49.551488Z",
     "shell.execute_reply": "2021-03-29T09:03:49.552129Z"
    }
   },
   "outputs": [
    {
     "data": {
      "text/plain": [
       "<cppyy.gbl.RooFitResult object at 0x0>"
      ]
     },
     "execution_count": 1,
     "metadata": {},
     "output_type": "execute_result"
    },
    {
     "name": "stdout",
     "output_type": "stream",
     "text": [
      "[#1] INFO:Minization -- p.d.f. provides expected number of events, including extended term in likelihood.\n",
      "[#1] INFO:Minization -- RooMinimizer::optimizeConst: activating const optimization\n",
      "[#1] INFO:Minization --  The following expressions have been identified as constant and will be precalculated and cached: (sig1,sig2)\n",
      "[#1] INFO:Minization --  The following expressions will be evaluated in cache-and-track mode: (bkg)\n",
      " **********\n",
      " **    1 **SET PRINT           1\n",
      " **********\n",
      " **********\n",
      " **    2 **SET NOGRAD\n",
      " **********\n",
      " PARAMETER DEFINITIONS:\n",
      "    NO.   NAME         VALUE      STEP SIZE      LIMITS\n",
      "     1 a0           5.00000e-01  1.00000e-01    0.00000e+00  1.00000e+00\n",
      "     2 a1           0.00000e+00  1.00000e-01    0.00000e+00  1.00000e+00\n",
      " MINUIT WARNING IN PARAM DEF\n",
      " ============== STARTING VALUE IS AT LIMIT.\n",
      " MINUIT WARNING IN PARAMETR\n",
      " ============== VARIABLE2 IS AT ITS LOWER ALLOWED LIMIT.\n",
      " MINUIT WARNING IN PARAMETR\n",
      " ============== VARIABLE2 BROUGHT BACK INSIDE LIMITS.\n",
      "     3 nbkg         5.00000e+02  2.50000e+02    0.00000e+00  1.00000e+04\n",
      "     4 nsig_norm    5.00000e+02  2.50000e+02    0.00000e+00  1.00000e+04\n",
      "     5 sig1frac     8.00000e-01  1.00000e-01    0.00000e+00  1.00000e+00\n",
      " **********\n",
      " **    3 **SET ERR         0.5\n",
      " **********\n",
      " **********\n",
      " **    4 **SET PRINT           1\n",
      " **********\n",
      " **********\n",
      " **    5 **SET STR           1\n",
      " **********\n",
      " NOW USING STRATEGY  1: TRY TO BALANCE SPEED AGAINST RELIABILITY\n",
      " **********\n",
      " **    6 **MIGRAD        2500           1\n",
      " **********\n",
      " FIRST CALL TO USER FUNCTION AT NEW START POINT, WITH IFLAG=4.\n",
      " MINUIT WARNING IN MIGrad    \n",
      " ============== VARIABLE2 IS AT ITS LOWER ALLOWED LIMIT.\n",
      " START MIGRAD MINIMIZATION.  STRATEGY  1.  CONVERGENCE WHEN EDM .LT. 1.00e-03\n",
      " FCN=495.55 FROM MIGRAD    STATUS=INITIATE       20 CALLS          21 TOTAL\n",
      "                     EDM= unknown      STRATEGY= 1      NO ERROR MATRIX       \n",
      "  EXT PARAMETER               CURRENT GUESS       STEP         FIRST   \n",
      "  NO.   NAME      VALUE            ERROR          SIZE      DERIVATIVE \n",
      "   1  a0           5.00000e-01   1.00000e-01   2.01358e-01  -3.64950e-01\n",
      "   2  a1           9.53674e-07   1.00000e-01   3.20776e-01   4.68730e-04\n",
      "   3  nbkg         5.00000e+02   2.50000e+02   1.18625e-01   1.97740e+03\n",
      "   4  nsig_norm    5.00000e+02   2.50000e+02   1.18625e-01   1.94561e+03\n",
      "   5  sig1frac     8.00000e-01   1.00000e-01   2.57889e-01  -1.13948e+00\n",
      "                               ERR DEF= 0.5\n",
      " MIGRAD MINIMIZATION HAS CONVERGED.\n",
      " MIGRAD WILL VERIFY CONVERGENCE AND ERROR MATRIX.\n",
      " MINUIT WARNING IN HESSE   \n",
      " ============== Negative diagonal element 2 in Error Matrix\n",
      " MINUIT WARNING IN HESSE   \n",
      " ============== 1.44758 added to diagonal of error matrix\n",
      " COVARIANCE MATRIX CALCULATED SUCCESSFULLY\n",
      " FCN=-174.729 FROM MIGRAD    STATUS=CONVERGED     104 CALLS         105 TOTAL\n",
      "                     EDM=4.4194e-05    STRATEGY= 1      ERROR MATRIX ACCURATE \n",
      "  EXT PARAMETER                                   STEP         FIRST   \n",
      "  NO.   NAME      VALUE            ERROR          SIZE      DERIVATIVE \n",
      "   1  a0           5.44102e-01   1.99496e-01   4.33281e-03   1.20813e-02\n",
      "   2  a1           8.74154e-06   6.13699e-01   1.42727e-02  -2.64792e-03\n",
      "   3  nbkg         4.43404e+01   8.30162e+00   1.04277e-04   3.49749e-02\n",
      "   4  nsig_norm    5.56670e+01   8.95825e+00   1.01490e-04   6.74634e-02\n",
      "   5  sig1frac     8.66776e-01   1.78981e-01   6.47185e-03  -5.82785e-03\n",
      "                               ERR DEF= 0.5\n",
      " EXTERNAL ERROR MATRIX.    NDIM=  25    NPAR=  5    ERR DEF=0.5\n",
      "  4.213e-02  1.393e-06 -2.748e-02  2.749e-02 -1.024e-03 \n",
      "  1.393e-06  8.743e-06 -2.769e-04  2.769e-04 -4.945e-06 \n",
      " -2.748e-02 -2.769e-04  6.892e+01 -2.458e+01  5.001e-01 \n",
      "  2.749e-02  2.769e-04 -2.458e+01  8.025e+01 -5.004e-01 \n",
      " -1.024e-03 -4.945e-06  5.001e-01 -5.004e-01  3.553e-02 \n",
      " PARAMETER  CORRELATION COEFFICIENTS  \n",
      "       NO.  GLOBAL      1      2      3      4      5\n",
      "        1  0.02828   1.000  0.002 -0.016  0.015 -0.026\n",
      "        2  0.01411   0.002  1.000 -0.011  0.010 -0.009\n",
      "        3  0.40395  -0.016 -0.011  1.000 -0.331  0.320\n",
      "        4  0.38705   0.015  0.010 -0.331  1.000 -0.296\n",
      "        5  0.37861  -0.026 -0.009  0.320 -0.296  1.000\n",
      " **********\n",
      " **    7 **SET ERR         0.5\n",
      " **********\n",
      " **********\n",
      " **    8 **SET PRINT           1\n",
      " **********\n",
      " **********\n",
      " **    9 **HESSE        2500\n",
      " **********\n",
      " MINUIT WARNING IN HESSE   \n",
      " ============== Negative diagonal element 2 in Error Matrix\n",
      " MINUIT WARNING IN HESSE   \n",
      " ============== 1.44771 added to diagonal of error matrix\n",
      " COVARIANCE MATRIX CALCULATED SUCCESSFULLY\n",
      " FCN=-174.729 FROM HESSE     STATUS=OK             31 CALLS         136 TOTAL\n",
      "                     EDM=4.42873e-05    STRATEGY= 1      ERROR MATRIX ACCURATE \n",
      "  EXT PARAMETER                                INTERNAL      INTERNAL  \n",
      "  NO.   NAME      VALUE            ERROR       STEP SIZE       VALUE   \n",
      "   1  a0           5.44102e-01   1.99493e-01   8.66562e-04   8.83193e-02\n",
      "   2  a1           8.74154e-06   6.13685e-01   2.85453e-03  -1.56488e+00\n",
      "   3  nbkg         4.43404e+01   8.30307e+00   2.08553e-05  -1.43752e+00\n",
      "   4  nsig_norm    5.56670e+01   8.95931e+00   2.02979e-05  -1.42144e+00\n",
      "   5  sig1frac     8.66776e-01   1.79008e-01   1.29437e-03   8.23533e-01\n",
      "                               ERR DEF= 0.5\n",
      " EXTERNAL ERROR MATRIX.    NDIM=  25    NPAR=  5    ERR DEF=0.5\n",
      "  4.213e-02  7.795e-07 -2.743e-02  2.743e-02 -1.021e-03 \n",
      "  7.795e-07  8.742e-06 -1.559e-04  1.559e-04 -2.785e-06 \n",
      " -2.743e-02 -1.559e-04  6.894e+01 -2.461e+01  5.010e-01 \n",
      "  2.743e-02  1.559e-04 -2.461e+01  8.027e+01 -5.011e-01 \n",
      " -1.021e-03 -2.785e-06  5.010e-01 -5.011e-01  3.554e-02 \n",
      " PARAMETER  CORRELATION COEFFICIENTS  \n",
      "       NO.  GLOBAL      1      2      3      4      5\n",
      "        1  0.02816   1.000  0.001 -0.016  0.015 -0.026\n",
      "        2  0.00794   0.001  1.000 -0.006  0.006 -0.005\n",
      "        3  0.40431  -0.016 -0.006  1.000 -0.331  0.320\n",
      "        4  0.38731   0.015  0.006 -0.331  1.000 -0.297\n",
      "        5  0.37903  -0.026 -0.005  0.320 -0.297  1.000\n",
      "[#1] INFO:Minization -- RooMinimizer::optimizeConst: deactivating const optimization\n"
     ]
    }
   ],
   "source": [
    "model.fitTo(data)"
   ]
  },
  {
   "cell_type": "markdown",
   "id": "cubic-sending",
   "metadata": {},
   "source": [
    "Plot data and PDF overlaid"
   ]
  },
  {
   "cell_type": "code",
   "execution_count": 12,
   "id": "polished-actor",
   "metadata": {
    "collapsed": false,
    "execution": {
     "iopub.execute_input": "2021-03-29T09:03:49.606220Z",
     "iopub.status.busy": "2021-03-29T09:03:49.605723Z",
     "iopub.status.idle": "2021-03-29T09:03:49.712096Z",
     "shell.execute_reply": "2021-03-29T09:03:49.712326Z"
    }
   },
   "outputs": [],
   "source": [
    "xframe = x.frame(R.RooFit.Title(\"Example of composite pdf=(sig1+sig2)+bkg\"))\n",
    "data.plotOn(xframe, R.RooFit.Name('Data'))\n",
    "model.plotOn(xframe, R.RooFit.Name('Full_Model'), R.RooFit.LineColor(R.kBlue))\n",
    "xframe.Draw()\n",
    "ymax = xframe.GetMaximum()\n",
    "xframe.SetMaximum(ymax*1.2)"
   ]
  },
  {
   "cell_type": "markdown",
   "id": "together-hours",
   "metadata": {},
   "source": [
    "Overlay the background component of model with a dashed line"
   ]
  },
  {
   "cell_type": "code",
   "execution_count": 13,
   "id": "written-theory",
   "metadata": {
    "collapsed": false,
    "execution": {
     "iopub.execute_input": "2021-03-29T09:03:49.721755Z",
     "iopub.status.busy": "2021-03-29T09:03:49.721273Z",
     "iopub.status.idle": "2021-03-29T09:03:49.832625Z",
     "shell.execute_reply": "2021-03-29T09:03:49.833308Z"
    }
   },
   "outputs": [
    {
     "name": "stdout",
     "output_type": "stream",
     "text": [
      "[#1] INFO:Plotting -- RooAbsPdf::plotOn(model) directly selected PDF components: (bkg)\n",
      "[#1] INFO:Plotting -- RooAbsPdf::plotOn(model) indirectly selected PDF components: ()\n"
     ]
    }
   ],
   "source": [
    "ras_bkg = R.RooArgSet(bkg)\n",
    "model.plotOn(xframe, R.RooFit.Components(ras_bkg), R.RooFit.LineStyle(R.kDashed), R.RooFit.LineColor(R.kRed), R.RooFit.Name('Bkg'))\n",
    "xframe.Draw()"
   ]
  },
  {
   "cell_type": "markdown",
   "id": "micro-operator",
   "metadata": {},
   "source": [
    "Overlay the signal components of model with a dotted line"
   ]
  },
  {
   "cell_type": "code",
   "execution_count": 14,
   "id": "public-focus",
   "metadata": {
    "collapsed": false,
    "execution": {
     "iopub.execute_input": "2021-03-29T09:03:49.838054Z",
     "iopub.status.busy": "2021-03-29T09:03:49.837693Z",
     "iopub.status.idle": "2021-03-29T09:03:49.945636Z",
     "shell.execute_reply": "2021-03-29T09:03:49.946297Z"
    }
   },
   "outputs": [
    {
     "name": "stdout",
     "output_type": "stream",
     "text": [
      "[#1] INFO:Plotting -- RooAbsPdf::plotOn(model) directly selected PDF components: (sig1)\n",
      "[#1] INFO:Plotting -- RooAbsPdf::plotOn(model) indirectly selected PDF components: (sig)\n",
      "[#1] INFO:Plotting -- RooAbsPdf::plotOn(model) directly selected PDF components: (sig2)\n",
      "[#1] INFO:Plotting -- RooAbsPdf::plotOn(model) indirectly selected PDF components: (sig)\n"
     ]
    }
   ],
   "source": [
    "ras_sig1 = R.RooArgSet(sig1)\n",
    "model.plotOn(xframe, R.RooFit.Components(ras_sig1), R.RooFit.LineStyle(R.kDotted), R.RooFit.LineColor(R.kMagenta), R.RooFit.Name('Sig1'))\n",
    "xframe.Draw()\n",
    "ras_sig2 = R.RooArgSet(sig2)\n",
    "model.plotOn(xframe, R.RooFit.Components(ras_sig2), R.RooFit.LineStyle(R.kDotted), R.RooFit.LineColor(R.kGreen+2), R.RooFit.Name('Sig2'))\n",
    "xframe.Draw()"
   ]
  },
  {
   "cell_type": "markdown",
   "id": "norman-agency",
   "metadata": {},
   "source": [
    "Overlay the background+sig2 components of model with a dotted line"
   ]
  },
  {
   "cell_type": "code",
   "execution_count": 15,
   "id": "occupational-decline",
   "metadata": {
    "collapsed": false,
    "execution": {
     "iopub.execute_input": "2021-03-29T09:03:49.953539Z",
     "iopub.status.busy": "2021-03-29T09:03:49.953202Z",
     "iopub.status.idle": "2021-03-29T09:03:50.063558Z",
     "shell.execute_reply": "2021-03-29T09:03:50.064172Z"
    }
   },
   "outputs": [
    {
     "data": {
      "text/plain": [
       "<cppyy.gbl.RooPlot object at 0x14112f820>"
      ]
     },
     "execution_count": 1,
     "metadata": {},
     "output_type": "execute_result"
    },
    {
     "name": "stdout",
     "output_type": "stream",
     "text": [
      "[#1] INFO:Plotting -- RooAbsPdf::plotOn(model) directly selected PDF components: (bkg,sig2)\n",
      "[#1] INFO:Plotting -- RooAbsPdf::plotOn(model) indirectly selected PDF components: (sig)\n"
     ]
    }
   ],
   "source": [
    "ras_bkg_sig2 = R.RooArgSet(bkg, sig2)\n",
    "model.plotOn(xframe, R.RooFit.Components(ras_bkg_sig2), R.RooFit.LineStyle(R.kDotted), R.RooFit.LineColor(R.kCyan), R.RooFit.Name('Sig2Bkg'))"
   ]
  },
  {
   "cell_type": "markdown",
   "id": "qualified-farming",
   "metadata": {},
   "source": [
    "Draw legends"
   ]
  },
  {
   "cell_type": "code",
   "execution_count": 16,
   "id": "juvenile-westminster",
   "metadata": {
    "collapsed": false,
    "execution": {
     "iopub.execute_input": "2021-03-29T09:03:50.091845Z",
     "iopub.status.busy": "2021-03-29T09:03:50.091391Z",
     "iopub.status.idle": "2021-03-29T09:03:50.199352Z",
     "shell.execute_reply": "2021-03-29T09:03:50.199818Z"
    }
   },
   "outputs": [],
   "source": [
    "lIy = 0.92\n",
    "lg = R.TLegend(0.60, lIy-0.25, 0.85, lIy)\n",
    "lg.SetBorderSize(0)\n",
    "lg.SetFillStyle(0)\n",
    "lg.SetTextFont(42)\n",
    "lg.SetTextSize(0.04)\n",
    "lg.AddEntry(xframe.findObject(\"Data\"), 'Data', 'p')\n",
    "lg.AddEntry(xframe.findObject(\"Full_Model\"), 'Full model (Sig1+Sig2+Bkg)', 'l')\n",
    "lg.AddEntry(xframe.findObject(\"Bkg\"), 'Bkg', 'l')\n",
    "lg.AddEntry(xframe.findObject(\"Sig1\"), 'Sig1', 'l')\n",
    "lg.AddEntry(xframe.findObject(\"Sig2\"), 'Sig2', 'l')\n",
    "lg.Draw(\"same\")"
   ]
  },
  {
   "cell_type": "markdown",
   "id": "green-spanish",
   "metadata": {},
   "source": [
    "Show fit results in the canvas"
   ]
  },
  {
   "cell_type": "code",
   "execution_count": 17,
   "id": "periodic-collective",
   "metadata": {
    "collapsed": false,
    "execution": {
     "iopub.execute_input": "2021-03-29T09:03:50.297196Z",
     "iopub.status.busy": "2021-03-29T09:03:50.296865Z",
     "iopub.status.idle": "2021-03-29T09:03:50.403712Z",
     "shell.execute_reply": "2021-03-29T09:03:50.403965Z"
    }
   },
   "outputs": [
    {
     "name": "stderr",
     "output_type": "stream",
     "text": [
      "Info in <TCanvas::Print>: png file test_roofit_extended_1.png has been created\n"
     ]
    }
   ],
   "source": [
    "xlab0, ylab0=0.18, 0.90\n",
    "fv1 = R.TPaveText(xlab0, ylab0, xlab0+0.20, 0.75,\"NDC\")\n",
    "fv1.SetBorderSize(0)\n",
    "fv1.SetFillStyle(0)\n",
    "fv1.SetTextAlign(11)\n",
    "fv1.SetTextSize(0.030)\n",
    "fv1.AddText(\"{0:s} = {1:.2f} #pm {2:.2f}\".format(nbkg.GetTitle(), nbkg.getVal(), nbkg.getError()))\n",
    "fv1.AddText(\"{0:s} = {1:.2f} #pm {2:.2f}\".format(nsig_norm.GetTitle(), nsig_norm.getVal(), nsig_norm.getError()))\n",
    "fv1.Draw(\"same\")\n",
    "\n",
    "myc.Update()\n",
    "myc.SaveAs(\"test_roofit_extended_1.png\")"
   ]
  },
  {
   "cell_type": "markdown",
   "id": "suburban-radio",
   "metadata": {},
   "source": [
    "Fit the signal strength\n",
    "---------------------------------------------------\n",
    "Set the signal normalization as a constant, using the above fit result"
   ]
  },
  {
   "cell_type": "code",
   "execution_count": 18,
   "id": "funny-charity",
   "metadata": {
    "collapsed": false,
    "execution": {
     "iopub.execute_input": "2021-03-29T09:03:50.410200Z",
     "iopub.status.busy": "2021-03-29T09:03:50.409789Z",
     "iopub.status.idle": "2021-03-29T09:03:50.518256Z",
     "shell.execute_reply": "2021-03-29T09:03:50.518764Z"
    }
   },
   "outputs": [
    {
     "data": {
      "text/plain": [
       "<cppyy.gbl.RooFitResult object at 0x0>"
      ]
     },
     "execution_count": 1,
     "metadata": {},
     "output_type": "execute_result"
    },
    {
     "name": "stdout",
     "output_type": "stream",
     "text": [
      "[#1] INFO:Minization -- p.d.f. provides expected number of events, including extended term in likelihood.\n",
      "[#1] INFO:Minization -- RooMinimizer::optimizeConst: activating const optimization\n",
      "[#1] INFO:Minization --  The following expressions have been identified as constant and will be precalculated and cached: (sig1,sig2)\n",
      "[#1] INFO:Minization --  The following expressions will be evaluated in cache-and-track mode: (bkg)\n",
      " **********\n",
      " **   10 **SET PRINT           1\n",
      " **********\n",
      " **********\n",
      " **   11 **SET NOGRAD\n",
      " **********\n",
      " PARAMETER DEFINITIONS:\n",
      "    NO.   NAME         VALUE      STEP SIZE      LIMITS\n",
      "     1 a0           5.44102e-01  1.99493e-01    0.00000e+00  1.00000e+00\n",
      "     2 a1           8.74154e-06  6.13685e-01    0.00000e+00  1.00000e+00\n",
      " MINUIT WARNING IN PARAMETR\n",
      " ============== VARIABLE2 BROUGHT BACK INSIDE LIMITS.\n",
      "     3 mu_sig       1.00000e+00  5.00000e-01    0.00000e+00  1.00000e+02\n",
      "     4 nbkg         4.43404e+01  8.30307e+00    0.00000e+00  1.00000e+04\n",
      "     5 sig1frac     8.66776e-01  1.79008e-01    0.00000e+00  1.00000e+00\n",
      " MINUIT WARNING IN PARAMETR\n",
      " ============== VARIABLE5 BROUGHT BACK INSIDE LIMITS.\n",
      " **********\n",
      " **   12 **SET ERR         0.5\n",
      " **********\n",
      " **********\n",
      " **   13 **SET PRINT           1\n",
      " **********\n",
      " **********\n",
      " **   14 **SET STR           1\n",
      " **********\n",
      " NOW USING STRATEGY  1: TRY TO BALANCE SPEED AGAINST RELIABILITY\n",
      " **********\n",
      " **   15 **MIGRAD        2500           1\n",
      " **********\n",
      " FIRST CALL TO USER FUNCTION AT NEW START POINT, WITH IFLAG=4.\n",
      " START MIGRAD MINIMIZATION.  STRATEGY  1.  CONVERGENCE WHEN EDM .LT. 1.00e-03\n",
      " FCN=-174.768 FROM MIGRAD    STATUS=INITIATE       35 CALLS          36 TOTAL\n",
      "                     EDM= unknown      STRATEGY= 1      NO ERROR MATRIX       \n",
      "  EXT PARAMETER               CURRENT GUESS       STEP         FIRST   \n",
      "  NO.   NAME      VALUE            ERROR          SIZE      DERIVATIVE \n",
      "   1  a0           5.44102e-01   1.99493e-01   0.00000e+00  -4.62522e-02\n",
      "   2  a1           9.32642e-02   6.13685e-01   6.14787e-01   1.78672e-02\n",
      "   3  mu_sig       1.00000e+00   5.00000e-01   0.00000e+00  -6.05065e+00\n",
      "   4  nbkg         4.43404e+01   8.30307e+00   0.00000e+00   9.22262e+00\n",
      "   5  sig1frac     8.66776e-01   1.79008e-01   0.00000e+00   1.17049e-01\n",
      "                               ERR DEF= 0.5\n",
      " MIGRAD MINIMIZATION HAS CONVERGED.\n",
      " MIGRAD WILL VERIFY CONVERGENCE AND ERROR MATRIX.\n",
      " COVARIANCE MATRIX CALCULATED SUCCESSFULLY\n",
      " FCN=-174.842 FROM MIGRAD    STATUS=CONVERGED     119 CALLS         120 TOTAL\n",
      "                     EDM=3.32488e-05    STRATEGY= 1      ERROR MATRIX ACCURATE \n",
      "  EXT PARAMETER                                   STEP         FIRST   \n",
      "  NO.   NAME      VALUE            ERROR          SIZE      DERIVATIVE \n",
      "   1  a0           5.66026e-01   2.41979e-01   4.57864e-03  -5.64959e-03\n",
      "   2  a1           2.57970e-01   6.23365e-01   6.26121e-03  -3.04311e-03\n",
      "   3  mu_sig       1.08014e+00   2.38474e-01   1.33647e-04   1.06797e-01\n",
      "   4  nbkg         3.98786e+01   1.24897e+01   1.04192e-04  -7.12023e-02\n",
      "   5  sig1frac     7.55815e-01   2.90821e-01   4.38231e-03   5.04174e-03\n",
      "                               ERR DEF= 0.5\n",
      " EXTERNAL ERROR MATRIX.    NDIM=  25    NPAR=  5    ERR DEF=0.5\n",
      "  6.391e-02  2.612e-02  9.313e-03 -5.184e-01 -1.358e-02 \n",
      "  2.612e-02  3.126e-01  9.765e-02 -5.436e+00 -1.284e-01 \n",
      "  9.313e-03  9.765e-02  5.688e-02 -2.086e+00 -5.073e-02 \n",
      " -5.184e-01 -5.436e+00 -2.086e+00  1.560e+02  2.824e+00 \n",
      " -1.358e-02 -1.284e-01 -5.073e-02  2.824e+00  1.021e-01 \n",
      " PARAMETER  CORRELATION COEFFICIENTS  \n",
      "       NO.  GLOBAL      1      2      3      4      5\n",
      "        1  0.19261   1.000  0.185  0.154 -0.164 -0.168\n",
      "        2  0.83717   0.185  1.000  0.732 -0.778 -0.719\n",
      "        3  0.77363   0.154  0.732  1.000 -0.700 -0.666\n",
      "        4  0.81826  -0.164 -0.778 -0.700  1.000  0.708\n",
      "        5  0.76965  -0.168 -0.719 -0.666  0.708  1.000\n",
      " **********\n",
      " **   16 **SET ERR         0.5\n",
      " **********\n",
      " **********\n",
      " **   17 **SET PRINT           1\n",
      " **********\n",
      " **********\n",
      " **   18 **HESSE        2500\n",
      " **********\n",
      " COVARIANCE MATRIX CALCULATED SUCCESSFULLY\n",
      " FCN=-174.842 FROM HESSE     STATUS=OK             31 CALLS         151 TOTAL\n",
      "                     EDM=3.29891e-05    STRATEGY= 1      ERROR MATRIX ACCURATE \n",
      "  EXT PARAMETER                                INTERNAL      INTERNAL  \n",
      "  NO.   NAME      VALUE            ERROR       STEP SIZE       VALUE   \n",
      "   1  a0           5.66026e-01   2.41899e-01   9.15727e-04   1.32439e-01\n",
      "   2  a1           2.57970e-01   6.23815e-01   1.25224e-03  -5.05289e-01\n",
      "   3  mu_sig       1.08014e+00   2.37271e-01   2.67295e-05  -1.36256e+00\n",
      "   4  nbkg         3.98786e+01   1.24171e+01   2.08383e-05  -1.44441e+00\n",
      "   5  sig1frac     7.55815e-01   2.89534e-01   8.76462e-04   5.37081e-01\n",
      "                               ERR DEF= 0.5\n",
      " EXTERNAL ERROR MATRIX.    NDIM=  25    NPAR=  5    ERR DEF=0.5\n",
      "  6.386e-02  2.567e-02  9.149e-03 -5.093e-01 -1.334e-02 \n",
      "  2.567e-02  3.084e-01  9.607e-02 -5.347e+00 -1.261e-01 \n",
      "  9.149e-03  9.607e-02  5.631e-02 -2.054e+00 -4.993e-02 \n",
      " -5.093e-01 -5.347e+00 -2.054e+00  1.542e+02  2.779e+00 \n",
      " -1.334e-02 -1.261e-01 -4.993e-02  2.779e+00  1.009e-01 \n",
      " PARAMETER  CORRELATION COEFFICIENTS  \n",
      "       NO.  GLOBAL      1      2      3      4      5\n",
      "        1  0.19080   1.000  0.183  0.153 -0.162 -0.166\n",
      "        2  0.83470   0.183  1.000  0.729 -0.775 -0.715\n",
      "        3  0.77099   0.153  0.729  1.000 -0.697 -0.662\n",
      "        4  0.81589  -0.162 -0.775 -0.697  1.000  0.704\n",
      "        5  0.76673  -0.166 -0.715 -0.662  0.704  1.000\n",
      "[#1] INFO:Minization -- RooMinimizer::optimizeConst: deactivating const optimization\n"
     ]
    }
   ],
   "source": [
    "nsig_norm.setConstant(1)\n",
    "mu_sig.setConstant(0)\n",
    "\n",
    "model.fitTo(data)"
   ]
  },
  {
   "cell_type": "markdown",
   "id": "british-switzerland",
   "metadata": {},
   "source": [
    "Plot the NLL scan and Profile NLL scan\n",
    "---------------------------------------------------"
   ]
  },
  {
   "cell_type": "markdown",
   "id": "fitting-detective",
   "metadata": {},
   "source": [
    "Let's be realistic, set some sensible ranges for all free parameters"
   ]
  },
  {
   "cell_type": "code",
   "execution_count": 19,
   "id": "small-consortium",
   "metadata": {
    "collapsed": false,
    "execution": {
     "iopub.execute_input": "2021-03-29T09:03:50.525836Z",
     "iopub.status.busy": "2021-03-29T09:03:50.525508Z",
     "iopub.status.idle": "2021-03-29T09:03:50.635881Z",
     "shell.execute_reply": "2021-03-29T09:03:50.636506Z"
    }
   },
   "outputs": [],
   "source": [
    "mu_sig.setRange(0, 2.)\n",
    "a0.setRange(a0.getVal() - a0.getError(), a0.getVal() + a0.getError())\n",
    "a1.setRange(a1.getVal() - a1.getError(), a1.getVal() + a1.getError())"
   ]
  },
  {
   "cell_type": "markdown",
   "id": "rolled-valuation",
   "metadata": {},
   "source": [
    "plain NLL, see [RooAbsPdf::createNLL](https://root.cern.ch/doc/master/classRooAbsPdf.html)"
   ]
  },
  {
   "cell_type": "code",
   "execution_count": 20,
   "id": "facial-gospel",
   "metadata": {
    "collapsed": false,
    "execution": {
     "iopub.execute_input": "2021-03-29T09:03:50.657270Z",
     "iopub.status.busy": "2021-03-29T09:03:50.656818Z",
     "iopub.status.idle": "2021-03-29T09:03:50.767400Z",
     "shell.execute_reply": "2021-03-29T09:03:50.767935Z"
    }
   },
   "outputs": [
    {
     "name": "stdout",
     "output_type": "stream",
     "text": [
      "[#1] INFO:Minization -- p.d.f. provides expected number of events, including extended term in likelihood.\n"
     ]
    }
   ],
   "source": [
    "nll = model.createNLL(data, R.RooFit.NumCPU(2)) # use 2 CPU cores to speed up"
   ]
  },
  {
   "cell_type": "markdown",
   "id": "scientific-distribution",
   "metadata": {},
   "source": [
    "Profile NLL (PLL), see [RooAbsReal::createProfile](https://root.cern.ch/doc/master/classRooAbsReal.html)\n",
    "  RooAbsReal::createProfile(const RooArgSet & paramsOfInterest)"
   ]
  },
  {
   "cell_type": "code",
   "execution_count": 21,
   "id": "according-european",
   "metadata": {
    "collapsed": false,
    "execution": {
     "iopub.execute_input": "2021-03-29T09:03:50.784591Z",
     "iopub.status.busy": "2021-03-29T09:03:50.783949Z",
     "iopub.status.idle": "2021-03-29T09:03:50.894149Z",
     "shell.execute_reply": "2021-03-29T09:03:50.894809Z"
    }
   },
   "outputs": [],
   "source": [
    "pll = nll.createProfile(mu_sig)\n",
    "\n",
    "myc.Clear()\n",
    "mframe = mu_sig.frame(R.RooFit.Title(\"NLL scan\"))"
   ]
  },
  {
   "cell_type": "markdown",
   "id": "surprising-closing",
   "metadata": {},
   "source": [
    "Plot NLL and PLL"
   ]
  },
  {
   "cell_type": "code",
   "execution_count": 22,
   "id": "joined-pride",
   "metadata": {
    "collapsed": false,
    "execution": {
     "iopub.execute_input": "2021-03-29T09:03:51.011083Z",
     "iopub.status.busy": "2021-03-29T09:03:51.010692Z",
     "iopub.status.idle": "2021-03-29T09:03:51.118805Z",
     "shell.execute_reply": "2021-03-29T09:03:51.119338Z"
    }
   },
   "outputs": [
    {
     "data": {
      "text/plain": [
       "<cppyy.gbl.RooPlot object at 0x123625c00>"
      ]
     },
     "execution_count": 1,
     "metadata": {},
     "output_type": "execute_result"
    },
    {
     "name": "stdout",
     "output_type": "stream",
     "text": [
      "[#1] INFO:Eval -- RooAbsTestStatistic::initMPMode: started 2 remote server process.\n"
     ]
    }
   ],
   "source": [
    "nll.plotOn(mframe, R.RooFit.ShiftToZero(), R.RooFit.LineColor(R.kBlue), R.RooFit.Name('NLL'))"
   ]
  },
  {
   "cell_type": "markdown",
   "id": "romantic-ukraine",
   "metadata": {},
   "source": [
    "*BE CAUTIONS* scanning a PLL is much slower as it does minimization at each step"
   ]
  },
  {
   "cell_type": "code",
   "execution_count": 23,
   "id": "aboriginal-missile",
   "metadata": {
    "collapsed": false,
    "execution": {
     "iopub.execute_input": "2021-03-29T09:03:58.214094Z",
     "iopub.status.busy": "2021-03-29T09:03:58.213773Z",
     "iopub.status.idle": "2021-03-29T09:03:58.321845Z",
     "shell.execute_reply": "2021-03-29T09:03:58.322404Z"
    }
   },
   "outputs": [
    {
     "name": "stdout",
     "output_type": "stream",
     "text": [
      "[#1] INFO:Minization -- RooProfileLL::evaluate(nll_model_modelData_Profile[mu_sig]) Creating instance of MINUIT\n",
      "[#1] INFO:Minization -- RooProfileLL::evaluate(nll_model_modelData_Profile[mu_sig]) determining minimum likelihood for current configurations w.r.t all observable\n",
      "[#1] INFO:Eval -- RooAbsTestStatistic::initMPMode: started 2 remote server process.\n",
      "[#1] INFO:Minization -- RooProfileLL::evaluate(nll_model_modelData_Profile[mu_sig]) minimum found at (mu_sig=1.07992)\n",
      ".........................................................................................................................................................................................................."
     ]
    },
    {
     "name": "stderr",
     "output_type": "stream",
     "text": [
      "Info in <TCanvas::Print>: png file test_roofit_extended_2.png has been created\n"
     ]
    }
   ],
   "source": [
    "pll.plotOn(mframe, R.RooFit.LineColor(R.kRed), R.RooFit.Name('PLL'), R.RooFit.Precision(1) )\n",
    "\n",
    "mframe.SetMinimum(0)\n",
    "mframe.SetMaximum(30.)\n",
    "mframe.Draw()\n",
    "\n",
    "lg.Clear()\n",
    "lg.AddEntry(mframe.findObject(\"NLL\"), 'Plain negative llh', 'l')\n",
    "lg.AddEntry(mframe.findObject(\"PLL\"), 'Profile nll', 'l')\n",
    "lg.Draw(\"same\")\n",
    "\n",
    "myc.Update()\n",
    "myc.SaveAs(\"test_roofit_extended_2.png\")"
   ]
  },
  {
   "cell_type": "markdown",
   "id": "expressed-cambodia",
   "metadata": {},
   "source": [
    "Questions:\n",
    "---------------------------------------------------\n",
    " * Why we need to constrain the ranges of some free parameters?\n",
    " * Are there better ways to deal with those nuisance parameters instead of constrainning their ranges by hand?"
   ]
  },
  {
   "cell_type": "markdown",
   "id": "ideal-lithuania",
   "metadata": {},
   "source": [
    "Fitting with constraints\n",
    "---------------------------------------------------"
   ]
  },
  {
   "cell_type": "markdown",
   "id": "laden-franchise",
   "metadata": {},
   "source": [
    "Without constraints"
   ]
  },
  {
   "cell_type": "code",
   "execution_count": 24,
   "id": "native-signal",
   "metadata": {
    "collapsed": false,
    "execution": {
     "iopub.execute_input": "2021-03-29T09:03:58.332774Z",
     "iopub.status.busy": "2021-03-29T09:03:58.332339Z",
     "iopub.status.idle": "2021-03-29T09:03:58.446130Z",
     "shell.execute_reply": "2021-03-29T09:03:58.446779Z"
    }
   },
   "outputs": [
    {
     "name": "stdout",
     "output_type": "stream",
     "text": [
      "\n",
      "[#1] INFO:Minization -- p.d.f. provides expected number of events, including extended term in likelihood.\n",
      "[#1] INFO:Minization -- RooMinimizer::optimizeConst: activating const optimization\n",
      "[#1] INFO:Minization --  The following expressions have been identified as constant and will be precalculated and cached: (sig1,sig2)\n",
      "[#1] INFO:Minization --  The following expressions will be evaluated in cache-and-track mode: (bkg)\n",
      " **********\n",
      " ** 1847 **SET NOGRAD\n",
      " **********\n",
      " PARAMETER DEFINITIONS:\n",
      "    NO.   NAME         VALUE      STEP SIZE      LIMITS\n",
      "     1 a0           5.66026e-01  2.41899e-01    3.24127e-01  8.07925e-01\n",
      "     2 a1           2.57970e-01  6.23815e-01   -3.65845e-01  8.81785e-01\n",
      "     3 mu_sig       1.08014e+00  2.37271e-01    0.00000e+00  2.00000e+00\n",
      "     4 nbkg         3.98786e+01  1.24171e+01    0.00000e+00  1.00000e+04\n",
      "     5 sig1frac     7.55815e-01  2.89534e-01    0.00000e+00  1.00000e+00\n",
      " **********\n",
      " ** 1848 **SET ERR         0.5\n",
      " **********\n",
      " **********\n",
      " ** 1849 **SET PRINT           1\n",
      " **********\n",
      " **********\n",
      " ** 1850 **SET STR           1\n",
      " **********\n",
      " NOW USING STRATEGY  1: TRY TO BALANCE SPEED AGAINST RELIABILITY\n",
      " **********\n",
      " ** 1851 **MIGRAD        2500           1\n",
      " **********\n",
      " FIRST CALL TO USER FUNCTION AT NEW START POINT, WITH IFLAG=4.\n",
      " START MIGRAD MINIMIZATION.  STRATEGY  1.  CONVERGENCE WHEN EDM .LT. 1.00e-03\n",
      " FCN=-174.842 FROM MIGRAD    STATUS=INITIATE       20 CALLS          21 TOTAL\n",
      "                     EDM= unknown      STRATEGY= 1      NO ERROR MATRIX       \n",
      "  EXT PARAMETER               CURRENT GUESS       STEP         FIRST   \n",
      "  NO.   NAME      VALUE            ERROR          SIZE      DERIVATIVE \n",
      "   1  a0           5.66026e-01   2.41899e-01   1.56884e+00  -2.75287e-03\n",
      "   2  a1           2.57970e-01   6.23815e-01   1.56884e+00  -4.32950e-03\n",
      "   3  mu_sig       1.08014e+00   2.37271e-01   2.40392e-01   1.02729e-02\n",
      "   4  nbkg         3.98786e+01   1.24171e+01   1.99511e-02  -7.12751e-02\n",
      "   5  sig1frac     7.55815e-01   2.89534e-01   8.18166e-01   5.02411e-03\n",
      "                               ERR DEF= 0.5\n",
      " MIGRAD MINIMIZATION HAS CONVERGED.\n",
      " MIGRAD WILL VERIFY CONVERGENCE AND ERROR MATRIX.\n",
      " COVARIANCE MATRIX CALCULATED SUCCESSFULLY\n",
      " FCN=-174.842 FROM MIGRAD    STATUS=CONVERGED      63 CALLS          64 TOTAL\n",
      "                     EDM=1.32955e-05    STRATEGY= 1      ERROR MATRIX ACCURATE \n",
      "  EXT PARAMETER                                   STEP         FIRST   \n",
      "  NO.   NAME      VALUE            ERROR          SIZE      DERIVATIVE \n",
      "   1  a0           5.66673e-01   3.46648e-01   9.37791e-03  -3.91071e-04\n",
      "   2  a1           2.58569e-01   4.84906e-01   4.48072e-03  -2.68483e-04\n",
      "   3  mu_sig       1.07992e+00   2.35098e-01   1.38635e-03  -5.62232e-03\n",
      "   4  nbkg         3.98840e+01   1.24276e+01   1.04174e-04   9.51950e-02\n",
      "   5  sig1frac     7.55365e-01   2.89681e-01   4.34126e-03   6.61460e-04\n",
      "                               ERR DEF= 0.5\n",
      " EXTERNAL ERROR MATRIX.    NDIM=  25    NPAR=  5    ERR DEF=0.5\n",
      "  6.385e-02  2.577e-02  9.187e-03 -5.118e-01 -1.341e-02 \n",
      "  2.577e-02  3.085e-01  9.616e-02 -5.356e+00 -1.263e-01 \n",
      "  9.187e-03  9.616e-02  5.633e-02 -2.057e+00 -4.998e-02 \n",
      " -5.118e-01 -5.356e+00 -2.057e+00  1.545e+02  2.784e+00 \n",
      " -1.341e-02 -1.263e-01 -4.998e-02  2.784e+00  1.010e-01 \n",
      " PARAMETER  CORRELATION COEFFICIENTS  \n",
      "       NO.  GLOBAL      1      2      3      4      5\n",
      "        1  0.19151   1.000  0.184  0.153 -0.163 -0.167\n",
      "        2  0.83511   0.184  1.000  0.729 -0.776 -0.715\n",
      "        3  0.77119   0.153  0.729  1.000 -0.697 -0.663\n",
      "        4  0.81618  -0.163 -0.776 -0.697  1.000  0.705\n",
      "        5  0.76705  -0.167 -0.715 -0.663  0.705  1.000\n",
      " **********\n",
      " ** 1852 **SET ERR         0.5\n",
      " **********\n",
      " **********\n",
      " ** 1853 **SET PRINT           1\n",
      " **********\n",
      " **********\n",
      " ** 1854 **HESSE        2500\n",
      " **********\n",
      " COVARIANCE MATRIX CALCULATED SUCCESSFULLY\n",
      " FCN=-174.842 FROM HESSE     STATUS=OK             31 CALLS          95 TOTAL\n",
      "                     EDM=1.32156e-05    STRATEGY= 1      ERROR MATRIX ACCURATE \n",
      "  EXT PARAMETER                                INTERNAL      INTERNAL  \n",
      "  NO.   NAME      VALUE            ERROR       STEP SIZE       VALUE   \n",
      "   1  a0           5.66673e-01   3.46635e-01   1.87558e-03   2.67578e-03\n",
      "   2  a1           2.58569e-01   4.83762e-01   8.96144e-04   9.60695e-04\n",
      "   3  mu_sig       1.07992e+00   2.34596e-01   2.77270e-04   8.00063e-02\n",
      "   4  nbkg         3.98840e+01   1.23939e+01   2.08348e-05  -1.44440e+00\n",
      "   5  sig1frac     7.55365e-01   2.89023e-01   8.68251e-04   5.36034e-01\n",
      "                               ERR DEF= 0.5\n",
      " EXTERNAL ERROR MATRIX.    NDIM=  25    NPAR=  5    ERR DEF=0.5\n",
      "  6.383e-02  2.555e-02  9.107e-03 -5.071e-01 -1.328e-02 \n",
      "  2.555e-02  3.065e-01  9.545e-02 -5.315e+00 -1.252e-01 \n",
      "  9.107e-03  9.545e-02  5.608e-02 -2.043e+00 -4.960e-02 \n",
      " -5.071e-01 -5.315e+00 -2.043e+00  1.536e+02  2.762e+00 \n",
      " -1.328e-02 -1.252e-01 -4.960e-02  2.762e+00  1.005e-01 \n",
      " PARAMETER  CORRELATION COEFFICIENTS  \n",
      "       NO.  GLOBAL      1      2      3      4      5\n",
      "        1  0.19053   1.000  0.183  0.152 -0.162 -0.166\n",
      "        2  0.83392   0.183  1.000  0.728 -0.775 -0.714\n",
      "        3  0.77004   0.152  0.728  1.000 -0.696 -0.661\n",
      "        4  0.81506  -0.162 -0.775 -0.696  1.000  0.703\n",
      "        5  0.76554  -0.166 -0.714 -0.661  0.703  1.000\n",
      "[#1] INFO:Minization -- RooMinimizer::optimizeConst: deactivating const optimization\n"
     ]
    }
   ],
   "source": [
    "r1 = model.fitTo(data, R.RooFit.Save())"
   ]
  },
  {
   "cell_type": "markdown",
   "id": "warming-armstrong",
   "metadata": {},
   "source": [
    "Add some constraints for nuisance parameters"
   ]
  },
  {
   "cell_type": "code",
   "execution_count": 25,
   "id": "sporting-prison",
   "metadata": {
    "collapsed": false,
    "execution": {
     "iopub.execute_input": "2021-03-29T09:03:58.477071Z",
     "iopub.status.busy": "2021-03-29T09:03:58.476492Z",
     "iopub.status.idle": "2021-03-29T09:03:58.590029Z",
     "shell.execute_reply": "2021-03-29T09:03:58.591092Z"
    }
   },
   "outputs": [
    {
     "name": "stdout",
     "output_type": "stream",
     "text": [
      "\n",
      "fit result without constraints\n",
      "\n",
      "fit result with constraints\n",
      "[#1] INFO:Minization -- p.d.f. provides expected number of events, including extended term in likelihood.\n",
      "[#1] INFO:Minization --  Including the following constraint terms in minimization: (constraint_a0,constraint_a1,constraint_sig1frac)\n",
      "[#1] INFO:Fitting -- RooAddition::defaultErrorLevel(nll_model_modelData_with_constr) Summation contains a RooNLLVar, using its error level\n",
      "[#1] INFO:Minization -- RooMinimizer::optimizeConst: activating const optimization\n",
      "[#1] INFO:Minization --  The following expressions have been identified as constant and will be precalculated and cached: (sig1,sig2)\n",
      "[#1] INFO:Minization --  The following expressions will be evaluated in cache-and-track mode: (bkg)\n",
      " **********\n",
      " ** 1855 **SET PRINT           1\n",
      " **********\n",
      " **********\n",
      " ** 1856 **SET NOGRAD\n",
      " **********\n",
      " PARAMETER DEFINITIONS:\n",
      "    NO.   NAME         VALUE      STEP SIZE      LIMITS\n",
      "     1 a0           5.66673e-01  3.46635e-01    3.24127e-01  8.07925e-01\n",
      "     2 a1           2.58569e-01  4.83762e-01   -3.65845e-01  8.81785e-01\n",
      "     3 mu_sig       1.07992e+00  2.34596e-01    0.00000e+00  2.00000e+00\n",
      "     4 nbkg         3.98840e+01  1.23939e+01    0.00000e+00  1.00000e+04\n",
      "     5 sig1frac     7.55365e-01  2.89023e-01    0.00000e+00  1.00000e+00\n",
      " **********\n",
      " ** 1857 **SET ERR         0.5\n",
      " **********\n",
      " **********\n",
      " ** 1858 **SET PRINT           1\n",
      " **********\n",
      " **********\n",
      " ** 1859 **SET STR           1\n",
      " **********\n",
      " NOW USING STRATEGY  1: TRY TO BALANCE SPEED AGAINST RELIABILITY\n",
      " **********\n",
      " ** 1860 **MIGRAD        2500           1\n",
      " **********\n",
      " FIRST CALL TO USER FUNCTION AT NEW START POINT, WITH IFLAG=4.\n",
      " START MIGRAD MINIMIZATION.  STRATEGY  1.  CONVERGENCE WHEN EDM .LT. 1.00e-03\n",
      " FCN=-176.223 FROM MIGRAD    STATUS=INITIATE       20 CALLS          21 TOTAL\n",
      "                     EDM= unknown      STRATEGY= 1      NO ERROR MATRIX       \n",
      "  EXT PARAMETER               CURRENT GUESS       STEP         FIRST   \n",
      "  NO.   NAME      VALUE            ERROR          SIZE      DERIVATIVE \n",
      "   1  a0           5.66673e-01   3.46635e-01   1.56884e+00  -3.88305e-04\n",
      "   2  a1           2.58569e-01   4.83762e-01   8.87491e-01  -2.60981e-04\n",
      "   3  mu_sig       1.07992e+00   2.34596e-01   2.37623e-01  -5.64727e-03\n",
      "   4  nbkg         3.98840e+01   1.23939e+01   1.99115e-02   9.51217e-02\n",
      "   5  sig1frac     7.55365e-01   2.89023e-01   8.18105e-01   6.41563e-04\n",
      "                               ERR DEF= 0.5\n",
      " MIGRAD MINIMIZATION HAS CONVERGED.\n",
      " MIGRAD WILL VERIFY CONVERGENCE AND ERROR MATRIX.\n",
      " COVARIANCE MATRIX CALCULATED SUCCESSFULLY\n",
      " FCN=-176.223 FROM MIGRAD    STATUS=CONVERGED      65 CALLS          66 TOTAL\n",
      "                     EDM=2.52619e-06    STRATEGY= 1      ERROR MATRIX ACCURATE \n",
      "  EXT PARAMETER                                   STEP         FIRST   \n",
      "  NO.   NAME      VALUE            ERROR          SIZE      DERIVATIVE \n",
      "   1  a0           5.66778e-01   1.79676e-01   7.65434e-03   1.72481e-04\n",
      "   2  a1           2.58614e-01   3.20779e-01   3.80145e-03  -2.51898e-03\n",
      "   3  mu_sig       1.08013e+00   1.84174e-01   1.39140e-03   1.34642e-05\n",
      "   4  nbkg         3.98715e+01   9.27900e+00   1.04590e-04  -1.60366e-02\n",
      "   5  sig1frac     7.55299e-01   1.89371e-01   3.55838e-03   1.36783e-03\n",
      "                               ERR DEF= 0.5\n",
      " EXTERNAL ERROR MATRIX.    NDIM=  25    NPAR=  5    ERR DEF=0.5\n",
      "  4.101e-02  5.607e-03  2.173e-03 -1.210e-01 -2.624e-03 \n",
      "  5.607e-03  1.135e-01  3.161e-02 -1.761e+00 -2.912e-02 \n",
      "  2.173e-03  3.161e-02  3.431e-02 -8.301e-01 -1.477e-02 \n",
      " -1.210e-01 -1.761e+00 -8.301e-01  8.611e+01  8.224e-01 \n",
      " -2.624e-03 -2.912e-02 -1.477e-02  8.224e-01  3.846e-02 \n",
      " PARAMETER  CORRELATION COEFFICIENTS  \n",
      "       NO.  GLOBAL      1      2      3      4      5\n",
      "        1  0.09006   1.000  0.082  0.058 -0.064 -0.066\n",
      "        2  0.64185   0.082  1.000  0.506 -0.563 -0.441\n",
      "        3  0.57842   0.058  0.506  1.000 -0.483 -0.407\n",
      "        4  0.63352  -0.064 -0.563 -0.483  1.000  0.452\n",
      "        5  0.52733  -0.066 -0.441 -0.407  0.452  1.000\n",
      " **********\n",
      " ** 1861 **SET ERR         0.5\n",
      " **********\n",
      " **********\n",
      " ** 1862 **SET PRINT           1\n",
      " **********\n",
      " **********\n",
      " ** 1863 **HESSE        2500\n",
      " **********\n",
      " COVARIANCE MATRIX CALCULATED SUCCESSFULLY\n",
      " FCN=-176.223 FROM HESSE     STATUS=OK             31 CALLS          97 TOTAL\n",
      "                     EDM=2.52376e-06    STRATEGY= 1      ERROR MATRIX ACCURATE \n",
      "  EXT PARAMETER                                INTERNAL      INTERNAL  \n",
      "  NO.   NAME      VALUE            ERROR       STEP SIZE       VALUE   \n",
      "   1  a0           5.66778e-01   1.79672e-01   1.53087e-03   3.10831e-03\n",
      "   2  a1           2.58614e-01   3.20595e-01   7.60291e-04   1.03240e-03\n",
      "   3  mu_sig       1.08013e+00   1.84142e-01   5.56561e-05   8.02142e-02\n",
      "   4  nbkg         3.98715e+01   9.27516e+00   2.09181e-05  -1.44442e+00\n",
      "   5  sig1frac     7.55299e-01   1.89294e-01   7.11676e-04   5.35880e-01\n",
      "                               ERR DEF= 0.5\n",
      " EXTERNAL ERROR MATRIX.    NDIM=  25    NPAR=  5    ERR DEF=0.5\n",
      "  4.101e-02  5.593e-03  2.168e-03 -1.207e-01 -2.615e-03 \n",
      "  5.593e-03  1.134e-01  3.156e-02 -1.757e+00 -2.904e-02 \n",
      "  2.168e-03  3.156e-02  3.430e-02 -8.293e-01 -1.475e-02 \n",
      " -1.207e-01 -1.757e+00 -8.293e-01  8.603e+01  8.208e-01 \n",
      " -2.615e-03 -2.904e-02 -1.475e-02  8.208e-01  3.842e-02 \n",
      " PARAMETER  CORRELATION COEFFICIENTS  \n",
      "       NO.  GLOBAL      1      2      3      4      5\n",
      "        1  0.08988   1.000  0.082  0.058 -0.064 -0.066\n",
      "        2  0.64126   0.082  1.000  0.506 -0.563 -0.440\n",
      "        3  0.57821   0.058  0.506  1.000 -0.483 -0.406\n",
      "        4  0.63313  -0.064 -0.563 -0.483  1.000  0.451\n",
      "        5  0.52674  -0.066 -0.440 -0.406  0.451  1.000\n",
      "[#1] INFO:Minization -- RooMinimizer::optimizeConst: deactivating const optimization\n",
      "\n",
      "  RooFitResult: minimized FCN value: -174.842, estimated distance to minimum: 1.32156e-05\n",
      "                covariance matrix quality: Full, accurate covariance matrix\n",
      "                Status : MINIMIZE=0 HESSE=0 \n",
      "\n",
      "    Constant Parameter    Value     \n",
      "  --------------------  ------------\n",
      "                  mean    5.0000e+00\n",
      "             nsig_norm    5.5667e+01\n",
      "                sigma1    5.0000e-01\n",
      "                sigma2    1.0000e+00\n",
      "\n",
      "    Floating Parameter  InitialValue    FinalValue +/-  Error     GblCorr.\n",
      "  --------------------  ------------  --------------------------  --------\n",
      "                    a0    5.6603e-01    5.6667e-01 +/-  3.47e-01  <none>\n",
      "                    a1    2.5797e-01    2.5857e-01 +/-  4.84e-01  <none>\n",
      "                mu_sig    1.0801e+00    1.0799e+00 +/-  2.35e-01  <none>\n",
      "                  nbkg    3.9879e+01    3.9884e+01 +/-  1.24e+01  <none>\n",
      "              sig1frac    7.5581e-01    7.5537e-01 +/-  2.89e-01  <none>\n",
      "\n",
      "\n",
      "  RooFitResult: minimized FCN value: -176.223, estimated distance to minimum: 2.52376e-06\n",
      "                covariance matrix quality: Full, accurate covariance matrix\n",
      "                Status : MINIMIZE=0 HESSE=0 \n",
      "\n",
      "    Constant Parameter    Value     \n",
      "  --------------------  ------------\n",
      "                  mean    5.0000e+00\n",
      "             nsig_norm    5.5667e+01\n",
      "                sigma1    5.0000e-01\n",
      "                sigma2    1.0000e+00\n",
      "\n",
      "    Floating Parameter  InitialValue    FinalValue +/-  Error     GblCorr.\n",
      "  --------------------  ------------  --------------------------  --------\n",
      "                    a0    5.6667e-01    5.6678e-01 +/-  1.80e-01  <none>\n",
      "                    a1    2.5857e-01    2.5861e-01 +/-  3.21e-01  <none>\n",
      "                mu_sig    1.0799e+00    1.0801e+00 +/-  1.84e-01  <none>\n",
      "                  nbkg    3.9884e+01    3.9872e+01 +/-  9.28e+00  <none>\n",
      "              sig1frac    7.5537e-01    7.5530e-01 +/-  1.89e-01  <none>\n",
      "\n"
     ]
    }
   ],
   "source": [
    "syst_a0 = a0.getError()\n",
    "const_a0 = R.RooGaussian(\"constraint_a0\", \"constraint_a0\", a0, R.RooFit.RooConst(a0.getVal()), R.RooFit.RooConst(fabs(syst_a0)))\n",
    "\n",
    "syst_a1 = a1.getError()\n",
    "const_a1 = R.RooGaussian(\"constraint_a1\", \"constraint_a1\", a1, R.RooFit.RooConst(a1.getVal()), R.RooFit.RooConst(fabs(syst_a1)))\n",
    "\n",
    "syst_sig1frac = sig1frac.getError()\n",
    "const_sig1frac = R.RooGaussian(\"constraint_sig1frac\", \"constraint_sig1frac\", sig1frac, R.RooFit.RooConst(sig1frac.getVal()), R.RooFit.RooConst(fabs(syst_sig1frac)))\n",
    "\n",
    "r2 = model.fitTo(data, R.RooFit.ExternalConstraints(R.RooArgSet(const_a0, const_a1, const_sig1frac)), R.RooFit.Save())\n",
    "\n",
    "print(\"\\nfit result without constraints\")\n",
    "r1.Print(\"v\")\n",
    "print(\"\\nfit result with constraints\")\n",
    "r2.Print(\"v\")"
   ]
  },
  {
   "cell_type": "markdown",
   "id": "exposed-expansion",
   "metadata": {},
   "source": [
    "Draw all canvases "
   ]
  },
  {
   "cell_type": "code",
   "execution_count": 26,
   "id": "mathematical-agenda",
   "metadata": {
    "collapsed": false,
    "execution": {
     "iopub.execute_input": "2021-03-29T09:03:58.608286Z",
     "iopub.status.busy": "2021-03-29T09:03:58.607325Z",
     "iopub.status.idle": "2021-03-29T09:03:58.783706Z",
     "shell.execute_reply": "2021-03-29T09:03:58.783925Z"
    }
   },
   "outputs": [
    {
     "data": {
      "image/png": "[encoded data removed]",
      "text/plain": [
       "<IPython.core.display.Image object>"
      ]
     },
     "metadata": {},
     "output_type": "display_data"
    }
   ],
   "source": [
    "from ROOT import gROOT \n",
    "gROOT.GetListOfCanvases().Draw()"
   ]
  }
 ],
 "metadata": {
  "kernelspec": {
   "display_name": "Python 3",
   "language": "python",
   "name": "python3"
  },
  "language_info": {
   "codemirror_mode": {
    "name": "ipython",
    "version": 3
   },
   "file_extension": ".py",
   "mimetype": "text/x-python",
   "name": "python",
   "nbconvert_exporter": "python",
   "pygments_lexer": "ipython3",
   "version": "3.8.8"
  }
 },
 "nbformat": 4,
 "nbformat_minor": 5
}
