{
 "cells": [
  {
   "cell_type": "markdown",
   "id": "premier-contents",
   "metadata": {},
   "source": [
    "# Hepstat_Tutorial_Roofit_Extended\n",
    "Fit examples with RooFit, composite p.d.f with signal and background component, extended\n",
    "```\n",
    "pdf = n_bkg * bkg(x,a0,a1) + n_sig * (f_sig1 * sig1(x,m,s1 + (1-f_sig1) * sig2(x,m,s2)))\n",
    "or using a signal strength\n",
    "pdf = n_bkg * bkg(x,a0,a1) + mu * n_sig * (f_sig1 * sig1(x,m,s1 + (1-f_sig1) * sig2(x,m,s2)))\n",
    "```\n",
    " with following objectives:\n",
    " * Compare plain likelihood fit and profile likelihood fit\n",
    " * Fit with nuisance parameters with constraints\n",
    "\n",
    "\n",
    "Modified from [rf201_composite.py](https://root.cern/doc/master/rf201__composite_8py.html)\n",
    "\n",
    "\n",
    "**Author:** Lailin XU  \n",
    "<i><small>This notebook tutorial was automatically generated with <a href= \"https://github.com/root-project/root/blob/master/documentation/doxygen/converttonotebook.py\">ROOTBOOK-izer</a> from the macro found in the ROOT repository  on Monday, March 29, 2021 at 04:15 PM.</small></i>"
   ]
  },
  {
   "cell_type": "markdown",
   "id": "portable-handy",
   "metadata": {},
   "source": [
    "Import the ROOT libraries"
   ]
  },
  {
   "cell_type": "code",
   "execution_count": 1,
   "id": "inclusive-shipping",
   "metadata": {
    "collapsed": false,
    "execution": {
     "iopub.execute_input": "2021-03-29T08:15:52.654659Z",
     "iopub.status.busy": "2021-03-29T08:15:52.653850Z",
     "iopub.status.idle": "2021-03-29T08:15:53.179231Z",
     "shell.execute_reply": "2021-03-29T08:15:53.179445Z"
    }
   },
   "outputs": [
    {
     "name": "stdout",
     "output_type": "stream",
     "text": [
      "Welcome to JupyROOT 6.22/07\n"
     ]
    }
   ],
   "source": [
    "import ROOT as R\n",
    "from math import pow, sqrt\n",
    "R.gROOT.SetStyle(\"ATLAS\")"
   ]
  },
  {
   "cell_type": "markdown",
   "id": "sunrise-october",
   "metadata": {},
   "source": [
    "Setup component pdfs\n",
    "---------------------------------------"
   ]
  },
  {
   "cell_type": "markdown",
   "id": "helpful-advance",
   "metadata": {},
   "source": [
    "Declare observable x"
   ]
  },
  {
   "cell_type": "markdown",
   "id": "general-retirement",
   "metadata": {},
   "source": [
    "  [RooRealVar](https://root.cern.ch/doc/master/classRooRealVar.html) (const char *name, const char *title, Double_t minValue, Double_t maxValue, const char *unit=\"\")"
   ]
  },
  {
   "cell_type": "code",
   "execution_count": 2,
   "id": "continuous-compatibility",
   "metadata": {
    "collapsed": false,
    "execution": {
     "iopub.execute_input": "2021-03-29T08:15:53.258541Z",
     "iopub.status.busy": "2021-03-29T08:15:53.180657Z",
     "iopub.status.idle": "2021-03-29T08:15:53.365983Z",
     "shell.execute_reply": "2021-03-29T08:15:53.366358Z"
    }
   },
   "outputs": [
    {
     "name": "stdout",
     "output_type": "stream",
     "text": [
      "\n",
      "\u001b[1mRooFit v3.60 -- Developed by Wouter Verkerke and David Kirkby\u001b[0m \n",
      "                Copyright (C) 2000-2013 NIKHEF, University of California & Stanford University\n",
      "                All rights reserved, please read http://roofit.sourceforge.net/license.txt\n",
      "\n"
     ]
    }
   ],
   "source": [
    "x = R.RooRealVar(\"x\", \"x\", 0, 10)"
   ]
  },
  {
   "cell_type": "markdown",
   "id": "excess-livestock",
   "metadata": {},
   "source": [
    "Create two Gaussian PDFs g1(x,mean1,sigma) anf g2(x,mean2,sigma) and\n",
    "their parameters"
   ]
  },
  {
   "cell_type": "code",
   "execution_count": 3,
   "id": "controlled-mathematics",
   "metadata": {
    "collapsed": false,
    "execution": {
     "iopub.execute_input": "2021-03-29T08:15:53.398233Z",
     "iopub.status.busy": "2021-03-29T08:15:53.397821Z",
     "iopub.status.idle": "2021-03-29T08:15:53.505603Z",
     "shell.execute_reply": "2021-03-29T08:15:53.506128Z"
    }
   },
   "outputs": [],
   "source": [
    "mean = R.RooRealVar(\"mean\", \"mean of gaussians\", 5)\n",
    "sigma1 = R.RooRealVar(\"sigma1\", \"width of gaussians\", 0.5)\n",
    "sigma2 = R.RooRealVar(\"sigma2\", \"width of gaussians\", 1)\n",
    "\n",
    "sig1 = R.RooGaussian(\"sig1\", \"Signal component 1\", x, mean, sigma1)\n",
    "sig2 = R.RooGaussian(\"sig2\", \"Signal component 2\", x, mean, sigma2)"
   ]
  },
  {
   "cell_type": "markdown",
   "id": "hollywood-norfolk",
   "metadata": {},
   "source": [
    "Build Chebychev polynomial p.d.f."
   ]
  },
  {
   "cell_type": "code",
   "execution_count": 4,
   "id": "technical-brave",
   "metadata": {
    "collapsed": false,
    "execution": {
     "iopub.execute_input": "2021-03-29T08:15:53.532076Z",
     "iopub.status.busy": "2021-03-29T08:15:53.531586Z",
     "iopub.status.idle": "2021-03-29T08:15:53.641799Z",
     "shell.execute_reply": "2021-03-29T08:15:53.642374Z"
    }
   },
   "outputs": [],
   "source": [
    "a0 = R.RooRealVar(\"a0\", \"a0\", 0.5, 0., 1.)\n",
    "a1 = R.RooRealVar(\"a1\", \"a1\", -0.2, 0., 1.)\n",
    "bkg = R.RooChebychev(\"bkg\", \"Background\", x, R.RooArgList(a0, a1))"
   ]
  },
  {
   "cell_type": "markdown",
   "id": "ideal-riverside",
   "metadata": {},
   "source": [
    "Normalization of the components"
   ]
  },
  {
   "cell_type": "code",
   "execution_count": 5,
   "id": "sporting-national",
   "metadata": {
    "collapsed": false,
    "execution": {
     "iopub.execute_input": "2021-03-29T08:15:53.660626Z",
     "iopub.status.busy": "2021-03-29T08:15:53.659978Z",
     "iopub.status.idle": "2021-03-29T08:15:53.770324Z",
     "shell.execute_reply": "2021-03-29T08:15:53.770930Z"
    }
   },
   "outputs": [],
   "source": [
    "nsig_norm = R.RooRealVar(\"nsig_norm\", \"number of signal events\", 500, 0., 10000)\n",
    "mu_sig = R.RooRealVar(\"mu_sig\", \"signal strength\", 1, 0, 100.)\n",
    "mu_sig.setConstant(1)\n",
    "nsig = R.RooProduct(\"nsig\", \"number of signal events\", R.RooArgList(nsig_norm, mu_sig))\n",
    "nbkg = R.RooRealVar(\"nbkg\", \"number of background events\", 500, 0, 10000)"
   ]
  },
  {
   "cell_type": "markdown",
   "id": "round-minister",
   "metadata": {},
   "source": [
    "Full model: the total PDF\n",
    "------------------------------------------\n",
    "Sum the signal components into a composite signal p.d.f.. Here we use [RooAddPdf](https://root.cern.ch/doc/master/classRooAddPdf.html)\n",
    "  RooAddPdf (const char *name, const char *title, const RooArgList &pdfList, const RooArgList &coefList, Bool_t recursiveFraction=kFALSE)"
   ]
  },
  {
   "cell_type": "code",
   "execution_count": 6,
   "id": "divided-implementation",
   "metadata": {
    "collapsed": false,
    "execution": {
     "iopub.execute_input": "2021-03-29T08:15:53.791310Z",
     "iopub.status.busy": "2021-03-29T08:15:53.790680Z",
     "iopub.status.idle": "2021-03-29T08:15:53.901231Z",
     "shell.execute_reply": "2021-03-29T08:15:53.902002Z"
    }
   },
   "outputs": [],
   "source": [
    "sig1frac = R.RooRealVar(\"sig1frac\", \"fraction of component 1 in signal\", 0.8, 0., 1.)\n",
    "sig = R.RooAddPdf(\"sig\", \"Signal\", R.RooArgList(sig1, sig2), R.RooArgList(sig1frac))"
   ]
  },
  {
   "cell_type": "markdown",
   "id": "straight-rainbow",
   "metadata": {},
   "source": [
    "Sum the composite signal and background"
   ]
  },
  {
   "cell_type": "code",
   "execution_count": 7,
   "id": "shared-feedback",
   "metadata": {
    "collapsed": false,
    "execution": {
     "iopub.execute_input": "2021-03-29T08:15:53.908619Z",
     "iopub.status.busy": "2021-03-29T08:15:53.907924Z",
     "iopub.status.idle": "2021-03-29T08:15:54.017790Z",
     "shell.execute_reply": "2021-03-29T08:15:54.018299Z"
    }
   },
   "outputs": [],
   "source": [
    "model = R.RooAddPdf(\"model\", \"g1+g2+a\", R.RooArgList(bkg, sig), R.RooArgList(nbkg, nsig))"
   ]
  },
  {
   "cell_type": "markdown",
   "id": "featured-winning",
   "metadata": {},
   "source": [
    "A quick look at the model"
   ]
  },
  {
   "cell_type": "code",
   "execution_count": 8,
   "id": "primary-guide",
   "metadata": {
    "collapsed": false,
    "execution": {
     "iopub.execute_input": "2021-03-29T08:15:54.027328Z",
     "iopub.status.busy": "2021-03-29T08:15:54.026642Z",
     "iopub.status.idle": "2021-03-29T08:15:54.137203Z",
     "shell.execute_reply": "2021-03-29T08:15:54.137956Z"
    }
   },
   "outputs": [
    {
     "name": "stdout",
     "output_type": "stream",
     "text": [
      "RooAddPdf::model[ nbkg * bkg + nsig * sig ] = 1\n"
     ]
    }
   ],
   "source": [
    "model.Print()"
   ]
  },
  {
   "cell_type": "markdown",
   "id": "minor-seeking",
   "metadata": {},
   "source": [
    "Sample, fit and plot model\n",
    "---------------------------------------------------"
   ]
  },
  {
   "cell_type": "code",
   "execution_count": 9,
   "id": "opened-frequency",
   "metadata": {
    "collapsed": false,
    "execution": {
     "iopub.execute_input": "2021-03-29T08:15:54.184381Z",
     "iopub.status.busy": "2021-03-29T08:15:54.183916Z",
     "iopub.status.idle": "2021-03-29T08:15:54.298962Z",
     "shell.execute_reply": "2021-03-29T08:15:54.299508Z"
    }
   },
   "outputs": [
    {
     "data": {
      "text/plain": [
       "<cppyy.gbl.TCanvas object at 0x130ca0080>"
      ]
     },
     "execution_count": 1,
     "metadata": {},
     "output_type": "execute_result"
    }
   ],
   "source": [
    "myc = R.TCanvas(\"c\", \"c\", 800, 600)\n",
    "myc.SetFillColor(0)\n",
    "myc.cd()"
   ]
  },
  {
   "cell_type": "markdown",
   "id": "aggregate-shoot",
   "metadata": {},
   "source": [
    "Generate a toy data sample of 1000 events in x from model"
   ]
  },
  {
   "cell_type": "markdown",
   "id": "recognized-reset",
   "metadata": {},
   "source": [
    " [RooAbsPdf::generate](https://root.cern.ch/doc/master/classRooAbsPdf.html), this will generate *unbinned* data, see [RooDataSet](https://root.cern.ch/doc/master/classRooDataSet.html)"
   ]
  },
  {
   "cell_type": "code",
   "execution_count": 10,
   "id": "multiple-major",
   "metadata": {
    "collapsed": false,
    "execution": {
     "iopub.execute_input": "2021-03-29T08:15:54.332209Z",
     "iopub.status.busy": "2021-03-29T08:15:54.331739Z",
     "iopub.status.idle": "2021-03-29T08:15:54.441979Z",
     "shell.execute_reply": "2021-03-29T08:15:54.441299Z"
    }
   },
   "outputs": [],
   "source": [
    "data = model.generate(R.RooArgSet(x), 100)"
   ]
  },
  {
   "cell_type": "markdown",
   "id": "sealed-india",
   "metadata": {},
   "source": [
    "Fit model to data"
   ]
  },
  {
   "cell_type": "code",
   "execution_count": 11,
   "id": "roman-large",
   "metadata": {
    "collapsed": false,
    "execution": {
     "iopub.execute_input": "2021-03-29T08:15:54.489298Z",
     "iopub.status.busy": "2021-03-29T08:15:54.488848Z",
     "iopub.status.idle": "2021-03-29T08:15:54.597156Z",
     "shell.execute_reply": "2021-03-29T08:15:54.597938Z"
    }
   },
   "outputs": [
    {
     "data": {
      "text/plain": [
       "<cppyy.gbl.RooFitResult object at 0x0>"
      ]
     },
     "execution_count": 1,
     "metadata": {},
     "output_type": "execute_result"
    },
    {
     "name": "stdout",
     "output_type": "stream",
     "text": [
      "[#1] INFO:Minization -- p.d.f. provides expected number of events, including extended term in likelihood.\n",
      "[#1] INFO:Minization -- RooMinimizer::optimizeConst: activating const optimization\n",
      "[#1] INFO:Minization --  The following expressions have been identified as constant and will be precalculated and cached: (sig1,sig2)\n",
      "[#1] INFO:Minization --  The following expressions will be evaluated in cache-and-track mode: (bkg)\n",
      " **********\n",
      " **    1 **SET PRINT           1\n",
      " **********\n",
      " **********\n",
      " **    2 **SET NOGRAD\n",
      " **********\n",
      " PARAMETER DEFINITIONS:\n",
      "    NO.   NAME         VALUE      STEP SIZE      LIMITS\n",
      "     1 a0           5.00000e-01  1.00000e-01    0.00000e+00  1.00000e+00\n",
      "     2 a1           0.00000e+00  1.00000e-01    0.00000e+00  1.00000e+00\n",
      " MINUIT WARNING IN PARAM DEF\n",
      " ============== STARTING VALUE IS AT LIMIT.\n",
      " MINUIT WARNING IN PARAMETR\n",
      " ============== VARIABLE2 IS AT ITS LOWER ALLOWED LIMIT.\n",
      " MINUIT WARNING IN PARAMETR\n",
      " ============== VARIABLE2 BROUGHT BACK INSIDE LIMITS.\n",
      "     3 nbkg         5.00000e+02  2.50000e+02    0.00000e+00  1.00000e+04\n",
      "     4 nsig_norm    5.00000e+02  2.50000e+02    0.00000e+00  1.00000e+04\n",
      "     5 sig1frac     8.00000e-01  1.00000e-01    0.00000e+00  1.00000e+00\n",
      " **********\n",
      " **    3 **SET ERR         0.5\n",
      " **********\n",
      " **********\n",
      " **    4 **SET PRINT           1\n",
      " **********\n",
      " **********\n",
      " **    5 **SET STR           1\n",
      " **********\n",
      " NOW USING STRATEGY  1: TRY TO BALANCE SPEED AGAINST RELIABILITY\n",
      " **********\n",
      " **    6 **MIGRAD        2500           1\n",
      " **********\n",
      " FIRST CALL TO USER FUNCTION AT NEW START POINT, WITH IFLAG=4.\n",
      " MINUIT WARNING IN MIGrad    \n",
      " ============== VARIABLE2 IS AT ITS LOWER ALLOWED LIMIT.\n",
      " START MIGRAD MINIMIZATION.  STRATEGY  1.  CONVERGENCE WHEN EDM .LT. 1.00e-03\n",
      " FCN=495.55 FROM MIGRAD    STATUS=INITIATE       20 CALLS          21 TOTAL\n",
      "                     EDM= unknown      STRATEGY= 1      NO ERROR MATRIX       \n",
      "  EXT PARAMETER               CURRENT GUESS       STEP         FIRST   \n",
      "  NO.   NAME      VALUE            ERROR          SIZE      DERIVATIVE \n",
      "   1  a0           5.00000e-01   1.00000e-01   2.01358e-01  -3.64950e-01\n",
      "   2  a1           9.53674e-07   1.00000e-01   3.20776e-01   4.68730e-04\n",
      "   3  nbkg         5.00000e+02   2.50000e+02   1.18625e-01   1.97740e+03\n",
      "   4  nsig_norm    5.00000e+02   2.50000e+02   1.18625e-01   1.94561e+03\n",
      "   5  sig1frac     8.00000e-01   1.00000e-01   2.57889e-01  -1.13948e+00\n",
      "                               ERR DEF= 0.5\n",
      " MIGRAD MINIMIZATION HAS CONVERGED.\n",
      " MIGRAD WILL VERIFY CONVERGENCE AND ERROR MATRIX.\n",
      " MINUIT WARNING IN HESSE   \n",
      " ============== Negative diagonal element 2 in Error Matrix\n",
      " MINUIT WARNING IN HESSE   \n",
      " ============== 1.44758 added to diagonal of error matrix\n",
      " COVARIANCE MATRIX CALCULATED SUCCESSFULLY\n",
      " FCN=-174.729 FROM MIGRAD    STATUS=CONVERGED     104 CALLS         105 TOTAL\n",
      "                     EDM=4.4194e-05    STRATEGY= 1      ERROR MATRIX ACCURATE \n",
      "  EXT PARAMETER                                   STEP         FIRST   \n",
      "  NO.   NAME      VALUE            ERROR          SIZE      DERIVATIVE \n",
      "   1  a0           5.44102e-01   1.99496e-01   4.33281e-03   1.20813e-02\n",
      "   2  a1           8.74154e-06   6.13699e-01   1.42727e-02  -2.64792e-03\n",
      "   3  nbkg         4.43404e+01   8.30162e+00   1.04277e-04   3.49749e-02\n",
      "   4  nsig_norm    5.56670e+01   8.95825e+00   1.01490e-04   6.74634e-02\n",
      "   5  sig1frac     8.66776e-01   1.78981e-01   6.47185e-03  -5.82785e-03\n",
      "                               ERR DEF= 0.5\n",
      " EXTERNAL ERROR MATRIX.    NDIM=  25    NPAR=  5    ERR DEF=0.5\n",
      "  4.213e-02  1.393e-06 -2.748e-02  2.749e-02 -1.024e-03 \n",
      "  1.393e-06  8.743e-06 -2.769e-04  2.769e-04 -4.945e-06 \n",
      " -2.748e-02 -2.769e-04  6.892e+01 -2.458e+01  5.001e-01 \n",
      "  2.749e-02  2.769e-04 -2.458e+01  8.025e+01 -5.004e-01 \n",
      " -1.024e-03 -4.945e-06  5.001e-01 -5.004e-01  3.553e-02 \n",
      " PARAMETER  CORRELATION COEFFICIENTS  \n",
      "       NO.  GLOBAL      1      2      3      4      5\n",
      "        1  0.02828   1.000  0.002 -0.016  0.015 -0.026\n",
      "        2  0.01411   0.002  1.000 -0.011  0.010 -0.009\n",
      "        3  0.40395  -0.016 -0.011  1.000 -0.331  0.320\n",
      "        4  0.38705   0.015  0.010 -0.331  1.000 -0.296\n",
      "        5  0.37861  -0.026 -0.009  0.320 -0.296  1.000\n",
      " **********\n",
      " **    7 **SET ERR         0.5\n",
      " **********\n",
      " **********\n",
      " **    8 **SET PRINT           1\n",
      " **********\n",
      " **********\n",
      " **    9 **HESSE        2500\n",
      " **********\n",
      " MINUIT WARNING IN HESSE   \n",
      " ============== Negative diagonal element 2 in Error Matrix\n",
      " MINUIT WARNING IN HESSE   \n",
      " ============== 1.44771 added to diagonal of error matrix\n",
      " COVARIANCE MATRIX CALCULATED SUCCESSFULLY\n",
      " FCN=-174.729 FROM HESSE     STATUS=OK             31 CALLS         136 TOTAL\n",
      "                     EDM=4.42873e-05    STRATEGY= 1      ERROR MATRIX ACCURATE \n",
      "  EXT PARAMETER                                INTERNAL      INTERNAL  \n",
      "  NO.   NAME      VALUE            ERROR       STEP SIZE       VALUE   \n",
      "   1  a0           5.44102e-01   1.99493e-01   8.66562e-04   8.83193e-02\n",
      "   2  a1           8.74154e-06   6.13685e-01   2.85453e-03  -1.56488e+00\n",
      "   3  nbkg         4.43404e+01   8.30307e+00   2.08553e-05  -1.43752e+00\n",
      "   4  nsig_norm    5.56670e+01   8.95931e+00   2.02979e-05  -1.42144e+00\n",
      "   5  sig1frac     8.66776e-01   1.79008e-01   1.29437e-03   8.23533e-01\n",
      "                               ERR DEF= 0.5\n",
      " EXTERNAL ERROR MATRIX.    NDIM=  25    NPAR=  5    ERR DEF=0.5\n",
      "  4.213e-02  7.795e-07 -2.743e-02  2.743e-02 -1.021e-03 \n",
      "  7.795e-07  8.742e-06 -1.559e-04  1.559e-04 -2.785e-06 \n",
      " -2.743e-02 -1.559e-04  6.894e+01 -2.461e+01  5.010e-01 \n",
      "  2.743e-02  1.559e-04 -2.461e+01  8.027e+01 -5.011e-01 \n",
      " -1.021e-03 -2.785e-06  5.010e-01 -5.011e-01  3.554e-02 \n",
      " PARAMETER  CORRELATION COEFFICIENTS  \n",
      "       NO.  GLOBAL      1      2      3      4      5\n",
      "        1  0.02816   1.000  0.001 -0.016  0.015 -0.026\n",
      "        2  0.00794   0.001  1.000 -0.006  0.006 -0.005\n",
      "        3  0.40431  -0.016 -0.006  1.000 -0.331  0.320\n",
      "        4  0.38731   0.015  0.006 -0.331  1.000 -0.297\n",
      "        5  0.37903  -0.026 -0.005  0.320 -0.297  1.000\n",
      "[#1] INFO:Minization -- RooMinimizer::optimizeConst: deactivating const optimization\n"
     ]
    }
   ],
   "source": [
    "model.fitTo(data)"
   ]
  },
  {
   "cell_type": "markdown",
   "id": "comprehensive-times",
   "metadata": {},
   "source": [
    "Plot data and PDF overlaid"
   ]
  },
  {
   "cell_type": "code",
   "execution_count": 12,
   "id": "narrative-thanksgiving",
   "metadata": {
    "collapsed": false,
    "execution": {
     "iopub.execute_input": "2021-03-29T08:15:54.651765Z",
     "iopub.status.busy": "2021-03-29T08:15:54.651340Z",
     "iopub.status.idle": "2021-03-29T08:15:54.758989Z",
     "shell.execute_reply": "2021-03-29T08:15:54.759515Z"
    }
   },
   "outputs": [],
   "source": [
    "xframe = x.frame(R.RooFit.Title(\"Example of composite pdf=(sig1+sig2)+bkg\"))\n",
    "data.plotOn(xframe, R.RooFit.Name('Data'))\n",
    "model.plotOn(xframe, R.RooFit.Name('Full_Model'), R.RooFit.LineColor(R.kBlue))\n",
    "xframe.Draw()\n",
    "ymax = xframe.GetMaximum()\n",
    "xframe.SetMaximum(ymax*1.2)"
   ]
  },
  {
   "cell_type": "markdown",
   "id": "demanding-superintendent",
   "metadata": {},
   "source": [
    "Overlay the background component of model with a dashed line"
   ]
  },
  {
   "cell_type": "code",
   "execution_count": 13,
   "id": "quarterly-algeria",
   "metadata": {
    "collapsed": false,
    "execution": {
     "iopub.execute_input": "2021-03-29T08:15:54.777836Z",
     "iopub.status.busy": "2021-03-29T08:15:54.777102Z",
     "iopub.status.idle": "2021-03-29T08:15:54.888126Z",
     "shell.execute_reply": "2021-03-29T08:15:54.888775Z"
    }
   },
   "outputs": [
    {
     "name": "stdout",
     "output_type": "stream",
     "text": [
      "[#1] INFO:Plotting -- RooAbsPdf::plotOn(model) directly selected PDF components: (bkg)\n",
      "[#1] INFO:Plotting -- RooAbsPdf::plotOn(model) indirectly selected PDF components: ()\n"
     ]
    }
   ],
   "source": [
    "ras_bkg = R.RooArgSet(bkg)\n",
    "model.plotOn(xframe, R.RooFit.Components(ras_bkg), R.RooFit.LineStyle(R.kDashed), R.RooFit.LineColor(R.kRed), R.RooFit.Name('Bkg'))\n",
    "xframe.Draw()"
   ]
  },
  {
   "cell_type": "markdown",
   "id": "boxed-railway",
   "metadata": {},
   "source": [
    "Overlay the signal components of model with a dotted line"
   ]
  },
  {
   "cell_type": "code",
   "execution_count": 14,
   "id": "norman-freight",
   "metadata": {
    "collapsed": false,
    "execution": {
     "iopub.execute_input": "2021-03-29T08:15:54.901113Z",
     "iopub.status.busy": "2021-03-29T08:15:54.900381Z",
     "iopub.status.idle": "2021-03-29T08:15:55.010708Z",
     "shell.execute_reply": "2021-03-29T08:15:55.011458Z"
    }
   },
   "outputs": [
    {
     "name": "stdout",
     "output_type": "stream",
     "text": [
      "[#1] INFO:Plotting -- RooAbsPdf::plotOn(model) directly selected PDF components: (sig1)\n",
      "[#1] INFO:Plotting -- RooAbsPdf::plotOn(model) indirectly selected PDF components: (sig)\n",
      "[#1] INFO:Plotting -- RooAbsPdf::plotOn(model) directly selected PDF components: (sig2)\n",
      "[#1] INFO:Plotting -- RooAbsPdf::plotOn(model) indirectly selected PDF components: (sig)\n"
     ]
    }
   ],
   "source": [
    "ras_sig1 = R.RooArgSet(sig1)\n",
    "model.plotOn(xframe, R.RooFit.Components(ras_sig1), R.RooFit.LineStyle(R.kDotted), R.RooFit.LineColor(R.kMagenta), R.RooFit.Name('Sig1'))\n",
    "xframe.Draw()\n",
    "ras_sig2 = R.RooArgSet(sig2)\n",
    "model.plotOn(xframe, R.RooFit.Components(ras_sig2), R.RooFit.LineStyle(R.kDotted), R.RooFit.LineColor(R.kGreen+2), R.RooFit.Name('Sig2'))\n",
    "xframe.Draw()"
   ]
  },
  {
   "cell_type": "markdown",
   "id": "piano-privacy",
   "metadata": {},
   "source": [
    "Overlay the background+sig2 components of model with a dotted line"
   ]
  },
  {
   "cell_type": "code",
   "execution_count": 15,
   "id": "addressed-bleeding",
   "metadata": {
    "collapsed": false,
    "execution": {
     "iopub.execute_input": "2021-03-29T08:15:55.027302Z",
     "iopub.status.busy": "2021-03-29T08:15:55.026687Z",
     "iopub.status.idle": "2021-03-29T08:15:55.137446Z",
     "shell.execute_reply": "2021-03-29T08:15:55.138346Z"
    }
   },
   "outputs": [
    {
     "data": {
      "text/plain": [
       "<cppyy.gbl.RooPlot object at 0x131399500>"
      ]
     },
     "execution_count": 1,
     "metadata": {},
     "output_type": "execute_result"
    },
    {
     "name": "stdout",
     "output_type": "stream",
     "text": [
      "[#1] INFO:Plotting -- RooAbsPdf::plotOn(model) directly selected PDF components: (bkg,sig2)\n",
      "[#1] INFO:Plotting -- RooAbsPdf::plotOn(model) indirectly selected PDF components: (sig)\n"
     ]
    }
   ],
   "source": [
    "ras_bkg_sig2 = R.RooArgSet(bkg, sig2)\n",
    "model.plotOn(xframe, R.RooFit.Components(ras_bkg_sig2), R.RooFit.LineStyle(R.kDotted), R.RooFit.LineColor(R.kCyan), R.RooFit.Name('Sig2Bkg'))"
   ]
  },
  {
   "cell_type": "markdown",
   "id": "specified-printing",
   "metadata": {},
   "source": [
    "Draw legends"
   ]
  },
  {
   "cell_type": "code",
   "execution_count": 16,
   "id": "coated-aside",
   "metadata": {
    "collapsed": false,
    "execution": {
     "iopub.execute_input": "2021-03-29T08:15:55.178839Z",
     "iopub.status.busy": "2021-03-29T08:15:55.178341Z",
     "iopub.status.idle": "2021-03-29T08:15:55.287949Z",
     "shell.execute_reply": "2021-03-29T08:15:55.288758Z"
    }
   },
   "outputs": [],
   "source": [
    "lIy = 0.92\n",
    "lg = R.TLegend(0.60, lIy-0.25, 0.85, lIy)\n",
    "lg.SetBorderSize(0)\n",
    "lg.SetFillStyle(0)\n",
    "lg.SetTextFont(42)\n",
    "lg.SetTextSize(0.04)\n",
    "lg.AddEntry(xframe.findObject(\"Data\"), 'Data', 'p')\n",
    "lg.AddEntry(xframe.findObject(\"Full_Model\"), 'Full model (Sig1+Sig2+Bkg)', 'l')\n",
    "lg.AddEntry(xframe.findObject(\"Bkg\"), 'Bkg', 'l')\n",
    "lg.AddEntry(xframe.findObject(\"Sig1\"), 'Sig1', 'l')\n",
    "lg.AddEntry(xframe.findObject(\"Sig2\"), 'Sig2', 'l')\n",
    "lg.Draw(\"same\")"
   ]
  },
  {
   "cell_type": "markdown",
   "id": "bigger-being",
   "metadata": {},
   "source": [
    "Show fit results in the canvas"
   ]
  },
  {
   "cell_type": "code",
   "execution_count": 17,
   "id": "recovered-salmon",
   "metadata": {
    "collapsed": false,
    "execution": {
     "iopub.execute_input": "2021-03-29T08:15:55.398878Z",
     "iopub.status.busy": "2021-03-29T08:15:55.334075Z",
     "iopub.status.idle": "2021-03-29T08:15:55.506067Z",
     "shell.execute_reply": "2021-03-29T08:15:55.506519Z"
    }
   },
   "outputs": [
    {
     "name": "stderr",
     "output_type": "stream",
     "text": [
      "Info in <TCanvas::Print>: png file test_roofit_extended_1.png has been created\n"
     ]
    }
   ],
   "source": [
    "xlab0, ylab0=0.18, 0.90\n",
    "fv1 = R.TPaveText(xlab0, ylab0, xlab0+0.20, 0.75,\"NDC\")\n",
    "fv1.SetBorderSize(0)\n",
    "fv1.SetFillStyle(0)\n",
    "fv1.SetTextAlign(11)\n",
    "fv1.SetTextSize(0.030)\n",
    "fv1.AddText(\"{0:s} = {1:.2f} #pm {2:.2f}\".format(nbkg.GetTitle(), nbkg.getVal(), nbkg.getError()))\n",
    "fv1.AddText(\"{0:s} = {1:.2f} #pm {2:.2f}\".format(nsig_norm.GetTitle(), nsig_norm.getVal(), nsig_norm.getError()))\n",
    "fv1.Draw(\"same\")\n",
    "\n",
    "myc.Update()\n",
    "myc.SaveAs(\"test_roofit_extended_1.png\")"
   ]
  },
  {
   "cell_type": "markdown",
   "id": "motivated-legislation",
   "metadata": {},
   "source": [
    "Fit the signal strength\n",
    "---------------------------------------------------\n",
    "Set the signal normalization as a constant, using the above fit result"
   ]
  },
  {
   "cell_type": "code",
   "execution_count": 18,
   "id": "addressed-accommodation",
   "metadata": {
    "collapsed": false,
    "execution": {
     "iopub.execute_input": "2021-03-29T08:15:55.515763Z",
     "iopub.status.busy": "2021-03-29T08:15:55.513817Z",
     "iopub.status.idle": "2021-03-29T08:15:55.625738Z",
     "shell.execute_reply": "2021-03-29T08:15:55.626337Z"
    }
   },
   "outputs": [
    {
     "data": {
      "text/plain": [
       "<cppyy.gbl.RooFitResult object at 0x0>"
      ]
     },
     "execution_count": 1,
     "metadata": {},
     "output_type": "execute_result"
    },
    {
     "name": "stdout",
     "output_type": "stream",
     "text": [
      "[#1] INFO:Minization -- p.d.f. provides expected number of events, including extended term in likelihood.\n",
      "[#1] INFO:Minization -- RooMinimizer::optimizeConst: activating const optimization\n",
      "[#1] INFO:Minization --  The following expressions have been identified as constant and will be precalculated and cached: (sig1,sig2)\n",
      "[#1] INFO:Minization --  The following expressions will be evaluated in cache-and-track mode: (bkg)\n",
      " **********\n",
      " **   10 **SET PRINT           1\n",
      " **********\n",
      " **********\n",
      " **   11 **SET NOGRAD\n",
      " **********\n",
      " PARAMETER DEFINITIONS:\n",
      "    NO.   NAME         VALUE      STEP SIZE      LIMITS\n",
      "     1 a0           5.44102e-01  1.99493e-01    0.00000e+00  1.00000e+00\n",
      "     2 a1           8.74154e-06  6.13685e-01    0.00000e+00  1.00000e+00\n",
      " MINUIT WARNING IN PARAMETR\n",
      " ============== VARIABLE2 BROUGHT BACK INSIDE LIMITS.\n",
      "     3 mu_sig       1.00000e+00  5.00000e-01    0.00000e+00  1.00000e+02\n",
      "     4 nbkg         4.43404e+01  8.30307e+00    0.00000e+00  1.00000e+04\n",
      "     5 sig1frac     8.66776e-01  1.79008e-01    0.00000e+00  1.00000e+00\n",
      " MINUIT WARNING IN PARAMETR\n",
      " ============== VARIABLE5 BROUGHT BACK INSIDE LIMITS.\n",
      " **********\n",
      " **   12 **SET ERR         0.5\n",
      " **********\n",
      " **********\n",
      " **   13 **SET PRINT           1\n",
      " **********\n",
      " **********\n",
      " **   14 **SET STR           1\n",
      " **********\n",
      " NOW USING STRATEGY  1: TRY TO BALANCE SPEED AGAINST RELIABILITY\n",
      " **********\n",
      " **   15 **MIGRAD        2500           1\n",
      " **********\n",
      " FIRST CALL TO USER FUNCTION AT NEW START POINT, WITH IFLAG=4.\n",
      " START MIGRAD MINIMIZATION.  STRATEGY  1.  CONVERGENCE WHEN EDM .LT. 1.00e-03\n",
      " FCN=-174.768 FROM MIGRAD    STATUS=INITIATE       35 CALLS          36 TOTAL\n",
      "                     EDM= unknown      STRATEGY= 1      NO ERROR MATRIX       \n",
      "  EXT PARAMETER               CURRENT GUESS       STEP         FIRST   \n",
      "  NO.   NAME      VALUE            ERROR          SIZE      DERIVATIVE \n",
      "   1  a0           5.44102e-01   1.99493e-01   0.00000e+00  -4.62522e-02\n",
      "   2  a1           9.32642e-02   6.13685e-01   6.14787e-01   1.78672e-02\n",
      "   3  mu_sig       1.00000e+00   5.00000e-01   0.00000e+00  -6.05065e+00\n",
      "   4  nbkg         4.43404e+01   8.30307e+00   0.00000e+00   9.22262e+00\n",
      "   5  sig1frac     8.66776e-01   1.79008e-01   0.00000e+00   1.17049e-01\n",
      "                               ERR DEF= 0.5\n",
      " MIGRAD MINIMIZATION HAS CONVERGED.\n",
      " MIGRAD WILL VERIFY CONVERGENCE AND ERROR MATRIX.\n",
      " COVARIANCE MATRIX CALCULATED SUCCESSFULLY\n",
      " FCN=-174.842 FROM MIGRAD    STATUS=CONVERGED     119 CALLS         120 TOTAL\n",
      "                     EDM=3.32488e-05    STRATEGY= 1      ERROR MATRIX ACCURATE \n",
      "  EXT PARAMETER                                   STEP         FIRST   \n",
      "  NO.   NAME      VALUE            ERROR          SIZE      DERIVATIVE \n",
      "   1  a0           5.66026e-01   2.41979e-01   4.57864e-03  -5.64959e-03\n",
      "   2  a1           2.57970e-01   6.23365e-01   6.26121e-03  -3.04311e-03\n",
      "   3  mu_sig       1.08014e+00   2.38474e-01   1.33647e-04   1.06797e-01\n",
      "   4  nbkg         3.98786e+01   1.24897e+01   1.04192e-04  -7.12023e-02\n",
      "   5  sig1frac     7.55815e-01   2.90821e-01   4.38231e-03   5.04174e-03\n",
      "                               ERR DEF= 0.5\n",
      " EXTERNAL ERROR MATRIX.    NDIM=  25    NPAR=  5    ERR DEF=0.5\n",
      "  6.391e-02  2.612e-02  9.313e-03 -5.184e-01 -1.358e-02 \n",
      "  2.612e-02  3.126e-01  9.765e-02 -5.436e+00 -1.284e-01 \n",
      "  9.313e-03  9.765e-02  5.688e-02 -2.086e+00 -5.073e-02 \n",
      " -5.184e-01 -5.436e+00 -2.086e+00  1.560e+02  2.824e+00 \n",
      " -1.358e-02 -1.284e-01 -5.073e-02  2.824e+00  1.021e-01 \n",
      " PARAMETER  CORRELATION COEFFICIENTS  \n",
      "       NO.  GLOBAL      1      2      3      4      5\n",
      "        1  0.19261   1.000  0.185  0.154 -0.164 -0.168\n",
      "        2  0.83717   0.185  1.000  0.732 -0.778 -0.719\n",
      "        3  0.77363   0.154  0.732  1.000 -0.700 -0.666\n",
      "        4  0.81826  -0.164 -0.778 -0.700  1.000  0.708\n",
      "        5  0.76965  -0.168 -0.719 -0.666  0.708  1.000\n",
      " **********\n",
      " **   16 **SET ERR         0.5\n",
      " **********\n",
      " **********\n",
      " **   17 **SET PRINT           1\n",
      " **********\n",
      " **********\n",
      " **   18 **HESSE        2500\n",
      " **********\n",
      " COVARIANCE MATRIX CALCULATED SUCCESSFULLY\n",
      " FCN=-174.842 FROM HESSE     STATUS=OK             31 CALLS         151 TOTAL\n",
      "                     EDM=3.29891e-05    STRATEGY= 1      ERROR MATRIX ACCURATE \n",
      "  EXT PARAMETER                                INTERNAL      INTERNAL  \n",
      "  NO.   NAME      VALUE            ERROR       STEP SIZE       VALUE   \n",
      "   1  a0           5.66026e-01   2.41899e-01   9.15727e-04   1.32439e-01\n",
      "   2  a1           2.57970e-01   6.23815e-01   1.25224e-03  -5.05289e-01\n",
      "   3  mu_sig       1.08014e+00   2.37271e-01   2.67295e-05  -1.36256e+00\n",
      "   4  nbkg         3.98786e+01   1.24171e+01   2.08383e-05  -1.44441e+00\n",
      "   5  sig1frac     7.55815e-01   2.89534e-01   8.76462e-04   5.37081e-01\n",
      "                               ERR DEF= 0.5\n",
      " EXTERNAL ERROR MATRIX.    NDIM=  25    NPAR=  5    ERR DEF=0.5\n",
      "  6.386e-02  2.567e-02  9.149e-03 -5.093e-01 -1.334e-02 \n",
      "  2.567e-02  3.084e-01  9.607e-02 -5.347e+00 -1.261e-01 \n",
      "  9.149e-03  9.607e-02  5.631e-02 -2.054e+00 -4.993e-02 \n",
      " -5.093e-01 -5.347e+00 -2.054e+00  1.542e+02  2.779e+00 \n",
      " -1.334e-02 -1.261e-01 -4.993e-02  2.779e+00  1.009e-01 \n",
      " PARAMETER  CORRELATION COEFFICIENTS  \n",
      "       NO.  GLOBAL      1      2      3      4      5\n",
      "        1  0.19080   1.000  0.183  0.153 -0.162 -0.166\n",
      "        2  0.83470   0.183  1.000  0.729 -0.775 -0.715\n",
      "        3  0.77099   0.153  0.729  1.000 -0.697 -0.662\n",
      "        4  0.81589  -0.162 -0.775 -0.697  1.000  0.704\n",
      "        5  0.76673  -0.166 -0.715 -0.662  0.704  1.000\n",
      "[#1] INFO:Minization -- RooMinimizer::optimizeConst: deactivating const optimization\n"
     ]
    }
   ],
   "source": [
    "nsig_norm.setConstant(1)\n",
    "mu_sig.setConstant(0)\n",
    "\n",
    "model.fitTo(data)"
   ]
  },
  {
   "cell_type": "markdown",
   "id": "guided-mattress",
   "metadata": {},
   "source": [
    "Plot the NLL scan and Profile NLL scan\n",
    "---------------------------------------------------"
   ]
  },
  {
   "cell_type": "markdown",
   "id": "focused-anthony",
   "metadata": {},
   "source": [
    "Let's be realistic, set some sensible ranges for all free parameters"
   ]
  },
  {
   "cell_type": "code",
   "execution_count": 19,
   "id": "interested-house",
   "metadata": {
    "collapsed": false,
    "execution": {
     "iopub.execute_input": "2021-03-29T08:15:55.638395Z",
     "iopub.status.busy": "2021-03-29T08:15:55.637689Z",
     "iopub.status.idle": "2021-03-29T08:15:55.748000Z",
     "shell.execute_reply": "2021-03-29T08:15:55.748723Z"
    }
   },
   "outputs": [],
   "source": [
    "mu_sig.setRange(0, 2.)\n",
    "a0.setRange(a0.getVal() - a0.getError(), a0.getVal() + a0.getError())\n",
    "a1.setRange(a1.getVal() - a1.getError(), a1.getVal() + a1.getError())"
   ]
  },
  {
   "cell_type": "markdown",
   "id": "premier-antigua",
   "metadata": {},
   "source": [
    "plain NLL, see [RooAbsPdf::createNLL](https://root.cern.ch/doc/master/classRooAbsPdf.html)"
   ]
  },
  {
   "cell_type": "code",
   "execution_count": 20,
   "id": "large-worcester",
   "metadata": {
    "collapsed": false,
    "execution": {
     "iopub.execute_input": "2021-03-29T08:15:55.772164Z",
     "iopub.status.busy": "2021-03-29T08:15:55.771544Z",
     "iopub.status.idle": "2021-03-29T08:15:55.881343Z",
     "shell.execute_reply": "2021-03-29T08:15:55.882241Z"
    }
   },
   "outputs": [
    {
     "name": "stdout",
     "output_type": "stream",
     "text": [
      "[#1] INFO:Minization -- p.d.f. provides expected number of events, including extended term in likelihood.\n"
     ]
    }
   ],
   "source": [
    "nll = model.createNLL(data, R.RooFit.NumCPU(2)) # use 2 CPU cores to speed up"
   ]
  },
  {
   "cell_type": "markdown",
   "id": "anonymous-drink",
   "metadata": {},
   "source": [
    "Profile NLL (PLL), see [RooAbsReal::createProfile](https://root.cern.ch/doc/master/classRooAbsReal.html)\n",
    "  RooAbsReal::createProfile(const RooArgSet & paramsOfInterest)"
   ]
  },
  {
   "cell_type": "code",
   "execution_count": 21,
   "id": "present-jimmy",
   "metadata": {
    "collapsed": false,
    "execution": {
     "iopub.execute_input": "2021-03-29T08:15:55.898256Z",
     "iopub.status.busy": "2021-03-29T08:15:55.897645Z",
     "iopub.status.idle": "2021-03-29T08:15:56.007864Z",
     "shell.execute_reply": "2021-03-29T08:15:56.008409Z"
    }
   },
   "outputs": [],
   "source": [
    "pll = nll.createProfile(mu_sig)\n",
    "\n",
    "myc.Clear()\n",
    "mframe = mu_sig.frame(R.RooFit.Title(\"NLL scan\"))"
   ]
  },
  {
   "cell_type": "markdown",
   "id": "alive-configuration",
   "metadata": {},
   "source": [
    "Plot NLL and PLL"
   ]
  },
  {
   "cell_type": "code",
   "execution_count": 22,
   "id": "thick-ireland",
   "metadata": {
    "collapsed": false,
    "execution": {
     "iopub.execute_input": "2021-03-29T08:15:56.123968Z",
     "iopub.status.busy": "2021-03-29T08:15:56.123600Z",
     "iopub.status.idle": "2021-03-29T08:15:56.231787Z",
     "shell.execute_reply": "2021-03-29T08:15:56.232159Z"
    }
   },
   "outputs": [
    {
     "data": {
      "text/plain": [
       "<cppyy.gbl.RooPlot object at 0x133604290>"
      ]
     },
     "execution_count": 1,
     "metadata": {},
     "output_type": "execute_result"
    },
    {
     "name": "stdout",
     "output_type": "stream",
     "text": [
      "[#1] INFO:Eval -- RooAbsTestStatistic::initMPMode: started 2 remote server process.\n"
     ]
    }
   ],
   "source": [
    "nll.plotOn(mframe, R.RooFit.ShiftToZero(), R.RooFit.LineColor(R.kBlue), R.RooFit.Name('NLL'))"
   ]
  },
  {
   "cell_type": "markdown",
   "id": "continuous-sweet",
   "metadata": {},
   "source": [
    "*BE CAUTIONS* scanning a PLL is much slower as it does minimization at each step"
   ]
  },
  {
   "cell_type": "code",
   "execution_count": 23,
   "id": "matched-aberdeen",
   "metadata": {
    "collapsed": false,
    "execution": {
     "iopub.execute_input": "2021-03-29T08:16:03.239607Z",
     "iopub.status.busy": "2021-03-29T08:16:03.239252Z",
     "iopub.status.idle": "2021-03-29T08:16:03.347279Z",
     "shell.execute_reply": "2021-03-29T08:16:03.347718Z"
    }
   },
   "outputs": [
    {
     "name": "stdout",
     "output_type": "stream",
     "text": [
      "[#1] INFO:Minization -- RooProfileLL::evaluate(nll_model_modelData_Profile[mu_sig]) Creating instance of MINUIT\n",
      "[#1] INFO:Minization -- RooProfileLL::evaluate(nll_model_modelData_Profile[mu_sig]) determining minimum likelihood for current configurations w.r.t all observable\n",
      "[#1] INFO:Eval -- RooAbsTestStatistic::initMPMode: started 2 remote server process.\n",
      "[#1] INFO:Minization -- RooProfileLL::evaluate(nll_model_modelData_Profile[mu_sig]) minimum found at (mu_sig=1.07992)\n",
      ".........................................................................................................................................................................................................."
     ]
    },
    {
     "name": "stderr",
     "output_type": "stream",
     "text": [
      "Info in <TCanvas::Print>: png file test_roofit_extended_2.png has been created\n"
     ]
    }
   ],
   "source": [
    "pll.plotOn(mframe, R.RooFit.LineColor(R.kRed), R.RooFit.Name('PLL'), R.RooFit.Precision(1) )\n",
    "\n",
    "mframe.SetMinimum(0)\n",
    "mframe.SetMaximum(30.)\n",
    "mframe.Draw()\n",
    "\n",
    "lg.Clear()\n",
    "lg.AddEntry(mframe.findObject(\"NLL\"), 'Plain negative llh', 'l')\n",
    "lg.AddEntry(mframe.findObject(\"PLL\"), 'Profile nll', 'l')\n",
    "lg.Draw(\"same\")\n",
    "\n",
    "myc.Update()\n",
    "myc.SaveAs(\"test_roofit_extended_2.png\")"
   ]
  },
  {
   "cell_type": "markdown",
   "id": "solved-violin",
   "metadata": {},
   "source": [
    "Draw all canvases "
   ]
  },
  {
   "cell_type": "code",
   "execution_count": 24,
   "id": "hybrid-steering",
   "metadata": {
    "collapsed": false,
    "execution": {
     "iopub.execute_input": "2021-03-29T08:16:03.355637Z",
     "iopub.status.busy": "2021-03-29T08:16:03.355059Z",
     "iopub.status.idle": "2021-03-29T08:16:03.524613Z",
     "shell.execute_reply": "2021-03-29T08:16:03.524880Z"
    }
   },
   "outputs": [
    {
     "data": {
      "image/png": "[encoded data removed]",
      "text/plain": [
       "<IPython.core.display.Image object>"
      ]
     },
     "metadata": {},
     "output_type": "display_data"
    }
   ],
   "source": [
    "from ROOT import gROOT \n",
    "gROOT.GetListOfCanvases().Draw()"
   ]
  }
 ],
 "metadata": {
  "kernelspec": {
   "display_name": "Python 3",
   "language": "python",
   "name": "python3"
  },
  "language_info": {
   "codemirror_mode": {
    "name": "ipython",
    "version": 3
   },
   "file_extension": ".py",
   "mimetype": "text/x-python",
   "name": "python",
   "nbconvert_exporter": "python",
   "pygments_lexer": "ipython3",
   "version": "3.8.8"
  }
 },
 "nbformat": 4,
 "nbformat_minor": 5
}
