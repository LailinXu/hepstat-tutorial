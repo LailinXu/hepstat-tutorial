{
 "cells": [
  {
   "cell_type": "markdown",
   "id": "strategic-surprise",
   "metadata": {},
   "source": [
    "# Hepstat_Tutorial_Roofit_Extended\n",
    "Fit examples with RooFit, composite p.d.f with signal and background component\n",
    "```\n",
    "pdf = f_bkg * bkg(x,a0,a1) + (1-fbkg) * (f_sig1 * sig1(x,m,s1 + (1-f_sig1) * sig2(x,m,s2)))\n",
    "```\n",
    " with following objectives:\n",
    " * Compare plain likelihood fit and profile likelihood fit\n",
    " * Fit with nuisance parameters with constraints\n",
    "\n",
    "\n",
    "Modified from [rf201_composite.py](https://root.cern/doc/master/rf201__composite_8py.html)\n",
    "\n",
    "\n",
    "**Author:** Lailin XU  \n",
    "<i><small>This notebook tutorial was automatically generated with <a href= \"https://github.com/root-project/root/blob/master/documentation/doxygen/converttonotebook.py\">ROOTBOOK-izer</a> from the macro found in the ROOT repository  on Monday, March 29, 2021 at 03:45 PM.</small></i>"
   ]
  },
  {
   "cell_type": "markdown",
   "id": "yellow-diversity",
   "metadata": {},
   "source": [
    "Import the ROOT libraries"
   ]
  },
  {
   "cell_type": "code",
   "execution_count": 1,
   "id": "processed-fruit",
   "metadata": {
    "collapsed": false,
    "execution": {
     "iopub.execute_input": "2021-03-29T07:45:37.072813Z",
     "iopub.status.busy": "2021-03-29T07:45:37.072006Z",
     "iopub.status.idle": "2021-03-29T07:45:37.584711Z",
     "shell.execute_reply": "2021-03-29T07:45:37.584964Z"
    }
   },
   "outputs": [
    {
     "name": "stdout",
     "output_type": "stream",
     "text": [
      "Welcome to JupyROOT 6.22/07\n"
     ]
    }
   ],
   "source": [
    "import ROOT as R\n",
    "from math import pow, sqrt\n",
    "R.gROOT.SetStyle(\"ATLAS\")"
   ]
  },
  {
   "cell_type": "markdown",
   "id": "provincial-southeast",
   "metadata": {},
   "source": [
    "Setup component pdfs\n",
    "---------------------------------------"
   ]
  },
  {
   "cell_type": "markdown",
   "id": "sought-barbados",
   "metadata": {},
   "source": [
    "Declare observable x"
   ]
  },
  {
   "cell_type": "markdown",
   "id": "frank-drinking",
   "metadata": {},
   "source": [
    "  [RooRealVar](https://root.cern.ch/doc/master/classRooRealVar.html) (const char *name, const char *title, Double_t minValue, Double_t maxValue, const char *unit=\"\")"
   ]
  },
  {
   "cell_type": "code",
   "execution_count": 2,
   "id": "dependent-acting",
   "metadata": {
    "collapsed": false,
    "execution": {
     "iopub.execute_input": "2021-03-29T07:45:37.664441Z",
     "iopub.status.busy": "2021-03-29T07:45:37.664122Z",
     "iopub.status.idle": "2021-03-29T07:45:37.771378Z",
     "shell.execute_reply": "2021-03-29T07:45:37.771814Z"
    }
   },
   "outputs": [
    {
     "name": "stdout",
     "output_type": "stream",
     "text": [
      "\n",
      "\u001b[1mRooFit v3.60 -- Developed by Wouter Verkerke and David Kirkby\u001b[0m \n",
      "                Copyright (C) 2000-2013 NIKHEF, University of California & Stanford University\n",
      "                All rights reserved, please read http://roofit.sourceforge.net/license.txt\n",
      "\n"
     ]
    }
   ],
   "source": [
    "x = R.RooRealVar(\"x\", \"x\", 0, 10)"
   ]
  },
  {
   "cell_type": "markdown",
   "id": "pharmaceutical-sending",
   "metadata": {},
   "source": [
    "Create two Gaussian PDFs g1(x,mean1,sigma) anf g2(x,mean2,sigma) and\n",
    "their parameters"
   ]
  },
  {
   "cell_type": "code",
   "execution_count": 3,
   "id": "inside-riverside",
   "metadata": {
    "collapsed": false,
    "execution": {
     "iopub.execute_input": "2021-03-29T07:45:37.803517Z",
     "iopub.status.busy": "2021-03-29T07:45:37.803107Z",
     "iopub.status.idle": "2021-03-29T07:45:37.910929Z",
     "shell.execute_reply": "2021-03-29T07:45:37.911484Z"
    }
   },
   "outputs": [],
   "source": [
    "mean = R.RooRealVar(\"mean\", \"mean of gaussians\", 5)\n",
    "sigma1 = R.RooRealVar(\"sigma1\", \"width of gaussians\", 0.5)\n",
    "sigma2 = R.RooRealVar(\"sigma2\", \"width of gaussians\", 1)\n",
    "\n",
    "sig1 = R.RooGaussian(\"sig1\", \"Signal component 1\", x, mean, sigma1)\n",
    "sig2 = R.RooGaussian(\"sig2\", \"Signal component 2\", x, mean, sigma2)"
   ]
  },
  {
   "cell_type": "markdown",
   "id": "ranging-indie",
   "metadata": {},
   "source": [
    "Build Chebychev polynomial p.d.f."
   ]
  },
  {
   "cell_type": "code",
   "execution_count": 4,
   "id": "conservative-receiver",
   "metadata": {
    "collapsed": false,
    "execution": {
     "iopub.execute_input": "2021-03-29T07:45:37.938525Z",
     "iopub.status.busy": "2021-03-29T07:45:37.938030Z",
     "iopub.status.idle": "2021-03-29T07:45:38.049377Z",
     "shell.execute_reply": "2021-03-29T07:45:38.048436Z"
    }
   },
   "outputs": [],
   "source": [
    "a0 = R.RooRealVar(\"a0\", \"a0\", 0.5, 0., 1.)\n",
    "a1 = R.RooRealVar(\"a1\", \"a1\", -0.2, 0., 1.)\n",
    "bkg = R.RooChebychev(\"bkg\", \"Background\", x, R.RooArgList(a0, a1))"
   ]
  },
  {
   "cell_type": "markdown",
   "id": "moderate-exhibition",
   "metadata": {},
   "source": [
    "Normalization of the components"
   ]
  },
  {
   "cell_type": "code",
   "execution_count": 5,
   "id": "ordered-external",
   "metadata": {
    "collapsed": false,
    "execution": {
     "iopub.execute_input": "2021-03-29T07:45:38.066350Z",
     "iopub.status.busy": "2021-03-29T07:45:38.065742Z",
     "iopub.status.idle": "2021-03-29T07:45:38.176700Z",
     "shell.execute_reply": "2021-03-29T07:45:38.177310Z"
    }
   },
   "outputs": [],
   "source": [
    "nsig_norm = R.RooRealVar(\"nsig_norm\", \"number of signal events\", 500, 0., 10000)\n",
    "mu_sig = R.RooRealVar(\"mu_sig\", \"signal strength\", 1, 0, 100.)\n",
    "mu_sig.setConstant(1)\n",
    "nsig = R.RooProduct(\"nsig\", \"number of signal events\", R.RooArgList(nsig_norm, mu_sig))\n",
    "nbkg = R.RooRealVar(\"nbkg\", \"number of background events\", 500, 0, 10000)"
   ]
  },
  {
   "cell_type": "markdown",
   "id": "answering-bahrain",
   "metadata": {},
   "source": [
    "Full model: the total PDF\n",
    "------------------------------------------\n",
    "Sum the signal components into a composite signal p.d.f.. Here we use [RooAddPdf](https://root.cern.ch/doc/master/classRooAddPdf.html)\n",
    "  RooAddPdf (const char *name, const char *title, const RooArgList &pdfList, const RooArgList &coefList, Bool_t recursiveFraction=kFALSE)"
   ]
  },
  {
   "cell_type": "code",
   "execution_count": 6,
   "id": "usual-automation",
   "metadata": {
    "collapsed": false,
    "execution": {
     "iopub.execute_input": "2021-03-29T07:45:38.199276Z",
     "iopub.status.busy": "2021-03-29T07:45:38.198691Z",
     "iopub.status.idle": "2021-03-29T07:45:38.309305Z",
     "shell.execute_reply": "2021-03-29T07:45:38.309983Z"
    }
   },
   "outputs": [],
   "source": [
    "sig1frac = R.RooRealVar(\"sig1frac\", \"fraction of component 1 in signal\", 0.8, 0., 1.)\n",
    "sig = R.RooAddPdf(\"sig\", \"Signal\", R.RooArgList(sig1, sig2), R.RooArgList(sig1frac))"
   ]
  },
  {
   "cell_type": "markdown",
   "id": "cognitive-optimum",
   "metadata": {},
   "source": [
    "Sum the composite signal and background"
   ]
  },
  {
   "cell_type": "code",
   "execution_count": 7,
   "id": "social-exchange",
   "metadata": {
    "collapsed": false,
    "execution": {
     "iopub.execute_input": "2021-03-29T07:45:38.316730Z",
     "iopub.status.busy": "2021-03-29T07:45:38.316030Z",
     "iopub.status.idle": "2021-03-29T07:45:38.426381Z",
     "shell.execute_reply": "2021-03-29T07:45:38.426976Z"
    }
   },
   "outputs": [],
   "source": [
    "model = R.RooAddPdf(\"model\", \"g1+g2+a\", R.RooArgList(bkg, sig), R.RooArgList(nbkg, nsig))"
   ]
  },
  {
   "cell_type": "markdown",
   "id": "vulnerable-operations",
   "metadata": {},
   "source": [
    "A quick look at the model"
   ]
  },
  {
   "cell_type": "code",
   "execution_count": 8,
   "id": "selective-retro",
   "metadata": {
    "collapsed": false,
    "execution": {
     "iopub.execute_input": "2021-03-29T07:45:38.436387Z",
     "iopub.status.busy": "2021-03-29T07:45:38.435613Z",
     "iopub.status.idle": "2021-03-29T07:45:38.546582Z",
     "shell.execute_reply": "2021-03-29T07:45:38.547247Z"
    }
   },
   "outputs": [
    {
     "name": "stdout",
     "output_type": "stream",
     "text": [
      "RooAddPdf::model[ nbkg * bkg + nsig * sig ] = 1\n"
     ]
    }
   ],
   "source": [
    "model.Print()"
   ]
  },
  {
   "cell_type": "markdown",
   "id": "inner-reggae",
   "metadata": {},
   "source": [
    "Sample, fit and plot model\n",
    "---------------------------------------------------"
   ]
  },
  {
   "cell_type": "code",
   "execution_count": 9,
   "id": "computational-update",
   "metadata": {
    "collapsed": false,
    "execution": {
     "iopub.execute_input": "2021-03-29T07:45:38.592966Z",
     "iopub.status.busy": "2021-03-29T07:45:38.592515Z",
     "iopub.status.idle": "2021-03-29T07:45:38.706349Z",
     "shell.execute_reply": "2021-03-29T07:45:38.706898Z"
    }
   },
   "outputs": [
    {
     "data": {
      "text/plain": [
       "<cppyy.gbl.TCanvas object at 0x11ec7e390>"
      ]
     },
     "execution_count": 1,
     "metadata": {},
     "output_type": "execute_result"
    }
   ],
   "source": [
    "myc = R.TCanvas(\"c\", \"c\", 800, 600)\n",
    "myc.SetFillColor(0)\n",
    "myc.cd()"
   ]
  },
  {
   "cell_type": "markdown",
   "id": "light-assault",
   "metadata": {},
   "source": [
    "Generate a toy data sample of 1000 events in x from model"
   ]
  },
  {
   "cell_type": "markdown",
   "id": "dense-antenna",
   "metadata": {},
   "source": [
    " [RooAbsPdf::generate](https://root.cern.ch/doc/master/classRooAbsPdf.html), this will generate *unbinned* data, see [RooDataSet](https://root.cern.ch/doc/master/classRooDataSet.html)"
   ]
  },
  {
   "cell_type": "code",
   "execution_count": 10,
   "id": "sized-exchange",
   "metadata": {
    "collapsed": false,
    "execution": {
     "iopub.execute_input": "2021-03-29T07:45:38.741894Z",
     "iopub.status.busy": "2021-03-29T07:45:38.741396Z",
     "iopub.status.idle": "2021-03-29T07:45:38.851325Z",
     "shell.execute_reply": "2021-03-29T07:45:38.852017Z"
    }
   },
   "outputs": [],
   "source": [
    "data = model.generate(R.RooArgSet(x), 1000)"
   ]
  },
  {
   "cell_type": "markdown",
   "id": "champion-employment",
   "metadata": {},
   "source": [
    "Fit model to data"
   ]
  },
  {
   "cell_type": "code",
   "execution_count": 11,
   "id": "fifth-scanner",
   "metadata": {
    "collapsed": false,
    "execution": {
     "iopub.execute_input": "2021-03-29T07:45:38.919284Z",
     "iopub.status.busy": "2021-03-29T07:45:38.918901Z",
     "iopub.status.idle": "2021-03-29T07:45:39.026604Z",
     "shell.execute_reply": "2021-03-29T07:45:39.027141Z"
    }
   },
   "outputs": [
    {
     "data": {
      "text/plain": [
       "<cppyy.gbl.RooFitResult object at 0x0>"
      ]
     },
     "execution_count": 1,
     "metadata": {},
     "output_type": "execute_result"
    },
    {
     "name": "stdout",
     "output_type": "stream",
     "text": [
      "[#1] INFO:Minization -- p.d.f. provides expected number of events, including extended term in likelihood.\n",
      "[#1] INFO:Minization -- RooMinimizer::optimizeConst: activating const optimization\n",
      "[#1] INFO:Minization --  The following expressions have been identified as constant and will be precalculated and cached: (sig1,sig2)\n",
      "[#1] INFO:Minization --  The following expressions will be evaluated in cache-and-track mode: (bkg)\n",
      " **********\n",
      " **    1 **SET PRINT           1\n",
      " **********\n",
      " **********\n",
      " **    2 **SET NOGRAD\n",
      " **********\n",
      " PARAMETER DEFINITIONS:\n",
      "    NO.   NAME         VALUE      STEP SIZE      LIMITS\n",
      "     1 a0           5.00000e-01  1.00000e-01    0.00000e+00  1.00000e+00\n",
      "     2 a1           0.00000e+00  1.00000e-01    0.00000e+00  1.00000e+00\n",
      " MINUIT WARNING IN PARAM DEF\n",
      " ============== STARTING VALUE IS AT LIMIT.\n",
      " MINUIT WARNING IN PARAMETR\n",
      " ============== VARIABLE2 IS AT ITS LOWER ALLOWED LIMIT.\n",
      " MINUIT WARNING IN PARAMETR\n",
      " ============== VARIABLE2 BROUGHT BACK INSIDE LIMITS.\n",
      "     3 nbkg         5.00000e+02  2.50000e+02    0.00000e+00  1.00000e+04\n",
      "     4 nsig_norm    5.00000e+02  2.50000e+02    0.00000e+00  1.00000e+04\n",
      "     5 sig1frac     8.00000e-01  1.00000e-01    0.00000e+00  1.00000e+00\n",
      " **********\n",
      " **    3 **SET ERR         0.5\n",
      " **********\n",
      " **********\n",
      " **    4 **SET PRINT           1\n",
      " **********\n",
      " **********\n",
      " **    5 **SET STR           1\n",
      " **********\n",
      " NOW USING STRATEGY  1: TRY TO BALANCE SPEED AGAINST RELIABILITY\n",
      " **********\n",
      " **    6 **MIGRAD        2500           1\n",
      " **********\n",
      " FIRST CALL TO USER FUNCTION AT NEW START POINT, WITH IFLAG=4.\n",
      " MINUIT WARNING IN MIGrad    \n",
      " ============== VARIABLE2 IS AT ITS LOWER ALLOWED LIMIT.\n",
      " START MIGRAD MINIMIZATION.  STRATEGY  1.  CONVERGENCE WHEN EDM .LT. 1.00e-03\n",
      " FCN=-3981.56 FROM MIGRAD    STATUS=INITIATE       33 CALLS          34 TOTAL\n",
      "                     EDM= unknown      STRATEGY= 1      NO ERROR MATRIX       \n",
      "  EXT PARAMETER               CURRENT GUESS       STEP         FIRST   \n",
      "  NO.   NAME      VALUE            ERROR          SIZE      DERIVATIVE \n",
      "   1  a0           5.00000e-01   1.00000e-01   0.00000e+00   2.42158e+00\n",
      "   2  a1           6.91266e-02   1.00000e-01   5.30141e-01  -2.47844e-01\n",
      "   3  nbkg         5.00000e+02   2.50000e+02   0.00000e+00   5.64537e+01\n",
      "   4  nsig_norm    5.00000e+02   2.50000e+02   0.00000e+00  -5.64546e+01\n",
      "   5  sig1frac     8.00000e-01   1.00000e-01   0.00000e+00   2.68987e-01\n",
      "                               ERR DEF= 0.5\n",
      " MIGRAD MINIMIZATION HAS CONVERGED.\n",
      " MIGRAD WILL VERIFY CONVERGENCE AND ERROR MATRIX.\n",
      " COVARIANCE MATRIX CALCULATED SUCCESSFULLY\n",
      " FCN=-3983.59 FROM MIGRAD    STATUS=CONVERGED     132 CALLS         133 TOTAL\n",
      "                     EDM=8.19227e-06    STRATEGY= 1      ERROR MATRIX ACCURATE \n",
      "  EXT PARAMETER                                   STEP         FIRST   \n",
      "  NO.   NAME      VALUE            ERROR          SIZE      DERIVATIVE \n",
      "   1  a0           5.07582e-01   7.96182e-02   6.78893e-03  -3.57814e-03\n",
      "   2  a1           2.66323e-01   1.34788e-01   8.23878e-03   4.57147e-04\n",
      "   3  nbkg         4.27828e+02   3.83165e+01   5.09588e-04  -1.07634e-01\n",
      "   4  nsig_norm    5.72096e+02   4.01499e+01   4.94609e-04  -2.13397e-01\n",
      "   5  sig1frac     6.41354e-01   9.73632e-02   6.07877e-03   6.56989e-04\n",
      "                               ERR DEF= 0.5\n",
      " EXTERNAL ERROR MATRIX.    NDIM=  25    NPAR=  5    ERR DEF=0.5\n",
      "  6.393e-03  2.444e-03 -5.472e-01  5.471e-01 -1.360e-03 \n",
      "  2.444e-03  1.876e-02 -3.816e+00  3.815e+00 -8.807e-03 \n",
      " -5.472e-01 -3.816e+00  1.468e+03 -1.040e+03  2.504e+00 \n",
      "  5.471e-01  3.815e+00 -1.040e+03  1.612e+03 -2.504e+00 \n",
      " -1.360e-03 -8.807e-03  2.504e+00 -2.504e+00  9.613e-03 \n",
      " PARAMETER  CORRELATION COEFFICIENTS  \n",
      "       NO.  GLOBAL      1      2      3      4      5\n",
      "        1  0.22641   1.000  0.223 -0.179  0.170 -0.173\n",
      "        2  0.79364   0.223  1.000 -0.727  0.694 -0.656\n",
      "        3  0.78664  -0.179 -0.727  1.000 -0.676  0.667\n",
      "        4  0.75448   0.170  0.694 -0.676  1.000 -0.636\n",
      "        5  0.73098  -0.173 -0.656  0.667 -0.636  1.000\n",
      " **********\n",
      " **    7 **SET ERR         0.5\n",
      " **********\n",
      " **********\n",
      " **    8 **SET PRINT           1\n",
      " **********\n",
      " **********\n",
      " **    9 **HESSE        2500\n",
      " **********\n",
      " COVARIANCE MATRIX CALCULATED SUCCESSFULLY\n",
      " FCN=-3983.59 FROM HESSE     STATUS=OK             31 CALLS         164 TOTAL\n",
      "                     EDM=8.15795e-06    STRATEGY= 1      ERROR MATRIX ACCURATE \n",
      "  EXT PARAMETER                                INTERNAL      INTERNAL  \n",
      "  NO.   NAME      VALUE            ERROR       STEP SIZE       VALUE   \n",
      "   1  a0           5.07582e-01   7.95756e-02   1.35779e-03   1.51648e-02\n",
      "   2  a1           2.66323e-01   1.33724e-01   3.29551e-04  -4.86296e-01\n",
      "   3  nbkg         4.27828e+02   3.80516e+01   1.01918e-04  -1.15411e+00\n",
      "   4  nsig_norm    5.72096e+02   3.99008e+01   9.89219e-05  -1.08774e+00\n",
      "   5  sig1frac     6.41354e-01   9.67277e-02   2.43151e-04   2.86616e-01\n",
      "                               ERR DEF= 0.5\n",
      " EXTERNAL ERROR MATRIX.    NDIM=  25    NPAR=  5    ERR DEF=0.5\n",
      "  6.386e-03  2.398e-03 -5.351e-01  5.351e-01 -1.328e-03 \n",
      "  2.398e-03  1.846e-02 -3.736e+00  3.736e+00 -8.604e-03 \n",
      " -5.351e-01 -3.736e+00  1.448e+03 -1.020e+03  2.453e+00 \n",
      "  5.351e-01  3.736e+00 -1.020e+03  1.592e+03 -2.453e+00 \n",
      " -1.328e-03 -8.604e-03  2.453e+00 -2.453e+00  9.486e-03 \n",
      " PARAMETER  CORRELATION COEFFICIENTS  \n",
      "       NO.  GLOBAL      1      2      3      4      5\n",
      "        1  0.22416   1.000  0.221 -0.176  0.168 -0.171\n",
      "        2  0.78979   0.221  1.000 -0.723  0.689 -0.650\n",
      "        3  0.78325  -0.176 -0.723  1.000 -0.672  0.662\n",
      "        4  0.75090   0.168  0.689 -0.672  1.000 -0.631\n",
      "        5  0.72671  -0.171 -0.650  0.662 -0.631  1.000\n",
      "[#1] INFO:Minization -- RooMinimizer::optimizeConst: deactivating const optimization\n"
     ]
    }
   ],
   "source": [
    "model.fitTo(data)"
   ]
  },
  {
   "cell_type": "markdown",
   "id": "unsigned-interim",
   "metadata": {},
   "source": [
    "Plot data and PDF overlaid"
   ]
  },
  {
   "cell_type": "code",
   "execution_count": 12,
   "id": "narrative-cancellation",
   "metadata": {
    "collapsed": false,
    "execution": {
     "iopub.execute_input": "2021-03-29T07:45:39.072332Z",
     "iopub.status.busy": "2021-03-29T07:45:39.071943Z",
     "iopub.status.idle": "2021-03-29T07:45:39.179343Z",
     "shell.execute_reply": "2021-03-29T07:45:39.179805Z"
    }
   },
   "outputs": [],
   "source": [
    "xframe = x.frame(R.RooFit.Title(\"Example of composite pdf=(sig1+sig2)+bkg\"))\n",
    "data.plotOn(xframe, R.RooFit.Name('Data'))\n",
    "model.plotOn(xframe, R.RooFit.Name('Full_Model'), R.RooFit.LineColor(R.kBlue))\n",
    "xframe.Draw()\n",
    "ymax = xframe.GetMaximum()\n",
    "xframe.SetMaximum(ymax*1.2)"
   ]
  },
  {
   "cell_type": "markdown",
   "id": "registered-journalist",
   "metadata": {},
   "source": [
    "Overlay the background component of model with a dashed line"
   ]
  },
  {
   "cell_type": "code",
   "execution_count": 13,
   "id": "moderate-gravity",
   "metadata": {
    "collapsed": false,
    "execution": {
     "iopub.execute_input": "2021-03-29T07:45:39.196118Z",
     "iopub.status.busy": "2021-03-29T07:45:39.195584Z",
     "iopub.status.idle": "2021-03-29T07:45:39.306036Z",
     "shell.execute_reply": "2021-03-29T07:45:39.306932Z"
    }
   },
   "outputs": [
    {
     "name": "stdout",
     "output_type": "stream",
     "text": [
      "[#1] INFO:Plotting -- RooAbsPdf::plotOn(model) directly selected PDF components: (bkg)\n",
      "[#1] INFO:Plotting -- RooAbsPdf::plotOn(model) indirectly selected PDF components: ()\n"
     ]
    }
   ],
   "source": [
    "ras_bkg = R.RooArgSet(bkg)\n",
    "model.plotOn(xframe, R.RooFit.Components(ras_bkg), R.RooFit.LineStyle(R.kDashed), R.RooFit.LineColor(R.kRed), R.RooFit.Name('Bkg'))\n",
    "xframe.Draw()"
   ]
  },
  {
   "cell_type": "markdown",
   "id": "seeing-plumbing",
   "metadata": {},
   "source": [
    "Overlay the signal components of model with a dotted line"
   ]
  },
  {
   "cell_type": "code",
   "execution_count": 14,
   "id": "vital-problem",
   "metadata": {
    "collapsed": false,
    "execution": {
     "iopub.execute_input": "2021-03-29T07:45:39.318817Z",
     "iopub.status.busy": "2021-03-29T07:45:39.317996Z",
     "iopub.status.idle": "2021-03-29T07:45:39.428233Z",
     "shell.execute_reply": "2021-03-29T07:45:39.429122Z"
    }
   },
   "outputs": [
    {
     "name": "stdout",
     "output_type": "stream",
     "text": [
      "[#1] INFO:Plotting -- RooAbsPdf::plotOn(model) directly selected PDF components: (sig1)\n",
      "[#1] INFO:Plotting -- RooAbsPdf::plotOn(model) indirectly selected PDF components: (sig)\n",
      "[#1] INFO:Plotting -- RooAbsPdf::plotOn(model) directly selected PDF components: (sig2)\n",
      "[#1] INFO:Plotting -- RooAbsPdf::plotOn(model) indirectly selected PDF components: (sig)\n"
     ]
    }
   ],
   "source": [
    "ras_sig1 = R.RooArgSet(sig1)\n",
    "model.plotOn(xframe, R.RooFit.Components(ras_sig1), R.RooFit.LineStyle(R.kDotted), R.RooFit.LineColor(R.kMagenta), R.RooFit.Name('Sig1'))\n",
    "xframe.Draw()\n",
    "ras_sig2 = R.RooArgSet(sig2)\n",
    "model.plotOn(xframe, R.RooFit.Components(ras_sig2), R.RooFit.LineStyle(R.kDotted), R.RooFit.LineColor(R.kGreen+2), R.RooFit.Name('Sig2'))\n",
    "xframe.Draw()"
   ]
  },
  {
   "cell_type": "markdown",
   "id": "mysterious-importance",
   "metadata": {},
   "source": [
    "Overlay the background+sig2 components of model with a dotted line"
   ]
  },
  {
   "cell_type": "code",
   "execution_count": 15,
   "id": "hourly-script",
   "metadata": {
    "collapsed": false,
    "execution": {
     "iopub.execute_input": "2021-03-29T07:45:39.445423Z",
     "iopub.status.busy": "2021-03-29T07:45:39.444785Z",
     "iopub.status.idle": "2021-03-29T07:45:39.556264Z",
     "shell.execute_reply": "2021-03-29T07:45:39.557262Z"
    }
   },
   "outputs": [
    {
     "data": {
      "text/plain": [
       "<cppyy.gbl.RooPlot object at 0x11ee38560>"
      ]
     },
     "execution_count": 1,
     "metadata": {},
     "output_type": "execute_result"
    },
    {
     "name": "stdout",
     "output_type": "stream",
     "text": [
      "[#1] INFO:Plotting -- RooAbsPdf::plotOn(model) directly selected PDF components: (bkg,sig2)\n",
      "[#1] INFO:Plotting -- RooAbsPdf::plotOn(model) indirectly selected PDF components: (sig)\n"
     ]
    }
   ],
   "source": [
    "ras_bkg_sig2 = R.RooArgSet(bkg, sig2)\n",
    "model.plotOn(xframe, R.RooFit.Components(ras_bkg_sig2), R.RooFit.LineStyle(R.kDotted), R.RooFit.LineColor(R.kCyan), R.RooFit.Name('Sig2Bkg'))"
   ]
  },
  {
   "cell_type": "markdown",
   "id": "tough-license",
   "metadata": {},
   "source": [
    "Draw legends"
   ]
  },
  {
   "cell_type": "code",
   "execution_count": 16,
   "id": "quarterly-accuracy",
   "metadata": {
    "collapsed": false,
    "execution": {
     "iopub.execute_input": "2021-03-29T07:45:39.596439Z",
     "iopub.status.busy": "2021-03-29T07:45:39.587345Z",
     "iopub.status.idle": "2021-03-29T07:45:39.707471Z",
     "shell.execute_reply": "2021-03-29T07:45:39.706698Z"
    }
   },
   "outputs": [],
   "source": [
    "lIy = 0.92\n",
    "lg = R.TLegend(0.60, lIy-0.25, 0.85, lIy)\n",
    "lg.SetBorderSize(0)\n",
    "lg.SetFillStyle(0)\n",
    "lg.SetTextFont(42)\n",
    "lg.SetTextSize(0.04)\n",
    "lg.AddEntry(xframe.findObject(\"Data\"), 'Data', 'p')\n",
    "lg.AddEntry(xframe.findObject(\"Full_Model\"), 'Full model (Sig1+Sig2+Bkg)', 'l')\n",
    "lg.AddEntry(xframe.findObject(\"Bkg\"), 'Bkg', 'l')\n",
    "lg.AddEntry(xframe.findObject(\"Sig1\"), 'Sig1', 'l')\n",
    "lg.AddEntry(xframe.findObject(\"Sig2\"), 'Sig2', 'l')\n",
    "lg.Draw(\"same\")"
   ]
  },
  {
   "cell_type": "markdown",
   "id": "elect-convenience",
   "metadata": {},
   "source": [
    "Show fit results in the canvas"
   ]
  },
  {
   "cell_type": "code",
   "execution_count": 17,
   "id": "swiss-electronics",
   "metadata": {
    "collapsed": false,
    "execution": {
     "iopub.execute_input": "2021-03-29T07:45:39.817431Z",
     "iopub.status.busy": "2021-03-29T07:45:39.817105Z",
     "iopub.status.idle": "2021-03-29T07:45:39.924484Z",
     "shell.execute_reply": "2021-03-29T07:45:39.924890Z"
    }
   },
   "outputs": [
    {
     "name": "stderr",
     "output_type": "stream",
     "text": [
      "Info in <TCanvas::Print>: png file test_roofit_extended_1.png has been created\n"
     ]
    }
   ],
   "source": [
    "xlab0, ylab0=0.18, 0.90\n",
    "fv1 = R.TPaveText(xlab0, ylab0, xlab0+0.20, 0.75,\"NDC\")\n",
    "fv1.SetBorderSize(0)\n",
    "fv1.SetFillStyle(0)\n",
    "fv1.SetTextAlign(11)\n",
    "fv1.SetTextSize(0.030)\n",
    "fv1.AddText(\"{0:s} = {1:.2f} #pm {2:.2f}\".format(nbkg.GetTitle(), nbkg.getVal(), nbkg.getError()))\n",
    "fv1.AddText(\"{0:s} = {1:.2f} #pm {2:.2f}\".format(nsig_norm.GetTitle(), nsig_norm.getVal(), nsig_norm.getError()))\n",
    "fv1.Draw(\"same\")\n",
    "\n",
    "myc.Update()\n",
    "myc.SaveAs(\"test_roofit_extended_1.png\")"
   ]
  },
  {
   "cell_type": "markdown",
   "id": "conventional-verification",
   "metadata": {},
   "source": [
    "Draw all canvases "
   ]
  },
  {
   "cell_type": "code",
   "execution_count": 18,
   "id": "grateful-campaign",
   "metadata": {
    "collapsed": false,
    "execution": {
     "iopub.execute_input": "2021-03-29T07:45:39.932339Z",
     "iopub.status.busy": "2021-03-29T07:45:39.931872Z",
     "iopub.status.idle": "2021-03-29T07:45:40.123179Z",
     "shell.execute_reply": "2021-03-29T07:45:40.123405Z"
    }
   },
   "outputs": [
    {
     "data": {
      "image/png": "[encoded data removed]",
      "text/plain": [
       "<IPython.core.display.Image object>"
      ]
     },
     "metadata": {},
     "output_type": "display_data"
    }
   ],
   "source": [
    "from ROOT import gROOT \n",
    "gROOT.GetListOfCanvases().Draw()"
   ]
  }
 ],
 "metadata": {
  "kernelspec": {
   "display_name": "Python 3",
   "language": "python",
   "name": "python3"
  },
  "language_info": {
   "codemirror_mode": {
    "name": "ipython",
    "version": 3
   },
   "file_extension": ".py",
   "mimetype": "text/x-python",
   "name": "python",
   "nbconvert_exporter": "python",
   "pygments_lexer": "ipython3",
   "version": "3.8.8"
  }
 },
 "nbformat": 4,
 "nbformat_minor": 5
}
