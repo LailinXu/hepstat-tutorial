{
 "cells": [
  {
   "cell_type": "markdown",
   "id": "worldwide-financing",
   "metadata": {},
   "source": [
    "# Rpc_Reso_Fit\n",
    "Gaussian classifier\n",
    "\n",
    "\n",
    "\n",
    "\n",
    "**Author:** Lailin XU  \n",
    "<i><small>This notebook tutorial was automatically generated with <a href= \"https://github.com/root-project/root/blob/master/documentation/doxygen/converttonotebook.py\">ROOTBOOK-izer</a> from the macro found in the ROOT repository  on Monday, May 17, 2021 at 04:27 PM.</small></i>"
   ]
  },
  {
   "cell_type": "code",
   "execution_count": 1,
   "id": "acoustic-celtic",
   "metadata": {
    "collapsed": false,
    "execution": {
     "iopub.execute_input": "2021-05-17T08:27:22.090906Z",
     "iopub.status.busy": "2021-05-17T08:27:22.090178Z",
     "iopub.status.idle": "2021-05-17T08:27:22.715894Z",
     "shell.execute_reply": "2021-05-17T08:27:22.716083Z"
    }
   },
   "outputs": [
    {
     "name": "stdout",
     "output_type": "stream",
     "text": [
      "Welcome to JupyROOT 6.22/07\n"
     ]
    }
   ],
   "source": [
    "import os\n",
    "from math import sqrt, pow, fabs, log, cos, sin, pi, atan, exp\n",
    "import ROOT as R\n",
    "R.gROOT.SetStyle(\"ATLAS\")\n",
    "R.gStyle.SetPalette(1)\n",
    "\n",
    "pname = \"gaus_3D_test\"\n",
    "tfout = R.TFile(\"{0}.root\".format(pname), \"RECREATE\")"
   ]
  },
  {
   "cell_type": "markdown",
   "id": "stupid-ridge",
   "metadata": {},
   "source": [
    "Helper function to print a matrx(m, n)"
   ]
  },
  {
   "cell_type": "code",
   "execution_count": 2,
   "id": "turkish-trustee",
   "metadata": {
    "collapsed": false,
    "execution": {
     "iopub.execute_input": "2021-05-17T08:27:22.718508Z",
     "iopub.status.busy": "2021-05-17T08:27:22.718189Z",
     "iopub.status.idle": "2021-05-17T08:27:22.825392Z",
     "shell.execute_reply": "2021-05-17T08:27:22.825736Z"
    }
   },
   "outputs": [],
   "source": [
    "def print_matrix(m_cov, md, nd):\n",
    "\n",
    "  for j in range(md):\n",
    "    for k in range(nd):\n",
    "      print(\"{0} {1}: {2}\".format(j, k, R.TMatrixDRow(m_cov, j)[k]))"
   ]
  },
  {
   "cell_type": "markdown",
   "id": "indonesian-cycling",
   "metadata": {},
   "source": [
    "Plotting\n",
    "====================="
   ]
  },
  {
   "cell_type": "code",
   "execution_count": 3,
   "id": "needed-worker",
   "metadata": {
    "collapsed": false,
    "execution": {
     "iopub.execute_input": "2021-05-17T08:27:22.889741Z",
     "iopub.status.busy": "2021-05-17T08:27:22.889392Z",
     "iopub.status.idle": "2021-05-17T08:27:22.997930Z",
     "shell.execute_reply": "2021-05-17T08:27:22.998253Z"
    }
   },
   "outputs": [],
   "source": [
    "myc = R.TCanvas(\"c\", \"c\", 800, 600)\n",
    "myc.SetFillColor(0)\n",
    "\n",
    "nbinsx, xmin, xmax = 60, -3, 3\n",
    "nbinsy, ymin, ymax = 60, -3, 3\n",
    "nbinsz, zmin, zmax = 60, -3, 3"
   ]
  },
  {
   "cell_type": "markdown",
   "id": "proprietary-polymer",
   "metadata": {},
   "source": [
    "Overlay the multi-Gaussian PDF"
   ]
  },
  {
   "cell_type": "markdown",
   "id": "fleet-nursery",
   "metadata": {},
   "source": [
    "Helper function for 3D Gaussian"
   ]
  },
  {
   "cell_type": "code",
   "execution_count": 4,
   "id": "settled-madonna",
   "metadata": {
    "collapsed": false,
    "execution": {
     "iopub.execute_input": "2021-05-17T08:27:23.007417Z",
     "iopub.status.busy": "2021-05-17T08:27:23.006887Z",
     "iopub.status.idle": "2021-05-17T08:27:23.114441Z",
     "shell.execute_reply": "2021-05-17T08:27:23.114790Z"
    }
   },
   "outputs": [],
   "source": [
    "def gaus_3d(x, par):\n",
    "\n",
    "  if len(x)<3 or len(par)<3: \n",
    "    print(\"[gaus_3d]: requirs 3D data, and 3 parameters\")\n",
    "    return 0\n",
    "\n",
    "  # 3D Gaussian\n",
    "  nd = 3\n",
    "\n",
    "  # Mean\n",
    "  # x1-x2, x1-x3, x2-x3\n",
    "  mean = [par[0], par[1], par[2]]\n",
    "\n",
    "  # Covariance matrix \n",
    "  #  sig1^2+sig2^2, sig1^2, sig2^2\n",
    "  #  sig1^2, sig1^2+sig3^2, sig3^2\n",
    "  #  sig2^2, sig3^2, sig2^2+sig3^2\n",
    "  cov = R.TMatrixD(nd, nd)\n",
    "  R.TMatrixDRow(cov, 0)[0] = pow(par[3], 2) + pow(par[4], 2)\n",
    "  R.TMatrixDRow(cov, 0)[1] = pow(par[3], 2)\n",
    "  R.TMatrixDRow(cov, 0)[2] = pow(par[4], 2)\n",
    "  R.TMatrixDRow(cov, 1)[0] = pow(par[3], 2)\n",
    "  R.TMatrixDRow(cov, 1)[1] = pow(par[3], 2) + pow(par[5], 2)\n",
    "  R.TMatrixDRow(cov, 1)[2] = pow(par[5], 2)\n",
    "  R.TMatrixDRow(cov, 2)[0] = pow(par[4], 2)\n",
    "  R.TMatrixDRow(cov, 2)[1] = pow(par[5], 2)\n",
    "  R.TMatrixDRow(cov, 2)[2] = pow(par[4], 2) + pow(par[5], 2)\n",
    "\n",
    "  # Build the multi-Gaussian\n",
    "  m_x = R.TMatrixD(nd, 1)\n",
    "  for i in range(nd):\n",
    "    R.TMatrixDRow(m_x, i)[0] = x[i] - mean[i]\n",
    "\n",
    "  m_x_t = R.TMatrixD(m_x)\n",
    "  m_x_t.T()\n",
    "\n",
    "  cov_d = 0\n",
    "  icov = R.TMatrixD(cov)\n",
    "  icov.Invert(cov_d)\n",
    "  cov_d = cov.Determinant()\n",
    "  icov_d = icov.Determinant()\n",
    "\n",
    "  r = 0\n",
    "  # r = (m_x_t * icov) * m_x\n",
    "  for i in range(nd):\n",
    "    for j in range(nd):\n",
    "      r += R.TMatrixDRow(m_x_t, 0)[j] * R.TMatrixDRow(icov, i)[j] * R.TMatrixDRow(m_x, i)[0]\n",
    "\n",
    "  y = 1./(pow(2*pi, nd/2.) * sqrt(cov_d)) * exp( -0.5* r ) \n",
    "\n",
    "  return y"
   ]
  },
  {
   "cell_type": "markdown",
   "id": "pleasant-sheriff",
   "metadata": {},
   "source": [
    "Fit"
   ]
  },
  {
   "cell_type": "code",
   "execution_count": 5,
   "id": "extra-puppy",
   "metadata": {
    "collapsed": false,
    "execution": {
     "iopub.execute_input": "2021-05-17T08:27:23.391752Z",
     "iopub.status.busy": "2021-05-17T08:27:23.335460Z",
     "iopub.status.idle": "2021-05-17T08:27:36.234995Z",
     "shell.execute_reply": "2021-05-17T08:27:36.235195Z"
    }
   },
   "outputs": [
    {
     "name": "stderr",
     "output_type": "stream",
     "text": [
      "Info in <TCanvas::Print>: png file gaus_3D_test_1.png has been created\n"
     ]
    },
    {
     "data": {
      "image/png": "[encoded data removed]",
      "text/plain": [
       "<IPython.core.display.Image object>"
      ]
     },
     "metadata": {},
     "output_type": "display_data"
    }
   ],
   "source": [
    "npar = 6 # mean: 3; sigma: 3\n",
    "g_s = R.TF3(\"gaus_s\", gaus_3d, xmin, xmax, ymin, ymax, zmin, zmax, npar)\n",
    "g_s.SetParameter(0, 0.)\n",
    "g_s.SetParameter(1, 0.)\n",
    "g_s.SetParameter(2, 0.)\n",
    "g_s.SetParameter(3, 1.)\n",
    "g_s.SetParameter(4, 0.8)\n",
    "g_s.SetParameter(5, 1.2)\n",
    "\n",
    "hname = \"3D\"\n",
    "h_s = R.TH3F(hname, hname, nbinsx, xmin, xmax, nbinsy, ymin, ymax, nbinsz, zmin, zmax)\n",
    "h_s.FillRandom(\"gaus_s\", 100)  \n",
    "\n",
    "h_s.GetXaxis().SetRangeUser(-3, 3)\n",
    "h_s.GetYaxis().SetRangeUser(-3, 3)\n",
    "h_s.GetZaxis().SetRangeUser(-3, 3)\n",
    "h_s.GetXaxis().SetTitle(\"X1\")\n",
    "h_s.GetYaxis().SetTitle(\"X2\")\n",
    "h_s.GetZaxis().SetTitle(\"X3\")\n",
    "\n",
    "h_s.Draw(\"colz\")\n",
    "\n",
    "myc.Draw()\n",
    "myc.SaveAs(\"{0}_1.png\".format(pname))"
   ]
  },
  {
   "cell_type": "markdown",
   "id": "curious-devices",
   "metadata": {},
   "source": [
    "Projection"
   ]
  },
  {
   "cell_type": "code",
   "execution_count": 6,
   "id": "coupled-debate",
   "metadata": {
    "collapsed": false,
    "execution": {
     "iopub.execute_input": "2021-05-17T08:27:36.247999Z",
     "iopub.status.busy": "2021-05-17T08:27:36.247681Z",
     "iopub.status.idle": "2021-05-17T08:27:36.354778Z",
     "shell.execute_reply": "2021-05-17T08:27:36.355148Z"
    }
   },
   "outputs": [],
   "source": [
    "hx = h_s.ProjectionX()\n",
    "hy = h_s.ProjectionY()\n",
    "hz = h_s.ProjectionZ()"
   ]
  },
  {
   "cell_type": "markdown",
   "id": "responsible-grocery",
   "metadata": {},
   "source": [
    "X-axis"
   ]
  },
  {
   "cell_type": "code",
   "execution_count": 7,
   "id": "blessed-mauritius",
   "metadata": {
    "collapsed": false,
    "execution": {
     "iopub.execute_input": "2021-05-17T08:27:36.384144Z",
     "iopub.status.busy": "2021-05-17T08:27:36.383756Z",
     "iopub.status.idle": "2021-05-17T08:27:36.523488Z",
     "shell.execute_reply": "2021-05-17T08:27:36.523860Z"
    }
   },
   "outputs": [
    {
     "name": "stderr",
     "output_type": "stream",
     "text": [
      "Info in <TCanvas::Print>: png file gaus_3D_test_1_X.png has been created\n"
     ]
    },
    {
     "data": {
      "image/png": "[encoded data removed]",
      "text/plain": [
       "<IPython.core.display.Image object>"
      ]
     },
     "metadata": {},
     "output_type": "display_data"
    }
   ],
   "source": [
    "myc.Clear()\n",
    "hx.Draw()\n",
    "myc.Draw()\n",
    "myc.SaveAs(\"{0}_1_X.png\".format(pname))"
   ]
  },
  {
   "cell_type": "markdown",
   "id": "derived-controversy",
   "metadata": {},
   "source": [
    "Y-axis"
   ]
  },
  {
   "cell_type": "code",
   "execution_count": 8,
   "id": "miniature-mathematics",
   "metadata": {
    "collapsed": false,
    "execution": {
     "iopub.execute_input": "2021-05-17T08:27:36.545208Z",
     "iopub.status.busy": "2021-05-17T08:27:36.544873Z",
     "iopub.status.idle": "2021-05-17T08:27:36.682211Z",
     "shell.execute_reply": "2021-05-17T08:27:36.682502Z"
    }
   },
   "outputs": [
    {
     "name": "stderr",
     "output_type": "stream",
     "text": [
      "Info in <TCanvas::Print>: png file gaus_3D_test_1_Y.png has been created\n"
     ]
    },
    {
     "data": {
      "image/png": "[encoded data removed]",
      "text/plain": [
       "<IPython.core.display.Image object>"
      ]
     },
     "metadata": {},
     "output_type": "display_data"
    }
   ],
   "source": [
    "hy.Draw()\n",
    "myc.Draw()\n",
    "myc.SaveAs(\"{0}_1_Y.png\".format(pname))"
   ]
  },
  {
   "cell_type": "markdown",
   "id": "posted-batman",
   "metadata": {},
   "source": [
    "Z-axis"
   ]
  },
  {
   "cell_type": "code",
   "execution_count": 9,
   "id": "unexpected-mirror",
   "metadata": {
    "collapsed": false,
    "execution": {
     "iopub.execute_input": "2021-05-17T08:27:36.703939Z",
     "iopub.status.busy": "2021-05-17T08:27:36.703604Z",
     "iopub.status.idle": "2021-05-17T08:27:36.839861Z",
     "shell.execute_reply": "2021-05-17T08:27:36.840173Z"
    }
   },
   "outputs": [
    {
     "name": "stderr",
     "output_type": "stream",
     "text": [
      "Info in <TCanvas::Print>: png file gaus_3D_test_1_Z.png has been created\n"
     ]
    },
    {
     "data": {
      "image/png": "[encoded data removed]",
      "text/plain": [
       "<IPython.core.display.Image object>"
      ]
     },
     "metadata": {},
     "output_type": "display_data"
    }
   ],
   "source": [
    "hz.Draw()\n",
    "myc.Draw()\n",
    "myc.SaveAs(\"{0}_1_Z.png\".format(pname))"
   ]
  },
  {
   "cell_type": "markdown",
   "id": "broke-literature",
   "metadata": {},
   "source": [
    "Fitting"
   ]
  },
  {
   "cell_type": "code",
   "execution_count": 10,
   "id": "strong-toronto",
   "metadata": {
    "collapsed": false,
    "execution": {
     "iopub.execute_input": "2021-05-17T08:27:36.848971Z",
     "iopub.status.busy": "2021-05-17T08:27:36.848549Z",
     "iopub.status.idle": "2021-05-17T08:27:36.956763Z",
     "shell.execute_reply": "2021-05-17T08:27:36.957401Z"
    }
   },
   "outputs": [
    {
     "name": "stdout",
     "output_type": "stream",
     "text": [
      "DefaultMinimizerAlgo:  Migrad\n",
      "DefaultMinimizerType:  Minuit\n"
     ]
    }
   ],
   "source": [
    "print(\"DefaultMinimizerAlgo: \", R.Math.MinimizerOptions.DefaultMinimizerAlgo())\n",
    "print(\"DefaultMinimizerType: \", R.Math.MinimizerOptions.DefaultMinimizerType())\n",
    "myc.Clear()\n",
    "\n",
    "h_s.Draw()"
   ]
  },
  {
   "cell_type": "markdown",
   "id": "colored-issue",
   "metadata": {},
   "source": [
    "Likelihood fit\n",
    "h_s.Fit(\"gaus_s\", \"L\")"
   ]
  },
  {
   "cell_type": "code",
   "execution_count": 11,
   "id": "joint-curtis",
   "metadata": {
    "collapsed": false,
    "execution": {
     "iopub.execute_input": "2021-05-17T08:27:37.059964Z",
     "iopub.status.busy": "2021-05-17T08:27:37.009837Z",
     "iopub.status.idle": "2021-05-17T08:28:19.869944Z",
     "shell.execute_reply": "2021-05-17T08:28:19.870192Z"
    }
   },
   "outputs": [
    {
     "name": "stdout",
     "output_type": "stream",
     "text": [
      " FCN=89.5234 FROM MIGRAD    STATUS=CONVERGED     313 CALLS         314 TOTAL\n",
      "                     EDM=1.42288e-07    STRATEGY= 1      ERROR MATRIX ACCURATE \n",
      "  EXT PARAMETER                                   STEP         FIRST   \n",
      "  NO.   NAME      VALUE            ERROR          SIZE      DERIVATIVE \n",
      "   1  p0          -2.61125e-01   4.51181e-01   4.11989e-04   2.89910e-03\n",
      "   2  p1          -8.93782e-02   3.20710e-01   4.16613e-04   3.08659e-03\n",
      "   3  p2          -2.76046e-01   5.74212e-01   4.11853e-04  -3.30165e-03\n",
      "   4  p3           7.79422e-02   7.23951e-02   2.05002e-04  -5.62553e-03\n",
      "   5  p4           5.49817e-01   3.60447e-01   1.18009e-03  -6.05617e-04\n",
      "   6  p5          -4.70553e-01   2.80787e-01   8.91385e-04   4.95058e-04\n"
     ]
    },
    {
     "name": "stderr",
     "output_type": "stream",
     "text": [
      "Info in <TCanvas::Print>: png file gaus_3D_test_2.png has been created\n"
     ]
    },
    {
     "data": {
      "image/png": "[encoded data removed]",
      "text/plain": [
       "<IPython.core.display.Image object>"
      ]
     },
     "metadata": {},
     "output_type": "display_data"
    }
   ],
   "source": [
    "h_s.Fit(\"gaus_s\")\n",
    "\n",
    "myc.Draw()\n",
    "myc.SaveAs(\"{0}_2.png\".format(pname))"
   ]
  },
  {
   "cell_type": "markdown",
   "id": "removable-utilization",
   "metadata": {},
   "source": [
    "Check the fit results, by converting TF3 to TH3"
   ]
  },
  {
   "cell_type": "code",
   "execution_count": 12,
   "id": "clinical-wiring",
   "metadata": {
    "collapsed": false,
    "execution": {
     "iopub.execute_input": "2021-05-17T08:28:19.971754Z",
     "iopub.status.busy": "2021-05-17T08:28:19.915347Z",
     "iopub.status.idle": "2021-05-17T08:28:21.615493Z",
     "shell.execute_reply": "2021-05-17T08:28:21.615881Z"
    }
   },
   "outputs": [
    {
     "name": "stdout",
     "output_type": "stream",
     "text": [
      "TH1.Print Name  = R__TF3, Entries= 27000, Total sum= 124.991\n"
     ]
    }
   ],
   "source": [
    "hf = g_s.CreateHistogram()\n",
    "npx = g_s.GetNpx()\n",
    "npy = g_s.GetNpy()\n",
    "npz = g_s.GetNpz()\n",
    "for ix in range(1, npx+1):\n",
    "  vx = hf.GetXaxis().GetBinCenter(ix)\n",
    "  for iy in range(1, npy+1):\n",
    "    vy = hf.GetYaxis().GetBinCenter(iy)\n",
    "    for iz in range(1, npz+1):\n",
    "      vz = hf.GetZaxis().GetBinCenter(iz)\n",
    "      vf = g_s.Eval(vx, vy, vz)\n",
    "      hf.SetBinContent(ix, iy, iz, vf)\n",
    "      \n",
    "hf.Print()"
   ]
  },
  {
   "cell_type": "markdown",
   "id": "foreign-report",
   "metadata": {},
   "source": [
    "Projection"
   ]
  },
  {
   "cell_type": "code",
   "execution_count": 13,
   "id": "grand-perth",
   "metadata": {
    "collapsed": false,
    "execution": {
     "iopub.execute_input": "2021-05-17T08:28:21.621535Z",
     "iopub.status.busy": "2021-05-17T08:28:21.620988Z",
     "iopub.status.idle": "2021-05-17T08:28:21.729319Z",
     "shell.execute_reply": "2021-05-17T08:28:21.730136Z"
    }
   },
   "outputs": [],
   "source": [
    "hfx = hf.ProjectionX()\n",
    "hfy = hf.ProjectionY()\n",
    "hfz = hf.ProjectionZ()"
   ]
  },
  {
   "cell_type": "markdown",
   "id": "earlier-utilization",
   "metadata": {},
   "source": [
    "X-axis"
   ]
  },
  {
   "cell_type": "code",
   "execution_count": 14,
   "id": "surgical-feeling",
   "metadata": {
    "collapsed": false,
    "execution": {
     "iopub.execute_input": "2021-05-17T08:28:21.772845Z",
     "iopub.status.busy": "2021-05-17T08:28:21.772346Z",
     "iopub.status.idle": "2021-05-17T08:28:21.914901Z",
     "shell.execute_reply": "2021-05-17T08:28:21.915323Z"
    }
   },
   "outputs": [
    {
     "name": "stderr",
     "output_type": "stream",
     "text": [
      "Info in <TCanvas::Print>: png file gaus_3D_test_1_X_fit.png has been created\n"
     ]
    },
    {
     "data": {
      "image/png": "[encoded data removed]",
      "text/plain": [
       "<IPython.core.display.Image object>"
      ]
     },
     "metadata": {},
     "output_type": "display_data"
    }
   ],
   "source": [
    "myc.Clear()\n",
    "hx.Rebin()\n",
    "hx.Draw()\n",
    "hfx.SetLineColor(2)\n",
    "hfx.Draw(\"same\")\n",
    "myc.Draw()\n",
    "myc.SaveAs(\"{0}_1_X_fit.png\".format(pname))"
   ]
  },
  {
   "cell_type": "markdown",
   "id": "paperback-addition",
   "metadata": {},
   "source": [
    "Y-axis"
   ]
  },
  {
   "cell_type": "code",
   "execution_count": 15,
   "id": "alien-conspiracy",
   "metadata": {
    "collapsed": false,
    "execution": {
     "iopub.execute_input": "2021-05-17T08:28:21.939298Z",
     "iopub.status.busy": "2021-05-17T08:28:21.938928Z",
     "iopub.status.idle": "2021-05-17T08:28:22.076573Z",
     "shell.execute_reply": "2021-05-17T08:28:22.076870Z"
    }
   },
   "outputs": [
    {
     "name": "stderr",
     "output_type": "stream",
     "text": [
      "Info in <TCanvas::Print>: png file gaus_3D_test_1_Y_fit.png has been created\n"
     ]
    },
    {
     "data": {
      "image/png": "[encoded data removed]",
      "text/plain": [
       "<IPython.core.display.Image object>"
      ]
     },
     "metadata": {},
     "output_type": "display_data"
    }
   ],
   "source": [
    "hy.Rebin()\n",
    "hy.Draw()\n",
    "hfy.SetLineColor(2)\n",
    "hfy.Draw(\"same\")\n",
    "myc.Draw()\n",
    "myc.SaveAs(\"{0}_1_Y_fit.png\".format(pname))"
   ]
  },
  {
   "cell_type": "markdown",
   "id": "conceptual-force",
   "metadata": {},
   "source": [
    "Z-axis"
   ]
  },
  {
   "cell_type": "code",
   "execution_count": 16,
   "id": "executive-imaging",
   "metadata": {
    "collapsed": false,
    "execution": {
     "iopub.execute_input": "2021-05-17T08:28:22.099894Z",
     "iopub.status.busy": "2021-05-17T08:28:22.099547Z",
     "iopub.status.idle": "2021-05-17T08:28:22.235580Z",
     "shell.execute_reply": "2021-05-17T08:28:22.235892Z"
    }
   },
   "outputs": [
    {
     "name": "stderr",
     "output_type": "stream",
     "text": [
      "Info in <TCanvas::Print>: png file gaus_3D_test_1_Z_fit.png has been created\n"
     ]
    },
    {
     "data": {
      "image/png": "[encoded data removed]",
      "text/plain": [
       "<IPython.core.display.Image object>"
      ]
     },
     "metadata": {},
     "output_type": "display_data"
    }
   ],
   "source": [
    "hz.Rebin()\n",
    "hz.Draw()\n",
    "hfz.SetLineColor(2)\n",
    "hfz.Draw(\"same\")\n",
    "myc.Draw()\n",
    "myc.SaveAs(\"{0}_1_Z_fit.png\".format(pname))"
   ]
  },
  {
   "cell_type": "markdown",
   "id": "ordinary-officer",
   "metadata": {},
   "source": [
    "Save files"
   ]
  },
  {
   "cell_type": "code",
   "execution_count": 17,
   "id": "strategic-charge",
   "metadata": {
    "collapsed": false,
    "execution": {
     "iopub.execute_input": "2021-05-17T08:28:22.366712Z",
     "iopub.status.busy": "2021-05-17T08:28:22.322809Z",
     "iopub.status.idle": "2021-05-17T08:28:24.140730Z",
     "shell.execute_reply": "2021-05-17T08:28:24.141137Z"
    }
   },
   "outputs": [],
   "source": [
    "tfout.cd()\n",
    "h_s.Write()\n",
    "g_s.Write()\n",
    "hf.Write()\n",
    "tfout.Close()"
   ]
  },
  {
   "cell_type": "markdown",
   "id": "animal-waterproof",
   "metadata": {},
   "source": [
    "Draw all canvases "
   ]
  },
  {
   "cell_type": "code",
   "execution_count": 18,
   "id": "earlier-flexibility",
   "metadata": {
    "collapsed": false,
    "execution": {
     "iopub.execute_input": "2021-05-17T08:28:24.147762Z",
     "iopub.status.busy": "2021-05-17T08:28:24.147253Z",
     "iopub.status.idle": "2021-05-17T08:28:24.292505Z",
     "shell.execute_reply": "2021-05-17T08:28:24.292878Z"
    }
   },
   "outputs": [
    {
     "data": {
      "image/png": "[encoded data removed]",
      "text/plain": [
       "<IPython.core.display.Image object>"
      ]
     },
     "metadata": {},
     "output_type": "display_data"
    }
   ],
   "source": [
    "from ROOT import gROOT \n",
    "gROOT.GetListOfCanvases().Draw()"
   ]
  }
 ],
 "metadata": {
  "kernelspec": {
   "display_name": "Python 3",
   "language": "python",
   "name": "python3"
  },
  "language_info": {
   "codemirror_mode": {
    "name": "ipython",
    "version": 3
   },
   "file_extension": ".py",
   "mimetype": "text/x-python",
   "name": "python",
   "nbconvert_exporter": "python",
   "pygments_lexer": "ipython3",
   "version": "3.8.8"
  }
 },
 "nbformat": 4,
 "nbformat_minor": 5
}
