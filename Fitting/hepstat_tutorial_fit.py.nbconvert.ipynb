{
 "cells": [
  {
   "cell_type": "markdown",
   "id": "covered-registrar",
   "metadata": {},
   "source": [
    "# Hepstat_Tutorial_Fit\n",
    "Fit example.\n",
    "\n",
    "\n",
    "\n",
    "\n",
    "**Author:** Lailin XU  \n",
    "<i><small>This notebook tutorial was automatically generated with <a href= \"https://github.com/root-project/root/blob/master/documentation/doxygen/converttonotebook.py\">ROOTBOOK-izer</a> from the macro found in the ROOT repository  on Monday, March 29, 2021 at 01:18 AM.</small></i>"
   ]
  },
  {
   "cell_type": "markdown",
   "id": "oriented-bankruptcy",
   "metadata": {},
   "source": [
    "Import the ROOT libraries"
   ]
  },
  {
   "cell_type": "code",
   "execution_count": 1,
   "id": "known-baseline",
   "metadata": {
    "collapsed": false,
    "execution": {
     "iopub.execute_input": "2021-03-28T17:18:43.047266Z",
     "iopub.status.busy": "2021-03-28T17:18:43.046459Z",
     "iopub.status.idle": "2021-03-28T17:18:43.576239Z",
     "shell.execute_reply": "2021-03-28T17:18:43.576444Z"
    }
   },
   "outputs": [
    {
     "name": "stdout",
     "output_type": "stream",
     "text": [
      "Welcome to JupyROOT 6.22/07\n"
     ]
    }
   ],
   "source": [
    "import ROOT as R\n",
    "R.gROOT.SetStyle(\"ATLAS\")"
   ]
  },
  {
   "cell_type": "markdown",
   "id": "acceptable-landing",
   "metadata": {},
   "source": [
    "Generate some toy data, assuming the model is y = m*x + b. Then define a histogram to save the data."
   ]
  },
  {
   "cell_type": "code",
   "execution_count": 2,
   "id": "authentic-stick",
   "metadata": {
    "collapsed": false,
    "execution": {
     "iopub.execute_input": "2021-03-28T17:18:43.623349Z",
     "iopub.status.busy": "2021-03-28T17:18:43.623010Z",
     "iopub.status.idle": "2021-03-28T17:18:43.730205Z",
     "shell.execute_reply": "2021-03-28T17:18:43.730589Z"
    }
   },
   "outputs": [],
   "source": [
    "m = 11.\n",
    "b = 2.5\n",
    "bin0, bin1=0, 5\n",
    "nbins = bin1-bin0\n",
    "\n",
    "fl = R.TF1(\"flinear\", \"pol1\", bin0, bin1)\n",
    "fl.SetParameters(0, b)\n",
    "fl.SetParameters(1, m)\n",
    "\n",
    "hname = \"test_data\"\n",
    "hd = R.TH1F(hname, hname, nbins, bin0, bin1)\n",
    "hd.Sumw2()\n",
    "hd.FillRandom(\"flinear\", 200) "
   ]
  },
  {
   "cell_type": "markdown",
   "id": "yellow-infrared",
   "metadata": {},
   "source": [
    "d.FillRandom(\"flinear\", 20) "
   ]
  },
  {
   "cell_type": "code",
   "execution_count": 3,
   "id": "underlying-flavor",
   "metadata": {
    "collapsed": false,
    "execution": {
     "iopub.execute_input": "2021-03-28T17:18:43.775233Z",
     "iopub.status.busy": "2021-03-28T17:18:43.774742Z",
     "iopub.status.idle": "2021-03-28T17:18:43.955458Z",
     "shell.execute_reply": "2021-03-28T17:18:43.955673Z"
    }
   },
   "outputs": [
    {
     "data": {
      "image/png": "[encoded data removed]",
      "text/plain": [
       "<IPython.core.display.Image object>"
      ]
     },
     "metadata": {},
     "output_type": "display_data"
    }
   ],
   "source": [
    "myc = R.TCanvas(\"c\", \"c\", 800, 600)\n",
    "myc.SetFillColor(0)\n",
    "\n",
    "myc.cd()\n",
    "hd.Draw()\n",
    "myc.Draw()"
   ]
  },
  {
   "cell_type": "markdown",
   "id": "checked-genesis",
   "metadata": {},
   "source": [
    "Do a fitting. By default ROOT uses Chi-square fit"
   ]
  },
  {
   "cell_type": "code",
   "execution_count": 4,
   "id": "documentary-delicious",
   "metadata": {
    "collapsed": false,
    "execution": {
     "iopub.execute_input": "2021-03-28T17:18:43.997528Z",
     "iopub.status.busy": "2021-03-28T17:18:43.997190Z",
     "iopub.status.idle": "2021-03-28T17:18:44.101869Z",
     "shell.execute_reply": "2021-03-28T17:18:44.102198Z"
    }
   },
   "outputs": [
    {
     "name": "stdout",
     "output_type": "stream",
     "text": [
      "\n",
      "****************************************\n",
      "Minimizer is Linear / Migrad\n",
      "Chi2                      =      2.43795\n",
      "NDf                       =            3\n",
      "p0                        =      1.71809   +/-   3.1885      \n",
      "p1                        =      15.1177   +/-   1.66766     \n"
     ]
    },
    {
     "name": "stderr",
     "output_type": "stream",
     "text": [
      "Info in <TCanvas::Print>: png file test_fitting_1.png has been created\n"
     ]
    }
   ],
   "source": [
    "my1 = R.TF1(\"myFunc1\", \"pol1\", bin0, bin1)\n",
    "my1.SetLineColor(4)\n",
    "\n",
    "frp1 = hd.Fit(\"myFunc1\", \"S\")\n",
    "myc.Update()\n",
    "myc.SaveAs(\"test_fitting_1.png\")"
   ]
  },
  {
   "cell_type": "markdown",
   "id": "anonymous-paintball",
   "metadata": {},
   "source": [
    "Now do a likelihood fit"
   ]
  },
  {
   "cell_type": "code",
   "execution_count": 5,
   "id": "unsigned-finish",
   "metadata": {
    "collapsed": false,
    "execution": {
     "iopub.execute_input": "2021-03-28T17:18:44.173275Z",
     "iopub.status.busy": "2021-03-28T17:18:44.172938Z",
     "iopub.status.idle": "2021-03-28T17:18:44.319093Z",
     "shell.execute_reply": "2021-03-28T17:18:44.319340Z"
    }
   },
   "outputs": [
    {
     "name": "stdout",
     "output_type": "stream",
     "text": [
      " FCN=1.21602 FROM MIGRAD    STATUS=CONVERGED     157 CALLS         158 TOTAL\n",
      "                     EDM=4.672e-09    STRATEGY= 1      ERROR MATRIX ACCURATE \n",
      "  EXT PARAMETER                                   STEP         FIRST   \n",
      "  NO.   NAME      VALUE            ERROR          SIZE      DERIVATIVE \n",
      "   1  p0           1.93421e+00   3.65636e+00   2.06054e-03  -2.05085e-06\n",
      "   2  p1           1.52263e+01   1.81514e+00   1.02238e-03  -4.08006e-05\n",
      "                               ERR DEF= 0.5\n",
      "\n",
      "****************************************\n",
      "Minimizer is Minuit / Migrad\n",
      "MinFCN                    =      1.21602\n",
      "Chi2                      =      2.47176\n",
      "NDf                       =            3\n",
      "Edm                       =    4.672e-09\n",
      "NCalls                    =          158\n",
      "p0                        =      1.93421   +/-   3.65636     \n",
      "p1                        =      15.2263   +/-   1.81514     \n",
      "\n",
      "Covariance Matrix:\n",
      "\n",
      "            \t          p0          p1\n",
      "p0          \t      13.369     -5.1922\n",
      "p1          \t     -5.1922      3.2947\n",
      "\n",
      "Correlation Matrix:\n",
      "\n",
      "            \t          p0          p1\n",
      "p0          \t           1    -0.78233\n",
      "p1          \t    -0.78233           1\n",
      "\n",
      "****************************************\n",
      "Minimizer is Minuit / Migrad\n",
      "MinFCN                    =      1.21602\n",
      "Chi2                      =      2.47176\n",
      "NDf                       =            3\n",
      "Edm                       =    4.672e-09\n",
      "NCalls                    =          158\n",
      "p0                        =      1.93421   +/-   3.65636     \n",
      "p1                        =      15.2263   +/-   1.81514     \n",
      "x[0]=0, y[0]=1.6107\n",
      "x[1]=0.102564, y[1]=1.5681\n",
      "x[2]=0.205128, y[2]=1.52815\n",
      "x[3]=0.307692, y[3]=1.49081\n",
      "x[4]=0.410256, y[4]=1.45603\n",
      "x[5]=0.512821, y[5]=1.42377\n",
      "x[6]=0.615385, y[6]=1.39398\n",
      "x[7]=0.717949, y[7]=1.36664\n",
      "x[8]=0.820513, y[8]=1.3417\n",
      "x[9]=0.923077, y[9]=1.31912\n",
      "x[10]=1.02564, y[10]=1.29887\n",
      "x[11]=1.12821, y[11]=1.28091\n",
      "x[12]=1.23077, y[12]=1.26522\n",
      "x[13]=1.33333, y[13]=1.25175\n",
      "x[14]=1.4359, y[14]=1.24048\n",
      "x[15]=1.53846, y[15]=1.23138\n",
      "x[16]=1.64103, y[16]=1.22441\n",
      "x[17]=1.74359, y[17]=1.21955\n",
      "x[18]=1.84615, y[18]=1.21677\n",
      "x[19]=1.94872, y[19]=1.21604\n",
      "x[20]=2.05128, y[20]=1.21734\n",
      "x[21]=2.15385, y[21]=1.22063\n",
      "x[22]=2.25641, y[22]=1.22589\n",
      "x[23]=2.35897, y[23]=1.23311\n",
      "x[24]=2.46154, y[24]=1.24225\n",
      "x[25]=2.5641, y[25]=1.25329\n",
      "x[26]=2.66667, y[26]=1.2662\n",
      "x[27]=2.76923, y[27]=1.28098\n",
      "x[28]=2.87179, y[28]=1.29758\n",
      "x[29]=2.97436, y[29]=1.316\n",
      "x[30]=3.07692, y[30]=1.33621\n",
      "x[31]=3.17949, y[31]=1.3582\n",
      "x[32]=3.28205, y[32]=1.38193\n",
      "x[33]=3.38462, y[33]=1.4074\n",
      "x[34]=3.48718, y[34]=1.43457\n",
      "x[35]=3.58974, y[35]=1.46345\n",
      "x[36]=3.69231, y[36]=1.494\n",
      "x[37]=3.79487, y[37]=1.5262\n",
      "x[38]=3.89744, y[38]=1.56005\n",
      "x[39]=4, y[39]=1.59553\n"
     ]
    },
    {
     "name": "stderr",
     "output_type": "stream",
     "text": [
      "Info in <TCanvas::Print>: png file test_fitting_2.png has been created\n",
      "Info in <TCanvas::Print>: png file test_fitting_3.png has been created\n"
     ]
    },
    {
     "data": {
      "image/png": "[encoded data removed]",
      "text/plain": [
       "<IPython.core.display.Image object>"
      ]
     },
     "metadata": {},
     "output_type": "display_data"
    }
   ],
   "source": [
    "my2 = R.TF1(\"myFunc2\", \"pol1\", bin0, bin1)\n",
    "my2.SetLineColor(2)\n",
    "frp2 = hd.Fit(\"myFunc2\", \"LS\")\n",
    "my1.Draw(\"same\")\n",
    "myc.Update()\n",
    "myc.SaveAs(\"test_fitting_2.png\")\n",
    "\n",
    "myc.Clear()\n",
    "frp2.Print(\"V\")\n",
    "gr=R.TGraph()\n",
    "smin, smax=0, 4\n",
    "fr2=R.TFitResult(frp2.Get())\n",
    "fr2.Print()\n",
    "fr2.Scan(0, gr, smin, smax)\n",
    "gr.Draw()\n",
    "gr.Print()\n",
    "myc.Draw()\n",
    "\n",
    "myc.SaveAs(\"test_fitting_3.png\")"
   ]
  },
  {
   "cell_type": "markdown",
   "id": "gross-henry",
   "metadata": {},
   "source": [
    "Draw all canvases "
   ]
  },
  {
   "cell_type": "code",
   "execution_count": 6,
   "id": "intelligent-signature",
   "metadata": {
    "collapsed": false,
    "execution": {
     "iopub.execute_input": "2021-03-28T17:18:44.323984Z",
     "iopub.status.busy": "2021-03-28T17:18:44.323646Z",
     "iopub.status.idle": "2021-03-28T17:18:44.469142Z",
     "shell.execute_reply": "2021-03-28T17:18:44.469414Z"
    }
   },
   "outputs": [
    {
     "data": {
      "image/png": "[encoded data removed]",
      "text/plain": [
       "<IPython.core.display.Image object>"
      ]
     },
     "metadata": {},
     "output_type": "display_data"
    }
   ],
   "source": [
    "from ROOT import gROOT \n",
    "gROOT.GetListOfCanvases().Draw()"
   ]
  }
 ],
 "metadata": {
  "kernelspec": {
   "display_name": "Python 3",
   "language": "python",
   "name": "python3"
  },
  "language_info": {
   "codemirror_mode": {
    "name": "ipython",
    "version": 3
   },
   "file_extension": ".py",
   "mimetype": "text/x-python",
   "name": "python",
   "nbconvert_exporter": "python",
   "pygments_lexer": "ipython3",
   "version": "3.8.8"
  }
 },
 "nbformat": 4,
 "nbformat_minor": 5
}
