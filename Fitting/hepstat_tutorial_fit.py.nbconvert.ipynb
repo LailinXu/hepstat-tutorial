{
 "cells": [
  {
   "cell_type": "markdown",
   "id": "narrow-transfer",
   "metadata": {},
   "source": [
    "# Hepstat_Tutorial_Fit\n",
    "Fit example with ROOT, with following objectives:\n",
    " * Fit a histogram with a linear chi-squre fit, and compare results with by-hand calculations\n",
    " * Different fiting options\n",
    " * Compare chi-squre fit and likelihood fit\n",
    "\n",
    "\n",
    "\n",
    "\n",
    "**Author:** Lailin XU  \n",
    "<i><small>This notebook tutorial was automatically generated with <a href= \"https://github.com/root-project/root/blob/master/documentation/doxygen/converttonotebook.py\">ROOTBOOK-izer</a> from the macro found in the ROOT repository  on Monday, March 29, 2021 at 01:48 PM.</small></i>"
   ]
  },
  {
   "cell_type": "markdown",
   "id": "pregnant-vessel",
   "metadata": {},
   "source": [
    "Import the ROOT libraries"
   ]
  },
  {
   "cell_type": "code",
   "execution_count": 1,
   "id": "committed-rabbit",
   "metadata": {
    "collapsed": false,
    "execution": {
     "iopub.execute_input": "2021-03-29T05:48:19.864605Z",
     "iopub.status.busy": "2021-03-29T05:48:19.863906Z",
     "iopub.status.idle": "2021-03-29T05:48:21.807867Z",
     "shell.execute_reply": "2021-03-29T05:48:21.808156Z"
    }
   },
   "outputs": [
    {
     "name": "stdout",
     "output_type": "stream",
     "text": [
      "Welcome to JupyROOT 6.22/07\n"
     ]
    }
   ],
   "source": [
    "import ROOT as R\n",
    "from math import pow, sqrt\n",
    "R.gROOT.SetStyle(\"ATLAS\")"
   ]
  },
  {
   "cell_type": "markdown",
   "id": "acoustic-campus",
   "metadata": {},
   "source": [
    "Linear least square method"
   ]
  },
  {
   "cell_type": "code",
   "execution_count": 2,
   "id": "flying-spanking",
   "metadata": {
    "collapsed": false,
    "execution": {
     "iopub.execute_input": "2021-03-29T05:48:21.814768Z",
     "iopub.status.busy": "2021-03-29T05:48:21.814391Z",
     "iopub.status.idle": "2021-03-29T05:48:21.921728Z",
     "shell.execute_reply": "2021-03-29T05:48:21.922112Z"
    }
   },
   "outputs": [],
   "source": [
    "def lls(l_x=[], l_y=[], l_ye=[],):\n",
    "  \"\"\"\n",
    "  A simple linear regression, y=m*x+b\n",
    "  \"\"\"\n",
    "  sum_1, sum_x, sum_x2 = 0, 0, 0\n",
    "  sum_xy, sum_y, sum_y2 = 0, 0, 0\n",
    "  \n",
    "  for i in range(len(l_x)):\n",
    "    ye = l_ye[i]\n",
    "    x = l_x[i]\n",
    "    y = l_y[i]\n",
    "    if ye ==0: continue # ignore empty bins\n",
    "    sum_1 += pow(ye, -2)\n",
    "    sum_x += x*pow(ye, -2)\n",
    "    sum_y += y*pow(ye, -2)\n",
    "    sum_x2 += pow(x/ye, 2)\n",
    "    sum_xy += x*y*pow(ye, -2)\n",
    "    sum_y2 += pow(y/ye, 2)\n",
    "\n",
    "  m = (sum_1 * sum_xy - sum_x * sum_y) / (sum_1 * sum_x2 - pow(sum_x, 2))\n",
    "  b = (sum_y * sum_x2 - sum_x * sum_xy) / (sum_1 * sum_x2 - pow(sum_x, 2))\n",
    "\n",
    "  # Error\n",
    "  v_m = sum_1 / (sum_1 * sum_x2 - pow(sum_x, 2))\n",
    "  v_b = sum_x2 / (sum_1 * sum_x2 - pow(sum_x, 2))\n",
    "  corr_mb0 = - sum_x / sqrt(sum_1 * sum_x2)\n",
    "\n",
    "  # Error matrix\n",
    "  mat = R.TMatrixD(2,2)\n",
    "  R.TMatrixDRow(mat, 0)[0] = sum_x2\n",
    "  R.TMatrixDRow(mat, 0)[1] = sum_x\n",
    "  R.TMatrixDRow(mat, 1)[0] = sum_x\n",
    "  R.TMatrixDRow(mat, 1)[1] = sum_1\n",
    "  mat_inv = mat.Invert()\n",
    "  e_m = sqrt(R.TMatrixDRow(mat_inv, 0)(0)) \n",
    "  e_b = sqrt(R.TMatrixDRow(mat_inv, 1)(1)) \n",
    "  corr_mb = (R.TMatrixDRow(mat_inv, 0)(1)) / (e_m*e_b) \n",
    "\n",
    "  print(sqrt(v_m), e_m, sqrt(v_b), e_b, corr_mb0, corr_mb)\n",
    "  return [m, e_m, b, e_b, corr_mb]"
   ]
  },
  {
   "cell_type": "markdown",
   "id": "fresh-sociology",
   "metadata": {},
   "source": [
    "Generate some toy data, assuming the model is y = m*x + b. Then define a histogram to save the data."
   ]
  },
  {
   "cell_type": "code",
   "execution_count": 3,
   "id": "sealed-disney",
   "metadata": {
    "collapsed": false,
    "execution": {
     "iopub.execute_input": "2021-03-29T05:48:22.367895Z",
     "iopub.status.busy": "2021-03-29T05:48:22.367467Z",
     "iopub.status.idle": "2021-03-29T05:48:22.567560Z",
     "shell.execute_reply": "2021-03-29T05:48:22.567777Z"
    }
   },
   "outputs": [
    {
     "data": {
      "image/png": "[encoded data removed]",
      "text/plain": [
       "<IPython.core.display.Image object>"
      ]
     },
     "metadata": {},
     "output_type": "display_data"
    }
   ],
   "source": [
    "m = 11.\n",
    "b = 2.5\n",
    "bin0, bin1=0, 5\n",
    "nbins = bin1-bin0\n",
    "\n",
    "fl = R.TF1(\"flinear\", \"pol1\", bin0, bin1)\n",
    "fl.SetParameters(0, b)\n",
    "fl.SetParameters(1, m)\n",
    "\n",
    "hname = \"test_data\"\n",
    "hd = R.TH1F(hname, hname, nbins, bin0, bin1)\n",
    "hd.Sumw2()\n",
    "hd.GetXaxis().SetTitle(\"x\")\n",
    "hd.GetYaxis().SetTitle(\"y\")\n",
    "hd.FillRandom(\"flinear\", 200) \n",
    "\n",
    "myc = R.TCanvas(\"c\", \"c\", 800, 600)\n",
    "myc.SetFillColor(0)\n",
    "\n",
    "myc.cd()\n",
    "hd.Draw()\n",
    "myc.Draw()"
   ]
  },
  {
   "cell_type": "markdown",
   "id": "stone-scoop",
   "metadata": {},
   "source": [
    "Do a fitting. By default ROOT uses Chi-square fit"
   ]
  },
  {
   "cell_type": "code",
   "execution_count": 4,
   "id": "swedish-general",
   "metadata": {
    "collapsed": false,
    "execution": {
     "iopub.execute_input": "2021-03-29T05:48:22.618319Z",
     "iopub.status.busy": "2021-03-29T05:48:22.617997Z",
     "iopub.status.idle": "2021-03-29T05:48:22.752590Z",
     "shell.execute_reply": "2021-03-29T05:48:22.752873Z"
    }
   },
   "outputs": [
    {
     "name": "stdout",
     "output_type": "stream",
     "text": [
      "\n",
      "****************************************\n",
      "Minimizer is Linear / Migrad\n",
      "Chi2                      =      2.43795\n",
      "NDf                       =            3\n",
      "p0                        =      1.71809   +/-   3.1885      \n",
      "p1                        =      15.1177   +/-   1.66766     \n",
      "\n",
      "****************************************\n",
      "Minimizer is Linear / Migrad\n",
      "Chi2                      =      2.43795\n",
      "NDf                       =            3\n",
      "p0                        =      1.71809   +/-   3.1885      \n",
      "p1                        =      15.1177   +/-   1.66766     \n",
      "\n",
      "Covariance Matrix:\n",
      "\n",
      "            \t          p0          p1\n",
      "p0          \t      10.167     -3.9292\n",
      "p1          \t     -3.9292      2.7811\n",
      "\n",
      "Correlation Matrix:\n",
      "\n",
      "            \t          p0          p1\n",
      "p0          \t           1    -0.73894\n",
      "p1          \t    -0.73894           1\n"
     ]
    },
    {
     "name": "stderr",
     "output_type": "stream",
     "text": [
      "Info in <TCanvas::Print>: png file test_fitting_1.png has been created\n"
     ]
    },
    {
     "data": {
      "image/png": "[encoded data removed]",
      "text/plain": [
       "<IPython.core.display.Image object>"
      ]
     },
     "metadata": {},
     "output_type": "display_data"
    }
   ],
   "source": [
    "my1 = R.TF1(\"myFunc1\", \"pol1\", bin0, bin1)\n",
    "my1.SetLineColor(4)\n",
    "\n",
    "frp1 = hd.Fit(\"myFunc1\", \"S\")\n",
    "frp1.Print(\"V\")\n",
    "myc.Update()\n",
    "myc.Draw()\n",
    "myc.SaveAs(\"test_fitting_1.png\")"
   ]
  },
  {
   "cell_type": "markdown",
   "id": "continuous-binary",
   "metadata": {},
   "source": [
    "Do a linear regression BY HAND"
   ]
  },
  {
   "cell_type": "code",
   "execution_count": 5,
   "id": "floral-workstation",
   "metadata": {
    "collapsed": false,
    "execution": {
     "iopub.execute_input": "2021-03-29T05:48:22.791607Z",
     "iopub.status.busy": "2021-03-29T05:48:22.791267Z",
     "iopub.status.idle": "2021-03-29T05:48:22.898926Z",
     "shell.execute_reply": "2021-03-29T05:48:22.899291Z"
    }
   },
   "outputs": [
    {
     "name": "stdout",
     "output_type": "stream",
     "text": [
      "1.6676596448093777 1.6676596448093777 3.188503842606061 3.1885038426060603 -0.7389364642331806 -0.7389364642331806\n",
      "\n",
      "Input [x]: [0.5, 1.5, 2.5, 3.5, 4.5]\n",
      "Input [y]: [8.0, 29.0, 41.0, 60.0, 62.0]\n",
      "Input [y_err]: [2.8284271247461903, 5.385164807134504, 6.4031242374328485, 7.745966692414834, 7.874007874011811]\n",
      "Estimated m (p1): 15.117729551767999 +/- 1.6676596448093777\n",
      "Estimated b (p0): 1.7180860595587057 +/- 3.1885038426060603\n",
      "Estimated correlation (m, b): -0.7389364642331806\n",
      "\n",
      "\n"
     ]
    }
   ],
   "source": [
    "l_x, l_y, l_ye=[], [], []\n",
    "for i in range(1, nbins+1):\n",
    "  l_x.append(hd.GetBinCenter(i))\n",
    "  l_y.append(hd.GetBinContent(i))\n",
    "  l_ye.append(hd.GetBinError(i))\n",
    "\n",
    "[est_m, est_err_m, est_b, est_err_b, est_corr_mb] = lls(l_x, l_y, l_ye)\n",
    "print(\"\\nInput [x]:\", l_x)\n",
    "print(\"Input [y]:\", l_y)\n",
    "print(\"Input [y_err]:\", l_ye)\n",
    "print(\"Estimated m (p1): {0} +/- {1}\".format(est_m, est_err_m))\n",
    "print(\"Estimated b (p0): {0} +/- {1}\".format(est_b, est_err_b))\n",
    "print(\"Estimated correlation (m, b): {0}\\n\\n\".format(est_corr_mb))"
   ]
  },
  {
   "cell_type": "markdown",
   "id": "behavioral-spoke",
   "metadata": {},
   "source": [
    "Now do a likelihood fit"
   ]
  },
  {
   "cell_type": "code",
   "execution_count": 6,
   "id": "tested-fantasy",
   "metadata": {
    "collapsed": false,
    "execution": {
     "iopub.execute_input": "2021-03-29T05:48:22.934240Z",
     "iopub.status.busy": "2021-03-29T05:48:22.933812Z",
     "iopub.status.idle": "2021-03-29T05:48:23.075476Z",
     "shell.execute_reply": "2021-03-29T05:48:23.075829Z"
    }
   },
   "outputs": [
    {
     "name": "stdout",
     "output_type": "stream",
     "text": [
      " FCN=1.21602 FROM MIGRAD    STATUS=CONVERGED     157 CALLS         158 TOTAL\n",
      "                     EDM=4.672e-09    STRATEGY= 1      ERROR MATRIX ACCURATE \n",
      "  EXT PARAMETER                                   STEP         FIRST   \n",
      "  NO.   NAME      VALUE            ERROR          SIZE      DERIVATIVE \n",
      "   1  p0           1.93421e+00   3.65636e+00   2.06054e-03  -2.05085e-06\n",
      "   2  p1           1.52263e+01   1.81514e+00   1.02238e-03  -4.08006e-05\n",
      "                               ERR DEF= 0.5\n"
     ]
    },
    {
     "name": "stderr",
     "output_type": "stream",
     "text": [
      "Info in <TCanvas::Print>: png file test_fitting_2.png has been created\n"
     ]
    },
    {
     "data": {
      "image/png": "[encoded data removed]",
      "text/plain": [
       "<IPython.core.display.Image object>"
      ]
     },
     "metadata": {},
     "output_type": "display_data"
    }
   ],
   "source": [
    "my2 = R.TF1(\"myFunc2\", \"pol1\", bin0, bin1)\n",
    "my2.SetLineColor(2)\n",
    "frp2 = hd.Fit(\"myFunc2\", \"LS\")\n",
    "my1.Draw(\"same\")\n",
    "myc.Update()\n",
    "myc.Draw()\n",
    "myc.SaveAs(\"test_fitting_2.png\")"
   ]
  },
  {
   "cell_type": "markdown",
   "id": "united-worst",
   "metadata": {},
   "source": [
    "Plot the NLL scan"
   ]
  },
  {
   "cell_type": "code",
   "execution_count": 7,
   "id": "advance-congress",
   "metadata": {
    "collapsed": false,
    "execution": {
     "iopub.execute_input": "2021-03-29T05:48:23.125431Z",
     "iopub.status.busy": "2021-03-29T05:48:23.125109Z",
     "iopub.status.idle": "2021-03-29T05:48:23.270138Z",
     "shell.execute_reply": "2021-03-29T05:48:23.270370Z"
    }
   },
   "outputs": [
    {
     "name": "stdout",
     "output_type": "stream",
     "text": [
      "\n",
      "****************************************\n",
      "Minimizer is Minuit / Migrad\n",
      "MinFCN                    =      1.21602\n",
      "Chi2                      =      2.47176\n",
      "NDf                       =            3\n",
      "Edm                       =    4.672e-09\n",
      "NCalls                    =          158\n",
      "p0                        =      1.93421   +/-   3.65636     \n",
      "p1                        =      15.2263   +/-   1.81514     \n",
      "\n",
      "Covariance Matrix:\n",
      "\n",
      "            \t          p0          p1\n",
      "p0          \t      13.369     -5.1922\n",
      "p1          \t     -5.1922      3.2947\n",
      "\n",
      "Correlation Matrix:\n",
      "\n",
      "            \t          p0          p1\n",
      "p0          \t           1    -0.78233\n",
      "p1          \t    -0.78233           1\n",
      "\n",
      "****************************************\n",
      "Minimizer is Minuit / Migrad\n",
      "MinFCN                    =      1.21602\n",
      "Chi2                      =      2.47176\n",
      "NDf                       =            3\n",
      "Edm                       =    4.672e-09\n",
      "NCalls                    =          158\n",
      "p0                        =      1.93421   +/-   3.65636     \n",
      "p1                        =      15.2263   +/-   1.81514     \n"
     ]
    },
    {
     "name": "stderr",
     "output_type": "stream",
     "text": [
      "Info in <TCanvas::Print>: png file test_fitting_3.png has been created\n"
     ]
    },
    {
     "data": {
      "image/png": "[encoded data removed]",
      "text/plain": [
       "<IPython.core.display.Image object>"
      ]
     },
     "metadata": {},
     "output_type": "display_data"
    }
   ],
   "source": [
    "myc.Clear()\n",
    "frp2.Print(\"V\")\n",
    "gr=R.TGraph()\n",
    "smin, smax=0, 4\n",
    "fr2=R.TFitResult(frp2.Get())\n",
    "fr2.Print()\n",
    "fr2.Scan(0, gr, smin, smax)\n",
    "gr.Draw()\n",
    "gr.GetXaxis().SetTitle(\"#theta\")\n",
    "gr.GetYaxis().SetTitle(\"-2log(#lambda)\")\n",
    "myc.Draw()\n",
    "\n",
    "myc.SaveAs(\"test_fitting_3.png\")"
   ]
  },
  {
   "cell_type": "markdown",
   "id": "threatened-conservative",
   "metadata": {},
   "source": [
    "Draw all canvases "
   ]
  },
  {
   "cell_type": "code",
   "execution_count": 8,
   "id": "accepted-anaheim",
   "metadata": {
    "collapsed": false,
    "execution": {
     "iopub.execute_input": "2021-03-29T05:48:23.274969Z",
     "iopub.status.busy": "2021-03-29T05:48:23.274645Z",
     "iopub.status.idle": "2021-03-29T05:48:23.423183Z",
     "shell.execute_reply": "2021-03-29T05:48:23.423436Z"
    }
   },
   "outputs": [
    {
     "data": {
      "image/png": "[encoded data removed]",
      "text/plain": [
       "<IPython.core.display.Image object>"
      ]
     },
     "metadata": {},
     "output_type": "display_data"
    }
   ],
   "source": [
    "from ROOT import gROOT \n",
    "gROOT.GetListOfCanvases().Draw()"
   ]
  }
 ],
 "metadata": {
  "kernelspec": {
   "display_name": "Python 3",
   "language": "python",
   "name": "python3"
  },
  "language_info": {
   "codemirror_mode": {
    "name": "ipython",
    "version": 3
   },
   "file_extension": ".py",
   "mimetype": "text/x-python",
   "name": "python",
   "nbconvert_exporter": "python",
   "pygments_lexer": "ipython3",
   "version": "3.8.8"
  }
 },
 "nbformat": 4,
 "nbformat_minor": 5
}
