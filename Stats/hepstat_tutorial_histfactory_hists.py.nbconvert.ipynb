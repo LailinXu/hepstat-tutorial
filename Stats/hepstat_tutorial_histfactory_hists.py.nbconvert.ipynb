{
 "cells": [
  {
   "cell_type": "markdown",
   "id": "surface-portrait",
   "metadata": {},
   "source": [
    "# Hepstat_Tutorial_Histfactory_Hists\n",
    "Histfactory example. \n",
    "\n",
    " with following objectives:\n",
    " * Create a workspace using histograms\n",
    " * Example operations at the workspace level\n",
    "\n",
    "\n",
    "\n",
    "\n",
    "**Author:** Lailin XU  \n",
    "<i><small>This notebook tutorial was automatically generated with <a href= \"https://github.com/root-project/root/blob/master/documentation/doxygen/converttonotebook.py\">ROOTBOOK-izer</a> from the macro found in the ROOT repository  on Saturday, April 03, 2021 at 05:04 PM.</small></i>"
   ]
  },
  {
   "cell_type": "code",
   "execution_count": 1,
   "id": "recognized-theater",
   "metadata": {
    "collapsed": false,
    "execution": {
     "iopub.execute_input": "2021-04-03T09:04:25.761228Z",
     "iopub.status.busy": "2021-04-03T09:04:25.760493Z",
     "iopub.status.idle": "2021-04-03T09:04:25.762567Z",
     "shell.execute_reply": "2021-04-03T09:04:25.763173Z"
    }
   },
   "outputs": [],
   "source": [
    "import os"
   ]
  },
  {
   "cell_type": "markdown",
   "id": "provincial-browse",
   "metadata": {},
   "source": [
    "Import the ROOT libraries"
   ]
  },
  {
   "cell_type": "code",
   "execution_count": 2,
   "id": "proud-breakfast",
   "metadata": {
    "collapsed": false,
    "execution": {
     "iopub.execute_input": "2021-04-03T09:04:25.766944Z",
     "iopub.status.busy": "2021-04-03T09:04:25.766325Z",
     "iopub.status.idle": "2021-04-03T09:04:26.215262Z",
     "shell.execute_reply": "2021-04-03T09:04:26.215594Z"
    }
   },
   "outputs": [
    {
     "name": "stdout",
     "output_type": "stream",
     "text": [
      "Welcome to JupyROOT 6.22/07\n"
     ]
    }
   ],
   "source": [
    "import ROOT as R\n",
    "from math import pow, sqrt\n",
    "R.gROOT.SetStyle(\"ATLAS\")"
   ]
  },
  {
   "cell_type": "markdown",
   "id": "tamil-length",
   "metadata": {},
   "source": [
    "Prepare input files\n",
    "======================="
   ]
  },
  {
   "cell_type": "code",
   "execution_count": 3,
   "id": "fluid-associate",
   "metadata": {
    "collapsed": false,
    "execution": {
     "iopub.execute_input": "2021-04-03T09:04:26.261791Z",
     "iopub.status.busy": "2021-04-03T09:04:26.261468Z",
     "iopub.status.idle": "2021-04-03T09:04:26.368646Z",
     "shell.execute_reply": "2021-04-03T09:04:26.369113Z"
    }
   },
   "outputs": [
    {
     "name": "stdout",
     "output_type": "stream",
     "text": [
      "TH1.Print Name  = sig_125, Entries= 50, Total sum= 100000\n"
     ]
    }
   ],
   "source": [
    "inputhist = \"data/h4l_toy_hists.root\"\n",
    "if not os.path.isfile(inputhist):\n",
    "  print(\"Error! No input files found: {}\".format(inputhist)) \n",
    "  pyhist = \"hepstat_tutorial_genhists.py\"\n",
    "  if os.path.isfile(pyhist):\n",
    "    cmd = \"python3 {}\".format(pyhist)\n",
    "    os.system(cmd)\n",
    "\n",
    "tfin = R.TFile(inputhist, \"READ\")\n",
    "data_hist = tfin.Get(\"obsData\")\n",
    "mass = 125\n",
    "sig_hist = tfin.Get(\"sig_{}\".format(mass))\n",
    "bkg_hist = tfin.Get(\"bkg\")\n",
    "bkg_hup = tfin.Get(\"bkg_up\")\n",
    "bkg_hdn = tfin.Get(\"bkg_dn\")\n",
    "sig_hist.Print()\n",
    "sig_hist.SetDirectory(0)\n",
    "bkg_hist.SetDirectory(0)\n",
    "data_hist.SetDirectory(0)\n",
    "bkg_hup.SetDirectory(0)\n",
    "bkg_hdn.SetDirectory(0)"
   ]
  },
  {
   "cell_type": "markdown",
   "id": "hairy-brush",
   "metadata": {},
   "source": [
    "Create a workspace\n",
    "======================="
   ]
  },
  {
   "cell_type": "markdown",
   "id": "fundamental-person",
   "metadata": {},
   "source": [
    "Create a Histfactory Measurement\n",
    "-----------------------"
   ]
  },
  {
   "cell_type": "markdown",
   "id": "eleven-insulin",
   "metadata": {},
   "source": [
    "First we set the Parameter of interest, and several constant parameters."
   ]
  },
  {
   "cell_type": "code",
   "execution_count": 4,
   "id": "common-meditation",
   "metadata": {
    "collapsed": false,
    "execution": {
     "iopub.execute_input": "2021-04-03T09:04:26.486694Z",
     "iopub.status.busy": "2021-04-03T09:04:26.486378Z",
     "iopub.status.idle": "2021-04-03T09:04:26.593696Z",
     "shell.execute_reply": "2021-04-03T09:04:26.594162Z"
    }
   },
   "outputs": [
    {
     "name": "stdout",
     "output_type": "stream",
     "text": [
      "\n",
      "\u001b[1mRooFit v3.60 -- Developed by Wouter Verkerke and David Kirkby\u001b[0m \n",
      "                Copyright (C) 2000-2013 NIKHEF, University of California & Stanford University\n",
      "                All rights reserved, please read http://roofit.sourceforge.net/license.txt\n",
      "\n"
     ]
    }
   ],
   "source": [
    "meas = R.RooStats.HistFactory.Measurement(\"meas\", \"meas\")\n",
    "meas.SetPOI(\"mu\")"
   ]
  },
  {
   "cell_type": "markdown",
   "id": "chubby-alignment",
   "metadata": {},
   "source": [
    "Set the luminosity constant with a dummy uncertainty of 2%"
   ]
  },
  {
   "cell_type": "code",
   "execution_count": 5,
   "id": "continuing-olympus",
   "metadata": {
    "collapsed": false,
    "execution": {
     "iopub.execute_input": "2021-04-03T09:04:26.602601Z",
     "iopub.status.busy": "2021-04-03T09:04:26.602135Z",
     "iopub.status.idle": "2021-04-03T09:04:26.711766Z",
     "shell.execute_reply": "2021-04-03T09:04:26.712629Z"
    }
   },
   "outputs": [],
   "source": [
    "meas.SetLumi( 1.0 )\n",
    "meas.SetLumiRelErr( 0.02 )\n",
    "meas.AddConstantParam(\"Lumi\")"
   ]
  },
  {
   "cell_type": "markdown",
   "id": "portable-render",
   "metadata": {},
   "source": [
    "Create a channel and set the measured value of data"
   ]
  },
  {
   "cell_type": "code",
   "execution_count": 6,
   "id": "plastic-violation",
   "metadata": {
    "collapsed": false,
    "execution": {
     "iopub.execute_input": "2021-04-03T09:04:26.736056Z",
     "iopub.status.busy": "2021-04-03T09:04:26.735414Z",
     "iopub.status.idle": "2021-04-03T09:04:26.845537Z",
     "shell.execute_reply": "2021-04-03T09:04:26.846174Z"
    }
   },
   "outputs": [],
   "source": [
    "chan = R.RooStats.HistFactory.Channel( \"SR\" )\n",
    "chan.SetStatErrorConfig(0.05, \"Poisson\")\n",
    "chan.SetData( data_hist )"
   ]
  },
  {
   "cell_type": "markdown",
   "id": "legendary-approach",
   "metadata": {},
   "source": [
    "Create the signal sample and set its histogram"
   ]
  },
  {
   "cell_type": "code",
   "execution_count": 7,
   "id": "straight-alignment",
   "metadata": {
    "collapsed": false,
    "execution": {
     "iopub.execute_input": "2021-04-03T09:04:26.863106Z",
     "iopub.status.busy": "2021-04-03T09:04:26.862537Z",
     "iopub.status.idle": "2021-04-03T09:04:26.972888Z",
     "shell.execute_reply": "2021-04-03T09:04:26.973448Z"
    }
   },
   "outputs": [],
   "source": [
    "signal = R.RooStats.HistFactory.Sample( \"signal\" )\n",
    "signal.SetHisto( sig_hist )"
   ]
  },
  {
   "cell_type": "markdown",
   "id": "narrative-mayor",
   "metadata": {},
   "source": [
    "Add the parmaeter of interest and a systematic and try to make intelligent choice of upper bound"
   ]
  },
  {
   "cell_type": "code",
   "execution_count": 8,
   "id": "dietary-correction",
   "metadata": {
    "collapsed": false,
    "execution": {
     "iopub.execute_input": "2021-04-03T09:04:26.984866Z",
     "iopub.status.busy": "2021-04-03T09:04:26.983852Z",
     "iopub.status.idle": "2021-04-03T09:04:27.093902Z",
     "shell.execute_reply": "2021-04-03T09:04:27.094489Z"
    }
   },
   "outputs": [],
   "source": [
    "signal.AddNormFactor( \"mu\", 1, 0, 3)"
   ]
  },
  {
   "cell_type": "markdown",
   "id": "wanted-monkey",
   "metadata": {},
   "source": [
    "Assign a dummy signal normalisation uncertainty (up, down with respect to the nominal)"
   ]
  },
  {
   "cell_type": "code",
   "execution_count": 9,
   "id": "veterinary-voltage",
   "metadata": {
    "collapsed": false,
    "execution": {
     "iopub.execute_input": "2021-04-03T09:04:27.106247Z",
     "iopub.status.busy": "2021-04-03T09:04:27.105506Z",
     "iopub.status.idle": "2021-04-03T09:04:27.215226Z",
     "shell.execute_reply": "2021-04-03T09:04:27.215850Z"
    }
   },
   "outputs": [],
   "source": [
    "signal.AddOverallSys( \"signal_norm_uncertainty\", 0.95, 1.05)"
   ]
  },
  {
   "cell_type": "markdown",
   "id": "actual-electronics",
   "metadata": {},
   "source": [
    "Add the signal sample to the Channel"
   ]
  },
  {
   "cell_type": "code",
   "execution_count": 10,
   "id": "possible-yield",
   "metadata": {
    "collapsed": false,
    "execution": {
     "iopub.execute_input": "2021-04-03T09:04:27.225501Z",
     "iopub.status.busy": "2021-04-03T09:04:27.224764Z",
     "iopub.status.idle": "2021-04-03T09:04:27.335993Z",
     "shell.execute_reply": "2021-04-03T09:04:27.335135Z"
    }
   },
   "outputs": [],
   "source": [
    "chan.AddSample( signal )"
   ]
  },
  {
   "cell_type": "markdown",
   "id": "armed-logic",
   "metadata": {},
   "source": [
    "Create the background sample and set its histogram"
   ]
  },
  {
   "cell_type": "code",
   "execution_count": 11,
   "id": "different-demographic",
   "metadata": {
    "collapsed": false,
    "execution": {
     "iopub.execute_input": "2021-04-03T09:04:27.342169Z",
     "iopub.status.busy": "2021-04-03T09:04:27.341412Z",
     "iopub.status.idle": "2021-04-03T09:04:27.450360Z",
     "shell.execute_reply": "2021-04-03T09:04:27.451020Z"
    }
   },
   "outputs": [],
   "source": [
    "background = R.RooStats.HistFactory.Sample( \"background\" )\n",
    "background.SetHisto( bkg_hist )"
   ]
  },
  {
   "cell_type": "markdown",
   "id": "reasonable-tunnel",
   "metadata": {},
   "source": [
    "Add the bkg sample to the Channel"
   ]
  },
  {
   "cell_type": "code",
   "execution_count": 12,
   "id": "painted-kenya",
   "metadata": {
    "collapsed": false,
    "execution": {
     "iopub.execute_input": "2021-04-03T09:04:27.456182Z",
     "iopub.status.busy": "2021-04-03T09:04:27.455486Z",
     "iopub.status.idle": "2021-04-03T09:04:27.563379Z",
     "shell.execute_reply": "2021-04-03T09:04:27.563999Z"
    }
   },
   "outputs": [],
   "source": [
    "chan.AddSample( background )"
   ]
  },
  {
   "cell_type": "markdown",
   "id": "painful-virus",
   "metadata": {},
   "source": [
    "Add the Channel to the Meas"
   ]
  },
  {
   "cell_type": "code",
   "execution_count": 13,
   "id": "remarkable-medicare",
   "metadata": {
    "collapsed": false,
    "execution": {
     "iopub.execute_input": "2021-04-03T09:04:27.604241Z",
     "iopub.status.busy": "2021-04-03T09:04:27.603749Z",
     "iopub.status.idle": "2021-04-03T09:04:27.708874Z",
     "shell.execute_reply": "2021-04-03T09:04:27.709407Z"
    }
   },
   "outputs": [],
   "source": [
    "meas.AddChannel(chan)"
   ]
  },
  {
   "cell_type": "markdown",
   "id": "juvenile-turtle",
   "metadata": {},
   "source": [
    "Collect the histograms from their files, print some output, "
   ]
  },
  {
   "cell_type": "code",
   "execution_count": 14,
   "id": "wanted-franklin",
   "metadata": {
    "collapsed": false,
    "execution": {
     "iopub.execute_input": "2021-04-03T09:04:27.718725Z",
     "iopub.status.busy": "2021-04-03T09:04:27.718163Z",
     "iopub.status.idle": "2021-04-03T09:04:27.829219Z",
     "shell.execute_reply": "2021-04-03T09:04:27.829840Z"
    }
   },
   "outputs": [
    {
     "name": "stdout",
     "output_type": "stream",
     "text": [
      "Measurement Name: meas\t OutputFilePrefix: \t POI: mu\t Lumi: 1\t LumiRelErr: 0.02\t BinLow: 0\t BinHigh: 1\t ExportOnly: 0\n",
      "Constant Params:  Lumi\n",
      "Channels:\n",
      "\t Channel Name: SR\t InputFile: \n",
      "\t Data:\n",
      "\t \t InputFile: \t HistoName: obsData\t HistoPath: \t HistoAddress: 0x131d176b0\n",
      "\t statErrorConfig:\n",
      "\t \t RelErrorThreshold: 0.05\t ConstraintType: Poisson\n",
      "\t Samples: \n",
      "\t \t Name: signal\t \t Channel: SR\t NormalizeByTheory: True\t StatErrorActivate: False\n",
      "\t \t \t \t \t InputFile: \t HistName: sig_125\t HistoPath: \t HistoAddress: 0x131d17e70\n",
      "\t \t Name: background\t \t Channel: SR\t NormalizeByTheory: True\t StatErrorActivate: False\n",
      "\t \t \t \t \t InputFile: \t HistName: bkg\t HistoPath: \t HistoAddress: 0x131d18260\n",
      "\t End of Channel SR\n",
      "[#2] INFO:HistFactory -- End Measurement: meas\n"
     ]
    }
   ],
   "source": [
    "meas.PrintTree()"
   ]
  },
  {
   "cell_type": "markdown",
   "id": "immune-field",
   "metadata": {},
   "source": [
    "Make workspace!\n",
    "-----------------------"
   ]
  },
  {
   "cell_type": "code",
   "execution_count": 15,
   "id": "utility-router",
   "metadata": {
    "collapsed": false,
    "execution": {
     "iopub.execute_input": "2021-04-03T09:04:28.269014Z",
     "iopub.status.busy": "2021-04-03T09:04:28.268703Z",
     "iopub.status.idle": "2021-04-03T09:04:28.376440Z",
     "shell.execute_reply": "2021-04-03T09:04:28.376822Z"
    }
   },
   "outputs": [
    {
     "data": {
      "text/plain": [
       "False"
      ]
     },
     "execution_count": 1,
     "metadata": {},
     "output_type": "execute_result"
    },
    {
     "name": "stdout",
     "output_type": "stream",
     "text": [
      "[#2] PROGRESS:HistFactory -- \n",
      "-----------------------------------------\n",
      "\tStarting to process 'SR' channel with 1 observables\n",
      "-----------------------------------------\n",
      "\n",
      "[#2] INFO:HistFactory -- lumi str = [1,0,10]\n",
      "[#2] INFO:HistFactory -- lumi Error str = nominalLumi[1,0,1.2],0.02\n",
      "[#1] INFO:ObjectHandling -- RooWorkspace::import(SR) importing RooStats::HistFactory::FlexibleInterpVar::signal_SR_epsilon\n",
      "[#2] INFO:HistFactory -- making normFactor: mu\n",
      "[#2] INFO:HistFactory -- signal_SR has no variation histograms \n",
      "[#2] INFO:HistFactory -- processing hist sig_125\n",
      "[#1] INFO:ObjectHandling -- RooWorkspace::import(SR) importing dataset signal_SRnominalDHist\n",
      "[#1] INFO:ObjectHandling -- RooWorkspace::import(SR) importing RooHistFunc::signal_SR_nominal\n",
      "[#1] INFO:ObjectHandling -- RooWorkspace::import(SR) importing RooConstVar::background_SR_epsilon\n",
      "[#2] INFO:HistFactory -- background_SR has no variation histograms \n",
      "[#2] INFO:HistFactory -- processing hist bkg\n",
      "[#1] INFO:ObjectHandling -- RooWorkspace::import(SR) importing dataset background_SRnominalDHist\n",
      "[#1] INFO:ObjectHandling -- RooWorkspace::import(SR) importing RooHistFunc::background_SR_nominal\n",
      "[#1] INFO:ObjectHandling -- RooWorkspace::import(SR) importing RooRealSumPdf::SR_model\n",
      "[#2] PROGRESS:HistFactory -- \n",
      "-----------------------------------------\n",
      "\timport model into workspace\n",
      "-----------------------------------------\n",
      "\n",
      "[#1] INFO:ObjectHandling -- RooWorkspace::import(SR) importing RooProdPdf::model_SR\n",
      "[#1] INFO:ObjectHandling -- RooWorkspace::import(SR) using existing copy of RooGaussian::lumiConstraint for import of RooProdPdf::model_SR\n",
      "[#1] INFO:ObjectHandling -- RooWorkspace::import(SR) using existing copy of RooConstVar::0.02 for import of RooProdPdf::model_SR\n",
      "[#1] INFO:ObjectHandling -- RooWorkspace::import(SR) using existing copy of RooRealVar::Lumi for import of RooProdPdf::model_SR\n",
      "[#1] INFO:ObjectHandling -- RooWorkspace::import(SR) using existing copy of RooRealVar::nominalLumi for import of RooProdPdf::model_SR\n",
      "[#1] INFO:ObjectHandling -- RooWorkspace::import(SR) using existing copy of RooGaussian::alpha_signal_norm_uncertaintyConstraint for import of RooProdPdf::model_SR\n",
      "[#1] INFO:ObjectHandling -- RooWorkspace::import(SR) using existing copy of RooConstVar::1 for import of RooProdPdf::model_SR\n",
      "[#1] INFO:ObjectHandling -- RooWorkspace::import(SR) using existing copy of RooRealVar::alpha_signal_norm_uncertainty for import of RooProdPdf::model_SR\n",
      "[#1] INFO:ObjectHandling -- RooWorkspace::import(SR) using existing copy of RooRealVar::nom_alpha_signal_norm_uncertainty for import of RooProdPdf::model_SR\n",
      "[#1] INFO:ObjectHandling -- RooWorkspace::import(SR) using existing copy of RooRealSumPdf::SR_model for import of RooProdPdf::model_SR\n",
      "[#1] INFO:ObjectHandling -- RooWorkspace::import(SR) using existing copy of RooProduct::L_x_signal_SR_overallSyst_x_Exp for import of RooProdPdf::model_SR\n",
      "[#1] INFO:ObjectHandling -- RooWorkspace::import(SR) using existing copy of RooProduct::signal_SR_overallSyst_x_Exp for import of RooProdPdf::model_SR\n",
      "[#1] INFO:ObjectHandling -- RooWorkspace::import(SR) using existing copy of RooHistFunc::signal_SR_nominal for import of RooProdPdf::model_SR\n",
      "[#1] INFO:ObjectHandling -- RooWorkspace::import(SR) using existing copy of RooRealVar::obs_x_SR for import of RooProdPdf::model_SR\n",
      "[#1] INFO:ObjectHandling -- RooWorkspace::import(SR) using existing copy of RooProduct::signal_SR_overallNorm_x_sigma_epsilon for import of RooProdPdf::model_SR\n",
      "[#1] INFO:ObjectHandling -- RooWorkspace::import(SR) using existing copy of RooRealVar::mu for import of RooProdPdf::model_SR\n",
      "[#1] INFO:ObjectHandling -- RooWorkspace::import(SR) using existing copy of RooStats::HistFactory::FlexibleInterpVar::signal_SR_epsilon for import of RooProdPdf::model_SR\n",
      "[#1] INFO:ObjectHandling -- RooWorkspace::import(SR) using existing copy of RooRealVar::binWidth_obs_x_SR_0 for import of RooProdPdf::model_SR\n",
      "[#1] INFO:ObjectHandling -- RooWorkspace::import(SR) using existing copy of RooProduct::L_x_background_SR_overallSyst_x_Exp for import of RooProdPdf::model_SR\n",
      "[#1] INFO:ObjectHandling -- RooWorkspace::import(SR) using existing copy of RooProduct::background_SR_overallSyst_x_Exp for import of RooProdPdf::model_SR\n",
      "[#1] INFO:ObjectHandling -- RooWorkspace::import(SR) using existing copy of RooHistFunc::background_SR_nominal for import of RooProdPdf::model_SR\n",
      "[#1] INFO:ObjectHandling -- RooWorkspace::import(SR) using existing copy of RooConstVar::background_SR_epsilon for import of RooProdPdf::model_SR\n",
      "[#1] INFO:ObjectHandling -- RooWorkspace::import(SR) using existing copy of RooRealVar::binWidth_obs_x_SR_1 for import of RooProdPdf::model_SR\n",
      "[#1] INFO:NumericIntegration -- RooRealIntegral::init(SR_model_Int[obs_x_SR]) using numeric integrator RooBinIntegrator to calculate Int(obs_x_SR)\n",
      "RooDataSet::AsimovData[obs_x_SR,weight:binWeightAsimov] = 50 entries (200000 weighted)\n",
      "[#1] INFO:ObjectHandling -- RooWorkspace::import(SR) importing dataset AsimovData\n",
      "[#1] INFO:ObjectHandling -- RooWorkSpace::import(SR) changing name of dataset from  AsimovData to asimovData\n",
      "[#1] INFO:ObjectHandling -- RooWorkspace::import(SR) importing dataset obsData\n",
      "\n",
      "RooWorkspace(SR) SR workspace contents\n",
      "\n",
      "variables\n",
      "---------\n",
      "(Lumi,alpha_signal_norm_uncertainty,binWidth_obs_x_SR_0,binWidth_obs_x_SR_1,mu,nom_alpha_signal_norm_uncertainty,nominalLumi,obs_x_SR,weightVar)\n",
      "\n",
      "p.d.f.s\n",
      "-------\n",
      "RooRealSumPdf::SR_model[ binWidth_obs_x_SR_0 * L_x_signal_SR_overallSyst_x_Exp + binWidth_obs_x_SR_1 * L_x_background_SR_overallSyst_x_Exp ] = 1329/200000\n",
      "RooGaussian::alpha_signal_norm_uncertaintyConstraint[ x=alpha_signal_norm_uncertainty mean=nom_alpha_signal_norm_uncertainty sigma=1 ] = 1\n",
      "RooGaussian::lumiConstraint[ x=Lumi mean=nominalLumi sigma=0.02 ] = 1\n",
      "RooProdPdf::model_SR[ lumiConstraint * alpha_signal_norm_uncertaintyConstraint * SR_model(obs_x_SR) ] = 1329\n",
      "\n",
      "functions\n",
      "--------\n",
      "RooProduct::L_x_background_SR_overallSyst_x_Exp[ Lumi * background_SR_overallSyst_x_Exp ] = 1329\n",
      "RooProduct::L_x_signal_SR_overallSyst_x_Exp[ Lumi * signal_SR_overallSyst_x_Exp ] = 0\n",
      "RooHistFunc::background_SR_nominal[ depList=(obs_x_SR) ] = 1329\n",
      "RooProduct::background_SR_overallSyst_x_Exp[ background_SR_nominal * background_SR_epsilon ] = 1329\n",
      "RooStats::HistFactory::FlexibleInterpVar::signal_SR_epsilon[ paramList=(alpha_signal_norm_uncertainty) ] = 1\n",
      "RooHistFunc::signal_SR_nominal[ depList=(obs_x_SR) ] = 0\n",
      "RooProduct::signal_SR_overallNorm_x_sigma_epsilon[ mu * signal_SR_epsilon ] = 1\n",
      "RooProduct::signal_SR_overallSyst_x_Exp[ signal_SR_nominal * signal_SR_overallNorm_x_sigma_epsilon ] = 0\n",
      "\n",
      "datasets\n",
      "--------\n",
      "RooDataSet::asimovData(obs_x_SR)\n",
      "RooDataSet::obsData(obs_x_SR)\n",
      "\n",
      "embedded datasets (in pdfs and functions)\n",
      "-----------------------------------------\n",
      "RooDataHist::signal_SRnominalDHist(obs_x_SR)\n",
      "RooDataHist::background_SRnominalDHist(obs_x_SR)\n",
      "\n",
      "named sets\n",
      "----------\n",
      "ModelConfig_GlobalObservables:(nom_alpha_signal_norm_uncertainty)\n",
      "ModelConfig_Observables:(obs_x_SR)\n",
      "coefList:(binWidth_obs_x_SR_0,binWidth_obs_x_SR_1)\n",
      "constraintTerms:(lumiConstraint,alpha_signal_norm_uncertaintyConstraint)\n",
      "globalObservables:(nom_alpha_signal_norm_uncertainty)\n",
      "likelihoodTerms:(SR_model)\n",
      "obsAndWeight:(weightVar,obs_x_SR)\n",
      "observables:(obs_x_SR)\n",
      "observablesSet:(obs_x_SR)\n",
      "shapeList:(L_x_signal_SR_overallSyst_x_Exp,L_x_background_SR_overallSyst_x_Exp)\n",
      "\n",
      "generic objects\n",
      "---------------\n",
      "RooStats::ModelConfig::ModelConfig\n",
      "\n",
      "[#2] INFO:HistFactory -- Setting Parameter(s) of Interest as: mu \n",
      "\n",
      "=== Using the following for ModelConfig ===\n",
      "Observables:             RooArgSet:: = (obs_x_SR)\n",
      "Parameters of Interest:  RooArgSet:: = (mu)\n",
      "Nuisance Parameters:     RooArgSet:: = (alpha_signal_norm_uncertainty)\n",
      "Global Observables:      RooArgSet:: = (nom_alpha_signal_norm_uncertainty)\n",
      "PDF:                     RooProdPdf::model_SR[ lumiConstraint * alpha_signal_norm_uncertaintyConstraint * SR_model(obs_x_SR) ] = 1329\n",
      "\n"
     ]
    }
   ],
   "source": [
    "hist2workspace = R.RooStats.HistFactory.HistoToWorkspaceFactoryFast(meas)\n",
    "ws = hist2workspace.MakeSingleChannelModel(meas, chan)\n",
    "\n",
    "ws.SetName(\"myws\")\n",
    "ws.writeToFile(\"test_hf_ws_{}.root\".format(mass))"
   ]
  },
  {
   "cell_type": "markdown",
   "id": "native-elevation",
   "metadata": {},
   "source": [
    "Close up"
   ]
  },
  {
   "cell_type": "code",
   "execution_count": 16,
   "id": "starting-bishop",
   "metadata": {
    "collapsed": false,
    "execution": {
     "iopub.execute_input": "2021-04-03T09:04:28.382296Z",
     "iopub.status.busy": "2021-04-03T09:04:28.381815Z",
     "iopub.status.idle": "2021-04-03T09:04:28.493136Z",
     "shell.execute_reply": "2021-04-03T09:04:28.492424Z"
    }
   },
   "outputs": [],
   "source": [
    "tfin.Close()"
   ]
  },
  {
   "cell_type": "markdown",
   "id": "increased-reason",
   "metadata": {},
   "source": [
    "Draw all canvases "
   ]
  },
  {
   "cell_type": "code",
   "execution_count": 17,
   "id": "facial-permit",
   "metadata": {
    "collapsed": false,
    "execution": {
     "iopub.execute_input": "2021-04-03T09:04:28.503053Z",
     "iopub.status.busy": "2021-04-03T09:04:28.502349Z",
     "iopub.status.idle": "2021-04-03T09:04:28.611494Z",
     "shell.execute_reply": "2021-04-03T09:04:28.611984Z"
    }
   },
   "outputs": [],
   "source": [
    "from ROOT import gROOT \n",
    "gROOT.GetListOfCanvases().Draw()"
   ]
  }
 ],
 "metadata": {
  "kernelspec": {
   "display_name": "Python 3",
   "language": "python",
   "name": "python3"
  },
  "language_info": {
   "codemirror_mode": {
    "name": "ipython",
    "version": 3
   },
   "file_extension": ".py",
   "mimetype": "text/x-python",
   "name": "python",
   "nbconvert_exporter": "python",
   "pygments_lexer": "ipython3",
   "version": "3.8.8"
  }
 },
 "nbformat": 4,
 "nbformat_minor": 5
}
