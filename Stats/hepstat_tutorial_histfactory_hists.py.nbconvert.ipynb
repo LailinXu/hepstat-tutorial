{
 "cells": [
  {
   "cell_type": "markdown",
   "id": "direct-suggestion",
   "metadata": {},
   "source": [
    "# Hepstat_Tutorial_Histfactory_Hists\n",
    "Histfactory example. \n",
    "\n",
    " with following objectives:\n",
    " * Create a workspace using histograms\n",
    " * Example operations at the workspace level\n",
    "\n",
    "\n",
    "\n",
    "\n",
    "**Author:** Lailin XU  \n",
    "<i><small>This notebook tutorial was automatically generated with <a href= \"https://github.com/root-project/root/blob/master/documentation/doxygen/converttonotebook.py\">ROOTBOOK-izer</a> from the macro found in the ROOT repository  on Monday, April 05, 2021 at 10:56 PM.</small></i>"
   ]
  },
  {
   "cell_type": "code",
   "execution_count": 1,
   "id": "suspended-raise",
   "metadata": {
    "collapsed": false,
    "execution": {
     "iopub.execute_input": "2021-04-05T14:56:03.430588Z",
     "iopub.status.busy": "2021-04-05T14:56:03.429780Z",
     "iopub.status.idle": "2021-04-05T14:56:03.431830Z",
     "shell.execute_reply": "2021-04-05T14:56:03.432335Z"
    }
   },
   "outputs": [],
   "source": [
    "import os, sys"
   ]
  },
  {
   "cell_type": "markdown",
   "id": "mexican-waterproof",
   "metadata": {},
   "source": [
    "Import the ROOT libraries"
   ]
  },
  {
   "cell_type": "code",
   "execution_count": 2,
   "id": "choice-organ",
   "metadata": {
    "collapsed": false,
    "execution": {
     "iopub.execute_input": "2021-04-05T14:56:03.436214Z",
     "iopub.status.busy": "2021-04-05T14:56:03.435594Z",
     "iopub.status.idle": "2021-04-05T14:56:03.881910Z",
     "shell.execute_reply": "2021-04-05T14:56:03.882094Z"
    }
   },
   "outputs": [
    {
     "name": "stdout",
     "output_type": "stream",
     "text": [
      "Welcome to JupyROOT 6.22/07\n"
     ]
    }
   ],
   "source": [
    "import ROOT as R\n",
    "from math import pow, sqrt\n",
    "R.gROOT.SetStyle(\"ATLAS\")"
   ]
  },
  {
   "cell_type": "markdown",
   "id": "arabic-norwegian",
   "metadata": {},
   "source": [
    "Prepare input files\n",
    "======================="
   ]
  },
  {
   "cell_type": "code",
   "execution_count": 3,
   "id": "universal-lawsuit",
   "metadata": {
    "collapsed": false,
    "execution": {
     "iopub.execute_input": "2021-04-05T14:56:03.884470Z",
     "iopub.status.busy": "2021-04-05T14:56:03.884172Z",
     "iopub.status.idle": "2021-04-05T14:56:03.990509Z",
     "shell.execute_reply": "2021-04-05T14:56:03.990812Z"
    }
   },
   "outputs": [],
   "source": [
    "inputhist = \"data/h4l_toy_hists.root\"\n",
    "if not os.path.isfile(inputhist):\n",
    "  print(\"Error! No input files found: {}\".format(inputhist)) \n",
    "  pyhist = \"hepstat_tutorial_genhists.py\"\n",
    "  if os.path.isfile(pyhist):\n",
    "    cmd = \"python3 {}\".format(pyhist)\n",
    "    os.system(cmd)"
   ]
  },
  {
   "cell_type": "markdown",
   "id": "weighted-quarter",
   "metadata": {},
   "source": [
    "Signal mass point"
   ]
  },
  {
   "cell_type": "code",
   "execution_count": 4,
   "id": "manufactured-classic",
   "metadata": {
    "collapsed": false,
    "execution": {
     "iopub.execute_input": "2021-04-05T14:56:03.993226Z",
     "iopub.status.busy": "2021-04-05T14:56:03.992811Z",
     "iopub.status.idle": "2021-04-05T14:56:04.100555Z",
     "shell.execute_reply": "2021-04-05T14:56:04.101066Z"
    }
   },
   "outputs": [],
   "source": [
    "mass = 125"
   ]
  },
  {
   "cell_type": "markdown",
   "id": "painted-estimate",
   "metadata": {},
   "source": [
    "if len(sys.argv)>1: mass = int(sys.argv[1])"
   ]
  },
  {
   "cell_type": "markdown",
   "id": "scheduled-indonesian",
   "metadata": {},
   "source": [
    "Create a workspace\n",
    "======================="
   ]
  },
  {
   "cell_type": "markdown",
   "id": "angry-project",
   "metadata": {},
   "source": [
    "Create a Histfactory Measurement\n",
    "-----------------------"
   ]
  },
  {
   "cell_type": "markdown",
   "id": "loved-gibson",
   "metadata": {},
   "source": [
    "First we set the Parameter of interest, and several constant parameters."
   ]
  },
  {
   "cell_type": "code",
   "execution_count": 5,
   "id": "instructional-antarctica",
   "metadata": {
    "collapsed": false,
    "execution": {
     "iopub.execute_input": "2021-04-05T14:56:04.252887Z",
     "iopub.status.busy": "2021-04-05T14:56:04.252573Z",
     "iopub.status.idle": "2021-04-05T14:56:04.359724Z",
     "shell.execute_reply": "2021-04-05T14:56:04.360031Z"
    }
   },
   "outputs": [
    {
     "name": "stdout",
     "output_type": "stream",
     "text": [
      "\n",
      "\u001b[1mRooFit v3.60 -- Developed by Wouter Verkerke and David Kirkby\u001b[0m \n",
      "                Copyright (C) 2000-2013 NIKHEF, University of California & Stanford University\n",
      "                All rights reserved, please read http://roofit.sourceforge.net/license.txt\n",
      "\n"
     ]
    }
   ],
   "source": [
    "meas = R.RooStats.HistFactory.Measurement(\"meas\", \"meas\")\n",
    "meas.SetPOI(\"mu\")"
   ]
  },
  {
   "cell_type": "markdown",
   "id": "confused-design",
   "metadata": {},
   "source": [
    "Set the luminosity constant with a dummy uncertainty of 2%"
   ]
  },
  {
   "cell_type": "code",
   "execution_count": 6,
   "id": "adjacent-episode",
   "metadata": {
    "collapsed": false,
    "execution": {
     "iopub.execute_input": "2021-04-05T14:56:04.367164Z",
     "iopub.status.busy": "2021-04-05T14:56:04.366758Z",
     "iopub.status.idle": "2021-04-05T14:56:04.474234Z",
     "shell.execute_reply": "2021-04-05T14:56:04.474675Z"
    }
   },
   "outputs": [],
   "source": [
    "meas.SetLumi( 1.0 )\n",
    "meas.SetLumiRelErr( 0.02 )\n",
    "meas.AddConstantParam(\"Lumi\")"
   ]
  },
  {
   "cell_type": "markdown",
   "id": "satisfied-electric",
   "metadata": {},
   "source": [
    "Create a channel and set the measured value of data"
   ]
  },
  {
   "cell_type": "code",
   "execution_count": 7,
   "id": "relative-encyclopedia",
   "metadata": {
    "collapsed": false,
    "execution": {
     "iopub.execute_input": "2021-04-05T14:56:04.497494Z",
     "iopub.status.busy": "2021-04-05T14:56:04.496799Z",
     "iopub.status.idle": "2021-04-05T14:56:04.606248Z",
     "shell.execute_reply": "2021-04-05T14:56:04.606807Z"
    }
   },
   "outputs": [],
   "source": [
    "chan = R.RooStats.HistFactory.Channel( \"SR\" )\n",
    "chan.SetStatErrorConfig(0.05, \"Poisson\")\n",
    "chan.SetData(\"obsData\", inputhist)"
   ]
  },
  {
   "cell_type": "markdown",
   "id": "dressed-willow",
   "metadata": {},
   "source": [
    "Create the signal sample and set its histogram\n",
    "  [RooStats::HistFactory::Sample](https://root.cern.ch/doc/v606/classRooStats_1_1HistFactory_1_1Sample.html#abc13f0d4bc554b73bdb5fd3eb3a6672b)(std::string Name, std::string HistoName, std::string InputFile, std::string HistoPath=\"\")"
   ]
  },
  {
   "cell_type": "code",
   "execution_count": 8,
   "id": "welcome-density",
   "metadata": {
    "collapsed": false,
    "execution": {
     "iopub.execute_input": "2021-04-05T14:56:04.623232Z",
     "iopub.status.busy": "2021-04-05T14:56:04.622597Z",
     "iopub.status.idle": "2021-04-05T14:56:04.732687Z",
     "shell.execute_reply": "2021-04-05T14:56:04.733485Z"
    }
   },
   "outputs": [],
   "source": [
    "signal = R.RooStats.HistFactory.Sample( \"signal\", \"sig_{}\".format(mass), inputhist)"
   ]
  },
  {
   "cell_type": "markdown",
   "id": "auburn-mozambique",
   "metadata": {},
   "source": [
    "Add the parmaeter of interest and a systematic and try to make intelligent choice of upper bound"
   ]
  },
  {
   "cell_type": "code",
   "execution_count": 9,
   "id": "second-motion",
   "metadata": {
    "collapsed": false,
    "execution": {
     "iopub.execute_input": "2021-04-05T14:56:04.745187Z",
     "iopub.status.busy": "2021-04-05T14:56:04.744450Z",
     "iopub.status.idle": "2021-04-05T14:56:04.854795Z",
     "shell.execute_reply": "2021-04-05T14:56:04.855531Z"
    }
   },
   "outputs": [],
   "source": [
    "signal.AddNormFactor( \"mu\", 1, 0, 3)"
   ]
  },
  {
   "cell_type": "markdown",
   "id": "continuous-norfolk",
   "metadata": {},
   "source": [
    "Assign a dummy signal normalisation uncertainty (up, down with respect to the nominal)"
   ]
  },
  {
   "cell_type": "code",
   "execution_count": 10,
   "id": "sufficient-result",
   "metadata": {
    "collapsed": false,
    "execution": {
     "iopub.execute_input": "2021-04-05T14:56:04.866112Z",
     "iopub.status.busy": "2021-04-05T14:56:04.865402Z",
     "iopub.status.idle": "2021-04-05T14:56:04.976381Z",
     "shell.execute_reply": "2021-04-05T14:56:04.975648Z"
    }
   },
   "outputs": [],
   "source": [
    "signal.AddOverallSys( \"signal_norm_uncertainty\", 0.95, 1.05)"
   ]
  },
  {
   "cell_type": "markdown",
   "id": "japanese-alberta",
   "metadata": {},
   "source": [
    "Add the signal sample to the Channel"
   ]
  },
  {
   "cell_type": "code",
   "execution_count": 11,
   "id": "infrared-power",
   "metadata": {
    "collapsed": false,
    "execution": {
     "iopub.execute_input": "2021-04-05T14:56:04.985134Z",
     "iopub.status.busy": "2021-04-05T14:56:04.984474Z",
     "iopub.status.idle": "2021-04-05T14:56:05.094782Z",
     "shell.execute_reply": "2021-04-05T14:56:05.095498Z"
    }
   },
   "outputs": [],
   "source": [
    "chan.AddSample( signal )"
   ]
  },
  {
   "cell_type": "markdown",
   "id": "composed-professional",
   "metadata": {},
   "source": [
    "Create the background sample and set its histogram"
   ]
  },
  {
   "cell_type": "code",
   "execution_count": 12,
   "id": "fuzzy-springer",
   "metadata": {
    "collapsed": false,
    "execution": {
     "iopub.execute_input": "2021-04-05T14:56:05.101410Z",
     "iopub.status.busy": "2021-04-05T14:56:05.100701Z",
     "iopub.status.idle": "2021-04-05T14:56:05.210758Z",
     "shell.execute_reply": "2021-04-05T14:56:05.211357Z"
    }
   },
   "outputs": [],
   "source": [
    "background = R.RooStats.HistFactory.Sample( \"background\", \"bkg\", inputhist )"
   ]
  },
  {
   "cell_type": "markdown",
   "id": "middle-blood",
   "metadata": {},
   "source": [
    "Add bkg systematics"
   ]
  },
  {
   "cell_type": "code",
   "execution_count": 13,
   "id": "contemporary-building",
   "metadata": {
    "collapsed": false,
    "execution": {
     "iopub.execute_input": "2021-04-05T14:56:05.216834Z",
     "iopub.status.busy": "2021-04-05T14:56:05.216039Z",
     "iopub.status.idle": "2021-04-05T14:56:05.325914Z",
     "shell.execute_reply": "2021-04-05T14:56:05.326612Z"
    }
   },
   "outputs": [],
   "source": [
    "background.AddOverallSys( \"bkg_norm_uncertainty\", 0.90, 1.10)"
   ]
  },
  {
   "cell_type": "markdown",
   "id": "apparent-affairs",
   "metadata": {},
   "source": [
    " [RooStats::HistFactory::Sample::AddHistoSys](https://root.cern.ch/doc/v606/classRooStats_1_1HistFactory_1_1Sample.html#af6f7abaad023353f47f63c8db6f39af0) (std::string Name, std::string HistoNameLow, std::string HistoFileLow, std::string HistoPathLow, std::string HistoNameHigh, std::string HistoFileHigh, std::string HistoPathHigh)"
   ]
  },
  {
   "cell_type": "code",
   "execution_count": 14,
   "id": "stupid-mailman",
   "metadata": {
    "collapsed": false,
    "execution": {
     "iopub.execute_input": "2021-04-05T14:56:05.337405Z",
     "iopub.status.busy": "2021-04-05T14:56:05.336668Z",
     "iopub.status.idle": "2021-04-05T14:56:05.447266Z",
     "shell.execute_reply": "2021-04-05T14:56:05.447927Z"
    }
   },
   "outputs": [],
   "source": [
    "background.AddHistoSys(\"background_shape\", \"bkg_up\", inputhist, \"\", \"bkg_dn\", inputhist, \"\")"
   ]
  },
  {
   "cell_type": "markdown",
   "id": "union-chester",
   "metadata": {},
   "source": [
    "Add the bkg sample to the Channel"
   ]
  },
  {
   "cell_type": "code",
   "execution_count": 15,
   "id": "returning-holocaust",
   "metadata": {
    "collapsed": false,
    "execution": {
     "iopub.execute_input": "2021-04-05T14:56:05.453337Z",
     "iopub.status.busy": "2021-04-05T14:56:05.452644Z",
     "iopub.status.idle": "2021-04-05T14:56:05.562352Z",
     "shell.execute_reply": "2021-04-05T14:56:05.562927Z"
    }
   },
   "outputs": [],
   "source": [
    "chan.AddSample( background )"
   ]
  },
  {
   "cell_type": "markdown",
   "id": "conscious-appeal",
   "metadata": {},
   "source": [
    "Add the Channel to the Meas"
   ]
  },
  {
   "cell_type": "code",
   "execution_count": 16,
   "id": "connected-superior",
   "metadata": {
    "collapsed": false,
    "execution": {
     "iopub.execute_input": "2021-04-05T14:56:05.603194Z",
     "iopub.status.busy": "2021-04-05T14:56:05.602694Z",
     "iopub.status.idle": "2021-04-05T14:56:05.711954Z",
     "shell.execute_reply": "2021-04-05T14:56:05.712536Z"
    }
   },
   "outputs": [],
   "source": [
    "meas.AddChannel(chan)"
   ]
  },
  {
   "cell_type": "markdown",
   "id": "endless-filing",
   "metadata": {},
   "source": [
    "Collect the histograms from their files, print some output, "
   ]
  },
  {
   "cell_type": "code",
   "execution_count": 17,
   "id": "mechanical-channel",
   "metadata": {
    "collapsed": false,
    "execution": {
     "iopub.execute_input": "2021-04-05T14:56:05.762422Z",
     "iopub.status.busy": "2021-04-05T14:56:05.761974Z",
     "iopub.status.idle": "2021-04-05T14:56:05.870292Z",
     "shell.execute_reply": "2021-04-05T14:56:05.870801Z"
    }
   },
   "outputs": [
    {
     "name": "stdout",
     "output_type": "stream",
     "text": [
      "[#2] PROGRESS:HistFactory -- Getting histogram data/h4l_toy_hists.root:/obsData\n",
      "[#2] INFO:HistFactory -- Opened input file: data/h4l_toy_hists.root: \n",
      "[#2] PROGRESS:HistFactory -- Getting histogram data/h4l_toy_hists.root:/sig_125\n",
      "[#2] PROGRESS:HistFactory -- Getting histogram data/h4l_toy_hists.root:/bkg\n",
      "[#2] PROGRESS:HistFactory -- Getting histogram data/h4l_toy_hists.root:/bkg_up\n",
      "[#2] PROGRESS:HistFactory -- Getting histogram data/h4l_toy_hists.root:/bkg_dn\n",
      "Measurement Name: meas\t OutputFilePrefix: \t POI: mu\t Lumi: 1\t LumiRelErr: 0.02\t BinLow: 0\t BinHigh: 1\t ExportOnly: 0\n",
      "Constant Params:  Lumi\n",
      "Channels:\n",
      "\t Channel Name: SR\t InputFile: \n",
      "\t Data:\n",
      "\t \t InputFile: data/h4l_toy_hists.root\t HistoName: obsData\t HistoPath: \t HistoAddress: 0x13f9d8f10\n",
      "\t statErrorConfig:\n",
      "\t \t RelErrorThreshold: 0.05\t ConstraintType: Poisson\n",
      "\t Samples: \n",
      "\t \t Name: signal\t \t Channel: SR\t NormalizeByTheory: True\t StatErrorActivate: False\n",
      "\t \t \t \t \t InputFile: data/h4l_toy_hists.root\t HistName: sig_125\t HistoPath: \t HistoAddress: 0x13f9d9c90\n",
      "\t \t Name: background\t \t Channel: SR\t NormalizeByTheory: True\t StatErrorActivate: False\n",
      "\t \t \t \t \t InputFile: data/h4l_toy_hists.root\t HistName: bkg\t HistoPath: \t HistoAddress: 0x13f9da080\n",
      "\t End of Channel SR\n",
      "[#2] INFO:HistFactory -- End Measurement: meas\n"
     ]
    }
   ],
   "source": [
    "meas.CollectHistograms()\n",
    "meas.PrintTree()"
   ]
  },
  {
   "cell_type": "markdown",
   "id": "experimental-implementation",
   "metadata": {},
   "source": [
    "Make the workspace!\n",
    "-----------------------"
   ]
  },
  {
   "cell_type": "code",
   "execution_count": 18,
   "id": "cubic-receptor",
   "metadata": {
    "collapsed": false,
    "execution": {
     "iopub.execute_input": "2021-04-05T14:56:05.950211Z",
     "iopub.status.busy": "2021-04-05T14:56:05.949870Z",
     "iopub.status.idle": "2021-04-05T14:56:06.057381Z",
     "shell.execute_reply": "2021-04-05T14:56:06.057729Z"
    }
   },
   "outputs": [
    {
     "name": "stdout",
     "output_type": "stream",
     "text": [
      "[#2] PROGRESS:HistFactory -- Getting histogram data/h4l_toy_hists.root:/obsData\n",
      "[#2] INFO:HistFactory -- Opened input file: data/h4l_toy_hists.root: \n",
      "[#2] PROGRESS:HistFactory -- Getting histogram data/h4l_toy_hists.root:/sig_125\n",
      "[#2] PROGRESS:HistFactory -- Getting histogram data/h4l_toy_hists.root:/bkg\n",
      "[#2] PROGRESS:HistFactory -- Getting histogram data/h4l_toy_hists.root:/bkg_up\n",
      "[#2] PROGRESS:HistFactory -- Getting histogram data/h4l_toy_hists.root:/bkg_dn\n",
      "[#2] PROGRESS:HistFactory -- \n",
      "-----------------------------------------\n",
      "\tStarting to process 'SR' channel with 1 observables\n",
      "-----------------------------------------\n",
      "\n",
      "[#2] INFO:HistFactory -- lumi str = [1,0,10]\n",
      "[#2] INFO:HistFactory -- lumi Error str = nominalLumi[1,0,1.2],0.02\n",
      "[#1] INFO:ObjectHandling -- RooWorkspace::import(SR) importing RooStats::HistFactory::FlexibleInterpVar::signal_SR_epsilon\n",
      "[#2] INFO:HistFactory -- making normFactor: mu\n",
      "[#2] INFO:HistFactory -- signal_SR has no variation histograms \n",
      "[#2] INFO:HistFactory -- processing hist sig_125\n",
      "[#1] INFO:ObjectHandling -- RooWorkspace::import(SR) importing dataset signal_SRnominalDHist\n",
      "[#1] INFO:ObjectHandling -- RooWorkspace::import(SR) importing RooHistFunc::signal_SR_nominal\n",
      "[#1] INFO:ObjectHandling -- RooWorkspace::import(SR) importing RooStats::HistFactory::FlexibleInterpVar::background_SR_epsilon\n",
      "[#2] INFO:HistFactory -- Gaussian::alpha_background_shapeConstraint(alpha_background_shape,nom_alpha_background_shape[0.,-10,10],1.)\n",
      "[#1] INFO:ObjectHandling -- RooWorkspace::import(SR) importing dataset background_SR_Hist_alphanominalDHist\n",
      "[#1] INFO:ObjectHandling -- RooWorkspace::import(SR) importing dataset background_SR_Hist_alpha_0lowDHist\n",
      "[#1] INFO:ObjectHandling -- RooWorkspace::import(SR) importing dataset background_SR_Hist_alpha_0highDHist\n",
      "[#1] INFO:ObjectHandling -- RooWorkspace::import(SR) importing PiecewiseInterpolation::background_SR_Hist_alpha\n",
      "[#1] INFO:ObjectHandling -- RooWorkspace::import(SR) importing RooHistFunc::background_SR_Hist_alphanominal\n",
      "[#1] INFO:ObjectHandling -- RooWorkspace::import(SR) importing RooHistFunc::background_SR_Hist_alpha_0low\n",
      "[#1] INFO:ObjectHandling -- RooWorkspace::import(SR) importing RooHistFunc::background_SR_Hist_alpha_0high\n",
      "[#1] INFO:ObjectHandling -- RooWorkspace::import(SR) importing RooRealSumPdf::SR_model\n",
      "[#2] PROGRESS:HistFactory -- \n",
      "-----------------------------------------\n",
      "\timport model into workspace\n",
      "-----------------------------------------\n",
      "\n",
      "[#1] INFO:ObjectHandling -- RooWorkspace::import(SR) importing RooProdPdf::model_SR\n",
      "[#1] INFO:ObjectHandling -- RooWorkspace::import(SR) using existing copy of RooGaussian::lumiConstraint for import of RooProdPdf::model_SR\n",
      "[#1] INFO:ObjectHandling -- RooWorkspace::import(SR) using existing copy of RooConstVar::0.02 for import of RooProdPdf::model_SR\n",
      "[#1] INFO:ObjectHandling -- RooWorkspace::import(SR) using existing copy of RooRealVar::Lumi for import of RooProdPdf::model_SR\n",
      "[#1] INFO:ObjectHandling -- RooWorkspace::import(SR) using existing copy of RooRealVar::nominalLumi for import of RooProdPdf::model_SR\n",
      "[#1] INFO:ObjectHandling -- RooWorkspace::import(SR) using existing copy of RooGaussian::alpha_signal_norm_uncertaintyConstraint for import of RooProdPdf::model_SR\n",
      "[#1] INFO:ObjectHandling -- RooWorkspace::import(SR) using existing copy of RooConstVar::1 for import of RooProdPdf::model_SR\n",
      "[#1] INFO:ObjectHandling -- RooWorkspace::import(SR) using existing copy of RooRealVar::alpha_signal_norm_uncertainty for import of RooProdPdf::model_SR\n",
      "[#1] INFO:ObjectHandling -- RooWorkspace::import(SR) using existing copy of RooRealVar::nom_alpha_signal_norm_uncertainty for import of RooProdPdf::model_SR\n",
      "[#1] INFO:ObjectHandling -- RooWorkspace::import(SR) using existing copy of RooGaussian::alpha_bkg_norm_uncertaintyConstraint for import of RooProdPdf::model_SR\n",
      "[#1] INFO:ObjectHandling -- RooWorkspace::import(SR) using existing copy of RooRealVar::alpha_bkg_norm_uncertainty for import of RooProdPdf::model_SR\n",
      "[#1] INFO:ObjectHandling -- RooWorkspace::import(SR) using existing copy of RooRealVar::nom_alpha_bkg_norm_uncertainty for import of RooProdPdf::model_SR\n",
      "[#1] INFO:ObjectHandling -- RooWorkspace::import(SR) using existing copy of RooGaussian::alpha_background_shapeConstraint for import of RooProdPdf::model_SR\n",
      "[#1] INFO:ObjectHandling -- RooWorkspace::import(SR) using existing copy of RooRealVar::alpha_background_shape for import of RooProdPdf::model_SR\n",
      "[#1] INFO:ObjectHandling -- RooWorkspace::import(SR) using existing copy of RooRealVar::nom_alpha_background_shape for import of RooProdPdf::model_SR\n",
      "[#1] INFO:ObjectHandling -- RooWorkspace::import(SR) using existing copy of RooRealSumPdf::SR_model for import of RooProdPdf::model_SR\n",
      "[#1] INFO:ObjectHandling -- RooWorkspace::import(SR) using existing copy of RooProduct::L_x_signal_SR_overallSyst_x_Exp for import of RooProdPdf::model_SR\n",
      "[#1] INFO:ObjectHandling -- RooWorkspace::import(SR) using existing copy of RooProduct::signal_SR_overallSyst_x_Exp for import of RooProdPdf::model_SR\n",
      "[#1] INFO:ObjectHandling -- RooWorkspace::import(SR) using existing copy of RooHistFunc::signal_SR_nominal for import of RooProdPdf::model_SR\n",
      "[#1] INFO:ObjectHandling -- RooWorkspace::import(SR) using existing copy of RooRealVar::obs_x_SR for import of RooProdPdf::model_SR\n",
      "[#1] INFO:ObjectHandling -- RooWorkspace::import(SR) using existing copy of RooProduct::signal_SR_overallNorm_x_sigma_epsilon for import of RooProdPdf::model_SR\n",
      "[#1] INFO:ObjectHandling -- RooWorkspace::import(SR) using existing copy of RooRealVar::mu for import of RooProdPdf::model_SR\n",
      "[#1] INFO:ObjectHandling -- RooWorkspace::import(SR) using existing copy of RooStats::HistFactory::FlexibleInterpVar::signal_SR_epsilon for import of RooProdPdf::model_SR\n",
      "[#1] INFO:ObjectHandling -- RooWorkspace::import(SR) using existing copy of RooRealVar::binWidth_obs_x_SR_0 for import of RooProdPdf::model_SR\n",
      "[#1] INFO:ObjectHandling -- RooWorkspace::import(SR) using existing copy of RooProduct::L_x_background_SR_overallSyst_x_HistSyst for import of RooProdPdf::model_SR\n",
      "[#1] INFO:ObjectHandling -- RooWorkspace::import(SR) using existing copy of RooProduct::background_SR_overallSyst_x_HistSyst for import of RooProdPdf::model_SR\n",
      "[#1] INFO:ObjectHandling -- RooWorkspace::import(SR) using existing copy of PiecewiseInterpolation::background_SR_Hist_alpha for import of RooProdPdf::model_SR\n",
      "[#1] INFO:ObjectHandling -- RooWorkspace::import(SR) using existing copy of RooHistFunc::background_SR_Hist_alphanominal for import of RooProdPdf::model_SR\n",
      "[#1] INFO:ObjectHandling -- RooWorkspace::import(SR) using existing copy of RooHistFunc::background_SR_Hist_alpha_0low for import of RooProdPdf::model_SR\n",
      "[#1] INFO:ObjectHandling -- RooWorkspace::import(SR) using existing copy of RooHistFunc::background_SR_Hist_alpha_0high for import of RooProdPdf::model_SR\n",
      "[#1] INFO:ObjectHandling -- RooWorkspace::import(SR) using existing copy of RooStats::HistFactory::FlexibleInterpVar::background_SR_epsilon for import of RooProdPdf::model_SR\n",
      "[#1] INFO:ObjectHandling -- RooWorkspace::import(SR) using existing copy of RooRealVar::binWidth_obs_x_SR_1 for import of RooProdPdf::model_SR\n",
      "[#1] INFO:NumericIntegration -- RooRealIntegral::init(SR_model_Int[obs_x_SR]) using numeric integrator RooBinIntegrator to calculate Int(obs_x_SR)\n",
      "RooDataSet::AsimovData[obs_x_SR,weight:binWeightAsimov] = 25 entries (101 weighted)\n",
      "[#1] INFO:ObjectHandling -- RooWorkspace::import(SR) importing dataset AsimovData\n",
      "[#1] INFO:ObjectHandling -- RooWorkSpace::import(SR) changing name of dataset from  AsimovData to asimovData\n",
      "[#1] INFO:ObjectHandling -- RooWorkspace::import(SR) importing dataset obsData\n",
      "\n",
      "RooWorkspace(SR) SR workspace contents\n",
      "\n",
      "variables\n",
      "---------\n",
      "(Lumi,alpha_background_shape,alpha_bkg_norm_uncertainty,alpha_signal_norm_uncertainty,binWidth_obs_x_SR_0,binWidth_obs_x_SR_1,mu,nom_alpha_background_shape,nom_alpha_bkg_norm_uncertainty,nom_alpha_signal_norm_uncertainty,nominalLumi,obs_x_SR,weightVar)\n",
      "\n",
      "p.d.f.s\n",
      "-------\n",
      "RooRealSumPdf::SR_model[ binWidth_obs_x_SR_0 * L_x_signal_SR_overallSyst_x_Exp + binWidth_obs_x_SR_1 * L_x_background_SR_overallSyst_x_HistSyst ] = 1.353/101\n",
      "RooGaussian::alpha_background_shapeConstraint[ x=alpha_background_shape mean=nom_alpha_background_shape sigma=1 ] = 1\n",
      "RooGaussian::alpha_bkg_norm_uncertaintyConstraint[ x=alpha_bkg_norm_uncertainty mean=nom_alpha_bkg_norm_uncertainty sigma=1 ] = 1\n",
      "RooGaussian::alpha_signal_norm_uncertaintyConstraint[ x=alpha_signal_norm_uncertainty mean=nom_alpha_signal_norm_uncertainty sigma=1 ] = 1\n",
      "RooGaussian::lumiConstraint[ x=Lumi mean=nominalLumi sigma=0.02 ] = 1\n",
      "RooProdPdf::model_SR[ lumiConstraint * alpha_signal_norm_uncertaintyConstraint * alpha_bkg_norm_uncertaintyConstraint * alpha_background_shapeConstraint * SR_model(obs_x_SR) ] = 1.353\n",
      "\n",
      "functions\n",
      "--------\n",
      "RooProduct::L_x_background_SR_overallSyst_x_HistSyst[ Lumi * background_SR_overallSyst_x_HistSyst ] = 2.706\n",
      "RooProduct::L_x_signal_SR_overallSyst_x_Exp[ Lumi * signal_SR_overallSyst_x_Exp ] = 0\n",
      "PiecewiseInterpolation::background_SR_Hist_alpha[ ] = 2.706\n",
      "RooHistFunc::background_SR_Hist_alpha_0high[ depList=(obs_x_SR) ] = 2.68\n",
      "RooHistFunc::background_SR_Hist_alpha_0low[ depList=(obs_x_SR) ] = 2.937\n",
      "RooHistFunc::background_SR_Hist_alphanominal[ depList=(obs_x_SR) ] = 2.706\n",
      "RooStats::HistFactory::FlexibleInterpVar::background_SR_epsilon[ paramList=(alpha_bkg_norm_uncertainty) ] = 1\n",
      "RooProduct::background_SR_overallSyst_x_HistSyst[ background_SR_Hist_alpha * background_SR_epsilon ] = 2.706\n",
      "RooStats::HistFactory::FlexibleInterpVar::signal_SR_epsilon[ paramList=(alpha_signal_norm_uncertainty) ] = 1\n",
      "RooHistFunc::signal_SR_nominal[ depList=(obs_x_SR) ] = 0\n",
      "RooProduct::signal_SR_overallNorm_x_sigma_epsilon[ mu * signal_SR_epsilon ] = 1\n",
      "RooProduct::signal_SR_overallSyst_x_Exp[ signal_SR_nominal * signal_SR_overallNorm_x_sigma_epsilon ] = 0\n",
      "\n",
      "datasets\n",
      "--------\n",
      "RooDataSet::asimovData(obs_x_SR)\n",
      "RooDataSet::obsData(obs_x_SR)\n",
      "\n",
      "embedded datasets (in pdfs and functions)\n",
      "-----------------------------------------\n",
      "RooDataHist::signal_SRnominalDHist(obs_x_SR)\n",
      "RooDataHist::background_SR_Hist_alphanominalDHist(obs_x_SR)\n",
      "RooDataHist::background_SR_Hist_alpha_0lowDHist(obs_x_SR)\n",
      "RooDataHist::background_SR_Hist_alpha_0highDHist(obs_x_SR)\n",
      "\n",
      "named sets\n",
      "----------\n",
      "ModelConfig_GlobalObservables:(nom_alpha_signal_norm_uncertainty,nom_alpha_bkg_norm_uncertainty,nom_alpha_background_shape)\n",
      "ModelConfig_Observables:(obs_x_SR)\n",
      "coefList:(binWidth_obs_x_SR_0,binWidth_obs_x_SR_1)\n",
      "constraintTerms:(lumiConstraint,alpha_signal_norm_uncertaintyConstraint,alpha_bkg_norm_uncertaintyConstraint,alpha_background_shapeConstraint)\n",
      "globalObservables:(nom_alpha_signal_norm_uncertainty,nom_alpha_bkg_norm_uncertainty,nom_alpha_background_shape)\n",
      "likelihoodTerms:(SR_model)\n",
      "obsAndWeight:(weightVar,obs_x_SR)\n",
      "observables:(obs_x_SR)\n",
      "observablesSet:(obs_x_SR)\n",
      "shapeList:(L_x_signal_SR_overallSyst_x_Exp,L_x_background_SR_overallSyst_x_HistSyst)\n",
      "\n",
      "generic objects\n",
      "---------------\n",
      "RooStats::ModelConfig::ModelConfig\n",
      "\n",
      "[#2] INFO:HistFactory -- Setting Parameter(s) of Interest as: mu \n",
      "\n",
      "=== Using the following for ModelConfig ===\n",
      "Observables:             RooArgSet:: = (obs_x_SR)\n",
      "Parameters of Interest:  RooArgSet:: = (mu)\n",
      "Nuisance Parameters:     RooArgSet:: = (alpha_background_shape,alpha_bkg_norm_uncertainty,alpha_signal_norm_uncertainty)\n",
      "Global Observables:      RooArgSet:: = (nom_alpha_signal_norm_uncertainty,nom_alpha_bkg_norm_uncertainty,nom_alpha_background_shape)\n",
      "PDF:                     RooProdPdf::model_SR[ lumiConstraint * alpha_signal_norm_uncertaintyConstraint * alpha_bkg_norm_uncertaintyConstraint * alpha_background_shapeConstraint * SR_model(obs_x_SR) ] = 1.353\n",
      "\n"
     ]
    }
   ],
   "source": [
    "hist2workspace = R.RooStats.HistFactory.HistoToWorkspaceFactoryFast(meas)\n",
    "ws = hist2workspace.MakeSingleChannelModel(meas, chan)"
   ]
  },
  {
   "cell_type": "markdown",
   "id": "continent-failing",
   "metadata": {},
   "source": [
    "Write to a file"
   ]
  },
  {
   "cell_type": "code",
   "execution_count": 19,
   "id": "funded-colombia",
   "metadata": {
    "collapsed": false,
    "execution": {
     "iopub.execute_input": "2021-04-05T14:56:06.358229Z",
     "iopub.status.busy": "2021-04-05T14:56:06.357906Z",
     "iopub.status.idle": "2021-04-05T14:56:06.465542Z",
     "shell.execute_reply": "2021-04-05T14:56:06.465998Z"
    }
   },
   "outputs": [
    {
     "data": {
      "text/plain": [
       "False"
      ]
     },
     "execution_count": 1,
     "metadata": {},
     "output_type": "execute_result"
    },
    {
     "name": "stdout",
     "output_type": "stream",
     "text": [
      "\n",
      "RooWorkspace(myws) SR workspace contents\n",
      "\n",
      "variables\n",
      "---------\n",
      "(Lumi,alpha_background_shape,alpha_bkg_norm_uncertainty,alpha_signal_norm_uncertainty,binWidth_obs_x_SR_0,binWidth_obs_x_SR_1,mu,nom_alpha_background_shape,nom_alpha_bkg_norm_uncertainty,nom_alpha_signal_norm_uncertainty,nominalLumi,obs_x_SR,weightVar)\n",
      "\n",
      "p.d.f.s\n",
      "-------\n",
      "RooProdPdf::model_SR[ lumiConstraint * alpha_signal_norm_uncertaintyConstraint * alpha_bkg_norm_uncertaintyConstraint * alpha_background_shapeConstraint * SR_model(obs_x_SR) ] = 1.353\n",
      "  RooGaussian::lumiConstraint[ x=Lumi mean=nominalLumi sigma=0.02 ] = 1\n",
      "  RooGaussian::alpha_signal_norm_uncertaintyConstraint[ x=alpha_signal_norm_uncertainty mean=nom_alpha_signal_norm_uncertainty sigma=1 ] = 1\n",
      "  RooGaussian::alpha_bkg_norm_uncertaintyConstraint[ x=alpha_bkg_norm_uncertainty mean=nom_alpha_bkg_norm_uncertainty sigma=1 ] = 1\n",
      "  RooGaussian::alpha_background_shapeConstraint[ x=alpha_background_shape mean=nom_alpha_background_shape sigma=1 ] = 1\n",
      "  RooRealSumPdf::SR_model[ binWidth_obs_x_SR_0 * L_x_signal_SR_overallSyst_x_Exp + binWidth_obs_x_SR_1 * L_x_background_SR_overallSyst_x_HistSyst ] = 1.353/101\n",
      "    RooProduct::L_x_signal_SR_overallSyst_x_Exp[ Lumi * signal_SR_overallSyst_x_Exp ] = 0\n",
      "      RooProduct::signal_SR_overallSyst_x_Exp[ signal_SR_nominal * signal_SR_overallNorm_x_sigma_epsilon ] = 0\n",
      "        RooHistFunc::signal_SR_nominal[ depList=(obs_x_SR) ] = 0\n",
      "        RooProduct::signal_SR_overallNorm_x_sigma_epsilon[ mu * signal_SR_epsilon ] = 1\n",
      "          RooStats::HistFactory::FlexibleInterpVar::signal_SR_epsilon[ paramList=(alpha_signal_norm_uncertainty) ] = 1\n",
      "    RooProduct::L_x_background_SR_overallSyst_x_HistSyst[ Lumi * background_SR_overallSyst_x_HistSyst ] = 2.706\n",
      "      RooProduct::background_SR_overallSyst_x_HistSyst[ background_SR_Hist_alpha * background_SR_epsilon ] = 2.706\n",
      "        PiecewiseInterpolation::background_SR_Hist_alpha[ ] = 2.706\n",
      "          RooHistFunc::background_SR_Hist_alphanominal[ depList=(obs_x_SR) ] = 2.706\n",
      "          RooHistFunc::background_SR_Hist_alpha_0low[ depList=(obs_x_SR) ] = 2.937\n",
      "          RooHistFunc::background_SR_Hist_alpha_0high[ depList=(obs_x_SR) ] = 2.68\n",
      "        RooStats::HistFactory::FlexibleInterpVar::background_SR_epsilon[ paramList=(alpha_bkg_norm_uncertainty) ] = 1\n",
      "\n",
      "datasets\n",
      "--------\n",
      "RooDataSet::asimovData(obs_x_SR)\n",
      "RooDataSet::obsData(obs_x_SR)\n",
      "\n",
      "embedded datasets (in pdfs and functions)\n",
      "-----------------------------------------\n",
      "RooDataHist::signal_SRnominalDHist(obs_x_SR)\n",
      "RooDataHist::background_SR_Hist_alphanominalDHist(obs_x_SR)\n",
      "RooDataHist::background_SR_Hist_alpha_0lowDHist(obs_x_SR)\n",
      "RooDataHist::background_SR_Hist_alpha_0highDHist(obs_x_SR)\n",
      "\n",
      "parameter snapshots\n",
      "-------------------\n",
      "NominalParamValues = (Lumi=1[C],nominalLumi=1[C],alpha_signal_norm_uncertainty=0,nom_alpha_signal_norm_uncertainty=0[C],mu=1,obs_x_SR=159,alpha_bkg_norm_uncertainty=0,nom_alpha_bkg_norm_uncertainty=0[C],alpha_background_shape=0,nom_alpha_background_shape=0[C],binWidth_obs_x_SR_0=0.5[C],binWidth_obs_x_SR_1=0.5[C],weightVar=0)\n",
      "\n",
      "named sets\n",
      "----------\n",
      "ModelConfig_GlobalObservables:(nom_alpha_signal_norm_uncertainty,nom_alpha_bkg_norm_uncertainty,nom_alpha_background_shape)\n",
      "ModelConfig_NuisParams:(alpha_background_shape,alpha_bkg_norm_uncertainty,alpha_signal_norm_uncertainty)\n",
      "ModelConfig_Observables:(obs_x_SR)\n",
      "ModelConfig_POI:(mu)\n",
      "coefList:(binWidth_obs_x_SR_0,binWidth_obs_x_SR_1)\n",
      "constraintTerms:(lumiConstraint,alpha_signal_norm_uncertaintyConstraint,alpha_bkg_norm_uncertaintyConstraint,alpha_background_shapeConstraint)\n",
      "globalObservables:(nom_alpha_signal_norm_uncertainty,nom_alpha_bkg_norm_uncertainty,nom_alpha_background_shape)\n",
      "likelihoodTerms:(SR_model)\n",
      "obsAndWeight:(weightVar,obs_x_SR)\n",
      "observables:(obs_x_SR)\n",
      "observablesSet:(obs_x_SR)\n",
      "shapeList:(L_x_signal_SR_overallSyst_x_Exp,L_x_background_SR_overallSyst_x_HistSyst)\n",
      "\n",
      "generic objects\n",
      "---------------\n",
      "RooStats::ModelConfig::ModelConfig\n",
      "\n"
     ]
    }
   ],
   "source": [
    "ws.SetName(\"myws\")\n",
    "ws.Print(\"t\")\n",
    "ws.writeToFile(\"test_hf_ws_{}.root\".format(mass))"
   ]
  },
  {
   "cell_type": "markdown",
   "id": "improved-massage",
   "metadata": {},
   "source": [
    "Draw all canvases "
   ]
  },
  {
   "cell_type": "code",
   "execution_count": 20,
   "id": "agricultural-review",
   "metadata": {
    "collapsed": false,
    "execution": {
     "iopub.execute_input": "2021-04-05T14:56:06.472561Z",
     "iopub.status.busy": "2021-04-05T14:56:06.472081Z",
     "iopub.status.idle": "2021-04-05T14:56:06.583075Z",
     "shell.execute_reply": "2021-04-05T14:56:06.583719Z"
    }
   },
   "outputs": [],
   "source": [
    "from ROOT import gROOT \n",
    "gROOT.GetListOfCanvases().Draw()"
   ]
  }
 ],
 "metadata": {
  "kernelspec": {
   "display_name": "Python 3",
   "language": "python",
   "name": "python3"
  },
  "language_info": {
   "codemirror_mode": {
    "name": "ipython",
    "version": 3
   },
   "file_extension": ".py",
   "mimetype": "text/x-python",
   "name": "python",
   "nbconvert_exporter": "python",
   "pygments_lexer": "ipython3",
   "version": "3.8.8"
  }
 },
 "nbformat": 4,
 "nbformat_minor": 5
}
