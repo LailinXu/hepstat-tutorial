{
 "cells": [
  {
   "cell_type": "markdown",
   "id": "alternative-riverside",
   "metadata": {},
   "source": [
    "# Hepstat_Tutorial_Histfactory\n",
    "Histfactory example. The model is basically the same as [hepstat_tutorial_roofit_extended.py](https://gitee.com/lailinxu/hepstat-tutorial/blob/master/Fitting/hepstat_tutorial_roofit_extended.py.nbconvert.ipynb): i.e, composite p.d.f with signal and background component\n",
    "```\n",
    "pdf = n_bkg * bkg(x,a0,a1) + mu * n_sig * (f_sig1 * sig1(x,m,s1 + (1-f_sig1) * sig2(x,m,s2)))\n",
    "```\n",
    " with following objectives:\n",
    " * Create a workspace using Workspace Factory\n",
    " * Example operations at the workspace level\n",
    "\n",
    "See also the example code [rf511_wsfactory_basic.py](https://root.cern/doc/master/rf511__wsfactory__basic_8py.html)\n",
    "\n",
    "\n",
    "\n",
    "\n",
    "**Author:** Lailin XU  \n",
    "<i><small>This notebook tutorial was automatically generated with <a href= \"https://github.com/root-project/root/blob/master/documentation/doxygen/converttonotebook.py\">ROOTBOOK-izer</a> from the macro found in the ROOT repository  on Saturday, April 03, 2021 at 09:42 AM.</small></i>"
   ]
  },
  {
   "cell_type": "markdown",
   "id": "celtic-curtis",
   "metadata": {},
   "source": [
    "Import the ROOT libraries"
   ]
  },
  {
   "cell_type": "code",
   "execution_count": 1,
   "id": "corporate-costume",
   "metadata": {
    "collapsed": false,
    "execution": {
     "iopub.execute_input": "2021-04-03T01:42:38.070495Z",
     "iopub.status.busy": "2021-04-03T01:42:38.069682Z",
     "iopub.status.idle": "2021-04-03T01:42:39.460433Z",
     "shell.execute_reply": "2021-04-03T01:42:39.460643Z"
    }
   },
   "outputs": [
    {
     "name": "stdout",
     "output_type": "stream",
     "text": [
      "Welcome to JupyROOT 6.22/07\n"
     ]
    }
   ],
   "source": [
    "import ROOT as R\n",
    "from math import pow, sqrt\n",
    "R.gROOT.SetStyle(\"ATLAS\")"
   ]
  },
  {
   "cell_type": "markdown",
   "id": "tender-copying",
   "metadata": {},
   "source": [
    "Setup component pdfs\n",
    "---------------------------------------"
   ]
  },
  {
   "cell_type": "markdown",
   "id": "given-sport",
   "metadata": {},
   "source": [
    "Instantiate a workspace"
   ]
  },
  {
   "cell_type": "code",
   "execution_count": 2,
   "id": "dominican-condition",
   "metadata": {
    "collapsed": false,
    "execution": {
     "iopub.execute_input": "2021-04-03T01:42:39.553684Z",
     "iopub.status.busy": "2021-04-03T01:42:39.553364Z",
     "iopub.status.idle": "2021-04-03T01:42:39.660791Z",
     "shell.execute_reply": "2021-04-03T01:42:39.661263Z"
    }
   },
   "outputs": [
    {
     "name": "stdout",
     "output_type": "stream",
     "text": [
      "\n",
      "\u001b[1mRooFit v3.60 -- Developed by Wouter Verkerke and David Kirkby\u001b[0m \n",
      "                Copyright (C) 2000-2013 NIKHEF, University of California & Stanford University\n",
      "                All rights reserved, please read http://roofit.sourceforge.net/license.txt\n",
      "\n"
     ]
    }
   ],
   "source": [
    "w = R.RooWorkspace(\"w\")"
   ]
  },
  {
   "cell_type": "markdown",
   "id": "serious-departure",
   "metadata": {},
   "source": [
    "Create pdf components\n",
    "  A single syntax exists to instantiate all RooFit pdf and function classes\n",
    "  ClassName::objectname(…) creates an instance of ClassName with the given object name (and identical title).\n",
    ".factory(\"expr::bkg(’a0+a1*x', x[0,10],a0[0.5,0,1],a1[-0.2,0,1])\")"
   ]
  },
  {
   "cell_type": "code",
   "execution_count": 3,
   "id": "english-shock",
   "metadata": {
    "collapsed": false,
    "execution": {
     "iopub.execute_input": "2021-04-03T01:42:39.772850Z",
     "iopub.status.busy": "2021-04-03T01:42:39.772508Z",
     "iopub.status.idle": "2021-04-03T01:42:39.880459Z",
     "shell.execute_reply": "2021-04-03T01:42:39.880030Z"
    }
   },
   "outputs": [
    {
     "data": {
      "text/plain": [
       "<cppyy.gbl.RooGaussian object at 0x12d7cb000>"
      ]
     },
     "execution_count": 1,
     "metadata": {},
     "output_type": "execute_result"
    }
   ],
   "source": [
    "w.factory(\"Chebychev::bkg(x[0,10],{a0[0.5,0.,1],a1[-0.2,0.,1.]})\")\n",
    "w.factory(\"Gaussian::sig1(x,mean[5.],width[0.5])\")\n",
    "w.factory(\"Gaussian::sig2(x,mean,width)\")"
   ]
  },
  {
   "cell_type": "markdown",
   "id": "closed-darwin",
   "metadata": {},
   "source": [
    "Create the total model"
   ]
  },
  {
   "cell_type": "code",
   "execution_count": 4,
   "id": "august-century",
   "metadata": {
    "collapsed": false,
    "execution": {
     "iopub.execute_input": "2021-04-03T01:42:39.944346Z",
     "iopub.status.busy": "2021-04-03T01:42:39.944009Z",
     "iopub.status.idle": "2021-04-03T01:42:40.051387Z",
     "shell.execute_reply": "2021-04-03T01:42:40.051768Z"
    }
   },
   "outputs": [
    {
     "name": "stdout",
     "output_type": "stream",
     "text": [
      "RooAddPdf::model[ S * sig + nbkg * bkg ] = 1\n"
     ]
    }
   ],
   "source": [
    "w.factory(\"expr::sig2frac('1.-sig1frac',sig1frac[0.8,0,1.])\")\n",
    "w.factory(\"SUM::sig(sig1frac*sig1,sig2frac*sig2)\")\n",
    "w.factory(\"expr::S('mu_sig*nsig',mu_sig[1,0,10],nsig[50])\")\n",
    "w.factory(\"SUM::model(S*sig,nbkg[100,0,100]*bkg)\")\n",
    "\n",
    "x = w.var(\"x\")\n",
    "model = w.pdf(\"model\")\n",
    "model.Print()\n",
    "\n",
    "data = model.generate(x)"
   ]
  },
  {
   "cell_type": "markdown",
   "id": "underlying-negotiation",
   "metadata": {},
   "source": [
    "Sample, fit and plot model\n",
    "---------------------------------------------------"
   ]
  },
  {
   "cell_type": "code",
   "execution_count": 5,
   "id": "focused-gnome",
   "metadata": {
    "collapsed": false,
    "execution": {
     "iopub.execute_input": "2021-04-03T01:42:40.085179Z",
     "iopub.status.busy": "2021-04-03T01:42:40.084759Z",
     "iopub.status.idle": "2021-04-03T01:42:40.197052Z",
     "shell.execute_reply": "2021-04-03T01:42:40.197417Z"
    }
   },
   "outputs": [
    {
     "data": {
      "text/plain": [
       "<cppyy.gbl.TCanvas object at 0x12a3d2880>"
      ]
     },
     "execution_count": 1,
     "metadata": {},
     "output_type": "execute_result"
    }
   ],
   "source": [
    "myc = R.TCanvas(\"c\", \"c\", 800, 600)\n",
    "myc.SetFillColor(0)\n",
    "myc.cd()"
   ]
  },
  {
   "cell_type": "markdown",
   "id": "global-springfield",
   "metadata": {},
   "source": [
    "Fit model to data"
   ]
  },
  {
   "cell_type": "code",
   "execution_count": 6,
   "id": "addressed-victorian",
   "metadata": {
    "collapsed": false,
    "execution": {
     "iopub.execute_input": "2021-04-03T01:42:40.248313Z",
     "iopub.status.busy": "2021-04-03T01:42:40.247910Z",
     "iopub.status.idle": "2021-04-03T01:42:40.356305Z",
     "shell.execute_reply": "2021-04-03T01:42:40.356829Z"
    }
   },
   "outputs": [
    {
     "data": {
      "text/plain": [
       "<cppyy.gbl.RooFitResult object at 0x0>"
      ]
     },
     "execution_count": 1,
     "metadata": {},
     "output_type": "execute_result"
    },
    {
     "name": "stdout",
     "output_type": "stream",
     "text": [
      "[#1] INFO:Minization -- p.d.f. provides expected number of events, including extended term in likelihood.\n",
      "[#1] INFO:Minization -- createNLL: caching constraint set under name CONSTR_OF_PDF_model_FOR_OBS_x with 0 entries\n",
      "[#1] INFO:Minization -- RooMinimizer::optimizeConst: activating const optimization\n",
      "[#1] INFO:Minization --  The following expressions have been identified as constant and will be precalculated and cached: (sig1,sig2)\n",
      "[#1] INFO:Minization --  The following expressions will be evaluated in cache-and-track mode: (bkg)\n",
      " **********\n",
      " **    1 **SET PRINT           1\n",
      " **********\n",
      " **********\n",
      " **    2 **SET NOGRAD\n",
      " **********\n",
      " PARAMETER DEFINITIONS:\n",
      "    NO.   NAME         VALUE      STEP SIZE      LIMITS\n",
      "     1 a0           5.00000e-01  1.00000e-01    0.00000e+00  1.00000e+00\n",
      "     2 a1           0.00000e+00  1.00000e-01    0.00000e+00  1.00000e+00\n",
      " MINUIT WARNING IN PARAM DEF\n",
      " ============== STARTING VALUE IS AT LIMIT.\n",
      " MINUIT WARNING IN PARAMETR\n",
      " ============== VARIABLE2 IS AT ITS LOWER ALLOWED LIMIT.\n",
      " MINUIT WARNING IN PARAMETR\n",
      " ============== VARIABLE2 BROUGHT BACK INSIDE LIMITS.\n",
      "     3 mu_sig       1.00000e+00  5.00000e-01    0.00000e+00  1.00000e+01\n",
      "     4 nbkg         1.00000e+02  1.00000e+01    0.00000e+00  1.00000e+02\n",
      " MINUIT WARNING IN PARAM DEF\n",
      " ============== STARTING VALUE IS AT LIMIT.\n",
      " MINUIT WARNING IN PARAMETR\n",
      " ============== VARIABLE4 IS AT ITS UPPER ALLOWED LIMIT.\n",
      " MINUIT WARNING IN PARAMETR\n",
      " ============== VARIABLE4 BROUGHT BACK INSIDE LIMITS.\n",
      "     5 sig1frac     8.00000e-01  1.00000e-01    0.00000e+00  1.00000e+00\n",
      " **********\n",
      " **    3 **SET ERR         0.5\n",
      " **********\n",
      " **********\n",
      " **    4 **SET PRINT           1\n",
      " **********\n",
      " **********\n",
      " **    5 **SET STR           1\n",
      " **********\n",
      " NOW USING STRATEGY  1: TRY TO BALANCE SPEED AGAINST RELIABILITY\n",
      " **********\n",
      " **    6 **MIGRAD        2500           1\n",
      " **********\n",
      " FIRST CALL TO USER FUNCTION AT NEW START POINT, WITH IFLAG=4.\n",
      " MINUIT WARNING IN MIGrad    \n",
      " ============== VARIABLE2 IS AT ITS LOWER ALLOWED LIMIT.\n",
      " MINUIT WARNING IN MIGrad    \n",
      " ============== VARIABLE4 IS AT ITS UPPER ALLOWED LIMIT.\n",
      " START MIGRAD MINIMIZATION.  STRATEGY  1.  CONVERGENCE WHEN EDM .LT. 1.00e-03\n",
      " FCN=-292.924 FROM MIGRAD    STATUS=INITIATE      212 CALLS         213 TOTAL\n",
      "                     EDM= unknown      STRATEGY= 1      NO ERROR MATRIX       \n",
      "  EXT PARAMETER               CURRENT GUESS       STEP         FIRST   \n",
      "  NO.   NAME      VALUE            ERROR          SIZE      DERIVATIVE \n",
      "   1  a0           5.00000e-01   1.00000e-01   0.00000e+00  -1.39897e+00\n",
      "   2  a1           1.21052e-01   1.00000e-01   0.00000e+00  -1.07796e-01\n",
      "   3  mu_sig       1.00000e+00   5.00000e-01   0.00000e+00  -6.23568e+00\n",
      "   4  nbkg         9.79262e+01   1.00000e+01   0.00000e+00   4.46424e-04\n",
      "   5  sig1frac     8.00000e-01   1.00000e-01   0.00000e+00   0.00000e+00\n",
      "                               ERR DEF= 0.5\n",
      " MIGRAD MINIMIZATION HAS CONVERGED.\n",
      " MIGRAD WILL VERIFY CONVERGENCE AND ERROR MATRIX.\n",
      " MINUIT WARNING IN HESSE\n",
      " ============== Second derivative enters zero, param 5\n",
      " MINUIT WARNING IN HESSE\n",
      " ============== Second derivative zero for parameter5\n",
      "  MNHESS FAILS AND WILL RETURN DIAGONAL MATRIX. \n",
      " FCN=-293.104 FROM MIGRAD    STATUS=CONVERGED     261 CALLS         262 TOTAL\n",
      "                     EDM=2.55974e-05    STRATEGY= 1  ERROR MATRIX UNCERTAINTY 100.0 per cent\n",
      "  EXT PARAMETER                APPROXIMATE        STEP         FIRST   \n",
      "  NO.   NAME      VALUE            ERROR          SIZE      DERIVATIVE \n",
      "   1  a0           5.73170e-01   1.59238e-01   3.87151e-03   2.84853e-03\n",
      "   2  a1           1.48572e-01   1.69990e-01   6.08832e-03   6.85186e-03\n",
      "   3  mu_sig       1.06955e+00   1.68963e-01   6.47395e-04  -5.15893e-02\n",
      "   4  nbkg         9.65200e+01   1.00222e+01   6.76769e-03   2.70534e-03\n",
      "   5  sig1frac     8.00000e-01   1.38493e-01  -0.00000e+00   0.00000e+00\n",
      "                               ERR DEF= 0.5\n",
      " EXTERNAL ERROR MATRIX.    NDIM=  25    NPAR=  5    ERR DEF=0.5\n",
      "  2.628e-02  0.000e+00  0.000e+00  0.000e+00  0.000e+00 \n",
      "  0.000e+00  3.141e-02  0.000e+00  0.000e+00  0.000e+00 \n",
      "  0.000e+00  0.000e+00  2.858e-02  0.000e+00  0.000e+00 \n",
      "  0.000e+00  0.000e+00  0.000e+00  1.124e+02  0.000e+00 \n",
      "  0.000e+00  0.000e+00  0.000e+00  0.000e+00  2.000e-02 \n",
      "ERR MATRIX APPROXIMATE\n",
      " PARAMETER  CORRELATION COEFFICIENTS  \n",
      "       NO.  GLOBAL      1      2      3      4      5\n",
      "        1  0.00000   1.000  0.000  0.000  0.000  0.000\n",
      "        2  0.00000   0.000  1.000  0.000  0.000  0.000\n",
      "        3  0.00000   0.000  0.000  1.000  0.000  0.000\n",
      "        4  0.00000   0.000  0.000  0.000  1.000  0.000\n",
      "        5  0.00000   0.000  0.000  0.000  0.000  1.000\n",
      " ERR MATRIX APPROXIMATE\n",
      " **********\n",
      " **    7 **HESSE        2500\n",
      " **********\n",
      " MINUIT WARNING IN HESSE\n",
      " ============== Second derivative zero for parameter5\n",
      "  MNHESS FAILS AND WILL RETURN DIAGONAL MATRIX. \n",
      " FCN=-293.104 FROM HESSE     STATUS=FAILED         11 CALLS         273 TOTAL\n",
      "                     EDM=2.55974e-05    STRATEGY= 1  ERROR MATRIX UNCERTAINTY 100.0 per cent\n",
      "  EXT PARAMETER                APPROXIMATE     INTERNAL      INTERNAL  \n",
      "  NO.   NAME      VALUE            ERROR       STEP SIZE       VALUE   \n",
      "   1  a0           5.73170e-01   1.59238e-01   3.87151e-03   1.46868e-01\n",
      "   2  a1           1.48572e-01   1.69990e-01   6.08832e-03  -7.79404e-01\n",
      "   3  mu_sig       1.06955e+00   1.68963e-01   6.47395e-04  -9.04458e-01\n",
      "   4  nbkg         9.65200e+01   1.00222e+01   6.76769e-03   1.19550e+00\n",
      "   5  sig1frac     5.71505e-01   2.09940e-01  -0.00000e+00   6.43501e-01\n",
      "                               ERR DEF= 0.5\n",
      " EXTERNAL ERROR MATRIX.    NDIM=  25    NPAR=  5    ERR DEF=0.5\n",
      "  2.628e-02  0.000e+00  0.000e+00  0.000e+00  0.000e+00 \n",
      "  0.000e+00  3.141e-02  0.000e+00  0.000e+00  0.000e+00 \n",
      "  0.000e+00  0.000e+00  2.858e-02  0.000e+00  0.000e+00 \n",
      "  0.000e+00  0.000e+00  0.000e+00  1.124e+02  0.000e+00 \n",
      "  0.000e+00  0.000e+00  0.000e+00  0.000e+00  2.000e-02 \n",
      "ERR MATRIX APPROXIMATE\n",
      " PARAMETER  CORRELATION COEFFICIENTS  \n",
      "       NO.  GLOBAL      1      2      3      4      5\n",
      "        1  0.00000   1.000  0.000  0.000  0.000  0.000\n",
      "        2  0.00000   0.000  1.000  0.000  0.000  0.000\n",
      "        3  0.00000   0.000  0.000  1.000  0.000  0.000\n",
      "        4  0.00000   0.000  0.000  0.000  1.000  0.000\n",
      "        5  0.00000   0.000  0.000  0.000  0.000  1.000\n",
      " ERR MATRIX APPROXIMATE\n",
      " **********\n",
      " **    8 **SET ERR         0.5\n",
      " **********\n",
      " **********\n",
      " **    9 **SET PRINT           1\n",
      " **********\n",
      " **********\n",
      " **   10 **HESSE        2500\n",
      " **********\n",
      " MINUIT WARNING IN HESSE\n",
      " ============== Second derivative zero for parameter5\n",
      "  MNHESS FAILS AND WILL RETURN DIAGONAL MATRIX. \n",
      " FCN=-293.104 FROM HESSE     STATUS=FAILED         11 CALLS         284 TOTAL\n",
      "                     EDM=2.55974e-05    STRATEGY= 1  ERROR MATRIX UNCERTAINTY 100.0 per cent\n",
      "  EXT PARAMETER                APPROXIMATE     INTERNAL      INTERNAL  \n",
      "  NO.   NAME      VALUE            ERROR       STEP SIZE       VALUE   \n",
      "   1  a0           5.73170e-01   1.59238e-01   3.87151e-03   1.46868e-01\n",
      "   2  a1           1.48572e-01   1.69990e-01   6.08832e-03  -7.79404e-01\n",
      "   3  mu_sig       1.06955e+00   1.68963e-01   6.47395e-04  -9.04458e-01\n",
      "   4  nbkg         9.65200e+01   1.00222e+01   6.76769e-03   1.19550e+00\n",
      "   5  sig1frac     5.71505e-01   2.09940e-01  -0.00000e+00   6.43501e-01\n",
      "                               ERR DEF= 0.5\n",
      " EXTERNAL ERROR MATRIX.    NDIM=  25    NPAR=  5    ERR DEF=0.5\n",
      "  2.628e-02  0.000e+00  0.000e+00  0.000e+00  0.000e+00 \n",
      "  0.000e+00  3.141e-02  0.000e+00  0.000e+00  0.000e+00 \n",
      "  0.000e+00  0.000e+00  2.858e-02  0.000e+00  0.000e+00 \n",
      "  0.000e+00  0.000e+00  0.000e+00  1.124e+02  0.000e+00 \n",
      "  0.000e+00  0.000e+00  0.000e+00  0.000e+00  2.000e-02 \n",
      "ERR MATRIX APPROXIMATE\n",
      " PARAMETER  CORRELATION COEFFICIENTS  \n",
      "       NO.  GLOBAL      1      2      3      4      5\n",
      "        1  0.00000   1.000  0.000  0.000  0.000  0.000\n",
      "        2  0.00000   0.000  1.000  0.000  0.000  0.000\n",
      "        3  0.00000   0.000  0.000  1.000  0.000  0.000\n",
      "        4  0.00000   0.000  0.000  0.000  1.000  0.000\n",
      "        5  0.00000   0.000  0.000  0.000  0.000  1.000\n",
      " ERR MATRIX APPROXIMATE\n",
      "[#1] INFO:Minization -- RooMinimizer::optimizeConst: deactivating const optimization\n"
     ]
    }
   ],
   "source": [
    "model.fitTo(data)"
   ]
  },
  {
   "cell_type": "markdown",
   "id": "constant-render",
   "metadata": {},
   "source": [
    "Plot data and PDF overlaid"
   ]
  },
  {
   "cell_type": "code",
   "execution_count": 7,
   "id": "narrow-department",
   "metadata": {
    "collapsed": false,
    "execution": {
     "iopub.execute_input": "2021-04-03T01:42:40.407693Z",
     "iopub.status.busy": "2021-04-03T01:42:40.407310Z",
     "iopub.status.idle": "2021-04-03T01:42:40.514969Z",
     "shell.execute_reply": "2021-04-03T01:42:40.515497Z"
    }
   },
   "outputs": [],
   "source": [
    "xframe = x.frame(R.RooFit.Title(\"Example of composite pdf=(sig1+sig2)+bkg\"))\n",
    "data.plotOn(xframe, R.RooFit.Name('Data'))\n",
    "model.plotOn(xframe, R.RooFit.Name('Full_Model'), R.RooFit.LineColor(R.kBlue))\n",
    "xframe.Draw()\n",
    "ymax = xframe.GetMaximum()\n",
    "xframe.SetMaximum(ymax*1.2)"
   ]
  },
  {
   "cell_type": "markdown",
   "id": "random-mother",
   "metadata": {},
   "source": [
    "Import the Model and Data to a workspace\n",
    "---------------------------------------------------"
   ]
  },
  {
   "cell_type": "code",
   "execution_count": 8,
   "id": "fallen-clerk",
   "metadata": {
    "collapsed": false,
    "execution": {
     "iopub.execute_input": "2021-04-03T01:42:40.540789Z",
     "iopub.status.busy": "2021-04-03T01:42:40.540300Z",
     "iopub.status.idle": "2021-04-03T01:42:40.650412Z",
     "shell.execute_reply": "2021-04-03T01:42:40.651005Z"
    }
   },
   "outputs": [
    {
     "data": {
      "text/plain": [
       "False"
      ]
     },
     "execution_count": 1,
     "metadata": {},
     "output_type": "execute_result"
    },
    {
     "name": "stdout",
     "output_type": "stream",
     "text": [
      "[#1] INFO:ObjectHandling -- RooWorkspace::import(w) importing dataset modelData\n",
      "[#1] INFO:ObjectHandling -- RooWorkSpace::import(w) changing name of dataset from  modelData to ObsData\n"
     ]
    }
   ],
   "source": [
    "w.Import(data, R.RooFit.Rename(\"ObsData\"))"
   ]
  },
  {
   "cell_type": "markdown",
   "id": "cheap-liability",
   "metadata": {},
   "source": [
    "Create the ModelConfig"
   ]
  },
  {
   "cell_type": "code",
   "execution_count": 9,
   "id": "center-marshall",
   "metadata": {
    "collapsed": false,
    "execution": {
     "iopub.execute_input": "2021-04-03T01:42:40.700008Z",
     "iopub.status.busy": "2021-04-03T01:42:40.699548Z",
     "iopub.status.idle": "2021-04-03T01:42:40.808756Z",
     "shell.execute_reply": "2021-04-03T01:42:40.809479Z"
    }
   },
   "outputs": [],
   "source": [
    "mc=R.RooStats.ModelConfig(\"ModelConfig\", w)"
   ]
  },
  {
   "cell_type": "markdown",
   "id": "victorian-ozone",
   "metadata": {},
   "source": [
    "Set up the Model"
   ]
  },
  {
   "cell_type": "code",
   "execution_count": 10,
   "id": "superior-visibility",
   "metadata": {
    "collapsed": false,
    "execution": {
     "iopub.execute_input": "2021-04-03T01:42:40.868821Z",
     "iopub.status.busy": "2021-04-03T01:42:40.868398Z",
     "iopub.status.idle": "2021-04-03T01:42:40.976527Z",
     "shell.execute_reply": "2021-04-03T01:42:40.976956Z"
    }
   },
   "outputs": [
    {
     "data": {
      "text/plain": [
       "False"
      ]
     },
     "execution_count": 1,
     "metadata": {},
     "output_type": "execute_result"
    },
    {
     "name": "stdout",
     "output_type": "stream",
     "text": [
      "\n",
      "=== Using the following for ModelConfig ===\n",
      "Observables:             RooArgSet:: = (x)\n",
      "Parameters of Interest:  RooArgSet:: = (mu_sig)\n",
      "Nuisance Parameters:     RooArgSet:: = (a0,a1)\n",
      "PDF:                     RooAddPdf::model[ S * sig + nbkg * bkg ] = 0.904397\n",
      "\n"
     ]
    }
   ],
   "source": [
    "mc.SetPdf(w.pdf(\"model\"))\n",
    "mc.SetParametersOfInterest(w.var(\"mu_sig\"))\n",
    "mc.SetNuisanceParameters(R.RooArgSet(w.var(\"a0\"), w.var(\"a1\")))\n",
    "mc.SetObservables(w.var(\"x\"))\n",
    "\n",
    "mc.Print()\n",
    "\n",
    "w.Import(mc)"
   ]
  },
  {
   "cell_type": "markdown",
   "id": "operational-portuguese",
   "metadata": {},
   "source": [
    "Write the workspace to a file"
   ]
  },
  {
   "cell_type": "code",
   "execution_count": 11,
   "id": "experimental-polyester",
   "metadata": {
    "collapsed": false,
    "execution": {
     "iopub.execute_input": "2021-04-03T01:42:41.280418Z",
     "iopub.status.busy": "2021-04-03T01:42:41.280097Z",
     "iopub.status.idle": "2021-04-03T01:42:41.387523Z",
     "shell.execute_reply": "2021-04-03T01:42:41.387903Z"
    }
   },
   "outputs": [
    {
     "data": {
      "text/plain": [
       "False"
      ]
     },
     "execution_count": 1,
     "metadata": {},
     "output_type": "execute_result"
    }
   ],
   "source": [
    "w.writeToFile(\"test_model.root\") "
   ]
  },
  {
   "cell_type": "markdown",
   "id": "valuable-orientation",
   "metadata": {},
   "source": [
    "Draw all canvases "
   ]
  },
  {
   "cell_type": "code",
   "execution_count": 12,
   "id": "scheduled-panel",
   "metadata": {
    "collapsed": false,
    "execution": {
     "iopub.execute_input": "2021-04-03T01:42:41.426517Z",
     "iopub.status.busy": "2021-04-03T01:42:41.426066Z",
     "iopub.status.idle": "2021-04-03T01:42:41.658211Z",
     "shell.execute_reply": "2021-04-03T01:42:41.658433Z"
    }
   },
   "outputs": [
    {
     "data": {
      "image/png": "[encoded data removed]",
      "text/plain": [
       "<IPython.core.display.Image object>"
      ]
     },
     "metadata": {},
     "output_type": "display_data"
    }
   ],
   "source": [
    "from ROOT import gROOT \n",
    "gROOT.GetListOfCanvases().Draw()"
   ]
  }
 ],
 "metadata": {
  "kernelspec": {
   "display_name": "Python 3",
   "language": "python",
   "name": "python3"
  },
  "language_info": {
   "codemirror_mode": {
    "name": "ipython",
    "version": 3
   },
   "file_extension": ".py",
   "mimetype": "text/x-python",
   "name": "python",
   "nbconvert_exporter": "python",
   "pygments_lexer": "ipython3",
   "version": "3.8.8"
  }
 },
 "nbformat": 4,
 "nbformat_minor": 5
}
