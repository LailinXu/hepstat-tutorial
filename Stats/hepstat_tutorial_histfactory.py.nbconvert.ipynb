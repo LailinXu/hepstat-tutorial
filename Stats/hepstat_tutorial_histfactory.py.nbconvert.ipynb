{
 "cells": [
  {
   "cell_type": "markdown",
   "id": "pharmaceutical-baptist",
   "metadata": {},
   "source": [
    "# Hepstat_Tutorial_Histfactory\n",
    "Histfactory example. The model is basically the same as [hepstat_tutorial_roofit_extended.py](https://gitee.com/lailinxu/hepstat-tutorial/blob/master/Fitting/hepstat_tutorial_roofit_extended.py.nbconvert.ipynb): i.e, composite p.d.f with signal and background component\n",
    "```\n",
    "pdf = n_bkg * bkg(x,a0,a1) + mu * n_sig * (f_sig1 * sig1(x,m,s1 + (1-f_sig1) * sig2(x,m,s2)))\n",
    "```\n",
    " with following objectives:\n",
    " * Create a workspace using Workspace Factory\n",
    " * Example operations at the workspace level\n",
    "\n",
    "See also the example code [rf511_wsfactory_basic.py](https://root.cern/doc/master/rf511__wsfactory__basic_8py.html)\n",
    "\n",
    "\n",
    "\n",
    "\n",
    "**Author:** Lailin XU  \n",
    "<i><small>This notebook tutorial was automatically generated with <a href= \"https://github.com/root-project/root/blob/master/documentation/doxygen/converttonotebook.py\">ROOTBOOK-izer</a> from the macro found in the ROOT repository  on Saturday, April 03, 2021 at 10:27 AM.</small></i>"
   ]
  },
  {
   "cell_type": "markdown",
   "id": "illegal-identification",
   "metadata": {},
   "source": [
    "Import the ROOT libraries"
   ]
  },
  {
   "cell_type": "code",
   "execution_count": 1,
   "id": "forward-death",
   "metadata": {
    "collapsed": false,
    "execution": {
     "iopub.execute_input": "2021-04-03T02:27:24.283256Z",
     "iopub.status.busy": "2021-04-03T02:27:24.282440Z",
     "iopub.status.idle": "2021-04-03T02:27:25.047613Z",
     "shell.execute_reply": "2021-04-03T02:27:25.047935Z"
    }
   },
   "outputs": [
    {
     "name": "stdout",
     "output_type": "stream",
     "text": [
      "Welcome to JupyROOT 6.22/07\n"
     ]
    }
   ],
   "source": [
    "import ROOT as R\n",
    "from math import pow, sqrt\n",
    "R.gROOT.SetStyle(\"ATLAS\")"
   ]
  },
  {
   "cell_type": "markdown",
   "id": "dimensional-stadium",
   "metadata": {},
   "source": [
    "Setup component pdfs\n",
    "---------------------------------------"
   ]
  },
  {
   "cell_type": "markdown",
   "id": "attempted-participant",
   "metadata": {},
   "source": [
    "Instantiate a workspace"
   ]
  },
  {
   "cell_type": "code",
   "execution_count": 2,
   "id": "radio-lending",
   "metadata": {
    "collapsed": false,
    "execution": {
     "iopub.execute_input": "2021-04-03T02:27:25.049528Z",
     "iopub.status.busy": "2021-04-03T02:27:25.049219Z",
     "iopub.status.idle": "2021-04-03T02:27:25.224430Z",
     "shell.execute_reply": "2021-04-03T02:27:25.224895Z"
    }
   },
   "outputs": [
    {
     "name": "stdout",
     "output_type": "stream",
     "text": [
      "\n",
      "\u001b[1mRooFit v3.60 -- Developed by Wouter Verkerke and David Kirkby\u001b[0m \n",
      "                Copyright (C) 2000-2013 NIKHEF, University of California & Stanford University\n",
      "                All rights reserved, please read http://roofit.sourceforge.net/license.txt\n",
      "\n"
     ]
    }
   ],
   "source": [
    "w = R.RooWorkspace(\"w\")"
   ]
  },
  {
   "cell_type": "markdown",
   "id": "impossible-credits",
   "metadata": {},
   "source": [
    "Create pdf components\n",
    "  A single syntax exists to instantiate all RooFit pdf and function classes\n",
    "  ClassName::objectname(…) creates an instance of ClassName with the given object name (and identical title)."
   ]
  },
  {
   "cell_type": "code",
   "execution_count": 3,
   "id": "surface-variance",
   "metadata": {
    "collapsed": false,
    "execution": {
     "iopub.execute_input": "2021-04-03T02:27:25.315144Z",
     "iopub.status.busy": "2021-04-03T02:27:25.314800Z",
     "iopub.status.idle": "2021-04-03T02:27:25.422313Z",
     "shell.execute_reply": "2021-04-03T02:27:25.422686Z"
    }
   },
   "outputs": [
    {
     "data": {
      "text/plain": [
       "<cppyy.gbl.RooGaussian object at 0x15ba7d400>"
      ]
     },
     "execution_count": 1,
     "metadata": {},
     "output_type": "execute_result"
    }
   ],
   "source": [
    "w.factory(\"Chebychev::bkg(x[0,10],{a0[0.5,0.,1],a1[-0.2,0.,1.]})\")\n",
    "w.factory(\"Gaussian::sig1(x,mean[5.],width1[0.5])\")\n",
    "w.factory(\"Gaussian::sig2(x,mean,width2[1.0])\")"
   ]
  },
  {
   "cell_type": "markdown",
   "id": "bored-endorsement",
   "metadata": {},
   "source": [
    "Create the total model"
   ]
  },
  {
   "cell_type": "code",
   "execution_count": 4,
   "id": "smart-judge",
   "metadata": {
    "collapsed": false,
    "execution": {
     "iopub.execute_input": "2021-04-03T02:27:25.459918Z",
     "iopub.status.busy": "2021-04-03T02:27:25.459522Z",
     "iopub.status.idle": "2021-04-03T02:27:25.566967Z",
     "shell.execute_reply": "2021-04-03T02:27:25.567520Z"
    }
   },
   "outputs": [
    {
     "name": "stdout",
     "output_type": "stream",
     "text": [
      "RooAddPdf::model[ S * sig + nbkg * bkg ] = 1\n"
     ]
    }
   ],
   "source": [
    "w.factory(\"expr::sig2frac('1.-sig1frac',sig1frac[0.8,0,1.])\")\n",
    "w.factory(\"SUM::sig(sig1frac*sig1,sig2frac*sig2)\")\n",
    "w.factory(\"expr::S('mu_sig*nsig',mu_sig[1,0,10],nsig[500])\")\n",
    "w.factory(\"SUM::model(S*sig,nbkg[1000,0,1000]*bkg)\")\n",
    "\n",
    "x = w.var(\"x\")\n",
    "model = w.pdf(\"model\")\n",
    "model.Print()"
   ]
  },
  {
   "cell_type": "markdown",
   "id": "normal-trance",
   "metadata": {},
   "source": [
    "Generate pseudo data via sampling"
   ]
  },
  {
   "cell_type": "code",
   "execution_count": 5,
   "id": "union-bubble",
   "metadata": {
    "collapsed": false,
    "execution": {
     "iopub.execute_input": "2021-04-03T02:27:25.607795Z",
     "iopub.status.busy": "2021-04-03T02:27:25.607372Z",
     "iopub.status.idle": "2021-04-03T02:27:25.715017Z",
     "shell.execute_reply": "2021-04-03T02:27:25.715480Z"
    }
   },
   "outputs": [],
   "source": [
    "data = model.generate(x, 1000)"
   ]
  },
  {
   "cell_type": "markdown",
   "id": "superb-duplicate",
   "metadata": {},
   "source": [
    "Fit and plot model\n",
    "---------------------------------------------------"
   ]
  },
  {
   "cell_type": "code",
   "execution_count": 6,
   "id": "native-steam",
   "metadata": {
    "collapsed": false,
    "execution": {
     "iopub.execute_input": "2021-04-03T02:27:25.758399Z",
     "iopub.status.busy": "2021-04-03T02:27:25.757877Z",
     "iopub.status.idle": "2021-04-03T02:27:25.873146Z",
     "shell.execute_reply": "2021-04-03T02:27:25.873701Z"
    }
   },
   "outputs": [
    {
     "data": {
      "text/plain": [
       "<cppyy.gbl.TCanvas object at 0x13fff0800>"
      ]
     },
     "execution_count": 1,
     "metadata": {},
     "output_type": "execute_result"
    }
   ],
   "source": [
    "myc = R.TCanvas(\"c\", \"c\", 800, 600)\n",
    "myc.SetFillColor(0)\n",
    "myc.cd()"
   ]
  },
  {
   "cell_type": "markdown",
   "id": "difficult-sender",
   "metadata": {},
   "source": [
    "Fit model to data"
   ]
  },
  {
   "cell_type": "code",
   "execution_count": 7,
   "id": "animal-anger",
   "metadata": {
    "collapsed": false,
    "execution": {
     "iopub.execute_input": "2021-04-03T02:27:25.947561Z",
     "iopub.status.busy": "2021-04-03T02:27:25.947204Z",
     "iopub.status.idle": "2021-04-03T02:27:26.054979Z",
     "shell.execute_reply": "2021-04-03T02:27:26.055382Z"
    }
   },
   "outputs": [
    {
     "data": {
      "text/plain": [
       "<cppyy.gbl.RooFitResult object at 0x0>"
      ]
     },
     "execution_count": 1,
     "metadata": {},
     "output_type": "execute_result"
    },
    {
     "name": "stdout",
     "output_type": "stream",
     "text": [
      "[#1] INFO:Minization -- p.d.f. provides expected number of events, including extended term in likelihood.\n",
      "[#1] INFO:Minization -- createNLL: caching constraint set under name CONSTR_OF_PDF_model_FOR_OBS_x with 0 entries\n",
      "[#1] INFO:Minization -- RooMinimizer::optimizeConst: activating const optimization\n",
      "[#1] INFO:Minization --  The following expressions have been identified as constant and will be precalculated and cached: (sig1,sig2)\n",
      "[#1] INFO:Minization --  The following expressions will be evaluated in cache-and-track mode: (bkg)\n",
      " **********\n",
      " **    1 **SET PRINT           1\n",
      " **********\n",
      " **********\n",
      " **    2 **SET NOGRAD\n",
      " **********\n",
      " PARAMETER DEFINITIONS:\n",
      "    NO.   NAME         VALUE      STEP SIZE      LIMITS\n",
      "     1 a0           5.00000e-01  1.00000e-01    0.00000e+00  1.00000e+00\n",
      "     2 a1           0.00000e+00  1.00000e-01    0.00000e+00  1.00000e+00\n",
      " MINUIT WARNING IN PARAM DEF\n",
      " ============== STARTING VALUE IS AT LIMIT.\n",
      " MINUIT WARNING IN PARAMETR\n",
      " ============== VARIABLE2 IS AT ITS LOWER ALLOWED LIMIT.\n",
      " MINUIT WARNING IN PARAMETR\n",
      " ============== VARIABLE2 BROUGHT BACK INSIDE LIMITS.\n",
      "     3 mu_sig       1.00000e+00  5.00000e-01    0.00000e+00  1.00000e+01\n",
      "     4 nbkg         1.00000e+03  1.00000e+02    0.00000e+00  1.00000e+03\n",
      " MINUIT WARNING IN PARAM DEF\n",
      " ============== STARTING VALUE IS AT LIMIT.\n",
      " MINUIT WARNING IN PARAMETR\n",
      " ============== VARIABLE4 IS AT ITS UPPER ALLOWED LIMIT.\n",
      " MINUIT WARNING IN PARAMETR\n",
      " ============== VARIABLE4 BROUGHT BACK INSIDE LIMITS.\n",
      "     5 sig1frac     8.00000e-01  1.00000e-01    0.00000e+00  1.00000e+00\n",
      " **********\n",
      " **    3 **SET ERR         0.5\n",
      " **********\n",
      " **********\n",
      " **    4 **SET PRINT           1\n",
      " **********\n",
      " **********\n",
      " **    5 **SET STR           1\n",
      " **********\n",
      " NOW USING STRATEGY  1: TRY TO BALANCE SPEED AGAINST RELIABILITY\n",
      " **********\n",
      " **    6 **MIGRAD        2500           1\n",
      " **********\n",
      " FIRST CALL TO USER FUNCTION AT NEW START POINT, WITH IFLAG=4.\n",
      " MINUIT WARNING IN MIGrad    \n",
      " ============== VARIABLE2 IS AT ITS LOWER ALLOWED LIMIT.\n",
      " MINUIT WARNING IN MIGrad    \n",
      " ============== VARIABLE4 IS AT ITS UPPER ALLOWED LIMIT.\n",
      " START MIGRAD MINIMIZATION.  STRATEGY  1.  CONVERGENCE WHEN EDM .LT. 1.00e-03\n",
      " FCN=-3802 FROM MIGRAD    STATUS=INITIATE       60 CALLS          61 TOTAL\n",
      "                     EDM= unknown      STRATEGY= 1      NO ERROR MATRIX       \n",
      "  EXT PARAMETER               CURRENT GUESS       STEP         FIRST   \n",
      "  NO.   NAME      VALUE            ERROR          SIZE      DERIVATIVE \n",
      "   1  a0           5.00000e-01   1.00000e-01   0.00000e+00  -6.75224e+00\n",
      "   2  a1           1.11179e-01   1.00000e-01   6.77935e-01  -1.67648e-01\n",
      "   3  mu_sig       1.00000e+00   5.00000e-01   0.00000e+00   2.93528e+02\n",
      "   4  nbkg         6.31508e+02   1.00000e+02   0.00000e+00   2.57156e+01\n",
      "   5  sig1frac     8.00000e-01   1.00000e-01   0.00000e+00   1.31178e+01\n",
      "                               ERR DEF= 0.5\n",
      " MIGRAD MINIMIZATION HAS CONVERGED.\n",
      " MIGRAD WILL VERIFY CONVERGENCE AND ERROR MATRIX.\n",
      " COVARIANCE MATRIX CALCULATED SUCCESSFULLY\n",
      " FCN=-3817.6 FROM MIGRAD    STATUS=CONVERGED     193 CALLS         194 TOTAL\n",
      "                     EDM=2.67021e-05    STRATEGY= 1      ERROR MATRIX ACCURATE \n",
      "  EXT PARAMETER                                   STEP         FIRST   \n",
      "  NO.   NAME      VALUE            ERROR          SIZE      DERIVATIVE \n",
      "   1  a0           5.47626e-01   6.27214e-02   5.37978e-03  -1.16425e-02\n",
      "   2  a1           2.24201e-07   1.54481e-01   3.47172e-02** at limit **\n",
      "   3  mu_sig       7.14259e-01   5.78069e-02   7.62709e-04  -2.33439e-02\n",
      "   4  nbkg         6.42927e+02   3.34479e+01   2.49517e-03   4.72935e-02\n",
      "   5  sig1frac     7.71863e-01   1.26419e-01   1.05956e-02   6.16727e-03\n",
      "                               ERR DEF= 0.5\n",
      " EXTERNAL ERROR MATRIX.    NDIM=  25    NPAR=  5    ERR DEF=0.5\n",
      "  3.955e-03  3.888e-07  1.478e-04 -7.381e-02 -4.578e-04 \n",
      "  3.888e-07  1.463e-07  1.511e-06 -7.547e-04 -2.874e-06 \n",
      "  1.478e-04  1.511e-06  3.342e-03 -9.555e-01 -3.990e-03 \n",
      " -7.381e-02 -7.547e-04 -9.555e-01  1.121e+03  1.992e+00 \n",
      " -4.578e-04 -2.874e-06 -3.990e-03  1.992e+00  1.649e-02 \n",
      " PARAMETER  CORRELATION COEFFICIENTS  \n",
      "       NO.  GLOBAL      1      2      3      4      5\n",
      "        1  0.05957   1.000  0.016  0.041 -0.035 -0.057\n",
      "        2  0.07749   0.016  1.000  0.068 -0.059 -0.059\n",
      "        3  0.60490   0.041  0.068  1.000 -0.494 -0.537\n",
      "        4  0.54707  -0.035 -0.059 -0.494  1.000  0.463\n",
      "        5  0.58471  -0.057 -0.059 -0.537  0.463  1.000\n",
      " **********\n",
      " **    7 **SET ERR         0.5\n",
      " **********\n",
      " **********\n",
      " **    8 **SET PRINT           1\n",
      " **********\n",
      " **********\n",
      " **    9 **HESSE        2500\n",
      " **********\n",
      " COVARIANCE MATRIX CALCULATED SUCCESSFULLY\n",
      " FCN=-3817.6 FROM HESSE     STATUS=OK             31 CALLS         225 TOTAL\n",
      "                     EDM=2.72837e-05    STRATEGY= 1      ERROR MATRIX ACCURATE \n",
      "  EXT PARAMETER                                INTERNAL      INTERNAL  \n",
      "  NO.   NAME      VALUE            ERROR       STEP SIZE       VALUE   \n",
      "   1  a0           5.47626e-01   6.27132e-02   1.07596e-03   9.53969e-02\n",
      "   2  a1           2.24201e-07   1.54974e-01   6.94345e-03  -1.56985e+00\n",
      "                                 WARNING -   - ABOVE PARAMETER IS AT LIMIT.\n",
      "   3  mu_sig       7.14259e-01   5.77032e-02   1.52542e-04  -1.02971e+00\n",
      "   4  nbkg         6.42927e+02   3.34151e+01   4.99034e-04   2.89898e-01\n",
      "   5  sig1frac     7.71863e-01   1.26262e-01   4.23824e-04   5.74870e-01\n",
      "                               ERR DEF= 0.5\n",
      " EXTERNAL ERROR MATRIX.    NDIM=  25    NPAR=  5    ERR DEF=0.5\n",
      "  3.954e-03  9.362e-08  1.439e-04 -7.192e-02 -4.499e-04 \n",
      "  9.362e-08  1.468e-07  3.665e-07 -1.832e-04 -6.969e-07 \n",
      "  1.439e-04  3.665e-07  3.330e-03 -9.507e-01 -3.967e-03 \n",
      " -7.192e-02 -1.832e-04 -9.507e-01  1.118e+03  1.983e+00 \n",
      " -4.499e-04 -6.969e-07 -3.967e-03  1.983e+00  1.645e-02 \n",
      " PARAMETER  CORRELATION COEFFICIENTS  \n",
      "       NO.  GLOBAL      1      2      3      4      5\n",
      "        1  0.05736   1.000  0.004  0.040 -0.034 -0.056\n",
      "        2  0.01880   0.004  1.000  0.017 -0.014 -0.014\n",
      "        3  0.60301   0.040  0.017  1.000 -0.493 -0.536\n",
      "        4  0.54581  -0.034 -0.014 -0.493  1.000  0.462\n",
      "        5  0.58328  -0.056 -0.014 -0.536  0.462  1.000\n",
      "[#1] INFO:Minization -- RooMinimizer::optimizeConst: deactivating const optimization\n"
     ]
    }
   ],
   "source": [
    "model.fitTo(data)"
   ]
  },
  {
   "cell_type": "markdown",
   "id": "absolute-adapter",
   "metadata": {},
   "source": [
    "Plot data and PDF overlaid"
   ]
  },
  {
   "cell_type": "code",
   "execution_count": 8,
   "id": "timely-memorabilia",
   "metadata": {
    "collapsed": false,
    "execution": {
     "iopub.execute_input": "2021-04-03T02:27:26.097830Z",
     "iopub.status.busy": "2021-04-03T02:27:26.097320Z",
     "iopub.status.idle": "2021-04-03T02:27:26.204759Z",
     "shell.execute_reply": "2021-04-03T02:27:26.205182Z"
    }
   },
   "outputs": [],
   "source": [
    "xframe = x.frame(R.RooFit.Title(\"Example of composite pdf=(sig1+sig2)+bkg\"))\n",
    "data.plotOn(xframe, R.RooFit.Name('Data'))\n",
    "model.plotOn(xframe, R.RooFit.Name('Full_Model'), R.RooFit.LineColor(R.kBlue))\n",
    "xframe.Draw()\n",
    "ymax = xframe.GetMaximum()\n",
    "xframe.SetMaximum(ymax*1.2)\n",
    "\n",
    "xframe.Draw()"
   ]
  },
  {
   "cell_type": "markdown",
   "id": "weekly-greeting",
   "metadata": {},
   "source": [
    "Overlay teh bkg component"
   ]
  },
  {
   "cell_type": "code",
   "execution_count": 9,
   "id": "reported-damage",
   "metadata": {
    "collapsed": false,
    "execution": {
     "iopub.execute_input": "2021-04-03T02:27:26.222872Z",
     "iopub.status.busy": "2021-04-03T02:27:26.222379Z",
     "iopub.status.idle": "2021-04-03T02:27:26.332934Z",
     "shell.execute_reply": "2021-04-03T02:27:26.334118Z"
    }
   },
   "outputs": [
    {
     "name": "stdout",
     "output_type": "stream",
     "text": [
      "[#1] INFO:Plotting -- RooAbsPdf::plotOn(model) directly selected PDF components: (bkg)\n",
      "[#1] INFO:Plotting -- RooAbsPdf::plotOn(model) indirectly selected PDF components: ()\n"
     ]
    }
   ],
   "source": [
    "ras_bkg = R.RooArgSet(w.obj(\"bkg\"))\n",
    "model.plotOn(xframe, R.RooFit.Components(ras_bkg), R.RooFit.LineStyle(R.kDashed), R.RooFit.LineColor(R.kRed), R.RooFit.Name('Bkg'))\n",
    "xframe.Draw()"
   ]
  },
  {
   "cell_type": "markdown",
   "id": "introductory-technique",
   "metadata": {},
   "source": [
    "Overlay the signal components of model with a dotted line"
   ]
  },
  {
   "cell_type": "code",
   "execution_count": 10,
   "id": "fallen-stock",
   "metadata": {
    "collapsed": false,
    "execution": {
     "iopub.execute_input": "2021-04-03T02:27:26.450235Z",
     "iopub.status.busy": "2021-04-03T02:27:26.449612Z",
     "iopub.status.idle": "2021-04-03T02:27:26.557308Z",
     "shell.execute_reply": "2021-04-03T02:27:26.557703Z"
    }
   },
   "outputs": [
    {
     "name": "stdout",
     "output_type": "stream",
     "text": [
      "[#1] INFO:Plotting -- RooAbsPdf::plotOn(model) directly selected PDF components: (sig1)\n",
      "[#1] INFO:Plotting -- RooAbsPdf::plotOn(model) indirectly selected PDF components: (sig)\n",
      "[#1] INFO:Plotting -- RooAbsPdf::plotOn(model) directly selected PDF components: (sig2)\n",
      "[#1] INFO:Plotting -- RooAbsPdf::plotOn(model) indirectly selected PDF components: (sig)\n"
     ]
    },
    {
     "name": "stderr",
     "output_type": "stream",
     "text": [
      "Info in <TCanvas::Print>: png file test_histfactory_1.png has been created\n"
     ]
    }
   ],
   "source": [
    "ras_sig1 = R.RooArgSet(w.obj(\"sig1\"))\n",
    "model.plotOn(xframe, R.RooFit.Components(ras_sig1), R.RooFit.LineStyle(R.kDotted), R.RooFit.LineColor(R.kMagenta), R.RooFit.Name('Sig1'))\n",
    "xframe.Draw()\n",
    "ras_sig2 = R.RooArgSet(w.obj(\"sig2\"))\n",
    "model.plotOn(xframe, R.RooFit.Components(ras_sig2), R.RooFit.LineStyle(R.kDotted), R.RooFit.LineColor(R.kGreen+2), R.RooFit.Name('Sig2'))\n",
    "xframe.Draw()\n",
    "\n",
    "myc.Update()\n",
    "myc.SaveAs(\"test_histfactory_1.png\")"
   ]
  },
  {
   "cell_type": "markdown",
   "id": "processed-attack",
   "metadata": {},
   "source": [
    "Import the Model and Data to a workspace\n",
    "---------------------------------------------------"
   ]
  },
  {
   "cell_type": "code",
   "execution_count": 11,
   "id": "crude-jamaica",
   "metadata": {
    "collapsed": false,
    "execution": {
     "iopub.execute_input": "2021-04-03T02:27:26.579857Z",
     "iopub.status.busy": "2021-04-03T02:27:26.579402Z",
     "iopub.status.idle": "2021-04-03T02:27:26.687182Z",
     "shell.execute_reply": "2021-04-03T02:27:26.687483Z"
    }
   },
   "outputs": [
    {
     "data": {
      "text/plain": [
       "False"
      ]
     },
     "execution_count": 1,
     "metadata": {},
     "output_type": "execute_result"
    },
    {
     "name": "stdout",
     "output_type": "stream",
     "text": [
      "[#1] INFO:ObjectHandling -- RooWorkspace::import(w) importing dataset modelData\n",
      "[#1] INFO:ObjectHandling -- RooWorkSpace::import(w) changing name of dataset from  modelData to ObsData\n"
     ]
    }
   ],
   "source": [
    "w.Import(data, R.RooFit.Rename(\"ObsData\"))"
   ]
  },
  {
   "cell_type": "markdown",
   "id": "australian-accountability",
   "metadata": {},
   "source": [
    "Create the ModelConfig"
   ]
  },
  {
   "cell_type": "code",
   "execution_count": 12,
   "id": "focused-light",
   "metadata": {
    "collapsed": false,
    "execution": {
     "iopub.execute_input": "2021-04-03T02:27:26.708052Z",
     "iopub.status.busy": "2021-04-03T02:27:26.707714Z",
     "iopub.status.idle": "2021-04-03T02:27:26.817111Z",
     "shell.execute_reply": "2021-04-03T02:27:26.817812Z"
    }
   },
   "outputs": [],
   "source": [
    "mc=R.RooStats.ModelConfig(\"ModelConfig\", w)"
   ]
  },
  {
   "cell_type": "markdown",
   "id": "nervous-detective",
   "metadata": {},
   "source": [
    "Set up the Model"
   ]
  },
  {
   "cell_type": "code",
   "execution_count": 13,
   "id": "later-travel",
   "metadata": {
    "collapsed": false,
    "execution": {
     "iopub.execute_input": "2021-04-03T02:27:26.877043Z",
     "iopub.status.busy": "2021-04-03T02:27:26.876604Z",
     "iopub.status.idle": "2021-04-03T02:27:26.983974Z",
     "shell.execute_reply": "2021-04-03T02:27:26.984254Z"
    }
   },
   "outputs": [
    {
     "data": {
      "text/plain": [
       "False"
      ]
     },
     "execution_count": 1,
     "metadata": {},
     "output_type": "execute_result"
    },
    {
     "name": "stdout",
     "output_type": "stream",
     "text": [
      "\n",
      "=== Using the following for ModelConfig ===\n",
      "Observables:             RooArgSet:: = (x)\n",
      "Parameters of Interest:  RooArgSet:: = (mu_sig)\n",
      "Nuisance Parameters:     RooArgSet:: = (a0,a1,sig1frac,nbkg)\n",
      "PDF:                     RooAddPdf::model[ S * sig + nbkg * bkg ] = 1\n",
      "\n"
     ]
    }
   ],
   "source": [
    "mc.SetPdf(w.pdf(\"model\"))\n",
    "mc.SetParametersOfInterest(w.var(\"mu_sig\"))\n",
    "mc.SetNuisanceParameters(R.RooArgSet(w.var(\"a0\"), w.var(\"a1\"), w.var(\"sig1frac\"), w.var(\"nbkg\")))\n",
    "mc.SetObservables(w.var(\"x\"))\n",
    "\n",
    "mc.Print()\n",
    "\n",
    "w.Import(mc)"
   ]
  },
  {
   "cell_type": "markdown",
   "id": "equipped-mount",
   "metadata": {},
   "source": [
    "Take a peek at the workspac"
   ]
  },
  {
   "cell_type": "code",
   "execution_count": 14,
   "id": "representative-prague",
   "metadata": {
    "collapsed": false,
    "execution": {
     "iopub.execute_input": "2021-04-03T02:27:26.991218Z",
     "iopub.status.busy": "2021-04-03T02:27:26.990613Z",
     "iopub.status.idle": "2021-04-03T02:27:27.101228Z",
     "shell.execute_reply": "2021-04-03T02:27:27.102021Z"
    }
   },
   "outputs": [
    {
     "name": "stdout",
     "output_type": "stream",
     "text": [
      "\n",
      "RooWorkspace(w) w contents\n",
      "\n",
      "variables\n",
      "---------\n",
      "(a0,a1,mean,mu_sig,nbkg,nsig,sig1frac,width1,width2,x)\n",
      "\n",
      "p.d.f.s\n",
      "-------\n",
      "RooAddPdf::model[ S * sig + nbkg * bkg ] = 1\n",
      "  RooAddPdf::sig[ sig1frac * sig1 + sig2frac * sig2 ] = 1\n",
      "    RooGaussian::sig1[ x=x mean=mean sigma=width1 ] = 1\n",
      "    RooGaussian::sig2[ x=x mean=mean sigma=width2 ] = 1\n",
      "    RooFormulaVar::sig2frac[ actualVars=(sig1frac) formula=\"1.-x[0]\" ] = 0.228137\n",
      "  RooFormulaVar::S[ actualVars=(mu_sig,nsig) formula=\"x[0]*x[1]\" ] = 357.13\n",
      "  RooChebychev::bkg[ x=x coefList=(a0,a1) ] = 1\n",
      "\n",
      "datasets\n",
      "--------\n",
      "RooDataSet::ObsData(x)\n",
      "\n",
      "named sets\n",
      "----------\n",
      "ModelConfig_NuisParams:(a0,a1,sig1frac,nbkg)\n",
      "ModelConfig_Observables:(x)\n",
      "ModelConfig_POI:(mu_sig)\n",
      "\n",
      "generic objects\n",
      "---------------\n",
      "RooStats::ModelConfig::ModelConfig\n",
      "\n"
     ]
    }
   ],
   "source": [
    "w.Print(\"t\")"
   ]
  },
  {
   "cell_type": "markdown",
   "id": "objective-brook",
   "metadata": {},
   "source": [
    "Write the workspace to a file"
   ]
  },
  {
   "cell_type": "code",
   "execution_count": 15,
   "id": "worse-supplier",
   "metadata": {
    "collapsed": false,
    "execution": {
     "iopub.execute_input": "2021-04-03T02:27:27.367713Z",
     "iopub.status.busy": "2021-04-03T02:27:27.367389Z",
     "iopub.status.idle": "2021-04-03T02:27:27.475014Z",
     "shell.execute_reply": "2021-04-03T02:27:27.475371Z"
    }
   },
   "outputs": [
    {
     "data": {
      "text/plain": [
       "False"
      ]
     },
     "execution_count": 1,
     "metadata": {},
     "output_type": "execute_result"
    }
   ],
   "source": [
    "w.writeToFile(\"test_model.root\") "
   ]
  },
  {
   "cell_type": "markdown",
   "id": "electronic-volunteer",
   "metadata": {},
   "source": [
    "Questions:\n",
    "---------------------------------------------------\n",
    "* What is inside this root file?\n",
    "* What can I do with it?"
   ]
  },
  {
   "cell_type": "markdown",
   "id": "homeless-shopper",
   "metadata": {},
   "source": [
    "Draw all canvases "
   ]
  },
  {
   "cell_type": "code",
   "execution_count": 16,
   "id": "raised-germany",
   "metadata": {
    "collapsed": false,
    "execution": {
     "iopub.execute_input": "2021-04-03T02:27:27.482290Z",
     "iopub.status.busy": "2021-04-03T02:27:27.481696Z",
     "iopub.status.idle": "2021-04-03T02:27:27.668013Z",
     "shell.execute_reply": "2021-04-03T02:27:27.668267Z"
    }
   },
   "outputs": [
    {
     "data": {
      "image/png": "[encoded data removed]",
      "text/plain": [
       "<IPython.core.display.Image object>"
      ]
     },
     "metadata": {},
     "output_type": "display_data"
    }
   ],
   "source": [
    "from ROOT import gROOT \n",
    "gROOT.GetListOfCanvases().Draw()"
   ]
  }
 ],
 "metadata": {
  "kernelspec": {
   "display_name": "Python 3",
   "language": "python",
   "name": "python3"
  },
  "language_info": {
   "codemirror_mode": {
    "name": "ipython",
    "version": 3
   },
   "file_extension": ".py",
   "mimetype": "text/x-python",
   "name": "python",
   "nbconvert_exporter": "python",
   "pygments_lexer": "ipython3",
   "version": "3.8.8"
  }
 },
 "nbformat": 4,
 "nbformat_minor": 5
}
