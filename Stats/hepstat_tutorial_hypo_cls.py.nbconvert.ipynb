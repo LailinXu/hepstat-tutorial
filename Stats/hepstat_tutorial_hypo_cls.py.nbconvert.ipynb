{
 "cells": [
  {
   "cell_type": "markdown",
   "id": "played-anxiety",
   "metadata": {},
   "source": [
    "# Hepstat_Tutorial_Hypo_Cls\n",
    "RooStats example: compute the upper limit using Hypothesis Test Inversion (CLs Limits)\n",
    "The signal is a simple Gaussian and the background is a smoothly falling spectrum. \n",
    "We need to perform the hypothesis test for different parameter of interest points and compute the corresponding p-values.\n",
    "Since we are interesting in computing a limit, the test null hypothesis, that we want to disprove, is the in this case the S+B model,\n",
    "while the alternate hypothesis is the B only model. *It is important to remember this, when we construct the hypothesis test calculator*.\n",
    "This is the opposite of the null hypothesis significance (p0) calculation.\n",
    "\n",
    " Objectives of this tutorial are the following:\n",
    " * Create the HypoTestInverter class and configure it\n",
    " * Compute the CLs upper limits using the asymptotic formula\n",
    " * Compute the CLs upper limits using the frequentist method (time consuming)\n",
    "\n",
    "\n",
    "Based on the example [here](https://www.nikhef.nl/~vcroft/RooStats.html), and also [StandardHypoTestInvDemo.C](https://root.cern/doc/master/StandardHypoTestInvDemo_8C.html)\n",
    "\n",
    "\n",
    "**Author:** Lailin XU  \n",
    "<i><small>This notebook tutorial was automatically generated with <a href= \"https://github.com/root-project/root/blob/master/documentation/doxygen/converttonotebook.py\">ROOTBOOK-izer</a> from the macro found in the ROOT repository  on Tuesday, April 06, 2021 at 10:37 PM.</small></i>"
   ]
  },
  {
   "cell_type": "code",
   "execution_count": null,
   "id": "genetic-envelope",
   "metadata": {
    "collapsed": false
   },
   "outputs": [],
   "source": [
    "import os"
   ]
  },
  {
   "cell_type": "markdown",
   "id": "fossil-thomson",
   "metadata": {},
   "source": [
    "Import the ROOT libraries"
   ]
  },
  {
   "cell_type": "code",
   "execution_count": null,
   "id": "nearby-secret",
   "metadata": {
    "collapsed": false
   },
   "outputs": [],
   "source": [
    "import ROOT as R\n",
    "from math import pow, sqrt, fabs\n",
    "R.gROOT.SetStyle(\"ATLAS\")"
   ]
  },
  {
   "cell_type": "markdown",
   "id": "turned-deadline",
   "metadata": {},
   "source": [
    "Prepare the model\n",
    "=======================\n",
    "Signal mass point"
   ]
  },
  {
   "cell_type": "code",
   "execution_count": null,
   "id": "amateur-state",
   "metadata": {
    "collapsed": false
   },
   "outputs": [],
   "source": [
    "mass = 125"
   ]
  },
  {
   "cell_type": "markdown",
   "id": "revised-transparency",
   "metadata": {},
   "source": [
    "Worksapce"
   ]
  },
  {
   "cell_type": "code",
   "execution_count": null,
   "id": "verified-partition",
   "metadata": {
    "collapsed": false
   },
   "outputs": [],
   "source": [
    "wsfile = \"test_hf_ws_{}.root\".format(mass)\n",
    "if not os.path.isfile(wsfile):\n",
    "  print(\"Error! No ws files found: {}\".format(wsfile)) \n",
    "  pyhist = \"hepstat_tutorial_histfactory_hists.py\"\n",
    "  if os.path.isfile(pyhist):\n",
    "    cmd = \"python3 {0} {1]\".format(pyhist, mass)\n",
    "    os.system(cmd)"
   ]
  },
  {
   "cell_type": "markdown",
   "id": "ranking-fighter",
   "metadata": {},
   "source": [
    "Open the workpace"
   ]
  },
  {
   "cell_type": "code",
   "execution_count": null,
   "id": "mechanical-spain",
   "metadata": {
    "collapsed": false
   },
   "outputs": [],
   "source": [
    "tf = R.TFile.Open(wsfile, \"READ\")\n",
    "w = tf.Get(\"myws\")"
   ]
  },
  {
   "cell_type": "markdown",
   "id": "numerical-modem",
   "metadata": {},
   "source": [
    "data"
   ]
  },
  {
   "cell_type": "code",
   "execution_count": null,
   "id": "bridal-square",
   "metadata": {
    "collapsed": false
   },
   "outputs": [],
   "source": [
    "data = w.obj(\"obsData\")"
   ]
  },
  {
   "cell_type": "markdown",
   "id": "printable-incentive",
   "metadata": {},
   "source": [
    "The S+B model (Alternative hypo)"
   ]
  },
  {
   "cell_type": "code",
   "execution_count": null,
   "id": "embedded-standing",
   "metadata": {
    "collapsed": false
   },
   "outputs": [],
   "source": [
    "sbModel = w.obj(\"ModelConfig\")\n",
    "poi = sbModel.GetParametersOfInterest().first()\n",
    "poi.setVal(1.)\n",
    "poi.setRange(0, 20)\n",
    "sbModel.SetSnapshot(R.RooArgSet(poi))"
   ]
  },
  {
   "cell_type": "markdown",
   "id": "valid-dairy",
   "metadata": {},
   "source": [
    "PDF"
   ]
  },
  {
   "cell_type": "code",
   "execution_count": null,
   "id": "disabled-financing",
   "metadata": {
    "collapsed": false
   },
   "outputs": [],
   "source": [
    "pdf = sbModel.GetPdf()"
   ]
  },
  {
   "cell_type": "markdown",
   "id": "valued-hearing",
   "metadata": {},
   "source": [
    "save snapshot before any fit has been done"
   ]
  },
  {
   "cell_type": "code",
   "execution_count": null,
   "id": "improved-international",
   "metadata": {
    "collapsed": false
   },
   "outputs": [],
   "source": [
    "params = pdf.getParameters(data)\n",
    "snapshotName_init = \"snapshot_paramsVals_initial\"\n",
    "w.saveSnapshot(snapshotName_init, params)"
   ]
  },
  {
   "cell_type": "markdown",
   "id": "unexpected-hypothetical",
   "metadata": {},
   "source": [
    "The B model (Null hypo)"
   ]
  },
  {
   "cell_type": "code",
   "execution_count": null,
   "id": "figured-business",
   "metadata": {
    "collapsed": false
   },
   "outputs": [],
   "source": [
    "bModel = sbModel.Clone()\n",
    "bModel.SetName(\"B_only_model\")\n",
    "poi.setVal(0)\n",
    "bModel.SetSnapshot(R.RooArgSet(poi))\n",
    "\n",
    "w.Print()"
   ]
  },
  {
   "cell_type": "markdown",
   "id": "silver-sharp",
   "metadata": {},
   "source": [
    "Asymptotic calculator\n",
    "=======================\n",
    "NOTE here `null` is the S+B model, and the alternative is the B model, the one we want to disapprove"
   ]
  },
  {
   "cell_type": "code",
   "execution_count": null,
   "id": "criminal-program",
   "metadata": {
    "collapsed": false
   },
   "outputs": [],
   "source": [
    "ac = R.RooStats.AsymptoticCalculator(data, bModel, sbModel)"
   ]
  },
  {
   "cell_type": "markdown",
   "id": "personalized-heating",
   "metadata": {},
   "source": [
    "Do one-sided for upper limits"
   ]
  },
  {
   "cell_type": "code",
   "execution_count": null,
   "id": "wooden-response",
   "metadata": {
    "collapsed": false
   },
   "outputs": [],
   "source": [
    "ac.SetOneSided(True)"
   ]
  },
  {
   "cell_type": "markdown",
   "id": "comic-closing",
   "metadata": {},
   "source": [
    "HypoTestInverter"
   ]
  },
  {
   "cell_type": "code",
   "execution_count": null,
   "id": "informative-mathematics",
   "metadata": {
    "collapsed": false
   },
   "outputs": [],
   "source": [
    "calc = R.RooStats.HypoTestInverter(ac)"
   ]
  },
  {
   "cell_type": "markdown",
   "id": "elder-relevance",
   "metadata": {},
   "source": [
    "For 95% upper limits"
   ]
  },
  {
   "cell_type": "code",
   "execution_count": null,
   "id": "major-court",
   "metadata": {
    "collapsed": false
   },
   "outputs": [],
   "source": [
    "calc.SetConfidenceLevel(0.95)"
   ]
  },
  {
   "cell_type": "markdown",
   "id": "directed-cedar",
   "metadata": {},
   "source": [
    "for CLs"
   ]
  },
  {
   "cell_type": "code",
   "execution_count": null,
   "id": "closing-development",
   "metadata": {
    "collapsed": false
   },
   "outputs": [],
   "source": [
    "calc.UseCLs(True)\n",
    "calc.SetVerbose(False)"
   ]
  },
  {
   "cell_type": "markdown",
   "id": "monthly-fossil",
   "metadata": {},
   "source": [
    "Get the hypo test result"
   ]
  },
  {
   "cell_type": "code",
   "execution_count": null,
   "id": "binary-overhead",
   "metadata": {
    "collapsed": false
   },
   "outputs": [],
   "source": [
    "r = calc.GetInterval()"
   ]
  },
  {
   "cell_type": "markdown",
   "id": "simplified-medicare",
   "metadata": {},
   "source": [
    "compute expected limit"
   ]
  },
  {
   "cell_type": "code",
   "execution_count": null,
   "id": "efficient-harvest",
   "metadata": {
    "collapsed": false
   },
   "outputs": [],
   "source": [
    "med = r.GetExpectedUpperLimit(0)\n",
    "m2 = r.GetExpectedUpperLimit(-2)\n",
    "m1 = r.GetExpectedUpperLimit(-1)\n",
    "p1 = r.GetExpectedUpperLimit(1)\n",
    "p2 = r.GetExpectedUpperLimit(2)\n",
    "print(\"Expected upper limits from AsymptoticCalculator: \" )\n",
    "print(\" expected limit (median) \" , med)\n",
    "print(\" expected limit (-2 sig) \" , m2)\n",
    "print(\" expected limit (-1 sig) \" , m1)\n",
    "print(\" expected limit (+1 sig) \" , p1)\n",
    "print(\" expected limit (+2 sig) \" , p2)"
   ]
  },
  {
   "cell_type": "markdown",
   "id": "subjective-ensemble",
   "metadata": {},
   "source": [
    "The frequentist appproach\n",
    "======================="
   ]
  },
  {
   "cell_type": "code",
   "execution_count": null,
   "id": "entire-contact",
   "metadata": {
    "collapsed": false
   },
   "outputs": [],
   "source": [
    "w.loadSnapshot(snapshotName_init)\n",
    "poi.Print()\n",
    "fc = R.RooStats.FrequentistCalculator(data, bModel, sbModel)"
   ]
  },
  {
   "cell_type": "markdown",
   "id": "going-poster",
   "metadata": {},
   "source": [
    "null toys, alt toys"
   ]
  },
  {
   "cell_type": "code",
   "execution_count": null,
   "id": "circular-classroom",
   "metadata": {
    "collapsed": false
   },
   "outputs": [],
   "source": [
    "fc.SetToys(2500,1000)"
   ]
  },
  {
   "cell_type": "markdown",
   "id": "biblical-credit",
   "metadata": {},
   "source": [
    "Test statistics: profile liekelihood"
   ]
  },
  {
   "cell_type": "code",
   "execution_count": null,
   "id": "interior-enterprise",
   "metadata": {
    "collapsed": false
   },
   "outputs": [],
   "source": [
    "profll = R.RooStats.ProfileLikelihoodTestStat(sbModel.GetPdf())\n",
    "profll.SetOneSided(True)"
   ]
  },
  {
   "cell_type": "markdown",
   "id": "english-recommendation",
   "metadata": {},
   "source": [
    "Need to throw toys"
   ]
  },
  {
   "cell_type": "code",
   "execution_count": null,
   "id": "enormous-encounter",
   "metadata": {
    "collapsed": false
   },
   "outputs": [],
   "source": [
    "toymcs = R.RooStats.ToyMCSampler(profll, 50)\n",
    "if not sbModel.GetPdf().canBeExtended():\n",
    "    toymcs.SetNEventsPerToy(1)\n",
    "    print('\\nAdjusting for non-extended formalism\\n')"
   ]
  },
  {
   "cell_type": "markdown",
   "id": "fundamental-entry",
   "metadata": {},
   "source": [
    "HypoTestInverter"
   ]
  },
  {
   "cell_type": "code",
   "execution_count": null,
   "id": "irish-miniature",
   "metadata": {
    "collapsed": false
   },
   "outputs": [],
   "source": [
    "calc = R.RooStats.HypoTestInverter(fc)\n",
    "calc.SetConfidenceLevel(0.95)\n",
    "\n",
    "calc.UseCLs(True)\n",
    "calc.SetVerbose(False)"
   ]
  },
  {
   "cell_type": "markdown",
   "id": "veterinary-yellow",
   "metadata": {},
   "source": [
    "Set scan points and range"
   ]
  },
  {
   "cell_type": "code",
   "execution_count": null,
   "id": "straight-chile",
   "metadata": {
    "collapsed": false
   },
   "outputs": [],
   "source": [
    "npoints = 10\n",
    "poimin = poi.getMin()\n",
    "poimax = poi.getMax()\n",
    "calc.SetFixedScan(npoints,poimin,poimax)"
   ]
  },
  {
   "cell_type": "markdown",
   "id": "amino-plant",
   "metadata": {},
   "source": [
    "Get the hypo test result\n",
    "WARNING: this step can be a bit time consuming, as for each scan, toys need to be run to calculate the p-value"
   ]
  },
  {
   "cell_type": "code",
   "execution_count": null,
   "id": "legal-valuable",
   "metadata": {
    "collapsed": false
   },
   "outputs": [],
   "source": [
    "r = calc.GetInterval()"
   ]
  },
  {
   "cell_type": "markdown",
   "id": "increasing-uncle",
   "metadata": {},
   "source": [
    "compute expected limit"
   ]
  },
  {
   "cell_type": "code",
   "execution_count": null,
   "id": "written-broad",
   "metadata": {
    "collapsed": false
   },
   "outputs": [],
   "source": [
    "med = r.GetExpectedUpperLimit(0)\n",
    "m2 = r.GetExpectedUpperLimit(-2)\n",
    "m1 = r.GetExpectedUpperLimit(-1)\n",
    "p1 = r.GetExpectedUpperLimit(1)\n",
    "p2 = r.GetExpectedUpperLimit(2)\n",
    "print(\"Expected upper limits from FrequentistCalculator: \" )\n",
    "print(\" expected limit (median) \" , med)\n",
    "print(\" expected limit (-2 sig) \" , m2)\n",
    "print(\" expected limit (-1 sig) \" , m1)\n",
    "print(\" expected limit (+1 sig) \" , p1)\n",
    "print(\" expected limit (+2 sig) \" , p2)"
   ]
  },
  {
   "cell_type": "markdown",
   "id": "popular-transaction",
   "metadata": {},
   "source": [
    "Plot the distributions of the test statistic"
   ]
  },
  {
   "cell_type": "code",
   "execution_count": null,
   "id": "confused-abraham",
   "metadata": {
    "collapsed": false
   },
   "outputs": [],
   "source": [
    "plot = R.RooStats.HypoTestInverterPlot(\"HTI_Result_Plot\",\"HypoTest Scan Result\",r)\n",
    "c = R.TCanvas(\"HypoTestInverter Scan\")\n",
    "c.SetLogy(False)\n",
    "plot.Draw(\"CLb 2CL\")\n",
    "c.Draw()\n",
    "\n",
    "c.SaveAs(\"test_cls_1.png\")\n",
    "c.SaveAs(\"test_cls_1.root\")"
   ]
  },
  {
   "cell_type": "markdown",
   "id": "agricultural-referral",
   "metadata": {},
   "source": [
    "Draw all canvases "
   ]
  },
  {
   "cell_type": "code",
   "execution_count": null,
   "id": "pending-arbitration",
   "metadata": {
    "collapsed": false
   },
   "outputs": [],
   "source": [
    "from ROOT import gROOT \n",
    "gROOT.GetListOfCanvases().Draw()"
   ]
  }
 ],
 "metadata": {
  "kernelspec": {
   "display_name": "Python 3",
   "language": "python",
   "name": "python3"
  },
  "language_info": {
   "codemirror_mode": {
    "name": "ipython",
    "version": 2
   },
   "file_extension": ".py",
   "mimetype": "text/x-python",
   "name": "python",
   "nbconvert_exporter": "python",
   "pygments_lexer": "ipython2",
   "version": "2.7.10"
  }
 },
 "nbformat": 4,
 "nbformat_minor": 5
}
