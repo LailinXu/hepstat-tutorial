{
 "cells": [
  {
   "cell_type": "markdown",
   "id": "expired-halloween",
   "metadata": {},
   "source": [
    "# Hepstat_Tutorial_Genhists\n",
    "\n",
    "Generate some histograms\n",
    "  * Signal samples with different mass points, assuming Gaussian shapes\n",
    "  * Background samples: nominal and up/down variations, a simple ploynomial\n",
    "\n",
    "\n",
    "\n",
    "\n",
    "**Author:** Lailin XU  \n",
    "<i><small>This notebook tutorial was automatically generated with <a href= \"https://github.com/root-project/root/blob/master/documentation/doxygen/converttonotebook.py\">ROOTBOOK-izer</a> from the macro found in the ROOT repository  on Monday, April 05, 2021 at 07:45 PM.</small></i>"
   ]
  },
  {
   "cell_type": "code",
   "execution_count": 1,
   "id": "grateful-influence",
   "metadata": {
    "collapsed": false,
    "execution": {
     "iopub.execute_input": "2021-04-05T11:45:33.930406Z",
     "iopub.status.busy": "2021-04-05T11:45:33.929604Z",
     "iopub.status.idle": "2021-04-05T11:45:33.931737Z",
     "shell.execute_reply": "2021-04-05T11:45:33.932164Z"
    }
   },
   "outputs": [],
   "source": [
    "import os"
   ]
  },
  {
   "cell_type": "markdown",
   "id": "minute-orientation",
   "metadata": {},
   "source": [
    "Import the ROOT libraries"
   ]
  },
  {
   "cell_type": "code",
   "execution_count": 2,
   "id": "acceptable-fence",
   "metadata": {
    "collapsed": false,
    "execution": {
     "iopub.execute_input": "2021-04-05T11:45:33.936569Z",
     "iopub.status.busy": "2021-04-05T11:45:33.935942Z",
     "iopub.status.idle": "2021-04-05T11:45:34.459394Z",
     "shell.execute_reply": "2021-04-05T11:45:34.459594Z"
    }
   },
   "outputs": [
    {
     "name": "stdout",
     "output_type": "stream",
     "text": [
      "Welcome to JupyROOT 6.22/07\n"
     ]
    }
   ],
   "source": [
    "import ROOT as R\n",
    "from math import pow, sqrt\n",
    "R.gROOT.SetStyle(\"ATLAS\")\n",
    "\n",
    "odir = \"data\"\n",
    "if not os.path.isdir(odir): os.makedirs(odir)\n",
    "tfout = R.TFile(\"data/h4l_toy_hists.root\", \"RECREATE\")"
   ]
  },
  {
   "cell_type": "markdown",
   "id": "stopped-truth",
   "metadata": {},
   "source": [
    "Signal samples\n",
    "----------------\n",
    "Number of toy events to obtain the signal/bkg distributions (only to get the shape)"
   ]
  },
  {
   "cell_type": "code",
   "execution_count": 3,
   "id": "returning-barrel",
   "metadata": {
    "collapsed": false,
    "execution": {
     "iopub.execute_input": "2021-04-05T11:45:34.461425Z",
     "iopub.status.busy": "2021-04-05T11:45:34.461126Z",
     "iopub.status.idle": "2021-04-05T11:45:34.568454Z",
     "shell.execute_reply": "2021-04-05T11:45:34.568858Z"
    }
   },
   "outputs": [],
   "source": [
    "nevents = 100000"
   ]
  },
  {
   "cell_type": "markdown",
   "id": "minor-fleet",
   "metadata": {},
   "source": [
    "Number of toy events for the background"
   ]
  },
  {
   "cell_type": "code",
   "execution_count": 4,
   "id": "convertible-intellectual",
   "metadata": {
    "collapsed": false,
    "execution": {
     "iopub.execute_input": "2021-04-05T11:45:34.572074Z",
     "iopub.status.busy": "2021-04-05T11:45:34.571578Z",
     "iopub.status.idle": "2021-04-05T11:45:34.682097Z",
     "shell.execute_reply": "2021-04-05T11:45:34.682763Z"
    }
   },
   "outputs": [],
   "source": [
    "nbkg_exp = 100\n",
    "mHs = [120., 125., 130., 135., 140., 145., 150.]"
   ]
  },
  {
   "cell_type": "markdown",
   "id": "eastern-vessel",
   "metadata": {},
   "source": [
    "Gaussian"
   ]
  },
  {
   "cell_type": "code",
   "execution_count": 5,
   "id": "starting-component",
   "metadata": {
    "collapsed": false,
    "execution": {
     "iopub.execute_input": "2021-04-05T11:45:34.809383Z",
     "iopub.status.busy": "2021-04-05T11:45:34.809062Z",
     "iopub.status.idle": "2021-04-05T11:45:35.040902Z",
     "shell.execute_reply": "2021-04-05T11:45:35.041304Z"
    }
   },
   "outputs": [
    {
     "name": "stdout",
     "output_type": "stream",
     "text": [
      "\n",
      "\u001b[1mRooFit v3.60 -- Developed by Wouter Verkerke and David Kirkby\u001b[0m \n",
      "                Copyright (C) 2000-2013 NIKHEF, University of California & Stanford University\n",
      "                All rights reserved, please read http://roofit.sourceforge.net/license.txt\n",
      "\n"
     ]
    }
   ],
   "source": [
    "for mH in mHs:\n",
    "  x = R.RooRealVar(\"x\", \"x\", 110, 160)\n",
    "\n",
    "  mean = R.RooRealVar(\"mean\", \"mean of gaussians\", mH)\n",
    "  wH = mH*0.01\n",
    "  sigma = R.RooRealVar(\"sigma\", \"width of gaussians\", wH)\n",
    "\n",
    "  sig = R.RooGaussian(\"sig\", \"Signal\", x, mean, sigma)\n",
    "\n",
    "  # Generate pseudo data via sampling\n",
    "  data = sig.generate(R.RooArgSet(x), nevents)\n",
    "  x.setBins(50)\n",
    "  hname = \"sig_{:d}\".format(int(mH))\n",
    "  dh = R.RooDataHist(hname, hname, R.RooArgSet(x), data).createHistogram(hname, x)\n",
    "  dh.SetName(hname)\n",
    "\n",
    "  tfout.cd()\n",
    "  dh.Write()"
   ]
  },
  {
   "cell_type": "markdown",
   "id": "incident-practitioner",
   "metadata": {},
   "source": [
    "Nominal bkg\n",
    "----------------"
   ]
  },
  {
   "cell_type": "code",
   "execution_count": 6,
   "id": "martial-reading",
   "metadata": {
    "collapsed": false,
    "execution": {
     "iopub.execute_input": "2021-04-05T11:45:35.058780Z",
     "iopub.status.busy": "2021-04-05T11:45:35.058323Z",
     "iopub.status.idle": "2021-04-05T11:45:35.167379Z",
     "shell.execute_reply": "2021-04-05T11:45:35.168118Z"
    }
   },
   "outputs": [],
   "source": [
    "x = R.RooRealVar(\"x\", \"x\", 110, 160)\n",
    "p0 = 480.\n",
    "p1 = -2.5\n",
    "a0 = R.RooRealVar(\"a0\", \"a0\", p0)\n",
    "a1 = R.RooRealVar(\"a1\", \"a1\", p1)\n",
    "bkg = R.RooPolynomial(\"bkg\", \"Background\", x, R.RooArgList(a0, a1))"
   ]
  },
  {
   "cell_type": "markdown",
   "id": "posted-yukon",
   "metadata": {},
   "source": [
    "Generate pseudo data via sampling"
   ]
  },
  {
   "cell_type": "code",
   "execution_count": 7,
   "id": "related-rainbow",
   "metadata": {
    "collapsed": false,
    "execution": {
     "iopub.execute_input": "2021-04-05T11:45:35.258585Z",
     "iopub.status.busy": "2021-04-05T11:45:35.258268Z",
     "iopub.status.idle": "2021-04-05T11:45:35.365797Z",
     "shell.execute_reply": "2021-04-05T11:45:35.366246Z"
    }
   },
   "outputs": [],
   "source": [
    "data = bkg.generate(R.RooArgSet(x), nevents)\n",
    "x.setBins(50)\n",
    "hname = \"bkg\"\n",
    "dh = R.RooDataHist(hname, hname, R.RooArgSet(x), data).createHistogram(hname, x)\n",
    "nint = dh.Integral()\n",
    "dh.Scale(nbkg_exp/nint)\n",
    "dh.SetName(hname)"
   ]
  },
  {
   "cell_type": "markdown",
   "id": "clear-morrison",
   "metadata": {},
   "source": [
    "Toy observed data\n",
    "----------------"
   ]
  },
  {
   "cell_type": "code",
   "execution_count": 8,
   "id": "purple-cooper",
   "metadata": {
    "collapsed": false,
    "execution": {
     "iopub.execute_input": "2021-04-05T11:45:35.372209Z",
     "iopub.status.busy": "2021-04-05T11:45:35.371681Z",
     "iopub.status.idle": "2021-04-05T11:45:35.481877Z",
     "shell.execute_reply": "2021-04-05T11:45:35.482394Z"
    }
   },
   "outputs": [],
   "source": [
    "data_obs = bkg.generate(R.RooArgSet(x), nbkg_exp)\n",
    "x.setBins(50)\n",
    "hname = \"obsData\"\n",
    "dh_obs = R.RooDataHist(hname, hname, R.RooArgSet(x), data_obs).createHistogram(hname, x)\n",
    "dh_obs.SetName(hname)"
   ]
  },
  {
   "cell_type": "markdown",
   "id": "broadband-champagne",
   "metadata": {},
   "source": [
    "Background variations\n",
    "----------------\n",
    "Variation up"
   ]
  },
  {
   "cell_type": "code",
   "execution_count": 9,
   "id": "aquatic-warren",
   "metadata": {
    "collapsed": false,
    "execution": {
     "iopub.execute_input": "2021-04-05T11:45:35.488611Z",
     "iopub.status.busy": "2021-04-05T11:45:35.487861Z",
     "iopub.status.idle": "2021-04-05T11:45:35.598012Z",
     "shell.execute_reply": "2021-04-05T11:45:35.598645Z"
    }
   },
   "outputs": [],
   "source": [
    "a0 = R.RooRealVar(\"a0\", \"a0\", p0*1.02)\n",
    "a1 = R.RooRealVar(\"a1\", \"a1\", p1*0.99)\n",
    "bkg = R.RooPolynomial(\"bkg_up\", \"Background\", x, R.RooArgList(a0, a1))"
   ]
  },
  {
   "cell_type": "markdown",
   "id": "occupational-spring",
   "metadata": {},
   "source": [
    "Generate pseudo data via sampling"
   ]
  },
  {
   "cell_type": "code",
   "execution_count": 10,
   "id": "incomplete-narrow",
   "metadata": {
    "collapsed": false,
    "execution": {
     "iopub.execute_input": "2021-04-05T11:45:35.689732Z",
     "iopub.status.busy": "2021-04-05T11:45:35.689408Z",
     "iopub.status.idle": "2021-04-05T11:45:35.796407Z",
     "shell.execute_reply": "2021-04-05T11:45:35.796793Z"
    }
   },
   "outputs": [],
   "source": [
    "data = bkg.generate(R.RooArgSet(x), nevents)\n",
    "x.setBins(50)\n",
    "hname = \"bkg_up\"\n",
    "dh_up = R.RooDataHist(hname, hname, R.RooArgSet(x), data).createHistogram(hname, x)\n",
    "dh_up.Scale(nbkg_exp/nint)\n",
    "dh_up.SetName(hname)"
   ]
  },
  {
   "cell_type": "markdown",
   "id": "placed-psychiatry",
   "metadata": {},
   "source": [
    "Variation up"
   ]
  },
  {
   "cell_type": "code",
   "execution_count": 11,
   "id": "listed-modeling",
   "metadata": {
    "collapsed": false,
    "execution": {
     "iopub.execute_input": "2021-04-05T11:45:35.800574Z",
     "iopub.status.busy": "2021-04-05T11:45:35.800067Z",
     "iopub.status.idle": "2021-04-05T11:45:35.909682Z",
     "shell.execute_reply": "2021-04-05T11:45:35.910349Z"
    }
   },
   "outputs": [],
   "source": [
    "a0 = R.RooRealVar(\"a0\", \"a0\", p0*0.98)\n",
    "a1 = R.RooRealVar(\"a1\", \"a1\", p1*1.01)\n",
    "bkg = R.RooPolynomial(\"bkg_dn\", \"Background\", x, R.RooArgList(a0, a1))"
   ]
  },
  {
   "cell_type": "markdown",
   "id": "valuable-joining",
   "metadata": {},
   "source": [
    "Generate pseudo data via sampling"
   ]
  },
  {
   "cell_type": "code",
   "execution_count": 12,
   "id": "important-donna",
   "metadata": {
    "collapsed": false,
    "execution": {
     "iopub.execute_input": "2021-04-05T11:45:36.007627Z",
     "iopub.status.busy": "2021-04-05T11:45:36.007307Z",
     "iopub.status.idle": "2021-04-05T11:45:36.114367Z",
     "shell.execute_reply": "2021-04-05T11:45:36.114749Z"
    }
   },
   "outputs": [],
   "source": [
    "data = bkg.generate(R.RooArgSet(x), nevents)\n",
    "x.setBins(50)\n",
    "hname = \"bkg_dn\"\n",
    "dh_dn = R.RooDataHist(hname, hname, R.RooArgSet(x), data).createHistogram(hname, x)\n",
    "dh_dn.Scale(nbkg_exp/nint)\n",
    "dh_dn.SetName(hname)\n",
    "\n",
    "tfout.cd()\n",
    "dh_obs.Write()\n",
    "dh.Write()\n",
    "dh_up.Write()\n",
    "dh_dn.Write()\n",
    "\n",
    "tfout.Close()"
   ]
  },
  {
   "cell_type": "markdown",
   "id": "textile-sponsorship",
   "metadata": {},
   "source": [
    "Draw all canvases "
   ]
  },
  {
   "cell_type": "code",
   "execution_count": 13,
   "id": "contemporary-excerpt",
   "metadata": {
    "collapsed": false,
    "execution": {
     "iopub.execute_input": "2021-04-05T11:45:36.121238Z",
     "iopub.status.busy": "2021-04-05T11:45:36.120703Z",
     "iopub.status.idle": "2021-04-05T11:45:36.230502Z",
     "shell.execute_reply": "2021-04-05T11:45:36.231325Z"
    }
   },
   "outputs": [],
   "source": [
    "from ROOT import gROOT \n",
    "gROOT.GetListOfCanvases().Draw()"
   ]
  }
 ],
 "metadata": {
  "kernelspec": {
   "display_name": "Python 3",
   "language": "python",
   "name": "python3"
  },
  "language_info": {
   "codemirror_mode": {
    "name": "ipython",
    "version": 3
   },
   "file_extension": ".py",
   "mimetype": "text/x-python",
   "name": "python",
   "nbconvert_exporter": "python",
   "pygments_lexer": "ipython3",
   "version": "3.8.8"
  }
 },
 "nbformat": 4,
 "nbformat_minor": 5
}
