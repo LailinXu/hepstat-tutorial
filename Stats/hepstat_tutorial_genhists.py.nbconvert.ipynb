{
 "cells": [
  {
   "cell_type": "markdown",
   "id": "artistic-moisture",
   "metadata": {},
   "source": [
    "# Hepstat_Tutorial_Genhists\n",
    "\n",
    "Generate some histograms\n",
    "  * Signal samples with different mass points, assuming Gaussian shapes\n",
    "  * Background samples: nominal and up/down variations, a simple ploynomial\n",
    "\n",
    "\n",
    "\n",
    "\n",
    "**Author:** Lailin XU  \n",
    "<i><small>This notebook tutorial was automatically generated with <a href= \"https://github.com/root-project/root/blob/master/documentation/doxygen/converttonotebook.py\">ROOTBOOK-izer</a> from the macro found in the ROOT repository  on Monday, April 05, 2021 at 10:55 PM.</small></i>"
   ]
  },
  {
   "cell_type": "code",
   "execution_count": 1,
   "id": "prepared-accused",
   "metadata": {
    "collapsed": false,
    "execution": {
     "iopub.execute_input": "2021-04-05T14:55:55.455891Z",
     "iopub.status.busy": "2021-04-05T14:55:55.455141Z",
     "iopub.status.idle": "2021-04-05T14:55:55.456916Z",
     "shell.execute_reply": "2021-04-05T14:55:55.457345Z"
    }
   },
   "outputs": [],
   "source": [
    "import os"
   ]
  },
  {
   "cell_type": "markdown",
   "id": "corporate-intranet",
   "metadata": {},
   "source": [
    "Import the ROOT libraries"
   ]
  },
  {
   "cell_type": "code",
   "execution_count": 2,
   "id": "vital-jacksonville",
   "metadata": {
    "collapsed": false,
    "execution": {
     "iopub.execute_input": "2021-04-05T14:55:55.461627Z",
     "iopub.status.busy": "2021-04-05T14:55:55.461014Z",
     "iopub.status.idle": "2021-04-05T14:55:56.044251Z",
     "shell.execute_reply": "2021-04-05T14:55:56.044462Z"
    }
   },
   "outputs": [
    {
     "name": "stdout",
     "output_type": "stream",
     "text": [
      "Welcome to JupyROOT 6.22/07\n"
     ]
    }
   ],
   "source": [
    "import ROOT as R\n",
    "from math import pow, sqrt\n",
    "R.gROOT.SetStyle(\"ATLAS\")\n",
    "\n",
    "odir = \"data\"\n",
    "if not os.path.isdir(odir): os.makedirs(odir)\n",
    "tfout = R.TFile(\"data/h4l_toy_hists.root\", \"RECREATE\")"
   ]
  },
  {
   "cell_type": "markdown",
   "id": "enclosed-mobile",
   "metadata": {},
   "source": [
    "Signal samples\n",
    "----------------\n",
    "Number of toy events to obtain the signal/bkg distributions (only to get the shape)"
   ]
  },
  {
   "cell_type": "code",
   "execution_count": 3,
   "id": "global-superior",
   "metadata": {
    "collapsed": false,
    "execution": {
     "iopub.execute_input": "2021-04-05T14:55:56.046384Z",
     "iopub.status.busy": "2021-04-05T14:55:56.046083Z",
     "iopub.status.idle": "2021-04-05T14:55:56.153118Z",
     "shell.execute_reply": "2021-04-05T14:55:56.153487Z"
    }
   },
   "outputs": [],
   "source": [
    "nbins = 25\n",
    "nevents = 100000"
   ]
  },
  {
   "cell_type": "markdown",
   "id": "focal-roller",
   "metadata": {},
   "source": [
    "Number of toy events for the background"
   ]
  },
  {
   "cell_type": "code",
   "execution_count": 4,
   "id": "jewish-reward",
   "metadata": {
    "collapsed": false,
    "execution": {
     "iopub.execute_input": "2021-04-05T14:55:56.156665Z",
     "iopub.status.busy": "2021-04-05T14:55:56.156176Z",
     "iopub.status.idle": "2021-04-05T14:55:56.266302Z",
     "shell.execute_reply": "2021-04-05T14:55:56.266816Z"
    }
   },
   "outputs": [],
   "source": [
    "nbkg_exp = 100\n",
    "mHs = [120., 125., 130., 135., 140., 145., 150.]"
   ]
  },
  {
   "cell_type": "markdown",
   "id": "funky-marsh",
   "metadata": {},
   "source": [
    "Gaussian"
   ]
  },
  {
   "cell_type": "code",
   "execution_count": 5,
   "id": "smooth-wells",
   "metadata": {
    "collapsed": false,
    "execution": {
     "iopub.execute_input": "2021-04-05T14:55:56.515957Z",
     "iopub.status.busy": "2021-04-05T14:55:56.453508Z",
     "iopub.status.idle": "2021-04-05T14:55:56.623382Z",
     "shell.execute_reply": "2021-04-05T14:55:56.623764Z"
    }
   },
   "outputs": [
    {
     "name": "stdout",
     "output_type": "stream",
     "text": [
      "\n",
      "\u001b[1mRooFit v3.60 -- Developed by Wouter Verkerke and David Kirkby\u001b[0m \n",
      "                Copyright (C) 2000-2013 NIKHEF, University of California & Stanford University\n",
      "                All rights reserved, please read http://roofit.sourceforge.net/license.txt\n",
      "\n"
     ]
    }
   ],
   "source": [
    "for mH in mHs:\n",
    "  x = R.RooRealVar(\"x\", \"x\", 110, 160)\n",
    "\n",
    "  mean = R.RooRealVar(\"mean\", \"mean of gaussians\", mH)\n",
    "  wH = mH*0.01\n",
    "  sigma = R.RooRealVar(\"sigma\", \"width of gaussians\", wH)\n",
    "\n",
    "  sig = R.RooGaussian(\"sig\", \"Signal\", x, mean, sigma)\n",
    "\n",
    "  # Generate pseudo data via sampling\n",
    "  data = sig.generate(R.RooArgSet(x), nevents)\n",
    "  x.setBins(nbins)\n",
    "  hname = \"sig_{:d}\".format(int(mH))\n",
    "  dh = R.RooDataHist(hname, hname, R.RooArgSet(x), data).createHistogram(hname, x)\n",
    "  dh.Scale(1./(dh.Integral()))\n",
    "  dh.SetName(hname)\n",
    "\n",
    "  tfout.cd()\n",
    "  dh.Write()"
   ]
  },
  {
   "cell_type": "markdown",
   "id": "pregnant-reflection",
   "metadata": {},
   "source": [
    "Nominal bkg\n",
    "----------------"
   ]
  },
  {
   "cell_type": "code",
   "execution_count": 6,
   "id": "handled-marketplace",
   "metadata": {
    "collapsed": false,
    "execution": {
     "iopub.execute_input": "2021-04-05T14:55:56.641117Z",
     "iopub.status.busy": "2021-04-05T14:55:56.640645Z",
     "iopub.status.idle": "2021-04-05T14:55:56.749750Z",
     "shell.execute_reply": "2021-04-05T14:55:56.750515Z"
    }
   },
   "outputs": [],
   "source": [
    "x = R.RooRealVar(\"x\", \"x\", 110, 160)\n",
    "p0 = 480.\n",
    "p1 = -2.5\n",
    "a0 = R.RooRealVar(\"a0\", \"a0\", p0)\n",
    "a1 = R.RooRealVar(\"a1\", \"a1\", p1)\n",
    "bkg = R.RooPolynomial(\"bkg\", \"Background\", x, R.RooArgList(a0, a1))"
   ]
  },
  {
   "cell_type": "markdown",
   "id": "indian-storm",
   "metadata": {},
   "source": [
    "Generate pseudo data via sampling"
   ]
  },
  {
   "cell_type": "code",
   "execution_count": 7,
   "id": "royal-coffee",
   "metadata": {
    "collapsed": false,
    "execution": {
     "iopub.execute_input": "2021-04-05T14:55:56.838704Z",
     "iopub.status.busy": "2021-04-05T14:55:56.838381Z",
     "iopub.status.idle": "2021-04-05T14:55:56.945591Z",
     "shell.execute_reply": "2021-04-05T14:55:56.945984Z"
    }
   },
   "outputs": [],
   "source": [
    "data = bkg.generate(R.RooArgSet(x), nevents)\n",
    "x.setBins(nbins)\n",
    "hname = \"bkg\"\n",
    "dh = R.RooDataHist(hname, hname, R.RooArgSet(x), data).createHistogram(hname, x)\n",
    "nint = dh.Integral()\n",
    "dh.Scale(nbkg_exp/nint)\n",
    "dh.SetName(hname)"
   ]
  },
  {
   "cell_type": "markdown",
   "id": "accepted-packet",
   "metadata": {},
   "source": [
    "Toy observed data\n",
    "----------------"
   ]
  },
  {
   "cell_type": "code",
   "execution_count": 8,
   "id": "loose-school",
   "metadata": {
    "collapsed": false,
    "execution": {
     "iopub.execute_input": "2021-04-05T14:55:56.951976Z",
     "iopub.status.busy": "2021-04-05T14:55:56.951451Z",
     "iopub.status.idle": "2021-04-05T14:55:57.060972Z",
     "shell.execute_reply": "2021-04-05T14:55:57.061632Z"
    }
   },
   "outputs": [],
   "source": [
    "data_obs = bkg.generate(R.RooArgSet(x), nbkg_exp)\n",
    "x.setBins(nbins)\n",
    "hname = \"obsData\"\n",
    "dh_obs = R.RooDataHist(hname, hname, R.RooArgSet(x), data_obs).createHistogram(hname, x)\n",
    "dh_obs.SetName(hname)"
   ]
  },
  {
   "cell_type": "markdown",
   "id": "affected-journey",
   "metadata": {},
   "source": [
    "Background variations\n",
    "----------------\n",
    "Variation up"
   ]
  },
  {
   "cell_type": "code",
   "execution_count": 9,
   "id": "improved-questionnaire",
   "metadata": {
    "collapsed": false,
    "execution": {
     "iopub.execute_input": "2021-04-05T14:55:57.067817Z",
     "iopub.status.busy": "2021-04-05T14:55:57.067108Z",
     "iopub.status.idle": "2021-04-05T14:55:57.175863Z",
     "shell.execute_reply": "2021-04-05T14:55:57.176505Z"
    }
   },
   "outputs": [],
   "source": [
    "a0 = R.RooRealVar(\"a0\", \"a0\", p0*1.02)\n",
    "a1 = R.RooRealVar(\"a1\", \"a1\", p1*0.99)\n",
    "bkg = R.RooPolynomial(\"bkg_up\", \"Background\", x, R.RooArgList(a0, a1))"
   ]
  },
  {
   "cell_type": "markdown",
   "id": "established-wildlife",
   "metadata": {},
   "source": [
    "Generate pseudo data via sampling"
   ]
  },
  {
   "cell_type": "code",
   "execution_count": 10,
   "id": "equivalent-guard",
   "metadata": {
    "collapsed": false,
    "execution": {
     "iopub.execute_input": "2021-04-05T14:55:57.266715Z",
     "iopub.status.busy": "2021-04-05T14:55:57.266381Z",
     "iopub.status.idle": "2021-04-05T14:55:57.373379Z",
     "shell.execute_reply": "2021-04-05T14:55:57.373735Z"
    }
   },
   "outputs": [],
   "source": [
    "data = bkg.generate(R.RooArgSet(x), nevents)\n",
    "x.setBins(nbins)\n",
    "hname = \"bkg_up\"\n",
    "dh_up = R.RooDataHist(hname, hname, R.RooArgSet(x), data).createHistogram(hname, x)\n",
    "dh_up.Scale(nbkg_exp/nint)\n",
    "dh_up.SetName(hname)"
   ]
  },
  {
   "cell_type": "markdown",
   "id": "relative-biodiversity",
   "metadata": {},
   "source": [
    "Variation up"
   ]
  },
  {
   "cell_type": "code",
   "execution_count": 11,
   "id": "awful-coffee",
   "metadata": {
    "collapsed": false,
    "execution": {
     "iopub.execute_input": "2021-04-05T14:55:57.377088Z",
     "iopub.status.busy": "2021-04-05T14:55:57.376647Z",
     "iopub.status.idle": "2021-04-05T14:55:57.485867Z",
     "shell.execute_reply": "2021-04-05T14:55:57.486494Z"
    }
   },
   "outputs": [],
   "source": [
    "a0 = R.RooRealVar(\"a0\", \"a0\", p0*0.98)\n",
    "a1 = R.RooRealVar(\"a1\", \"a1\", p1*1.01)\n",
    "bkg = R.RooPolynomial(\"bkg_dn\", \"Background\", x, R.RooArgList(a0, a1))"
   ]
  },
  {
   "cell_type": "markdown",
   "id": "stainless-spain",
   "metadata": {},
   "source": [
    "Generate pseudo data via sampling"
   ]
  },
  {
   "cell_type": "code",
   "execution_count": 12,
   "id": "adequate-strap",
   "metadata": {
    "collapsed": false,
    "execution": {
     "iopub.execute_input": "2021-04-05T14:55:57.583191Z",
     "iopub.status.busy": "2021-04-05T14:55:57.582862Z",
     "iopub.status.idle": "2021-04-05T14:55:57.689418Z",
     "shell.execute_reply": "2021-04-05T14:55:57.689814Z"
    }
   },
   "outputs": [],
   "source": [
    "data = bkg.generate(R.RooArgSet(x), nevents)\n",
    "x.setBins(nbins)\n",
    "hname = \"bkg_dn\"\n",
    "dh_dn = R.RooDataHist(hname, hname, R.RooArgSet(x), data).createHistogram(hname, x)\n",
    "dh_dn.Scale(nbkg_exp/nint)\n",
    "dh_dn.SetName(hname)\n",
    "\n",
    "tfout.cd()\n",
    "dh_obs.Write()\n",
    "dh.Write()\n",
    "dh_up.Write()\n",
    "dh_dn.Write()\n",
    "\n",
    "tfout.Close()"
   ]
  },
  {
   "cell_type": "markdown",
   "id": "rural-constitution",
   "metadata": {},
   "source": [
    "Draw all canvases "
   ]
  },
  {
   "cell_type": "code",
   "execution_count": 13,
   "id": "local-discussion",
   "metadata": {
    "collapsed": false,
    "execution": {
     "iopub.execute_input": "2021-04-05T14:55:57.696518Z",
     "iopub.status.busy": "2021-04-05T14:55:57.695996Z",
     "iopub.status.idle": "2021-04-05T14:55:57.804985Z",
     "shell.execute_reply": "2021-04-05T14:55:57.805645Z"
    }
   },
   "outputs": [],
   "source": [
    "from ROOT import gROOT \n",
    "gROOT.GetListOfCanvases().Draw()"
   ]
  }
 ],
 "metadata": {
  "kernelspec": {
   "display_name": "Python 3",
   "language": "python",
   "name": "python3"
  },
  "language_info": {
   "codemirror_mode": {
    "name": "ipython",
    "version": 3
   },
   "file_extension": ".py",
   "mimetype": "text/x-python",
   "name": "python",
   "nbconvert_exporter": "python",
   "pygments_lexer": "ipython3",
   "version": "3.8.8"
  }
 },
 "nbformat": 4,
 "nbformat_minor": 5
}
