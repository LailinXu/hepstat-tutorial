{
 "cells": [
  {
   "cell_type": "markdown",
   "id": "searching-thread",
   "metadata": {},
   "source": [
    "# Hepstat_Tutorial_Genhists\n",
    "\n",
    "Generate some histograms\n",
    "  * Signal samples with different mass points, assuming Gaussian shapes\n",
    "  * Background samples: nominal and up/down variations, a simple ploynomial\n",
    "\n",
    "\n",
    "\n",
    "\n",
    "**Author:** Lailin XU  \n",
    "<i><small>This notebook tutorial was automatically generated with <a href= \"https://github.com/root-project/root/blob/master/documentation/doxygen/converttonotebook.py\">ROOTBOOK-izer</a> from the macro found in the ROOT repository  on Saturday, April 03, 2021 at 03:40 PM.</small></i>"
   ]
  },
  {
   "cell_type": "code",
   "execution_count": 1,
   "id": "advanced-beast",
   "metadata": {
    "collapsed": false,
    "execution": {
     "iopub.execute_input": "2021-04-03T07:40:21.106577Z",
     "iopub.status.busy": "2021-04-03T07:40:21.105757Z",
     "iopub.status.idle": "2021-04-03T07:40:21.107881Z",
     "shell.execute_reply": "2021-04-03T07:40:21.108333Z"
    }
   },
   "outputs": [],
   "source": [
    "import os"
   ]
  },
  {
   "cell_type": "markdown",
   "id": "future-twist",
   "metadata": {},
   "source": [
    "Import the ROOT libraries"
   ]
  },
  {
   "cell_type": "code",
   "execution_count": 2,
   "id": "naked-brighton",
   "metadata": {
    "collapsed": false,
    "execution": {
     "iopub.execute_input": "2021-04-03T07:40:21.113379Z",
     "iopub.status.busy": "2021-04-03T07:40:21.112738Z",
     "iopub.status.idle": "2021-04-03T07:40:21.699834Z",
     "shell.execute_reply": "2021-04-03T07:40:21.700035Z"
    }
   },
   "outputs": [
    {
     "name": "stdout",
     "output_type": "stream",
     "text": [
      "Welcome to JupyROOT 6.22/07\n"
     ]
    }
   ],
   "source": [
    "import ROOT as R\n",
    "from math import pow, sqrt\n",
    "R.gROOT.SetStyle(\"ATLAS\")\n",
    "\n",
    "odir = \"data\"\n",
    "if not os.path.isdir(odir): os.makedirs(odir)\n",
    "tfout = R.TFile(\"data/h4l_toy_hists.root\", \"RECREATE\")\n",
    "\n",
    "nevents = 100000\n",
    "mHs = [120., 125., 130., 135., 140., 145., 150.]"
   ]
  },
  {
   "cell_type": "markdown",
   "id": "strange-gossip",
   "metadata": {},
   "source": [
    "Gaussian"
   ]
  },
  {
   "cell_type": "code",
   "execution_count": 3,
   "id": "municipal-excitement",
   "metadata": {
    "collapsed": false,
    "execution": {
     "iopub.execute_input": "2021-04-03T07:40:21.910719Z",
     "iopub.status.busy": "2021-04-03T07:40:21.859791Z",
     "iopub.status.idle": "2021-04-03T07:40:22.018162Z",
     "shell.execute_reply": "2021-04-03T07:40:22.018627Z"
    }
   },
   "outputs": [
    {
     "name": "stdout",
     "output_type": "stream",
     "text": [
      "\n",
      "\u001b[1mRooFit v3.60 -- Developed by Wouter Verkerke and David Kirkby\u001b[0m \n",
      "                Copyright (C) 2000-2013 NIKHEF, University of California & Stanford University\n",
      "                All rights reserved, please read http://roofit.sourceforge.net/license.txt\n",
      "\n"
     ]
    }
   ],
   "source": [
    "for mH in mHs:\n",
    "  x = R.RooRealVar(\"x\", \"x\", 110, 160)\n",
    "\n",
    "  mean = R.RooRealVar(\"mean\", \"mean of gaussians\", mH)\n",
    "  wH = mH*0.01\n",
    "  sigma = R.RooRealVar(\"sigma\", \"width of gaussians\", wH)\n",
    "\n",
    "  sig = R.RooGaussian(\"sig\", \"Signal\", x, mean, sigma)\n",
    "\n",
    "  # Generate pseudo data via sampling\n",
    "  data = sig.generate(x, nevents)\n",
    "  x.setBins(50)\n",
    "  hname = \"sig_{:d}\".format(int(mH))\n",
    "  dh = R.RooDataHist(hname, hname, R.RooArgSet(x), data).createHistogram(hname, x)\n",
    "  dh.SetName(hname)\n",
    "\n",
    "  tfout.cd()\n",
    "  dh.Write()"
   ]
  },
  {
   "cell_type": "markdown",
   "id": "running-disease",
   "metadata": {},
   "source": [
    "Nominal bkg"
   ]
  },
  {
   "cell_type": "code",
   "execution_count": 4,
   "id": "atmospheric-sentence",
   "metadata": {
    "collapsed": false,
    "execution": {
     "iopub.execute_input": "2021-04-03T07:40:22.036020Z",
     "iopub.status.busy": "2021-04-03T07:40:22.035510Z",
     "iopub.status.idle": "2021-04-03T07:40:22.144318Z",
     "shell.execute_reply": "2021-04-03T07:40:22.144837Z"
    }
   },
   "outputs": [],
   "source": [
    "x = R.RooRealVar(\"x\", \"x\", 110, 160)\n",
    "p0 = 480.\n",
    "p1 = -2.5\n",
    "a0 = R.RooRealVar(\"a0\", \"a0\", p0)\n",
    "a1 = R.RooRealVar(\"a1\", \"a1\", p1)\n",
    "bkg = R.RooPolynomial(\"bkg\", \"Background\", x, R.RooArgList(a0, a1))"
   ]
  },
  {
   "cell_type": "markdown",
   "id": "gross-raise",
   "metadata": {},
   "source": [
    "Generate pseudo data via sampling"
   ]
  },
  {
   "cell_type": "code",
   "execution_count": 5,
   "id": "checked-lounge",
   "metadata": {
    "collapsed": false,
    "execution": {
     "iopub.execute_input": "2021-04-03T07:40:22.233084Z",
     "iopub.status.busy": "2021-04-03T07:40:22.232760Z",
     "iopub.status.idle": "2021-04-03T07:40:22.340007Z",
     "shell.execute_reply": "2021-04-03T07:40:22.340370Z"
    }
   },
   "outputs": [],
   "source": [
    "data = bkg.generate(x, nevents)\n",
    "x.setBins(50)\n",
    "hname = \"bkg\"\n",
    "dh = R.RooDataHist(hname, hname, R.RooArgSet(x), data).createHistogram(hname, x)\n",
    "dh.SetName(hname)"
   ]
  },
  {
   "cell_type": "markdown",
   "id": "polish-musical",
   "metadata": {},
   "source": [
    "Variation up"
   ]
  },
  {
   "cell_type": "code",
   "execution_count": 6,
   "id": "biblical-stevens",
   "metadata": {
    "collapsed": false,
    "execution": {
     "iopub.execute_input": "2021-04-03T07:40:22.344300Z",
     "iopub.status.busy": "2021-04-03T07:40:22.343783Z",
     "iopub.status.idle": "2021-04-03T07:40:22.453924Z",
     "shell.execute_reply": "2021-04-03T07:40:22.454566Z"
    }
   },
   "outputs": [],
   "source": [
    "a0 = R.RooRealVar(\"a0\", \"a0\", p0*1.02)\n",
    "a1 = R.RooRealVar(\"a1\", \"a1\", p1*0.99)\n",
    "bkg = R.RooPolynomial(\"bkg_up\", \"Background\", x, R.RooArgList(a0, a1))"
   ]
  },
  {
   "cell_type": "markdown",
   "id": "superior-lloyd",
   "metadata": {},
   "source": [
    "Generate pseudo data via sampling"
   ]
  },
  {
   "cell_type": "code",
   "execution_count": 7,
   "id": "following-startup",
   "metadata": {
    "collapsed": false,
    "execution": {
     "iopub.execute_input": "2021-04-03T07:40:22.546207Z",
     "iopub.status.busy": "2021-04-03T07:40:22.545887Z",
     "iopub.status.idle": "2021-04-03T07:40:22.653025Z",
     "shell.execute_reply": "2021-04-03T07:40:22.653405Z"
    }
   },
   "outputs": [],
   "source": [
    "data = bkg.generate(x, nevents)\n",
    "x.setBins(50)\n",
    "hname = \"bkg_up\"\n",
    "dh_up = R.RooDataHist(hname, hname, R.RooArgSet(x), data).createHistogram(hname, x)\n",
    "dh_up.SetName(hname)"
   ]
  },
  {
   "cell_type": "markdown",
   "id": "boring-concentrate",
   "metadata": {},
   "source": [
    "Variation up"
   ]
  },
  {
   "cell_type": "code",
   "execution_count": 8,
   "id": "magnetic-vatican",
   "metadata": {
    "collapsed": false,
    "execution": {
     "iopub.execute_input": "2021-04-03T07:40:22.657355Z",
     "iopub.status.busy": "2021-04-03T07:40:22.656809Z",
     "iopub.status.idle": "2021-04-03T07:40:22.767129Z",
     "shell.execute_reply": "2021-04-03T07:40:22.767854Z"
    }
   },
   "outputs": [],
   "source": [
    "a0 = R.RooRealVar(\"a0\", \"a0\", p0*0.98)\n",
    "a1 = R.RooRealVar(\"a1\", \"a1\", p1*1.01)\n",
    "bkg = R.RooPolynomial(\"bkg_dn\", \"Background\", x, R.RooArgList(a0, a1))"
   ]
  },
  {
   "cell_type": "markdown",
   "id": "beneficial-cigarette",
   "metadata": {},
   "source": [
    "Generate pseudo data via sampling"
   ]
  },
  {
   "cell_type": "code",
   "execution_count": 9,
   "id": "funded-insulin",
   "metadata": {
    "collapsed": false,
    "execution": {
     "iopub.execute_input": "2021-04-03T07:40:22.866681Z",
     "iopub.status.busy": "2021-04-03T07:40:22.866299Z",
     "iopub.status.idle": "2021-04-03T07:40:22.973474Z",
     "shell.execute_reply": "2021-04-03T07:40:22.973855Z"
    }
   },
   "outputs": [],
   "source": [
    "data = bkg.generate(x, nevents)\n",
    "x.setBins(50)\n",
    "hname = \"bkg_dn\"\n",
    "dh_dn = R.RooDataHist(hname, hname, R.RooArgSet(x), data).createHistogram(hname, x)\n",
    "dh_dn.SetName(hname)\n",
    "\n",
    "\n",
    "tfout.cd()\n",
    "dh.Write()\n",
    "dh_up.Write()\n",
    "dh_dn.Write()\n",
    "\n",
    "tfout.Close()"
   ]
  },
  {
   "cell_type": "markdown",
   "id": "numerical-newman",
   "metadata": {},
   "source": [
    "Draw all canvases "
   ]
  },
  {
   "cell_type": "code",
   "execution_count": 10,
   "id": "copyrighted-wisconsin",
   "metadata": {
    "collapsed": false,
    "execution": {
     "iopub.execute_input": "2021-04-03T07:40:22.980849Z",
     "iopub.status.busy": "2021-04-03T07:40:22.980308Z",
     "iopub.status.idle": "2021-04-03T07:40:23.090811Z",
     "shell.execute_reply": "2021-04-03T07:40:23.091394Z"
    }
   },
   "outputs": [],
   "source": [
    "from ROOT import gROOT \n",
    "gROOT.GetListOfCanvases().Draw()"
   ]
  }
 ],
 "metadata": {
  "kernelspec": {
   "display_name": "Python 3",
   "language": "python",
   "name": "python3"
  },
  "language_info": {
   "codemirror_mode": {
    "name": "ipython",
    "version": 3
   },
   "file_extension": ".py",
   "mimetype": "text/x-python",
   "name": "python",
   "nbconvert_exporter": "python",
   "pygments_lexer": "ipython3",
   "version": "3.8.8"
  }
 },
 "nbformat": 4,
 "nbformat_minor": 5
}
