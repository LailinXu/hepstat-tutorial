{
 "cells": [
  {
   "cell_type": "markdown",
   "id": "genetic-advancement",
   "metadata": {},
   "source": [
    "# Hepstat_Tutorial_Genhists\n",
    "\n",
    "Generate some histograms\n",
    "  * Signal samples with different mass points, assuming Gaussian shapes\n",
    "  * Background samples: nominal and up/down variations, a simple ploynomial\n",
    "\n",
    "\n",
    "\n",
    "\n",
    "**Author:** Lailin XU  \n",
    "<i><small>This notebook tutorial was automatically generated with <a href= \"https://github.com/root-project/root/blob/master/documentation/doxygen/converttonotebook.py\">ROOTBOOK-izer</a> from the macro found in the ROOT repository  on Saturday, April 03, 2021 at 05:12 PM.</small></i>"
   ]
  },
  {
   "cell_type": "code",
   "execution_count": 1,
   "id": "amazing-character",
   "metadata": {
    "collapsed": false,
    "execution": {
     "iopub.execute_input": "2021-04-03T09:13:00.242652Z",
     "iopub.status.busy": "2021-04-03T09:13:00.241887Z",
     "iopub.status.idle": "2021-04-03T09:13:00.243901Z",
     "shell.execute_reply": "2021-04-03T09:13:00.244369Z"
    }
   },
   "outputs": [],
   "source": [
    "import os"
   ]
  },
  {
   "cell_type": "markdown",
   "id": "little-circuit",
   "metadata": {},
   "source": [
    "Import the ROOT libraries"
   ]
  },
  {
   "cell_type": "code",
   "execution_count": 2,
   "id": "tutorial-trigger",
   "metadata": {
    "collapsed": false,
    "execution": {
     "iopub.execute_input": "2021-04-03T09:13:00.248666Z",
     "iopub.status.busy": "2021-04-03T09:13:00.248085Z",
     "iopub.status.idle": "2021-04-03T09:13:00.804953Z",
     "shell.execute_reply": "2021-04-03T09:13:00.805155Z"
    }
   },
   "outputs": [
    {
     "name": "stdout",
     "output_type": "stream",
     "text": [
      "Welcome to JupyROOT 6.22/07\n"
     ]
    }
   ],
   "source": [
    "import ROOT as R\n",
    "from math import pow, sqrt\n",
    "R.gROOT.SetStyle(\"ATLAS\")\n",
    "\n",
    "odir = \"data\"\n",
    "if not os.path.isdir(odir): os.makedirs(odir)\n",
    "tfout = R.TFile(\"data/h4l_toy_hists.root\", \"RECREATE\")"
   ]
  },
  {
   "cell_type": "markdown",
   "id": "aboriginal-crystal",
   "metadata": {},
   "source": [
    "Signal samples\n",
    "----------------"
   ]
  },
  {
   "cell_type": "code",
   "execution_count": 3,
   "id": "young-celebrity",
   "metadata": {
    "collapsed": false,
    "execution": {
     "iopub.execute_input": "2021-04-03T09:13:00.807108Z",
     "iopub.status.busy": "2021-04-03T09:13:00.806804Z",
     "iopub.status.idle": "2021-04-03T09:13:00.914115Z",
     "shell.execute_reply": "2021-04-03T09:13:00.914504Z"
    }
   },
   "outputs": [],
   "source": [
    "nevents = 100000\n",
    "mHs = [120., 125., 130., 135., 140., 145., 150.]"
   ]
  },
  {
   "cell_type": "markdown",
   "id": "later-gates",
   "metadata": {},
   "source": [
    "Gaussian"
   ]
  },
  {
   "cell_type": "code",
   "execution_count": 4,
   "id": "instrumental-cooper",
   "metadata": {
    "collapsed": false,
    "execution": {
     "iopub.execute_input": "2021-04-03T09:13:01.143374Z",
     "iopub.status.busy": "2021-04-03T09:13:01.087354Z",
     "iopub.status.idle": "2021-04-03T09:13:01.250869Z",
     "shell.execute_reply": "2021-04-03T09:13:01.251252Z"
    }
   },
   "outputs": [
    {
     "name": "stdout",
     "output_type": "stream",
     "text": [
      "\n",
      "\u001b[1mRooFit v3.60 -- Developed by Wouter Verkerke and David Kirkby\u001b[0m \n",
      "                Copyright (C) 2000-2013 NIKHEF, University of California & Stanford University\n",
      "                All rights reserved, please read http://roofit.sourceforge.net/license.txt\n",
      "\n"
     ]
    }
   ],
   "source": [
    "for mH in mHs:\n",
    "  x = R.RooRealVar(\"x\", \"x\", 110, 160)\n",
    "\n",
    "  mean = R.RooRealVar(\"mean\", \"mean of gaussians\", mH)\n",
    "  wH = mH*0.01\n",
    "  sigma = R.RooRealVar(\"sigma\", \"width of gaussians\", wH)\n",
    "\n",
    "  sig = R.RooGaussian(\"sig\", \"Signal\", x, mean, sigma)\n",
    "\n",
    "  # Generate pseudo data via sampling\n",
    "  data = sig.generate(R.RooArgSet(x), nevents)\n",
    "  x.setBins(50)\n",
    "  hname = \"sig_{:d}\".format(int(mH))\n",
    "  dh = R.RooDataHist(hname, hname, R.RooArgSet(x), data).createHistogram(hname, x)\n",
    "  dh.SetName(hname)\n",
    "\n",
    "  tfout.cd()\n",
    "  dh.Write()"
   ]
  },
  {
   "cell_type": "markdown",
   "id": "angry-investigator",
   "metadata": {},
   "source": [
    "Nominal bkg\n",
    "----------------"
   ]
  },
  {
   "cell_type": "code",
   "execution_count": 5,
   "id": "empirical-mills",
   "metadata": {
    "collapsed": false,
    "execution": {
     "iopub.execute_input": "2021-04-03T09:13:01.267943Z",
     "iopub.status.busy": "2021-04-03T09:13:01.267500Z",
     "iopub.status.idle": "2021-04-03T09:13:01.375911Z",
     "shell.execute_reply": "2021-04-03T09:13:01.376599Z"
    }
   },
   "outputs": [],
   "source": [
    "x = R.RooRealVar(\"x\", \"x\", 110, 160)\n",
    "p0 = 480.\n",
    "p1 = -2.5\n",
    "a0 = R.RooRealVar(\"a0\", \"a0\", p0)\n",
    "a1 = R.RooRealVar(\"a1\", \"a1\", p1)\n",
    "bkg = R.RooPolynomial(\"bkg\", \"Background\", x, R.RooArgList(a0, a1))"
   ]
  },
  {
   "cell_type": "markdown",
   "id": "focal-petersburg",
   "metadata": {},
   "source": [
    "Generate pseudo data via sampling"
   ]
  },
  {
   "cell_type": "code",
   "execution_count": 6,
   "id": "confident-fellowship",
   "metadata": {
    "collapsed": false,
    "execution": {
     "iopub.execute_input": "2021-04-03T09:13:01.510086Z",
     "iopub.status.busy": "2021-04-03T09:13:01.509797Z",
     "iopub.status.idle": "2021-04-03T09:13:01.616951Z",
     "shell.execute_reply": "2021-04-03T09:13:01.617342Z"
    }
   },
   "outputs": [],
   "source": [
    "data = bkg.generate(R.RooArgSet(x), nevents)\n",
    "data_obs = bkg.generate(R.RooArgSet(x), nevents)\n",
    "x.setBins(50)\n",
    "hname = \"bkg\"\n",
    "dh = R.RooDataHist(hname, hname, R.RooArgSet(x), data).createHistogram(hname, x)\n",
    "dh.SetName(hname)"
   ]
  },
  {
   "cell_type": "markdown",
   "id": "noticed-landscape",
   "metadata": {},
   "source": [
    "Toy observed data\n",
    "----------------"
   ]
  },
  {
   "cell_type": "code",
   "execution_count": 7,
   "id": "ongoing-claim",
   "metadata": {
    "collapsed": false,
    "execution": {
     "iopub.execute_input": "2021-04-03T09:13:01.633413Z",
     "iopub.status.busy": "2021-04-03T09:13:01.632920Z",
     "iopub.status.idle": "2021-04-03T09:13:01.740571Z",
     "shell.execute_reply": "2021-04-03T09:13:01.741026Z"
    }
   },
   "outputs": [],
   "source": [
    "x.setBins(50)\n",
    "hname = \"obsData\"\n",
    "dh_obs = R.RooDataHist(hname, hname, R.RooArgSet(x), data_obs).createHistogram(hname, x)\n",
    "dh_obs.SetName(hname)"
   ]
  },
  {
   "cell_type": "markdown",
   "id": "expected-japanese",
   "metadata": {},
   "source": [
    "Background variations\n",
    "----------------\n",
    "Variation up"
   ]
  },
  {
   "cell_type": "code",
   "execution_count": 8,
   "id": "perfect-worth",
   "metadata": {
    "collapsed": false,
    "execution": {
     "iopub.execute_input": "2021-04-03T09:13:01.745718Z",
     "iopub.status.busy": "2021-04-03T09:13:01.744992Z",
     "iopub.status.idle": "2021-04-03T09:13:01.853881Z",
     "shell.execute_reply": "2021-04-03T09:13:01.854469Z"
    }
   },
   "outputs": [],
   "source": [
    "a0 = R.RooRealVar(\"a0\", \"a0\", p0*1.02)\n",
    "a1 = R.RooRealVar(\"a1\", \"a1\", p1*0.99)\n",
    "bkg = R.RooPolynomial(\"bkg_up\", \"Background\", x, R.RooArgList(a0, a1))"
   ]
  },
  {
   "cell_type": "markdown",
   "id": "developing-interim",
   "metadata": {},
   "source": [
    "Generate pseudo data via sampling"
   ]
  },
  {
   "cell_type": "code",
   "execution_count": 9,
   "id": "derived-fetish",
   "metadata": {
    "collapsed": false,
    "execution": {
     "iopub.execute_input": "2021-04-03T09:13:01.943989Z",
     "iopub.status.busy": "2021-04-03T09:13:01.943665Z",
     "iopub.status.idle": "2021-04-03T09:13:02.050775Z",
     "shell.execute_reply": "2021-04-03T09:13:02.051046Z"
    }
   },
   "outputs": [],
   "source": [
    "data = bkg.generate(R.RooArgSet(x), nevents)\n",
    "x.setBins(50)\n",
    "hname = \"bkg_up\"\n",
    "dh_up = R.RooDataHist(hname, hname, R.RooArgSet(x), data).createHistogram(hname, x)\n",
    "dh_up.SetName(hname)"
   ]
  },
  {
   "cell_type": "markdown",
   "id": "running-barcelona",
   "metadata": {},
   "source": [
    "Variation up"
   ]
  },
  {
   "cell_type": "code",
   "execution_count": 10,
   "id": "placed-appendix",
   "metadata": {
    "collapsed": false,
    "execution": {
     "iopub.execute_input": "2021-04-03T09:13:02.054335Z",
     "iopub.status.busy": "2021-04-03T09:13:02.053882Z",
     "iopub.status.idle": "2021-04-03T09:13:02.160137Z",
     "shell.execute_reply": "2021-04-03T09:13:02.160597Z"
    }
   },
   "outputs": [],
   "source": [
    "a0 = R.RooRealVar(\"a0\", \"a0\", p0*0.98)\n",
    "a1 = R.RooRealVar(\"a1\", \"a1\", p1*1.01)\n",
    "bkg = R.RooPolynomial(\"bkg_dn\", \"Background\", x, R.RooArgList(a0, a1))"
   ]
  },
  {
   "cell_type": "markdown",
   "id": "generic-freedom",
   "metadata": {},
   "source": [
    "Generate pseudo data via sampling"
   ]
  },
  {
   "cell_type": "code",
   "execution_count": 11,
   "id": "amended-horizontal",
   "metadata": {
    "collapsed": false,
    "execution": {
     "iopub.execute_input": "2021-04-03T09:13:02.241922Z",
     "iopub.status.busy": "2021-04-03T09:13:02.241606Z",
     "iopub.status.idle": "2021-04-03T09:13:02.348752Z",
     "shell.execute_reply": "2021-04-03T09:13:02.349153Z"
    }
   },
   "outputs": [],
   "source": [
    "data = bkg.generate(R.RooArgSet(x), nevents)\n",
    "x.setBins(50)\n",
    "hname = \"bkg_dn\"\n",
    "dh_dn = R.RooDataHist(hname, hname, R.RooArgSet(x), data).createHistogram(hname, x)\n",
    "dh_dn.SetName(hname)\n",
    "\n",
    "tfout.cd()\n",
    "dh_obs.Write()\n",
    "dh.Write()\n",
    "dh_up.Write()\n",
    "dh_dn.Write()\n",
    "\n",
    "tfout.Close()"
   ]
  },
  {
   "cell_type": "markdown",
   "id": "periodic-disposition",
   "metadata": {},
   "source": [
    "Draw all canvases "
   ]
  },
  {
   "cell_type": "code",
   "execution_count": 12,
   "id": "primary-thousand",
   "metadata": {
    "collapsed": false,
    "execution": {
     "iopub.execute_input": "2021-04-03T09:13:02.355749Z",
     "iopub.status.busy": "2021-04-03T09:13:02.355215Z",
     "iopub.status.idle": "2021-04-03T09:13:02.462888Z",
     "shell.execute_reply": "2021-04-03T09:13:02.463709Z"
    }
   },
   "outputs": [],
   "source": [
    "from ROOT import gROOT \n",
    "gROOT.GetListOfCanvases().Draw()"
   ]
  }
 ],
 "metadata": {
  "kernelspec": {
   "display_name": "Python 3",
   "language": "python",
   "name": "python3"
  },
  "language_info": {
   "codemirror_mode": {
    "name": "ipython",
    "version": 3
   },
   "file_extension": ".py",
   "mimetype": "text/x-python",
   "name": "python",
   "nbconvert_exporter": "python",
   "pygments_lexer": "ipython3",
   "version": "3.8.8"
  }
 },
 "nbformat": 4,
 "nbformat_minor": 5
}
