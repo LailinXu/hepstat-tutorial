{
 "cells": [
  {
   "cell_type": "markdown",
   "id": "joined-fireplace",
   "metadata": {},
   "source": [
    "# Hepstat_Tutorial_Genhists\n",
    "\n",
    "Generate some histograms\n",
    "  * Signal samples with different mass points, assuming Gaussian shapes\n",
    "  * Background samples: nominal and up/down variations, a simple ploynomial\n",
    "\n",
    "\n",
    "\n",
    "\n",
    "**Author:** Lailin XU  \n",
    "<i><small>This notebook tutorial was automatically generated with <a href= \"https://github.com/root-project/root/blob/master/documentation/doxygen/converttonotebook.py\">ROOTBOOK-izer</a> from the macro found in the ROOT repository  on Saturday, April 03, 2021 at 04:19 PM.</small></i>"
   ]
  },
  {
   "cell_type": "code",
   "execution_count": 1,
   "id": "indonesian-effectiveness",
   "metadata": {
    "collapsed": false,
    "execution": {
     "iopub.execute_input": "2021-04-03T08:19:29.439263Z",
     "iopub.status.busy": "2021-04-03T08:19:29.438466Z",
     "iopub.status.idle": "2021-04-03T08:19:29.440593Z",
     "shell.execute_reply": "2021-04-03T08:19:29.441133Z"
    }
   },
   "outputs": [],
   "source": [
    "import os"
   ]
  },
  {
   "cell_type": "markdown",
   "id": "familiar-rouge",
   "metadata": {},
   "source": [
    "Import the ROOT libraries"
   ]
  },
  {
   "cell_type": "code",
   "execution_count": 2,
   "id": "intimate-conflict",
   "metadata": {
    "collapsed": false,
    "execution": {
     "iopub.execute_input": "2021-04-03T08:19:29.445533Z",
     "iopub.status.busy": "2021-04-03T08:19:29.444895Z",
     "iopub.status.idle": "2021-04-03T08:19:29.981094Z",
     "shell.execute_reply": "2021-04-03T08:19:29.981304Z"
    }
   },
   "outputs": [
    {
     "name": "stdout",
     "output_type": "stream",
     "text": [
      "Welcome to JupyROOT 6.22/07\n"
     ]
    }
   ],
   "source": [
    "import ROOT as R\n",
    "from math import pow, sqrt\n",
    "R.gROOT.SetStyle(\"ATLAS\")\n",
    "\n",
    "odir = \"data\"\n",
    "if not os.path.isdir(odir): os.makedirs(odir)\n",
    "tfout = R.TFile(\"data/h4l_toy_hists.root\", \"RECREATE\")"
   ]
  },
  {
   "cell_type": "markdown",
   "id": "rolled-district",
   "metadata": {},
   "source": [
    "Signal samples\n",
    "----------------"
   ]
  },
  {
   "cell_type": "code",
   "execution_count": 3,
   "id": "continuing-percentage",
   "metadata": {
    "collapsed": false,
    "execution": {
     "iopub.execute_input": "2021-04-03T08:19:29.983249Z",
     "iopub.status.busy": "2021-04-03T08:19:29.982953Z",
     "iopub.status.idle": "2021-04-03T08:19:30.090063Z",
     "shell.execute_reply": "2021-04-03T08:19:30.090432Z"
    }
   },
   "outputs": [],
   "source": [
    "nevents = 100000\n",
    "mHs = [120., 125., 130., 135., 140., 145., 150.]"
   ]
  },
  {
   "cell_type": "markdown",
   "id": "raising-success",
   "metadata": {},
   "source": [
    "Gaussian"
   ]
  },
  {
   "cell_type": "code",
   "execution_count": 4,
   "id": "funny-recommendation",
   "metadata": {
    "collapsed": false,
    "execution": {
     "iopub.execute_input": "2021-04-03T08:19:30.320116Z",
     "iopub.status.busy": "2021-04-03T08:19:30.280362Z",
     "iopub.status.idle": "2021-04-03T08:19:30.427665Z",
     "shell.execute_reply": "2021-04-03T08:19:30.428057Z"
    }
   },
   "outputs": [
    {
     "name": "stdout",
     "output_type": "stream",
     "text": [
      "\n",
      "\u001b[1mRooFit v3.60 -- Developed by Wouter Verkerke and David Kirkby\u001b[0m \n",
      "                Copyright (C) 2000-2013 NIKHEF, University of California & Stanford University\n",
      "                All rights reserved, please read http://roofit.sourceforge.net/license.txt\n",
      "\n"
     ]
    }
   ],
   "source": [
    "for mH in mHs:\n",
    "  x = R.RooRealVar(\"x\", \"x\", 110, 160)\n",
    "\n",
    "  mean = R.RooRealVar(\"mean\", \"mean of gaussians\", mH)\n",
    "  wH = mH*0.01\n",
    "  sigma = R.RooRealVar(\"sigma\", \"width of gaussians\", wH)\n",
    "\n",
    "  sig = R.RooGaussian(\"sig\", \"Signal\", x, mean, sigma)\n",
    "\n",
    "  # Generate pseudo data via sampling\n",
    "  data = sig.generate(x, nevents)\n",
    "  x.setBins(50)\n",
    "  hname = \"sig_{:d}\".format(int(mH))\n",
    "  dh = R.RooDataHist(hname, hname, R.RooArgSet(x), data).createHistogram(hname, x)\n",
    "  dh.SetName(hname)\n",
    "\n",
    "  tfout.cd()\n",
    "  dh.Write()"
   ]
  },
  {
   "cell_type": "markdown",
   "id": "deluxe-color",
   "metadata": {},
   "source": [
    "Nominal bkg\n",
    "----------------"
   ]
  },
  {
   "cell_type": "code",
   "execution_count": 5,
   "id": "closing-atlantic",
   "metadata": {
    "collapsed": false,
    "execution": {
     "iopub.execute_input": "2021-04-03T08:19:30.444762Z",
     "iopub.status.busy": "2021-04-03T08:19:30.444297Z",
     "iopub.status.idle": "2021-04-03T08:19:30.553468Z",
     "shell.execute_reply": "2021-04-03T08:19:30.554371Z"
    }
   },
   "outputs": [],
   "source": [
    "x = R.RooRealVar(\"x\", \"x\", 110, 160)\n",
    "p0 = 480.\n",
    "p1 = -2.5\n",
    "a0 = R.RooRealVar(\"a0\", \"a0\", p0)\n",
    "a1 = R.RooRealVar(\"a1\", \"a1\", p1)\n",
    "bkg = R.RooPolynomial(\"bkg\", \"Background\", x, R.RooArgList(a0, a1))"
   ]
  },
  {
   "cell_type": "markdown",
   "id": "english-administration",
   "metadata": {},
   "source": [
    "Generate pseudo data via sampling"
   ]
  },
  {
   "cell_type": "code",
   "execution_count": 6,
   "id": "civilian-conflict",
   "metadata": {
    "collapsed": false,
    "execution": {
     "iopub.execute_input": "2021-04-03T08:19:30.688127Z",
     "iopub.status.busy": "2021-04-03T08:19:30.687822Z",
     "iopub.status.idle": "2021-04-03T08:19:30.795502Z",
     "shell.execute_reply": "2021-04-03T08:19:30.795129Z"
    }
   },
   "outputs": [],
   "source": [
    "data = bkg.generate(x, nevents)\n",
    "data_obs = bkg.generate(x, nevents)\n",
    "x.setBins(50)\n",
    "hname = \"bkg\"\n",
    "dh = R.RooDataHist(hname, hname, R.RooArgSet(x), data).createHistogram(hname, x)\n",
    "dh.SetName(hname)"
   ]
  },
  {
   "cell_type": "markdown",
   "id": "moved-nomination",
   "metadata": {},
   "source": [
    "Toy observed data\n",
    "----------------"
   ]
  },
  {
   "cell_type": "code",
   "execution_count": 7,
   "id": "signed-grocery",
   "metadata": {
    "collapsed": false,
    "execution": {
     "iopub.execute_input": "2021-04-03T08:19:30.809997Z",
     "iopub.status.busy": "2021-04-03T08:19:30.809567Z",
     "iopub.status.idle": "2021-04-03T08:19:30.918201Z",
     "shell.execute_reply": "2021-04-03T08:19:30.918896Z"
    }
   },
   "outputs": [],
   "source": [
    "x.setBins(50)\n",
    "hname = \"obsData\"\n",
    "dh = R.RooDataHist(hname, hname, R.RooArgSet(x), data_obs).createHistogram(hname, x)\n",
    "dh.SetName(hname)"
   ]
  },
  {
   "cell_type": "markdown",
   "id": "dutch-operation",
   "metadata": {},
   "source": [
    "Background variations\n",
    "----------------\n",
    "Variation up"
   ]
  },
  {
   "cell_type": "code",
   "execution_count": 8,
   "id": "general-glory",
   "metadata": {
    "collapsed": false,
    "execution": {
     "iopub.execute_input": "2021-04-03T08:19:30.924320Z",
     "iopub.status.busy": "2021-04-03T08:19:30.923613Z",
     "iopub.status.idle": "2021-04-03T08:19:31.033123Z",
     "shell.execute_reply": "2021-04-03T08:19:31.033736Z"
    }
   },
   "outputs": [],
   "source": [
    "a0 = R.RooRealVar(\"a0\", \"a0\", p0*1.02)\n",
    "a1 = R.RooRealVar(\"a1\", \"a1\", p1*0.99)\n",
    "bkg = R.RooPolynomial(\"bkg_up\", \"Background\", x, R.RooArgList(a0, a1))"
   ]
  },
  {
   "cell_type": "markdown",
   "id": "german-theology",
   "metadata": {},
   "source": [
    "Generate pseudo data via sampling"
   ]
  },
  {
   "cell_type": "code",
   "execution_count": 9,
   "id": "adjusted-halloween",
   "metadata": {
    "collapsed": false,
    "execution": {
     "iopub.execute_input": "2021-04-03T08:19:31.124373Z",
     "iopub.status.busy": "2021-04-03T08:19:31.124058Z",
     "iopub.status.idle": "2021-04-03T08:19:31.231269Z",
     "shell.execute_reply": "2021-04-03T08:19:31.231596Z"
    }
   },
   "outputs": [],
   "source": [
    "data = bkg.generate(x, nevents)\n",
    "x.setBins(50)\n",
    "hname = \"bkg_up\"\n",
    "dh_up = R.RooDataHist(hname, hname, R.RooArgSet(x), data).createHistogram(hname, x)\n",
    "dh_up.SetName(hname)"
   ]
  },
  {
   "cell_type": "markdown",
   "id": "every-spine",
   "metadata": {},
   "source": [
    "Variation up"
   ]
  },
  {
   "cell_type": "code",
   "execution_count": 10,
   "id": "agricultural-difference",
   "metadata": {
    "collapsed": false,
    "execution": {
     "iopub.execute_input": "2021-04-03T08:19:31.235355Z",
     "iopub.status.busy": "2021-04-03T08:19:31.234835Z",
     "iopub.status.idle": "2021-04-03T08:19:31.342644Z",
     "shell.execute_reply": "2021-04-03T08:19:31.343114Z"
    }
   },
   "outputs": [],
   "source": [
    "a0 = R.RooRealVar(\"a0\", \"a0\", p0*0.98)\n",
    "a1 = R.RooRealVar(\"a1\", \"a1\", p1*1.01)\n",
    "bkg = R.RooPolynomial(\"bkg_dn\", \"Background\", x, R.RooArgList(a0, a1))"
   ]
  },
  {
   "cell_type": "markdown",
   "id": "chief-corps",
   "metadata": {},
   "source": [
    "Generate pseudo data via sampling"
   ]
  },
  {
   "cell_type": "code",
   "execution_count": 11,
   "id": "described-watershed",
   "metadata": {
    "collapsed": false,
    "execution": {
     "iopub.execute_input": "2021-04-03T08:19:31.435681Z",
     "iopub.status.busy": "2021-04-03T08:19:31.435363Z",
     "iopub.status.idle": "2021-04-03T08:19:31.542482Z",
     "shell.execute_reply": "2021-04-03T08:19:31.542851Z"
    }
   },
   "outputs": [],
   "source": [
    "data = bkg.generate(x, nevents)\n",
    "x.setBins(50)\n",
    "hname = \"bkg_dn\"\n",
    "dh_dn = R.RooDataHist(hname, hname, R.RooArgSet(x), data).createHistogram(hname, x)\n",
    "dh_dn.SetName(hname)\n",
    "\n",
    "tfout.cd()\n",
    "dh.Write()\n",
    "dh_up.Write()\n",
    "dh_dn.Write()\n",
    "\n",
    "tfout.Close()"
   ]
  },
  {
   "cell_type": "markdown",
   "id": "naval-david",
   "metadata": {},
   "source": [
    "Draw all canvases "
   ]
  },
  {
   "cell_type": "code",
   "execution_count": 12,
   "id": "monthly-image",
   "metadata": {
    "collapsed": false,
    "execution": {
     "iopub.execute_input": "2021-04-03T08:19:31.549499Z",
     "iopub.status.busy": "2021-04-03T08:19:31.548906Z",
     "iopub.status.idle": "2021-04-03T08:19:31.659528Z",
     "shell.execute_reply": "2021-04-03T08:19:31.660241Z"
    }
   },
   "outputs": [],
   "source": [
    "from ROOT import gROOT \n",
    "gROOT.GetListOfCanvases().Draw()"
   ]
  }
 ],
 "metadata": {
  "kernelspec": {
   "display_name": "Python 3",
   "language": "python",
   "name": "python3"
  },
  "language_info": {
   "codemirror_mode": {
    "name": "ipython",
    "version": 3
   },
   "file_extension": ".py",
   "mimetype": "text/x-python",
   "name": "python",
   "nbconvert_exporter": "python",
   "pygments_lexer": "ipython3",
   "version": "3.8.8"
  }
 },
 "nbformat": 4,
 "nbformat_minor": 5
}
