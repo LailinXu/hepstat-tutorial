{
 "cells": [
  {
   "cell_type": "markdown",
   "id": "lovely-costa",
   "metadata": {},
   "source": [
    "# Hepstat_Tutorial_Hypo_P 0\n",
    "RooStats example: compute the p0 and significance (Hypothesis Test) \n",
    "The signal is a simple Gaussian and the background is a smoothly falling spectrum. To estimate the significance,\n",
    "we need to perform an hypothesis test. We want to disprove the null model, i.e the background only model against the alternate model,\n",
    "the background plus the signal. In RooStats, we do this by defining two two ModelConfig objects, one for the null model\n",
    "(the background only model in this case) and one for the alternate model (the signal plus background).\n",
    "\n",
    " Objectives of this tutorial are the following:\n",
    " * Compute the null hypo significance using the Asymptotic calculator\n",
    " * Compute the significance by hand using the asymptotic formula\n",
    " * Compute the significance using frequentist method\n",
    " * Plot the p0 scan as a function of the signal mass\n",
    "\n",
    "\n",
    "Based on the example [here](https://www.nikhef.nl/~vcroft/RooStats.html)\n",
    "\n",
    "\n",
    "**Author:** Lailin XU  \n",
    "<i><small>This notebook tutorial was automatically generated with <a href= \"https://github.com/root-project/root/blob/master/documentation/doxygen/converttonotebook.py\">ROOTBOOK-izer</a> from the macro found in the ROOT repository  on Monday, April 05, 2021 at 09:02 PM.</small></i>"
   ]
  },
  {
   "cell_type": "code",
   "execution_count": 1,
   "id": "alleged-steal",
   "metadata": {
    "collapsed": false,
    "execution": {
     "iopub.execute_input": "2021-04-05T13:02:36.979590Z",
     "iopub.status.busy": "2021-04-05T13:02:36.978786Z",
     "iopub.status.idle": "2021-04-05T13:02:36.980956Z",
     "shell.execute_reply": "2021-04-05T13:02:36.981388Z"
    }
   },
   "outputs": [],
   "source": [
    "import os"
   ]
  },
  {
   "cell_type": "markdown",
   "id": "damaged-powell",
   "metadata": {},
   "source": [
    "Import the ROOT libraries"
   ]
  },
  {
   "cell_type": "code",
   "execution_count": 2,
   "id": "sharp-flour",
   "metadata": {
    "collapsed": false,
    "execution": {
     "iopub.execute_input": "2021-04-05T13:02:36.985222Z",
     "iopub.status.busy": "2021-04-05T13:02:36.984614Z",
     "iopub.status.idle": "2021-04-05T13:02:37.531592Z",
     "shell.execute_reply": "2021-04-05T13:02:37.531774Z"
    }
   },
   "outputs": [
    {
     "name": "stdout",
     "output_type": "stream",
     "text": [
      "Welcome to JupyROOT 6.22/07\n"
     ]
    }
   ],
   "source": [
    "import ROOT as R\n",
    "from math import pow, sqrt, fabs\n",
    "R.gROOT.SetStyle(\"ATLAS\")"
   ]
  },
  {
   "cell_type": "markdown",
   "id": "color-underground",
   "metadata": {},
   "source": [
    "Prepare the model\n",
    "=======================\n",
    "Signal mass point"
   ]
  },
  {
   "cell_type": "code",
   "execution_count": 3,
   "id": "exact-share",
   "metadata": {
    "collapsed": false,
    "execution": {
     "iopub.execute_input": "2021-04-05T13:02:37.533275Z",
     "iopub.status.busy": "2021-04-05T13:02:37.532975Z",
     "iopub.status.idle": "2021-04-05T13:02:37.640618Z",
     "shell.execute_reply": "2021-04-05T13:02:37.640973Z"
    }
   },
   "outputs": [],
   "source": [
    "mass = 125"
   ]
  },
  {
   "cell_type": "markdown",
   "id": "prerequisite-mention",
   "metadata": {},
   "source": [
    "Worksapce"
   ]
  },
  {
   "cell_type": "code",
   "execution_count": 4,
   "id": "agricultural-belfast",
   "metadata": {
    "collapsed": false,
    "execution": {
     "iopub.execute_input": "2021-04-05T13:02:37.644828Z",
     "iopub.status.busy": "2021-04-05T13:02:37.644331Z",
     "iopub.status.idle": "2021-04-05T13:02:37.755439Z",
     "shell.execute_reply": "2021-04-05T13:02:37.756314Z"
    }
   },
   "outputs": [],
   "source": [
    "wsfile = \"test_hf_ws_{}.root\".format(mass)\n",
    "if not os.path.isfile(wsfile):\n",
    "  print(\"Error! No ws files found: {}\".format(wsfile)) \n",
    "  pyhist = \"hepstat_tutorial_histfactory_hists.py\"\n",
    "  if os.path.isfile(pyhist):\n",
    "    cmd = \"python3 {0} {1]\".format(pyhist, mass)\n",
    "    os.system(cmd)"
   ]
  },
  {
   "cell_type": "markdown",
   "id": "constant-bunny",
   "metadata": {},
   "source": [
    "Open the workpace"
   ]
  },
  {
   "cell_type": "code",
   "execution_count": 5,
   "id": "right-updating",
   "metadata": {
    "collapsed": false,
    "execution": {
     "iopub.execute_input": "2021-04-05T13:02:38.153020Z",
     "iopub.status.busy": "2021-04-05T13:02:38.152695Z",
     "iopub.status.idle": "2021-04-05T13:02:38.260223Z",
     "shell.execute_reply": "2021-04-05T13:02:38.260632Z"
    }
   },
   "outputs": [
    {
     "name": "stdout",
     "output_type": "stream",
     "text": [
      "\n",
      "\u001b[1mRooFit v3.60 -- Developed by Wouter Verkerke and David Kirkby\u001b[0m \n",
      "                Copyright (C) 2000-2013 NIKHEF, University of California & Stanford University\n",
      "                All rights reserved, please read http://roofit.sourceforge.net/license.txt\n",
      "\n"
     ]
    }
   ],
   "source": [
    "tf = R.TFile.Open(wsfile, \"READ\")\n",
    "w = tf.Get(\"myws\")"
   ]
  },
  {
   "cell_type": "markdown",
   "id": "classical-antarctica",
   "metadata": {},
   "source": [
    "data"
   ]
  },
  {
   "cell_type": "code",
   "execution_count": 6,
   "id": "informal-confusion",
   "metadata": {
    "collapsed": false,
    "execution": {
     "iopub.execute_input": "2021-04-05T13:02:38.273127Z",
     "iopub.status.busy": "2021-04-05T13:02:38.272680Z",
     "iopub.status.idle": "2021-04-05T13:02:38.383339Z",
     "shell.execute_reply": "2021-04-05T13:02:38.384381Z"
    }
   },
   "outputs": [],
   "source": [
    "data = w.obj(\"obsData\")"
   ]
  },
  {
   "cell_type": "markdown",
   "id": "compliant-official",
   "metadata": {},
   "source": [
    "The S+B model (Alternative hypo)"
   ]
  },
  {
   "cell_type": "code",
   "execution_count": 7,
   "id": "shaped-container",
   "metadata": {
    "collapsed": false,
    "execution": {
     "iopub.execute_input": "2021-04-05T13:02:38.465397Z",
     "iopub.status.busy": "2021-04-05T13:02:38.465074Z",
     "iopub.status.idle": "2021-04-05T13:02:38.572322Z",
     "shell.execute_reply": "2021-04-05T13:02:38.572756Z"
    }
   },
   "outputs": [],
   "source": [
    "sbModel = w.obj(\"ModelConfig\")\n",
    "poi = sbModel.GetParametersOfInterest().first()\n",
    "poi.setVal(1.)\n",
    "sbModel.SetSnapshot(R.RooArgSet(poi))"
   ]
  },
  {
   "cell_type": "markdown",
   "id": "ruled-greensboro",
   "metadata": {},
   "source": [
    "PDF"
   ]
  },
  {
   "cell_type": "code",
   "execution_count": 8,
   "id": "opposite-vitamin",
   "metadata": {
    "collapsed": false,
    "execution": {
     "iopub.execute_input": "2021-04-05T13:02:38.583710Z",
     "iopub.status.busy": "2021-04-05T13:02:38.583217Z",
     "iopub.status.idle": "2021-04-05T13:02:38.694034Z",
     "shell.execute_reply": "2021-04-05T13:02:38.694838Z"
    }
   },
   "outputs": [],
   "source": [
    "pdf = sbModel.GetPdf()"
   ]
  },
  {
   "cell_type": "markdown",
   "id": "unavailable-strike",
   "metadata": {},
   "source": [
    "save snapshot before any fit has been done"
   ]
  },
  {
   "cell_type": "code",
   "execution_count": 9,
   "id": "thirty-error",
   "metadata": {
    "collapsed": false,
    "execution": {
     "iopub.execute_input": "2021-04-05T13:02:38.721789Z",
     "iopub.status.busy": "2021-04-05T13:02:38.721165Z",
     "iopub.status.idle": "2021-04-05T13:02:38.833279Z",
     "shell.execute_reply": "2021-04-05T13:02:38.834081Z"
    }
   },
   "outputs": [
    {
     "data": {
      "text/plain": [
       "True"
      ]
     },
     "execution_count": 1,
     "metadata": {},
     "output_type": "execute_result"
    }
   ],
   "source": [
    "params = pdf.getParameters(data)\n",
    "snapshotName_init = \"snapshot_paramsVals_initial\"\n",
    "w.saveSnapshot(snapshotName_init, params)"
   ]
  },
  {
   "cell_type": "markdown",
   "id": "through-usage",
   "metadata": {},
   "source": [
    "The B model (Null hypo)"
   ]
  },
  {
   "cell_type": "code",
   "execution_count": 10,
   "id": "vanilla-treasure",
   "metadata": {
    "collapsed": false,
    "execution": {
     "iopub.execute_input": "2021-04-05T13:02:38.865270Z",
     "iopub.status.busy": "2021-04-05T13:02:38.864640Z",
     "iopub.status.idle": "2021-04-05T13:02:38.975843Z",
     "shell.execute_reply": "2021-04-05T13:02:38.976650Z"
    }
   },
   "outputs": [
    {
     "name": "stdout",
     "output_type": "stream",
     "text": [
      "\n",
      "RooWorkspace(myws) SR workspace contents\n",
      "\n",
      "variables\n",
      "---------\n",
      "(Lumi,alpha_background_shape,alpha_signal_norm_uncertainty,binWidth_obs_x_SR_0,binWidth_obs_x_SR_1,mu,nom_alpha_background_shape,nom_alpha_signal_norm_uncertainty,nominalLumi,obs_x_SR,weightVar)\n",
      "\n",
      "p.d.f.s\n",
      "-------\n",
      "RooRealSumPdf::SR_model[ binWidth_obs_x_SR_0 * L_x_signal_SR_overallSyst_x_Exp + binWidth_obs_x_SR_1 * L_x_background_SR_overallSyst_x_HistSyst ] = 1.329\n",
      "RooGaussian::alpha_background_shapeConstraint[ x=alpha_background_shape mean=nom_alpha_background_shape sigma=1 ] = 1\n",
      "RooGaussian::alpha_signal_norm_uncertaintyConstraint[ x=alpha_signal_norm_uncertainty mean=nom_alpha_signal_norm_uncertainty sigma=1 ] = 1\n",
      "RooGaussian::lumiConstraint[ x=Lumi mean=nominalLumi sigma=0.02 ] = 1\n",
      "RooProdPdf::model_SR[ lumiConstraint * alpha_signal_norm_uncertaintyConstraint * alpha_background_shapeConstraint * SR_model(obs_x_SR) ] = 1.329\n",
      "\n",
      "functions\n",
      "--------\n",
      "RooProduct::L_x_background_SR_overallSyst_x_HistSyst[ Lumi * background_SR_overallSyst_x_HistSyst ] = 1.329\n",
      "RooProduct::L_x_signal_SR_overallSyst_x_Exp[ Lumi * signal_SR_overallSyst_x_Exp ] = 0\n",
      "PiecewiseInterpolation::background_SR_Hist_alpha[ ] = 1.329\n",
      "RooHistFunc::background_SR_Hist_alpha_0high[ depList=(obs_x_SR) depList=(obs_x_SR) ] = 1.352\n",
      "RooHistFunc::background_SR_Hist_alpha_0low[ depList=(obs_x_SR) depList=(obs_x_SR) ] = 1.474\n",
      "RooHistFunc::background_SR_Hist_alphanominal[ depList=(obs_x_SR) depList=(obs_x_SR) ] = 1.329\n",
      "RooProduct::background_SR_overallSyst_x_HistSyst[ background_SR_Hist_alpha * background_SR_epsilon ] = 1.329\n",
      "RooStats::HistFactory::FlexibleInterpVar::signal_SR_epsilon[ paramList=(alpha_signal_norm_uncertainty) ] = 1\n",
      "RooHistFunc::signal_SR_nominal[ depList=(obs_x_SR) depList=(obs_x_SR) ] = 0\n",
      "RooProduct::signal_SR_overallNorm_x_sigma_epsilon[ mu * signal_SR_epsilon ] = 0\n",
      "RooProduct::signal_SR_overallSyst_x_Exp[ signal_SR_nominal * signal_SR_overallNorm_x_sigma_epsilon ] = 0\n",
      "\n",
      "datasets\n",
      "--------\n",
      "RooDataSet::asimovData(obs_x_SR)\n",
      "RooDataSet::obsData(obs_x_SR)\n",
      "\n",
      "embedded datasets (in pdfs and functions)\n",
      "-----------------------------------------\n",
      "RooDataHist::signal_SRnominalDHist(obs_x_SR)\n",
      "RooDataHist::background_SR_Hist_alphanominalDHist(obs_x_SR)\n",
      "RooDataHist::background_SR_Hist_alpha_0lowDHist(obs_x_SR)\n",
      "RooDataHist::background_SR_Hist_alpha_0highDHist(obs_x_SR)\n",
      "\n",
      "parameter snapshots\n",
      "-------------------\n",
      "NominalParamValues = (Lumi=1[C],nominalLumi=1[C],alpha_signal_norm_uncertainty=0,nom_alpha_signal_norm_uncertainty=0[C],mu=1,obs_x_SR=159.5,alpha_background_shape=0,nom_alpha_background_shape=0[C],binWidth_obs_x_SR_0=1[C],binWidth_obs_x_SR_1=1[C],weightVar=0)\n",
      "ModelConfig__snapshot = (mu=1)\n",
      "snapshot_paramsVals_initial = (Lumi=1[C],nominalLumi=1[C],alpha_signal_norm_uncertainty=0,nom_alpha_signal_norm_uncertainty=0[C],mu=1,alpha_background_shape=0,nom_alpha_background_shape=0[C],binWidth_obs_x_SR_0=1[C],binWidth_obs_x_SR_1=1[C])\n",
      "B_only_model__snapshot = (mu=0)\n",
      "\n",
      "named sets\n",
      "----------\n",
      "B_only_model__snapshot:(mu)\n",
      "ModelConfig_GlobalObservables:(nom_alpha_signal_norm_uncertainty,nom_alpha_background_shape)\n",
      "ModelConfig_NuisParams:(alpha_background_shape,alpha_signal_norm_uncertainty)\n",
      "ModelConfig_Observables:(obs_x_SR)\n",
      "ModelConfig_POI:(mu)\n",
      "ModelConfig__snapshot:(mu)\n",
      "coefList:(binWidth_obs_x_SR_0,binWidth_obs_x_SR_1)\n",
      "constraintTerms:(lumiConstraint,alpha_signal_norm_uncertaintyConstraint,alpha_background_shapeConstraint)\n",
      "globalObservables:(nom_alpha_signal_norm_uncertainty,nom_alpha_background_shape)\n",
      "likelihoodTerms:(SR_model)\n",
      "obsAndWeight:(weightVar,obs_x_SR)\n",
      "observables:(obs_x_SR)\n",
      "observablesSet:(obs_x_SR)\n",
      "shapeList:(L_x_signal_SR_overallSyst_x_Exp,L_x_background_SR_overallSyst_x_HistSyst)\n",
      "\n",
      "generic objects\n",
      "---------------\n",
      "RooStats::ModelConfig::ModelConfig\n",
      "\n"
     ]
    }
   ],
   "source": [
    "bModel = sbModel.Clone()\n",
    "bModel.SetName(\"B_only_model\")\n",
    "poi.setVal(0)\n",
    "bModel.SetSnapshot(R.RooArgSet(poi))\n",
    "\n",
    "w.Print()"
   ]
  },
  {
   "cell_type": "markdown",
   "id": "honey-original",
   "metadata": {},
   "source": [
    "Asymptotic calculator\n",
    "=======================\n",
    "The Asymptotic calculator it is based on the Profile Likelihood test statistics,\n",
    "We will do:\n",
    " * create the AsymptoticCalculator class using the two models and the data set;\n",
    " * run the test of hypothesis using the GetHypoTest function.\n",
    " * Look at the result obtained as a HypoTestResult object"
   ]
  },
  {
   "cell_type": "code",
   "execution_count": 11,
   "id": "warming-feature",
   "metadata": {
    "collapsed": false,
    "execution": {
     "iopub.execute_input": "2021-04-05T13:02:39.039808Z",
     "iopub.status.busy": "2021-04-05T13:02:39.039341Z",
     "iopub.status.idle": "2021-04-05T13:02:39.149437Z",
     "shell.execute_reply": "2021-04-05T13:02:39.150146Z"
    }
   },
   "outputs": [
    {
     "name": "stdout",
     "output_type": "stream",
     "text": [
      "[#0] PROGRESS:Eval -- AsymptoticCalculator::Initialize....\n",
      "[#0] PROGRESS:Eval -- AsymptoticCalculator::Initialize - Find  best unconditional NLL on observed data\n",
      "AsymptoticCalculator::EvaluateNLL  ........ using Minuit / Migrad with strategy  1 and tolerance 1\n",
      " **********\n",
      " **    1 **SET PRINT           0\n",
      " **********\n",
      " **********\n",
      " **    2 **SET NOGRAD\n",
      " **********\n",
      " PARAMETER DEFINITIONS:\n",
      "    NO.   NAME         VALUE      STEP SIZE      LIMITS\n",
      "     1 alpha_background_shape   0.00000e+00  1.00000e+00   -5.00000e+00  5.00000e+00\n",
      "     2 alpha_signal_norm_uncertainty   0.00000e+00  1.00000e+00   -5.00000e+00  5.00000e+00\n",
      "     3 mu           0.00000e+00  3.00000e-01    0.00000e+00  3.00000e+00\n",
      " MINUIT WARNING IN PARAM DEF\n",
      " ============== STARTING VALUE IS AT LIMIT.\n",
      " MINUIT WARNING IN PARAMETR\n",
      " ============== VARIABLE3 IS AT ITS LOWER ALLOWED LIMIT.\n",
      " MINUIT WARNING IN PARAMETR\n",
      " ============== VARIABLE3 BROUGHT BACK INSIDE LIMITS.\n",
      " **********\n",
      " **    3 **SET ERR         0.5\n",
      " **********\n",
      " **********\n",
      " **    4 **SET PRINT           0\n",
      " **********\n",
      " **********\n",
      " **    5 **SET STR           1\n",
      " **********\n",
      " **********\n",
      " **    6 **MIGRAD        1500           1\n",
      " **********\n",
      " MINUIT WARNING IN MIGrad    \n",
      " ============== VARIABLE3 IS AT ITS LOWER ALLOWED LIMIT.\n",
      " MIGRAD MINIMIZATION HAS CONVERGED.\n",
      " MIGRAD WILL VERIFY CONVERGENCE AND ERROR MATRIX.\n",
      " FCN=30.5588 FROM MIGRAD    STATUS=CONVERGED      66 CALLS          67 TOTAL\n",
      "                     EDM=2.83029e-07    STRATEGY= 1      ERROR MATRIX ACCURATE \n",
      "  EXT PARAMETER                                   STEP         FIRST   \n",
      "  NO.   NAME      VALUE            ERROR          SIZE      DERIVATIVE \n",
      "   1  alpha_background_shape   3.99976e-01   1.02651e+00   8.09559e-04   2.07015e-04\n",
      "   2  alpha_signal_norm_uncertainty  -4.50973e-05   9.93355e-01   7.69132e-04  -1.26289e-04\n",
      "   3  mu           2.65965e-05   3.54291e-05   1.52407e-05   1.33248e-01\n",
      "                               ERR DEF= 0.5\n",
      "AsymptoticCalculator::EvaluateNLL -  value = 30.5588\tfit time : Real time 0:00:00, CP time 0.020\n",
      "[#0] PROGRESS:Eval -- Best fitted POI value = 2.65965e-05 +/- 3.54291e-05\n",
      "[#0] PROGRESS:Eval -- AsymptoticCalculator: Building Asimov data Set\n",
      "[#1] INFO:InputArguments -- AsymptoticCalculator: Asimov data will be generated using fitted nuisance parameter values\n",
      "MakeAsimov: Setting poi mu to a constant value = 1\n",
      "MakeAsimov: doing a conditional fit for finding best nuisance values \n",
      " **********\n",
      " **    1 **SET PRINT           0\n",
      " **********\n",
      " **********\n",
      " **    2 **SET NOGRAD\n",
      " **********\n",
      " PARAMETER DEFINITIONS:\n",
      "    NO.   NAME         VALUE      STEP SIZE      LIMITS\n",
      "     1 alpha_background_shape   3.99976e-01  1.02651e+00   -5.00000e+00  5.00000e+00\n",
      "     2 alpha_signal_norm_uncertainty  -4.50973e-05  9.93355e-01   -5.00000e+00  5.00000e+00\n",
      " **********\n",
      " **    3 **SET ERR         0.5\n",
      " **********\n",
      " **********\n",
      " **    4 **SET PRINT           0\n",
      " **********\n",
      " **********\n",
      " **    5 **SET STR           1\n",
      " **********\n",
      " **********\n",
      " **    6 **MIGRAD        1000           1\n",
      " **********\n",
      " MIGRAD MINIMIZATION HAS CONVERGED.\n",
      " MIGRAD WILL VERIFY CONVERGENCE AND ERROR MATRIX.\n",
      " FCN=77251.1 FROM MIGRAD    STATUS=CONVERGED      50 CALLS          51 TOTAL\n",
      "                     EDM=0.000117683    STRATEGY= 1      ERROR MATRIX ACCURATE \n",
      "  EXT PARAMETER                                   STEP         FIRST   \n",
      "  NO.   NAME      VALUE            ERROR          SIZE      DERIVATIVE \n",
      "   1  alpha_background_shape  -1.24284e-01   1.34575e+00   5.20037e-02   3.62349e-02\n",
      "   2  alpha_signal_norm_uncertainty  -5.00000e+00   1.26177e-04   1.36351e-03** at limit **\n",
      "                               ERR DEF= 0.5\n",
      "fit time Real time 0:00:00, CP time 0.010\n",
      "RooDataSet::AsimovData[obs_x_SR,weight:binWeightAsimov] = 50 entries (77478.1 weighted)\n",
      "Generated Asimov data for observables RooArgSet:: = (obs_x_SR)\n",
      "Generated Asimov data for global observables RooArgSet:: = (nom_alpha_signal_norm_uncertainty,nom_alpha_background_shape)\n",
      "[#0] PROGRESS:Eval -- AsymptoticCalculator::Initialize Find  best conditional NLL on ASIMOV data set for given alt POI ( mu ) = 1\n",
      "AsymptoticCalculator::EvaluateNLL  ........ using Minuit / Migrad with strategy  1 and tolerance 1\n",
      " **********\n",
      " **    7 **SET PRINT           0\n",
      " **********\n",
      " **********\n",
      " **    8 **SET NOGRAD\n",
      " **********\n",
      " PARAMETER DEFINITIONS:\n",
      "    NO.   NAME         VALUE      STEP SIZE      LIMITS\n",
      "     1 alpha_background_shape  -1.24284e-01  1.34575e+00   -5.00000e+00  5.00000e+00\n",
      "     2 alpha_signal_norm_uncertainty  -5.00000e+00  1.26177e-04   -5.00000e+00  5.00000e+00\n",
      " MINUIT WARNING IN PARAMETR\n",
      " ============== VARIABLE2 IS AT ITS LOWER ALLOWED LIMIT.\n",
      " MINUIT WARNING IN PARAMETR\n",
      " ============== VARIABLE2 BROUGHT BACK INSIDE LIMITS.\n",
      " **********\n",
      " **    9 **SET ERR         0.5\n",
      " **********\n",
      " **********\n",
      " **   10 **SET PRINT           0\n",
      " **********\n",
      " **********\n",
      " **   11 **SET STR           1\n",
      " **********\n",
      " **********\n",
      " **   12 **MIGRAD        1000           1\n",
      " **********\n",
      " MINUIT WARNING IN MIGrad    \n",
      " ============== VARIABLE2 IS AT ITS LOWER ALLOWED LIMIT.\n",
      " MINUIT WARNING IN MIGRAD  \n",
      " ============== Negative diagonal element 2 in Error Matrix\n",
      " MINUIT WARNING IN MIGRAD  \n",
      " ============== 1.00232 added to diagonal of error matrix\n",
      " MIGRAD MINIMIZATION HAS CONVERGED.\n",
      " FCN=-664922 FROM MIGRAD    STATUS=CONVERGED      58 CALLS          59 TOTAL\n",
      "                     EDM=5.77672e-06    STRATEGY= 1  ERROR MATRIX UNCERTAINTY  23.9 per cent\n",
      "  EXT PARAMETER                                   STEP         FIRST   \n",
      "  NO.   NAME      VALUE            ERROR          SIZE      DERIVATIVE \n",
      "   1  alpha_background_shape  -1.24244e-01   9.03066e-01   3.89491e-08  -6.08348e-03\n",
      "   2  alpha_signal_norm_uncertainty  -4.99999e+00   7.52286e-03  -7.76777e-09   1.73920e-02\n",
      "                               ERR DEF= 0.5\n",
      "AsymptoticCalculator::EvaluateNLL -  value = -664922 for poi fixed at = 1\tfit time : Real time 0:00:00, CP time 0.000\n",
      "[#1] INFO:InputArguments -- AsymptotiCalculator: Minimum of POI is 0 corresponds to null  snapshot   - default configuration is  one-sided discovery formulae  \n"
     ]
    }
   ],
   "source": [
    "ac = R.RooStats.AsymptoticCalculator(data, sbModel, bModel)\n",
    "ac.SetOneSidedDiscovery(True)"
   ]
  },
  {
   "cell_type": "markdown",
   "id": "impressed-exchange",
   "metadata": {},
   "source": [
    "Get the hypo test result"
   ]
  },
  {
   "cell_type": "code",
   "execution_count": 12,
   "id": "level-edinburgh",
   "metadata": {
    "collapsed": false,
    "execution": {
     "iopub.execute_input": "2021-04-05T13:02:39.177247Z",
     "iopub.status.busy": "2021-04-05T13:02:39.176595Z",
     "iopub.status.idle": "2021-04-05T13:02:39.291166Z",
     "shell.execute_reply": "2021-04-05T13:02:39.292102Z"
    }
   },
   "outputs": [
    {
     "name": "stdout",
     "output_type": "stream",
     "text": [
      "\n",
      "[#1] INFO:Eval -- AsymptoticCalculator::GetHypoTest: - perform  an hypothesis test for  POI ( mu ) = 0\n",
      "[#0] PROGRESS:Eval -- AsymptoticCalculator::GetHypoTest -  Find  best conditional NLL on OBSERVED data set ..... \n",
      "AsymptoticCalculator::EvaluateNLL  ........ using Minuit / Migrad with strategy  1 and tolerance 1\n",
      " **********\n",
      " **   13 **SET PRINT           0\n",
      " **********\n",
      " **********\n",
      " **   14 **SET NOGRAD\n",
      " **********\n",
      " PARAMETER DEFINITIONS:\n",
      "    NO.   NAME         VALUE      STEP SIZE      LIMITS\n",
      "     1 alpha_background_shape   3.99976e-01  1.02651e+00   -5.00000e+00  5.00000e+00\n",
      "     2 alpha_signal_norm_uncertainty  -4.50973e-05  9.93355e-01   -5.00000e+00  5.00000e+00\n",
      " **********\n",
      " **   15 **SET ERR         0.5\n",
      " **********\n",
      " **********\n",
      " **   16 **SET PRINT           0\n",
      " **********\n",
      " **********\n",
      " **   17 **SET STR           1\n",
      " **********\n",
      " **********\n",
      " **   18 **MIGRAD        1000           1\n",
      " **********\n",
      " MIGRAD MINIMIZATION HAS CONVERGED.\n",
      " MIGRAD WILL VERIFY CONVERGENCE AND ERROR MATRIX.\n",
      " FCN=30.8944 FROM MIGRAD    STATUS=CONVERGED      25 CALLS          26 TOTAL\n",
      "                     EDM=2.38794e-09    STRATEGY= 1      ERROR MATRIX ACCURATE \n",
      "  EXT PARAMETER                                   STEP         FIRST   \n",
      "  NO.   NAME      VALUE            ERROR          SIZE      DERIVATIVE \n",
      "   1  alpha_background_shape   3.92298e-01   1.01429e+00   7.87247e-04   2.38472e-04\n",
      "   2  alpha_signal_norm_uncertainty  -9.21130e-12   9.93347e-01   7.73822e-04  -4.59112e-11\n",
      "                               ERR DEF= 0.5\n",
      "AsymptoticCalculator::EvaluateNLL -  value = 30.8944 for poi fixed at = 0\tfit time : Real time 0:00:00, CP time 0.000\n",
      "[#0] PROGRESS:Eval -- \t OBSERVED DATA :  qmu   = 0.671256 condNLL = 30.8944 uncond 30.5588\n",
      "[#0] PROGRESS:Eval -- AsymptoticCalculator::GetHypoTest -- Find  best conditional NLL on ASIMOV data set .... \n",
      "AsymptoticCalculator::EvaluateNLL  ........ using Minuit / Migrad with strategy  1 and tolerance 1\n",
      " **********\n",
      " **   19 **SET PRINT           0\n",
      " **********\n",
      " **********\n",
      " **   20 **SET NOGRAD\n",
      " **********\n",
      " PARAMETER DEFINITIONS:\n",
      "    NO.   NAME         VALUE      STEP SIZE      LIMITS\n",
      "     1 alpha_background_shape   3.92298e-01  1.01429e+00   -5.00000e+00  5.00000e+00\n",
      "     2 alpha_signal_norm_uncertainty  -9.21130e-12  9.93347e-01   -5.00000e+00  5.00000e+00\n",
      " **********\n",
      " **   21 **SET ERR         0.5\n",
      " **********\n",
      " **********\n",
      " **   22 **SET PRINT           0\n",
      " **********\n",
      " **********\n",
      " **   23 **SET STR           1\n",
      " **********\n",
      " **********\n",
      " **   24 **MIGRAD        1000           1\n",
      " **********\n",
      " MIGRAD MINIMIZATION HAS CONVERGED.\n",
      " MIGRAD WILL VERIFY CONVERGENCE AND ERROR MATRIX.\n",
      " FCN=-63683.7 FROM MIGRAD    STATUS=CONVERGED     133 CALLS         134 TOTAL\n",
      "                     EDM=0.000268264    STRATEGY= 1      ERROR MATRIX ACCURATE \n",
      "  EXT PARAMETER                                   STEP         FIRST   \n",
      "  NO.   NAME      VALUE            ERROR          SIZE      DERIVATIVE \n",
      "   1  alpha_background_shape   4.96036e+00   9.44410e-02   2.63741e-02   1.08457e-01\n",
      "   2  alpha_signal_norm_uncertainty  -4.99722e+00   6.89634e+00   2.84659e-01   5.18317e-04\n",
      "                               ERR DEF= 0.5\n",
      "AsymptoticCalculator::EvaluateNLL -  value = -63683.7 for poi fixed at = 0\tfit time : Real time 0:00:00, CP time 0.000\n",
      "[#0] PROGRESS:Eval -- \t ASIMOV data qmu_A = 1.20248e+06 condNLL = -63683.7 uncond -664922\n",
      "[#0] PROGRESS:Eval -- poi = 0 qmu = 0.671256 qmu_A = 1.20248e+06 sigma = 0  CLsplusb = 0.206307 CLb = 1 CLs = 4.84714\n",
      "\n",
      "Results HypoTestAsymptotic_result: \n",
      " - Null p-value = 0.206307\n",
      " - Significance = 0.819302\n",
      " - CL_b: 0.206307\n",
      " - CL_s+b: 1\n",
      " - CL_s: 4.84714\n"
     ]
    }
   ],
   "source": [
    "asResult = ac.GetHypoTest()\n",
    "asResult.Print()"
   ]
  },
  {
   "cell_type": "markdown",
   "id": "quality-tribute",
   "metadata": {},
   "source": [
    "By hand calculation"
   ]
  },
  {
   "cell_type": "code",
   "execution_count": 13,
   "id": "empty-kenya",
   "metadata": {
    "collapsed": false,
    "execution": {
     "iopub.execute_input": "2021-04-05T13:02:39.305803Z",
     "iopub.status.busy": "2021-04-05T13:02:39.304770Z",
     "iopub.status.idle": "2021-04-05T13:02:39.411083Z",
     "shell.execute_reply": "2021-04-05T13:02:39.413417Z"
    }
   },
   "outputs": [],
   "source": [
    "w.loadSnapshot(snapshotName_init)\n",
    "sbModel = w.obj(\"ModelConfig\")\n",
    "pdf = sbModel.GetPdf()"
   ]
  },
  {
   "cell_type": "markdown",
   "id": "radio-style",
   "metadata": {},
   "source": [
    "Get the nuisance parameters and global observables"
   ]
  },
  {
   "cell_type": "code",
   "execution_count": 14,
   "id": "psychological-lending",
   "metadata": {
    "collapsed": false,
    "execution": {
     "iopub.execute_input": "2021-04-05T13:02:39.435064Z",
     "iopub.status.busy": "2021-04-05T13:02:39.434332Z",
     "iopub.status.idle": "2021-04-05T13:02:39.541341Z",
     "shell.execute_reply": "2021-04-05T13:02:39.542177Z"
    }
   },
   "outputs": [],
   "source": [
    "constrainedParams = sbModel.GetNuisanceParameters()\n",
    "glbObs = sbModel.GetGlobalObservables()"
   ]
  },
  {
   "cell_type": "markdown",
   "id": "continuing-mustang",
   "metadata": {},
   "source": [
    "Create the neg-log-likelihood"
   ]
  },
  {
   "cell_type": "code",
   "execution_count": 15,
   "id": "worthy-tribune",
   "metadata": {
    "collapsed": false,
    "execution": {
     "iopub.execute_input": "2021-04-05T13:02:39.606593Z",
     "iopub.status.busy": "2021-04-05T13:02:39.606146Z",
     "iopub.status.idle": "2021-04-05T13:02:39.718893Z",
     "shell.execute_reply": "2021-04-05T13:02:39.719577Z"
    }
   },
   "outputs": [
    {
     "name": "stdout",
     "output_type": "stream",
     "text": [
      "Starting NLL value: 99853.9126536684\n",
      "[#1] INFO:Minization -- p.d.f. provides expected number of events, including extended term in likelihood.\n",
      "[#1] INFO:Minization -- createNLL picked up cached consraints from workspace with 2 entries\n",
      "[#1] INFO:Minization --  Including the following constraint terms in minimization: (alpha_signal_norm_uncertaintyConstraint,alpha_background_shapeConstraint)\n",
      "[#1] INFO:Minization -- The following global observables have been defined: (nom_alpha_signal_norm_uncertainty,nom_alpha_background_shape)\n",
      "[#1] INFO:Eval -- RooAbsTestStatistic::initMPMode: started 2 remote server process.\n",
      "[#1] INFO:Minization --  The following expressions have been identified as constant and will be precalculated and cached: (signal_SR_nominal,background_SR_Hist_alphanominal,background_SR_Hist_alpha_0low,background_SR_Hist_alpha_0high)\n",
      "[#1] INFO:Minization --  The following expressions will be evaluated in cache-and-track mode: (background_SR_Hist_alpha)\n",
      "[#1] INFO:Minization -- RooNLLVar::evaluatePartition(nll_model_SR_obsData_GOF0) first = 0 last = 25 Likelihood offset now set to 486.318\n",
      "[#1] INFO:Minization --  The following expressions have been identified as constant and will be precalculated and cached: (signal_SR_nominal,background_SR_Hist_alphanominal,background_SR_Hist_alpha_0low,background_SR_Hist_alpha_0high)\n",
      "[#1] INFO:Minization --  The following expressions will be evaluated in cache-and-track mode: (background_SR_Hist_alpha)\n",
      "[#1] INFO:Minization -- RooNLLVar::evaluatePartition(nll_model_SR_obsData_GOF1) first = 25 last = 50 Likelihood offset now set to 99365.8\n"
     ]
    }
   ],
   "source": [
    "nll_sb = pdf.createNLL(data, R.RooFit.Constrain(constrainedParams), R.RooFit.GlobalObservables(glbObs), R.RooFit.Offset(1),\n",
    "                                       R.RooFit.NumCPU(2), R.RooFit.Optimize(2))\n",
    "nllval = nll_sb.getVal()\n",
    "print(\"Starting NLL value:\", nllval)"
   ]
  },
  {
   "cell_type": "markdown",
   "id": "radical-helicopter",
   "metadata": {},
   "source": [
    "Do the minimization"
   ]
  },
  {
   "cell_type": "code",
   "execution_count": 16,
   "id": "wicked-campus",
   "metadata": {
    "collapsed": false,
    "execution": {
     "iopub.execute_input": "2021-04-05T13:02:39.854451Z",
     "iopub.status.busy": "2021-04-05T13:02:39.760883Z",
     "iopub.status.idle": "2021-04-05T13:02:39.962456Z",
     "shell.execute_reply": "2021-04-05T13:02:39.962823Z"
    }
   },
   "outputs": [
    {
     "name": "stdout",
     "output_type": "stream",
     "text": [
      "\n",
      " =========== Unconditinal fit =========\n",
      "\n",
      "[#1] INFO:Fitting -- RooAddition::defaultErrorLevel(nll_model_SR_obsData_with_constr) Summation contains a RooNLLVar, using its error level\n",
      "[#1] INFO:Minization -- RooMinimizer::optimizeConst: activating const optimization\n",
      " **********\n",
      " **    1 **SET PRINT           1\n",
      " **********\n",
      " **********\n",
      " **    2 **SET NOGRAD\n",
      " **********\n",
      " PARAMETER DEFINITIONS:\n",
      "    NO.   NAME         VALUE      STEP SIZE      LIMITS\n",
      "     1 alpha_background_shape   0.00000e+00  1.00000e+00   -5.00000e+00  5.00000e+00\n",
      "     2 alpha_signal_norm_uncertainty   0.00000e+00  1.00000e+00   -5.00000e+00  5.00000e+00\n",
      "     3 mu           1.00000e+00  3.00000e-01    0.00000e+00  3.00000e+00\n",
      " **********\n",
      " **    3 **SET ERR         0.5\n",
      " **********\n",
      " **********\n",
      " **    4 **SET PRINT           1\n",
      " **********\n",
      " **********\n",
      " **    5 **SET STR           1\n",
      " **********\n",
      " NOW USING STRATEGY  1: TRY TO BALANCE SPEED AGAINST RELIABILITY\n",
      " **********\n",
      " **    6 **MIGRAD        1500           1\n",
      " **********\n",
      " FIRST CALL TO USER FUNCTION AT NEW START POINT, WITH IFLAG=4.\n",
      " START MIGRAD MINIMIZATION.  STRATEGY  1.  CONVERGENCE WHEN EDM .LT. 1.00e-03\n",
      " FCN=-7535.99 FROM MIGRAD    STATUS=INITIATE       37 CALLS          38 TOTAL\n",
      "                     EDM= unknown      STRATEGY= 1      NO ERROR MATRIX       \n",
      "  EXT PARAMETER               CURRENT GUESS       STEP         FIRST   \n",
      "  NO.   NAME      VALUE            ERROR          SIZE      DERIVATIVE \n",
      "   1  alpha_background_shape  -1.57846e-01   1.00000e+00   0.00000e+00  -2.53950e-02\n",
      "   2  alpha_signal_norm_uncertainty  -1.52856e+00   1.00000e+00  -3.10687e-01   2.25638e+04\n",
      "   3  mu           1.00000e+00   3.00000e-01   0.00000e+00   1.30720e+05\n",
      "                               ERR DEF= 0.5\n",
      " MINUIT WARNING IN MIGRAD  \n",
      " ============== Negative diagonal element 1 in Error Matrix\n",
      " MINUIT WARNING IN MIGRAD  \n",
      " ============== Negative diagonal element 2 in Error Matrix\n",
      " MINUIT WARNING IN MIGRAD  \n",
      " ============== Negative diagonal element 3 in Error Matrix\n",
      " MINUIT WARNING IN MIGRAD  \n",
      " ============== 1.14463 added to diagonal of error matrix\n",
      " MIGRAD MINIMIZATION HAS CONVERGED.\n",
      " MIGRAD WILL VERIFY CONVERGENCE AND ERROR MATRIX.\n",
      " COVARIANCE MATRIX CALCULATED SUCCESSFULLY\n",
      " FCN=-99821.5 FROM MIGRAD    STATUS=CONVERGED     202 CALLS         203 TOTAL\n",
      "                     EDM=0.000421357    STRATEGY= 1      ERROR MATRIX ACCURATE \n",
      "  EXT PARAMETER                                   STEP         FIRST   \n",
      "  NO.   NAME      VALUE            ERROR          SIZE      DERIVATIVE \n",
      "   1  alpha_background_shape   3.80937e-01   1.04938e+00   4.60065e-02  -8.64892e-02\n",
      "   2  alpha_signal_norm_uncertainty   1.81885e-04   9.94146e-01   4.36180e-02  -7.77426e-04\n",
      "   3  mu           2.62535e-05   3.54966e-05   8.78127e-04  -2.27504e+00\n",
      "                               ERR DEF= 0.5\n",
      " EXTERNAL ERROR MATRIX.    NDIM=  25    NPAR=  3    ERR DEF=0.5\n",
      "  1.118e+00 -5.587e-05  2.511e-07 \n",
      " -5.587e-05  1.002e+00 -1.737e-06 \n",
      "  2.511e-07 -1.737e-06  1.260e-09 \n",
      " PARAMETER  CORRELATION COEFFICIENTS  \n",
      "       NO.  GLOBAL      1      2      3\n",
      "        1  0.00670   1.000 -0.000  0.007\n",
      "        2  0.04889  -0.000  1.000 -0.049\n",
      "        3  0.04934   0.007 -0.049  1.000\n"
     ]
    }
   ],
   "source": [
    "minim = R.RooMinimizer(nll_sb)\n",
    "strategy = R.Math.MinimizerOptions.DefaultStrategy()\n",
    "minim.setStrategy(strategy)\n",
    "minim.optimizeConst(2)\n",
    "minimizer = R.Math.MinimizerOptions.DefaultMinimizerType()\n",
    "algorithm = R.Math.MinimizerOptions.DefaultMinimizerAlgo()\n",
    "print(\"\\n =========== Unconditinal fit =========\\n\")\n",
    "status = minim.minimize(minimizer, algorithm)\n",
    "\n",
    "obs_nll_min = nll_sb.getVal()\n",
    "reverse = (poi.getVal() < 0)"
   ]
  },
  {
   "cell_type": "markdown",
   "id": "waiting-pharmaceutical",
   "metadata": {},
   "source": [
    "Fix POI to 0 (B-only model) and do the minimization again"
   ]
  },
  {
   "cell_type": "code",
   "execution_count": 17,
   "id": "satisfied-checkout",
   "metadata": {
    "collapsed": false,
    "execution": {
     "iopub.execute_input": "2021-04-05T13:02:39.984985Z",
     "iopub.status.busy": "2021-04-05T13:02:39.984594Z",
     "iopub.status.idle": "2021-04-05T13:02:40.093724Z",
     "shell.execute_reply": "2021-04-05T13:02:40.094391Z"
    }
   },
   "outputs": [
    {
     "name": "stdout",
     "output_type": "stream",
     "text": [
      "\n",
      " =========== Conditinal fit =========\n",
      "\n",
      "[#1] INFO:Minization -- RooMinimizerFcn::synchronize: set of constant parameters changed, rerunning const optimizer\n",
      " **********\n",
      " **    7 **SET PRINT           1\n",
      " **********\n",
      " **********\n",
      " **    8 **SET NOGRAD\n",
      " **********\n",
      " PARAMETER DEFINITIONS:\n",
      "    NO.   NAME         VALUE      STEP SIZE      LIMITS\n",
      "     1 alpha_background_shape   0.00000e+00  1.00000e+00   -5.00000e+00  5.00000e+00\n",
      "     2 alpha_signal_norm_uncertainty   0.00000e+00  1.00000e+00   -5.00000e+00  5.00000e+00\n",
      "     3 mu           0.00000e+00  1.00000e-01     no limits\n",
      " **********\n",
      " **    9 **FIX           3\n",
      " **********\n",
      " **********\n",
      " **   10 **SET ERR         0.5\n",
      " **********\n",
      " **********\n",
      " **   11 **SET PRINT           1\n",
      " **********\n",
      " **********\n",
      " **   12 **SET STR           1\n",
      " **********\n",
      " NOW USING STRATEGY  1: TRY TO BALANCE SPEED AGAINST RELIABILITY\n",
      " **********\n",
      " **   13 **MIGRAD        1500           1\n",
      " **********\n",
      " FIRST CALL TO USER FUNCTION AT NEW START POINT, WITH IFLAG=4.\n",
      " START MIGRAD MINIMIZATION.  STRATEGY  1.  CONVERGENCE WHEN EDM .LT. 1.00e-03\n",
      " FCN=-99821.1 FROM MIGRAD    STATUS=INITIATE        6 CALLS           7 TOTAL\n",
      "                     EDM= unknown      STRATEGY= 1      NO ERROR MATRIX       \n",
      "  EXT PARAMETER               CURRENT GUESS       STEP         FIRST   \n",
      "  NO.   NAME      VALUE            ERROR          SIZE      DERIVATIVE \n",
      "   1  alpha_background_shape   0.00000e+00   1.00000e+00   2.01358e-01  -1.24729e+00\n",
      "   2  alpha_signal_norm_uncertainty   0.00000e+00   1.00000e+00   2.01358e-01   0.00000e+00\n",
      "   3  mu           0.00000e+00     fixed    \n",
      "                               ERR DEF= 0.5\n",
      " MIGRAD MINIMIZATION HAS CONVERGED.\n",
      " MIGRAD WILL VERIFY CONVERGENCE AND ERROR MATRIX.\n",
      " COVARIANCE MATRIX CALCULATED SUCCESSFULLY\n",
      " FCN=-99821.2 FROM MIGRAD    STATUS=CONVERGED      27 CALLS          28 TOTAL\n",
      "                     EDM=0.000279769    STRATEGY= 1      ERROR MATRIX ACCURATE \n",
      "  EXT PARAMETER                                   STEP         FIRST   \n",
      "  NO.   NAME      VALUE            ERROR          SIZE      DERIVATIVE \n",
      "   1  alpha_background_shape   3.75180e-01   1.03359e+00   4.56393e-02  -8.01005e-02\n",
      "   2  alpha_signal_norm_uncertainty   0.00000e+00   9.93658e-01   4.36483e-02   0.00000e+00\n",
      "   3  mu           0.00000e+00     fixed    \n",
      "                               ERR DEF= 0.5\n",
      " EXTERNAL ERROR MATRIX.    NDIM=  25    NPAR=  2    ERR DEF=0.5\n",
      "  1.084e+00 -3.178e-10 \n",
      " -3.178e-10  1.001e+00 \n",
      " PARAMETER  CORRELATION COEFFICIENTS  \n",
      "       NO.  GLOBAL      1      2\n",
      "        1  0.00000   1.000 -0.000\n",
      "        2  0.00000  -0.000  1.000\n"
     ]
    }
   ],
   "source": [
    "print(\"\\n =========== Conditinal fit =========\\n\")\n",
    "w.loadSnapshot(snapshotName_init)\n",
    "poi.setVal(0)\n",
    "poi.setConstant(1)\n",
    "\n",
    "status = minim.minimize(minimizer, algorithm)\n",
    "\n",
    "obs_nll_min_bkg = nll_sb.getVal()"
   ]
  },
  {
   "cell_type": "markdown",
   "id": "dependent-second",
   "metadata": {},
   "source": [
    "The asymptotic statistic: q0 = nll(b-only, mu=0) - nll(s+b)\n",
    "Significance: Z = sqrt( 2*q0 )"
   ]
  },
  {
   "cell_type": "code",
   "execution_count": 18,
   "id": "parallel-distance",
   "metadata": {
    "collapsed": false,
    "execution": {
     "iopub.execute_input": "2021-04-05T13:02:40.100414Z",
     "iopub.status.busy": "2021-04-05T13:02:40.099692Z",
     "iopub.status.idle": "2021-04-05T13:02:40.210267Z",
     "shell.execute_reply": "2021-04-05T13:02:40.210943Z"
    }
   },
   "outputs": [],
   "source": [
    "obs_q0 = 2*(obs_nll_min_bkg - obs_nll_min)"
   ]
  },
  {
   "cell_type": "markdown",
   "id": "analyzed-sigma",
   "metadata": {},
   "source": [
    "Check the sign: excess or deficit? "
   ]
  },
  {
   "cell_type": "code",
   "execution_count": 19,
   "id": "dying-tsunami",
   "metadata": {
    "collapsed": false,
    "execution": {
     "iopub.execute_input": "2021-04-05T13:02:40.222220Z",
     "iopub.status.busy": "2021-04-05T13:02:40.221130Z",
     "iopub.status.idle": "2021-04-05T13:02:40.332312Z",
     "shell.execute_reply": "2021-04-05T13:02:40.331194Z"
    }
   },
   "outputs": [
    {
     "name": "stdout",
     "output_type": "stream",
     "text": [
      "\n",
      "Unconditional NLL value: 30.558991597717007\n",
      "Conditional NLL value: 30.894549930665683\n",
      "==> Asymmptotic signficance:  0.8192171054716516\n"
     ]
    }
   ],
   "source": [
    "if reverse: obs_q0 = -obs_q0\n",
    "sign = 0\n",
    "if obs_q0!=0: sign = obs_q0 / fabs(obs_q0)\n",
    "obs_sig = sign*sqrt(fabs(obs_q0));\n",
    "print(\"\\nUnconditional NLL value:\", obs_nll_min)\n",
    "print(\"Conditional NLL value:\", obs_nll_min_bkg)\n",
    "print(\"==> Asymmptotic signficance: \", obs_sig)"
   ]
  },
  {
   "cell_type": "markdown",
   "id": "animal-silence",
   "metadata": {},
   "source": [
    "Draw all canvases "
   ]
  },
  {
   "cell_type": "code",
   "execution_count": 20,
   "id": "solved-blast",
   "metadata": {
    "collapsed": false,
    "execution": {
     "iopub.execute_input": "2021-04-05T13:02:40.352380Z",
     "iopub.status.busy": "2021-04-05T13:02:40.351415Z",
     "iopub.status.idle": "2021-04-05T13:02:40.458297Z",
     "shell.execute_reply": "2021-04-05T13:02:40.459350Z"
    }
   },
   "outputs": [],
   "source": [
    "from ROOT import gROOT \n",
    "gROOT.GetListOfCanvases().Draw()"
   ]
  }
 ],
 "metadata": {
  "kernelspec": {
   "display_name": "Python 3",
   "language": "python",
   "name": "python3"
  },
  "language_info": {
   "codemirror_mode": {
    "name": "ipython",
    "version": 3
   },
   "file_extension": ".py",
   "mimetype": "text/x-python",
   "name": "python",
   "nbconvert_exporter": "python",
   "pygments_lexer": "ipython3",
   "version": "3.8.8"
  }
 },
 "nbformat": 4,
 "nbformat_minor": 5
}
