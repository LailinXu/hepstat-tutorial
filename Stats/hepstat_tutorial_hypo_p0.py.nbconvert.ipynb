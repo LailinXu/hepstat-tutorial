{
 "cells": [
  {
   "cell_type": "markdown",
   "id": "ready-separation",
   "metadata": {},
   "source": [
    "# Hepstat_Tutorial_Hypo_P 0\n",
    "RooStats example: compute the p0 and significance (Hypothesis Test) \n",
    "The signal is a simple Gaussian and the background is a smoothly falling spectrum. To estimate the significance,\n",
    "we need to perform an hypothesis test. We want to disprove the null model, i.e the background only model against the alternate model,\n",
    "the background plus the signal. In RooStats, we do this by defining two two ModelConfig objects, one for the null model\n",
    "(the background only model in this case) and one for the alternate model (the signal plus background).\n",
    "\n",
    " Objectives of this tutorial are the following:\n",
    " * Compute the null hypo significance using the Asymptotic calculator\n",
    " * Compute the significance by hand using the asymptotic formula\n",
    " * Compute the significance using frequentist method\n",
    " * Plot the p0 scan as a function of the signal mass\n",
    "\n",
    "\n",
    "Based on the example [here](https://www.nikhef.nl/~vcroft/RooStats.html), and also [StandardFrequentistDiscovery.C](https://root.cern/doc/master/StandardFrequentistDiscovery_8C.html)\n",
    "\n",
    "\n",
    "**Author:** Lailin XU  \n",
    "<i><small>This notebook tutorial was automatically generated with <a href= \"https://github.com/root-project/root/blob/master/documentation/doxygen/converttonotebook.py\">ROOTBOOK-izer</a> from the macro found in the ROOT repository  on Wednesday, April 07, 2021 at 09:25 AM.</small></i>"
   ]
  },
  {
   "cell_type": "code",
   "execution_count": 1,
   "id": "available-bracket",
   "metadata": {
    "collapsed": false,
    "execution": {
     "iopub.execute_input": "2021-04-07T01:25:45.503064Z",
     "iopub.status.busy": "2021-04-07T01:25:45.502300Z",
     "iopub.status.idle": "2021-04-07T01:25:45.504115Z",
     "shell.execute_reply": "2021-04-07T01:25:45.504549Z"
    }
   },
   "outputs": [],
   "source": [
    "import os"
   ]
  },
  {
   "cell_type": "markdown",
   "id": "rubber-basis",
   "metadata": {},
   "source": [
    "Import the ROOT libraries"
   ]
  },
  {
   "cell_type": "code",
   "execution_count": 2,
   "id": "iraqi-forth",
   "metadata": {
    "collapsed": false,
    "execution": {
     "iopub.execute_input": "2021-04-07T01:25:45.508190Z",
     "iopub.status.busy": "2021-04-07T01:25:45.507622Z",
     "iopub.status.idle": "2021-04-07T01:25:46.000288Z",
     "shell.execute_reply": "2021-04-07T01:25:46.000498Z"
    }
   },
   "outputs": [
    {
     "name": "stdout",
     "output_type": "stream",
     "text": [
      "Welcome to JupyROOT 6.22/07\n"
     ]
    }
   ],
   "source": [
    "import ROOT as R\n",
    "from math import pow, sqrt, fabs\n",
    "R.gROOT.SetStyle(\"ATLAS\")"
   ]
  },
  {
   "cell_type": "markdown",
   "id": "cheap-conversion",
   "metadata": {},
   "source": [
    "Prepare the model\n",
    "=======================\n",
    "Signal mass point"
   ]
  },
  {
   "cell_type": "code",
   "execution_count": 3,
   "id": "grateful-intent",
   "metadata": {
    "collapsed": false,
    "execution": {
     "iopub.execute_input": "2021-04-07T01:25:46.002281Z",
     "iopub.status.busy": "2021-04-07T01:25:46.001981Z",
     "iopub.status.idle": "2021-04-07T01:25:46.109207Z",
     "shell.execute_reply": "2021-04-07T01:25:46.109592Z"
    }
   },
   "outputs": [],
   "source": [
    "mass = 125"
   ]
  },
  {
   "cell_type": "markdown",
   "id": "genuine-guarantee",
   "metadata": {},
   "source": [
    "Worksapce"
   ]
  },
  {
   "cell_type": "code",
   "execution_count": 4,
   "id": "touched-quest",
   "metadata": {
    "collapsed": false,
    "execution": {
     "iopub.execute_input": "2021-04-07T01:25:46.113520Z",
     "iopub.status.busy": "2021-04-07T01:25:46.112993Z",
     "iopub.status.idle": "2021-04-07T01:25:46.223670Z",
     "shell.execute_reply": "2021-04-07T01:25:46.224356Z"
    }
   },
   "outputs": [],
   "source": [
    "wsfile = \"test_hf_ws_{}.root\".format(mass)\n",
    "if not os.path.isfile(wsfile):\n",
    "  print(\"Error! No ws files found: {}\".format(wsfile)) \n",
    "  pyhist = \"hepstat_tutorial_histfactory_hists.py\"\n",
    "  if os.path.isfile(pyhist):\n",
    "    cmd = \"python3 {0} {1]\".format(pyhist, mass)\n",
    "    os.system(cmd)"
   ]
  },
  {
   "cell_type": "markdown",
   "id": "third-stanford",
   "metadata": {},
   "source": [
    "Open the workpace"
   ]
  },
  {
   "cell_type": "code",
   "execution_count": 5,
   "id": "australian-operation",
   "metadata": {
    "collapsed": false,
    "execution": {
     "iopub.execute_input": "2021-04-07T01:25:46.618092Z",
     "iopub.status.busy": "2021-04-07T01:25:46.617777Z",
     "iopub.status.idle": "2021-04-07T01:25:46.725182Z",
     "shell.execute_reply": "2021-04-07T01:25:46.725584Z"
    }
   },
   "outputs": [
    {
     "name": "stdout",
     "output_type": "stream",
     "text": [
      "\n",
      "\u001b[1mRooFit v3.60 -- Developed by Wouter Verkerke and David Kirkby\u001b[0m \n",
      "                Copyright (C) 2000-2013 NIKHEF, University of California & Stanford University\n",
      "                All rights reserved, please read http://roofit.sourceforge.net/license.txt\n",
      "\n"
     ]
    }
   ],
   "source": [
    "tf = R.TFile.Open(wsfile, \"READ\")\n",
    "w = tf.Get(\"myws\")"
   ]
  },
  {
   "cell_type": "markdown",
   "id": "sustained-engine",
   "metadata": {},
   "source": [
    "data"
   ]
  },
  {
   "cell_type": "code",
   "execution_count": 6,
   "id": "neither-spelling",
   "metadata": {
    "collapsed": false,
    "execution": {
     "iopub.execute_input": "2021-04-07T01:25:46.739220Z",
     "iopub.status.busy": "2021-04-07T01:25:46.738718Z",
     "iopub.status.idle": "2021-04-07T01:25:46.848218Z",
     "shell.execute_reply": "2021-04-07T01:25:46.848820Z"
    }
   },
   "outputs": [],
   "source": [
    "data = w.data(\"obsData\")"
   ]
  },
  {
   "cell_type": "markdown",
   "id": "periodic-newark",
   "metadata": {},
   "source": [
    "The S+B model (Alternative hypo)"
   ]
  },
  {
   "cell_type": "code",
   "execution_count": 7,
   "id": "consecutive-seven",
   "metadata": {
    "collapsed": false,
    "execution": {
     "iopub.execute_input": "2021-04-07T01:25:46.933332Z",
     "iopub.status.busy": "2021-04-07T01:25:46.932987Z",
     "iopub.status.idle": "2021-04-07T01:25:47.040058Z",
     "shell.execute_reply": "2021-04-07T01:25:47.040426Z"
    }
   },
   "outputs": [],
   "source": [
    "sbModel = w.obj(\"ModelConfig\")\n",
    "poi = sbModel.GetParametersOfInterest().first()\n",
    "poi.setVal(1.)\n",
    "sbModel.SetSnapshot(R.RooArgSet(poi))"
   ]
  },
  {
   "cell_type": "markdown",
   "id": "promising-competition",
   "metadata": {},
   "source": [
    "PDF"
   ]
  },
  {
   "cell_type": "code",
   "execution_count": 8,
   "id": "lonely-craps",
   "metadata": {
    "collapsed": false,
    "execution": {
     "iopub.execute_input": "2021-04-07T01:25:47.051575Z",
     "iopub.status.busy": "2021-04-07T01:25:47.051085Z",
     "iopub.status.idle": "2021-04-07T01:25:47.161729Z",
     "shell.execute_reply": "2021-04-07T01:25:47.162355Z"
    }
   },
   "outputs": [],
   "source": [
    "pdf = sbModel.GetPdf()"
   ]
  },
  {
   "cell_type": "markdown",
   "id": "sensitive-northern",
   "metadata": {},
   "source": [
    "save snapshot before any fit has been done"
   ]
  },
  {
   "cell_type": "code",
   "execution_count": 9,
   "id": "saving-bridal",
   "metadata": {
    "collapsed": false,
    "execution": {
     "iopub.execute_input": "2021-04-07T01:25:47.182173Z",
     "iopub.status.busy": "2021-04-07T01:25:47.181558Z",
     "iopub.status.idle": "2021-04-07T01:25:47.292395Z",
     "shell.execute_reply": "2021-04-07T01:25:47.292975Z"
    }
   },
   "outputs": [
    {
     "data": {
      "text/plain": [
       "True"
      ]
     },
     "execution_count": 1,
     "metadata": {},
     "output_type": "execute_result"
    }
   ],
   "source": [
    "params = pdf.getParameters(data)\n",
    "snapshotName_init = \"snapshot_paramsVals_initial\"\n",
    "w.saveSnapshot(snapshotName_init, params)"
   ]
  },
  {
   "cell_type": "markdown",
   "id": "eastern-completion",
   "metadata": {},
   "source": [
    "The B model (Null hypo)"
   ]
  },
  {
   "cell_type": "code",
   "execution_count": 10,
   "id": "floral-effort",
   "metadata": {
    "collapsed": false,
    "execution": {
     "iopub.execute_input": "2021-04-07T01:25:47.316638Z",
     "iopub.status.busy": "2021-04-07T01:25:47.315935Z",
     "iopub.status.idle": "2021-04-07T01:25:47.429076Z",
     "shell.execute_reply": "2021-04-07T01:25:47.429683Z"
    }
   },
   "outputs": [
    {
     "name": "stdout",
     "output_type": "stream",
     "text": [
      "\n",
      "RooWorkspace(myws) SR workspace contents\n",
      "\n",
      "variables\n",
      "---------\n",
      "(Lumi,alpha_background_shape,alpha_bkg_norm_uncertainty,alpha_signal_norm_uncertainty,binWidth_obs_x_SR_0,binWidth_obs_x_SR_1,mu,nom_alpha_background_shape,nom_alpha_bkg_norm_uncertainty,nom_alpha_signal_norm_uncertainty,nominalLumi,obs_x_SR,weightVar)\n",
      "\n",
      "p.d.f.s\n",
      "-------\n",
      "RooRealSumPdf::SR_model[ binWidth_obs_x_SR_0 * L_x_signal_SR_overallSyst_x_Exp + binWidth_obs_x_SR_1 * L_x_background_SR_overallSyst_x_HistSyst ] = 1.353\n",
      "RooGaussian::alpha_background_shapeConstraint[ x=alpha_background_shape mean=nom_alpha_background_shape sigma=1 ] = 1\n",
      "RooGaussian::alpha_bkg_norm_uncertaintyConstraint[ x=alpha_bkg_norm_uncertainty mean=nom_alpha_bkg_norm_uncertainty sigma=1 ] = 1\n",
      "RooGaussian::alpha_signal_norm_uncertaintyConstraint[ x=alpha_signal_norm_uncertainty mean=nom_alpha_signal_norm_uncertainty sigma=1 ] = 1\n",
      "RooGaussian::lumiConstraint[ x=Lumi mean=nominalLumi sigma=0.02 ] = 1\n",
      "RooProdPdf::model_SR[ lumiConstraint * alpha_signal_norm_uncertaintyConstraint * alpha_bkg_norm_uncertaintyConstraint * alpha_background_shapeConstraint * SR_model(obs_x_SR) ] = 1.353\n",
      "\n",
      "functions\n",
      "--------\n",
      "RooProduct::L_x_background_SR_overallSyst_x_HistSyst[ Lumi * background_SR_overallSyst_x_HistSyst ] = 2.706\n",
      "RooProduct::L_x_signal_SR_overallSyst_x_Exp[ Lumi * signal_SR_overallSyst_x_Exp ] = 0\n",
      "PiecewiseInterpolation::background_SR_Hist_alpha[ ] = 2.706\n",
      "RooHistFunc::background_SR_Hist_alpha_0high[ depList=(obs_x_SR) depList=(obs_x_SR) ] = 2.68\n",
      "RooHistFunc::background_SR_Hist_alpha_0low[ depList=(obs_x_SR) depList=(obs_x_SR) ] = 2.937\n",
      "RooHistFunc::background_SR_Hist_alphanominal[ depList=(obs_x_SR) depList=(obs_x_SR) ] = 2.706\n",
      "RooStats::HistFactory::FlexibleInterpVar::background_SR_epsilon[ paramList=(alpha_bkg_norm_uncertainty) ] = 1\n",
      "RooProduct::background_SR_overallSyst_x_HistSyst[ background_SR_Hist_alpha * background_SR_epsilon ] = 2.706\n",
      "RooStats::HistFactory::FlexibleInterpVar::signal_SR_epsilon[ paramList=(alpha_signal_norm_uncertainty) ] = 1\n",
      "RooHistFunc::signal_SR_nominal[ depList=(obs_x_SR) depList=(obs_x_SR) ] = 0\n",
      "RooProduct::signal_SR_overallNorm_x_sigma_epsilon[ mu * signal_SR_epsilon ] = 0\n",
      "RooProduct::signal_SR_overallSyst_x_Exp[ signal_SR_nominal * signal_SR_overallNorm_x_sigma_epsilon ] = 0\n",
      "\n",
      "datasets\n",
      "--------\n",
      "RooDataSet::asimovData(obs_x_SR)\n",
      "RooDataSet::obsData(obs_x_SR)\n",
      "\n",
      "embedded datasets (in pdfs and functions)\n",
      "-----------------------------------------\n",
      "RooDataHist::signal_SRnominalDHist(obs_x_SR)\n",
      "RooDataHist::background_SR_Hist_alphanominalDHist(obs_x_SR)\n",
      "RooDataHist::background_SR_Hist_alpha_0lowDHist(obs_x_SR)\n",
      "RooDataHist::background_SR_Hist_alpha_0highDHist(obs_x_SR)\n",
      "\n",
      "parameter snapshots\n",
      "-------------------\n",
      "NominalParamValues = (Lumi=1[C],nominalLumi=1[C],alpha_signal_norm_uncertainty=0,nom_alpha_signal_norm_uncertainty=0[C],mu=1,obs_x_SR=159,alpha_bkg_norm_uncertainty=0,nom_alpha_bkg_norm_uncertainty=0[C],alpha_background_shape=0,nom_alpha_background_shape=0[C],binWidth_obs_x_SR_0=0.5[C],binWidth_obs_x_SR_1=0.5[C],weightVar=0)\n",
      "ModelConfig__snapshot = (mu=1)\n",
      "snapshot_paramsVals_initial = (Lumi=1[C],nominalLumi=1[C],alpha_signal_norm_uncertainty=0,nom_alpha_signal_norm_uncertainty=0[C],mu=1,alpha_bkg_norm_uncertainty=0,nom_alpha_bkg_norm_uncertainty=0[C],alpha_background_shape=0,nom_alpha_background_shape=0[C],binWidth_obs_x_SR_0=0.5[C],binWidth_obs_x_SR_1=0.5[C])\n",
      "B_only_model__snapshot = (mu=0)\n",
      "\n",
      "named sets\n",
      "----------\n",
      "B_only_model__snapshot:(mu)\n",
      "ModelConfig_GlobalObservables:(nom_alpha_signal_norm_uncertainty,nom_alpha_bkg_norm_uncertainty,nom_alpha_background_shape)\n",
      "ModelConfig_NuisParams:(alpha_background_shape,alpha_bkg_norm_uncertainty,alpha_signal_norm_uncertainty)\n",
      "ModelConfig_Observables:(obs_x_SR)\n",
      "ModelConfig_POI:(mu)\n",
      "ModelConfig__snapshot:(mu)\n",
      "coefList:(binWidth_obs_x_SR_0,binWidth_obs_x_SR_1)\n",
      "constraintTerms:(lumiConstraint,alpha_signal_norm_uncertaintyConstraint,alpha_bkg_norm_uncertaintyConstraint,alpha_background_shapeConstraint)\n",
      "globalObservables:(nom_alpha_signal_norm_uncertainty,nom_alpha_bkg_norm_uncertainty,nom_alpha_background_shape)\n",
      "likelihoodTerms:(SR_model)\n",
      "obsAndWeight:(weightVar,obs_x_SR)\n",
      "observables:(obs_x_SR)\n",
      "observablesSet:(obs_x_SR)\n",
      "shapeList:(L_x_signal_SR_overallSyst_x_Exp,L_x_background_SR_overallSyst_x_HistSyst)\n",
      "\n",
      "generic objects\n",
      "---------------\n",
      "RooStats::ModelConfig::ModelConfig\n",
      "\n"
     ]
    }
   ],
   "source": [
    "bModel = sbModel.Clone()\n",
    "bModel.SetName(\"B_only_model\")\n",
    "poi.setVal(0)\n",
    "bModel.SetSnapshot(R.RooArgSet(poi))\n",
    "\n",
    "w.Print()"
   ]
  },
  {
   "cell_type": "markdown",
   "id": "cooperative-fighter",
   "metadata": {},
   "source": [
    "Asymptotic calculator\n",
    "=======================\n",
    "The Asymptotic calculator it is based on the Profile Likelihood test statistics,\n",
    "We will do:\n",
    " * create the AsymptoticCalculator class using the two models and the data set;\n",
    " * run the test of hypothesis using the GetHypoTest function.\n",
    " * Look at the result obtained as a HypoTestResult object"
   ]
  },
  {
   "cell_type": "code",
   "execution_count": 11,
   "id": "coordinate-james",
   "metadata": {
    "collapsed": false,
    "execution": {
     "iopub.execute_input": "2021-04-07T01:25:47.476864Z",
     "iopub.status.busy": "2021-04-07T01:25:47.476414Z",
     "iopub.status.idle": "2021-04-07T01:25:47.588748Z",
     "shell.execute_reply": "2021-04-07T01:25:47.589554Z"
    }
   },
   "outputs": [
    {
     "name": "stdout",
     "output_type": "stream",
     "text": [
      "[#0] PROGRESS:Eval -- AsymptoticCalculator::Initialize....\n",
      "[#0] PROGRESS:Eval -- AsymptoticCalculator::Initialize - Find  best unconditional NLL on observed data\n",
      "AsymptoticCalculator::EvaluateNLL  ........ using Minuit / Migrad with strategy  1 and tolerance 1\n",
      " **********\n",
      " **    1 **SET PRINT           0\n",
      " **********\n",
      " **********\n",
      " **    2 **SET NOGRAD\n",
      " **********\n",
      " PARAMETER DEFINITIONS:\n",
      "    NO.   NAME         VALUE      STEP SIZE      LIMITS\n",
      "     1 alpha_background_shape   0.00000e+00  1.00000e+00   -5.00000e+00  5.00000e+00\n",
      "     2 alpha_bkg_norm_uncertainty   0.00000e+00  1.00000e+00   -5.00000e+00  5.00000e+00\n",
      "     3 alpha_signal_norm_uncertainty   0.00000e+00  1.00000e+00   -5.00000e+00  5.00000e+00\n",
      "     4 mu           0.00000e+00  3.00000e-01    0.00000e+00  3.00000e+00\n",
      " MINUIT WARNING IN PARAM DEF\n",
      " ============== STARTING VALUE IS AT LIMIT.\n",
      " MINUIT WARNING IN PARAMETR\n",
      " ============== VARIABLE4 IS AT ITS LOWER ALLOWED LIMIT.\n",
      " MINUIT WARNING IN PARAMETR\n",
      " ============== VARIABLE4 BROUGHT BACK INSIDE LIMITS.\n",
      " **********\n",
      " **    3 **SET ERR         0.5\n",
      " **********\n",
      " **********\n",
      " **    4 **SET PRINT           0\n",
      " **********\n",
      " **********\n",
      " **    5 **SET STR           1\n",
      " **********\n",
      " **********\n",
      " **    6 **MIGRAD        2000           1\n",
      " **********\n",
      " MINUIT WARNING IN MIGrad    \n",
      " ============== VARIABLE4 IS AT ITS LOWER ALLOWED LIMIT.\n",
      " MIGRAD MINIMIZATION HAS CONVERGED.\n",
      " MIGRAD WILL VERIFY CONVERGENCE AND ERROR MATRIX.\n",
      " FCN=31.25 FROM MIGRAD    STATUS=CONVERGED      93 CALLS          94 TOTAL\n",
      "                     EDM=4.37767e-06    STRATEGY= 1      ERROR MATRIX ACCURATE \n",
      "  EXT PARAMETER                                   STEP         FIRST   \n",
      "  NO.   NAME      VALUE            ERROR          SIZE      DERIVATIVE \n",
      "   1  alpha_background_shape   1.09635e-01   8.77455e-01   6.86556e-04   1.19450e-03\n",
      "   2  alpha_bkg_norm_uncertainty  -1.51887e-01   7.06075e-01   5.51247e-04  -9.41809e-04\n",
      "   3  alpha_signal_norm_uncertainty   2.95562e-04   9.92555e-01   7.77531e-04   8.25712e-05\n",
      "   4  mu           2.99864e+00   2.04722e+00   6.36625e-02  -1.18746e-04\n",
      "                               ERR DEF= 0.5\n",
      "AsymptoticCalculator::EvaluateNLL -  value = 31.25\tfit time : Real time 0:00:00, CP time 0.040\n",
      "[#0] PROGRESS:Eval -- Best fitted POI value = 2.99864 +/- 2.04722\n",
      "[#0] PROGRESS:Eval -- AsymptoticCalculator: Building Asimov data Set\n",
      "[#1] INFO:InputArguments -- AsymptoticCalculator: Asimov data will be generated using fitted nuisance parameter values\n",
      "MakeAsimov: Setting poi mu to a constant value = 1\n",
      "MakeAsimov: doing a conditional fit for finding best nuisance values \n",
      " **********\n",
      " **    1 **SET PRINT           0\n",
      " **********\n",
      " **********\n",
      " **    2 **SET NOGRAD\n",
      " **********\n",
      " PARAMETER DEFINITIONS:\n",
      "    NO.   NAME         VALUE      STEP SIZE      LIMITS\n",
      "     1 alpha_background_shape   1.09635e-01  8.77455e-01   -5.00000e+00  5.00000e+00\n",
      "     2 alpha_bkg_norm_uncertainty  -1.51887e-01  7.06075e-01   -5.00000e+00  5.00000e+00\n",
      "     3 alpha_signal_norm_uncertainty   2.95562e-04  9.92555e-01   -5.00000e+00  5.00000e+00\n",
      " **********\n",
      " **    3 **SET ERR         0.5\n",
      " **********\n",
      " **********\n",
      " **    4 **SET PRINT           0\n",
      " **********\n",
      " **********\n",
      " **    5 **SET STR           1\n",
      " **********\n",
      " **********\n",
      " **    6 **MIGRAD        1500           1\n",
      " **********\n",
      " MIGRAD MINIMIZATION HAS CONVERGED.\n",
      " MIGRAD WILL VERIFY CONVERGENCE AND ERROR MATRIX.\n",
      " FCN=31.4141 FROM MIGRAD    STATUS=CONVERGED      35 CALLS          36 TOTAL\n",
      "                     EDM=1.62946e-06    STRATEGY= 1      ERROR MATRIX ACCURATE \n",
      "  EXT PARAMETER                                   STEP         FIRST   \n",
      "  NO.   NAME      VALUE            ERROR          SIZE      DERIVATIVE \n",
      "   1  alpha_background_shape   1.16969e-01   8.66549e-01   6.79692e-04  -2.39926e-04\n",
      "   2  alpha_bkg_norm_uncertainty  -5.97097e-02   7.05154e-01   5.46861e-04  -8.26567e-03\n",
      "   3  alpha_signal_norm_uncertainty   9.11847e-03   9.93038e-01   7.79939e-04   2.52554e-03\n",
      "                               ERR DEF= 0.5\n",
      "fit time Real time 0:00:00, CP time 0.000\n",
      "RooDataSet::AsimovData[obs_x_SR,weight:binWeightAsimov] = 25 entries (100.401 weighted)\n",
      "Generated Asimov data for observables RooArgSet:: = (obs_x_SR)\n",
      "Generated Asimov data for global observables RooArgSet:: = (nom_alpha_signal_norm_uncertainty,nom_alpha_bkg_norm_uncertainty,nom_alpha_background_shape)\n",
      "[#0] PROGRESS:Eval -- AsymptoticCalculator::Initialize Find  best conditional NLL on ASIMOV data set for given alt POI ( mu ) = 1\n",
      "AsymptoticCalculator::EvaluateNLL  ........ using Minuit / Migrad with strategy  1 and tolerance 1\n",
      " **********\n",
      " **    7 **SET PRINT           0\n",
      " **********\n",
      " **********\n",
      " **    8 **SET NOGRAD\n",
      " **********\n",
      " PARAMETER DEFINITIONS:\n",
      "    NO.   NAME         VALUE      STEP SIZE      LIMITS\n",
      "     1 alpha_background_shape   1.16969e-01  8.66549e-01   -5.00000e+00  5.00000e+00\n",
      "     2 alpha_bkg_norm_uncertainty  -5.97097e-02  7.05154e-01   -5.00000e+00  5.00000e+00\n",
      "     3 alpha_signal_norm_uncertainty   9.11847e-03  9.93038e-01   -5.00000e+00  5.00000e+00\n",
      " **********\n",
      " **    9 **SET ERR         0.5\n",
      " **********\n",
      " **********\n",
      " **   10 **SET PRINT           0\n",
      " **********\n",
      " **********\n",
      " **   11 **SET STR           1\n",
      " **********\n",
      " **********\n",
      " **   12 **MIGRAD        1500           1\n",
      " **********\n",
      " MIGRAD MINIMIZATION HAS CONVERGED.\n",
      " FCN=31.7809 FROM MIGRAD    STATUS=CONVERGED      40 CALLS          41 TOTAL\n",
      "                     EDM=6.49628e-19    STRATEGY= 1      ERROR MATRIX ACCURATE \n",
      "  EXT PARAMETER                                   STEP         FIRST   \n",
      "  NO.   NAME      VALUE            ERROR          SIZE      DERIVATIVE \n",
      "   1  alpha_background_shape   1.16969e-01   9.57629e-01  -0.00000e+00   3.46438e-09\n",
      "   2  alpha_bkg_norm_uncertainty  -5.97097e-02   7.03011e-01   0.00000e+00  -6.41859e-09\n",
      "   3  alpha_signal_norm_uncertainty   9.11847e-03   9.93249e-01  -0.00000e+00   9.05622e-10\n",
      "                               ERR DEF= 0.5\n",
      "AsymptoticCalculator::EvaluateNLL -  value = 31.7809 for poi fixed at = 1\tfit time : Real time 0:00:00, CP time 0.000\n",
      "[#1] INFO:InputArguments -- AsymptotiCalculator: Minimum of POI is 0 corresponds to null  snapshot   - default configuration is  one-sided discovery formulae  \n"
     ]
    }
   ],
   "source": [
    "ac = R.RooStats.AsymptoticCalculator(data, sbModel, bModel)\n",
    "ac.SetOneSidedDiscovery(True)"
   ]
  },
  {
   "cell_type": "markdown",
   "id": "robust-pound",
   "metadata": {},
   "source": [
    "Get the hypo test result"
   ]
  },
  {
   "cell_type": "code",
   "execution_count": 12,
   "id": "acoustic-gibson",
   "metadata": {
    "collapsed": false,
    "execution": {
     "iopub.execute_input": "2021-04-07T01:25:47.610867Z",
     "iopub.status.busy": "2021-04-07T01:25:47.610336Z",
     "iopub.status.idle": "2021-04-07T01:25:47.722944Z",
     "shell.execute_reply": "2021-04-07T01:25:47.724018Z"
    }
   },
   "outputs": [
    {
     "name": "stdout",
     "output_type": "stream",
     "text": [
      "\n",
      "[#1] INFO:Eval -- AsymptoticCalculator::GetHypoTest: - perform  an hypothesis test for  POI ( mu ) = 0\n",
      "[#0] PROGRESS:Eval -- AsymptoticCalculator::GetHypoTest -  Find  best conditional NLL on OBSERVED data set ..... \n",
      "AsymptoticCalculator::EvaluateNLL  ........ using Minuit / Migrad with strategy  1 and tolerance 1\n",
      " **********\n",
      " **   13 **SET PRINT           0\n",
      " **********\n",
      " **********\n",
      " **   14 **SET NOGRAD\n",
      " **********\n",
      " PARAMETER DEFINITIONS:\n",
      "    NO.   NAME         VALUE      STEP SIZE      LIMITS\n",
      "     1 alpha_background_shape   1.09635e-01  8.77455e-01   -5.00000e+00  5.00000e+00\n",
      "     2 alpha_bkg_norm_uncertainty  -1.51887e-01  7.06075e-01   -5.00000e+00  5.00000e+00\n",
      "     3 alpha_signal_norm_uncertainty   2.95562e-04  9.92555e-01   -5.00000e+00  5.00000e+00\n",
      " **********\n",
      " **   15 **SET ERR         0.5\n",
      " **********\n",
      " **********\n",
      " **   16 **SET PRINT           0\n",
      " **********\n",
      " **********\n",
      " **   17 **SET STR           1\n",
      " **********\n",
      " **********\n",
      " **   18 **MIGRAD        1500           1\n",
      " **********\n",
      " MIGRAD MINIMIZATION HAS CONVERGED.\n",
      " MIGRAD WILL VERIFY CONVERGENCE AND ERROR MATRIX.\n",
      " FCN=31.6406 FROM MIGRAD    STATUS=CONVERGED      35 CALLS          36 TOTAL\n",
      "                     EDM=1.00451e-05    STRATEGY= 1      ERROR MATRIX ACCURATE \n",
      "  EXT PARAMETER                                   STEP         FIRST   \n",
      "  NO.   NAME      VALUE            ERROR          SIZE      DERIVATIVE \n",
      "   1  alpha_background_shape   1.21099e-01   8.58248e-01   6.75353e-04  -1.78006e-05\n",
      "   2  alpha_bkg_norm_uncertainty  -2.23946e-03   7.04058e-01   5.44613e-04  -2.24332e-02\n",
      "   3  alpha_signal_norm_uncertainty   5.93232e-11   9.93347e-01   7.82964e-04   2.94939e-10\n",
      "                               ERR DEF= 0.5\n",
      "AsymptoticCalculator::EvaluateNLL -  value = 31.6406 for poi fixed at = 0\tfit time : Real time 0:00:00, CP time 0.010\n",
      "[#0] PROGRESS:Eval -- \t OBSERVED DATA :  qmu   = 0.781164 condNLL = 31.6406 uncond 31.25\n",
      "[#0] PROGRESS:Eval -- AsymptoticCalculator::GetHypoTest -- Find  best conditional NLL on ASIMOV data set .... \n",
      "AsymptoticCalculator::EvaluateNLL  ........ using Minuit / Migrad with strategy  1 and tolerance 1\n",
      " **********\n",
      " **   19 **SET PRINT           0\n",
      " **********\n",
      " **********\n",
      " **   20 **SET NOGRAD\n",
      " **********\n",
      " PARAMETER DEFINITIONS:\n",
      "    NO.   NAME         VALUE      STEP SIZE      LIMITS\n",
      "     1 alpha_background_shape   1.21099e-01  8.58248e-01   -5.00000e+00  5.00000e+00\n",
      "     2 alpha_bkg_norm_uncertainty  -2.23946e-03  7.04058e-01   -5.00000e+00  5.00000e+00\n",
      "     3 alpha_signal_norm_uncertainty   5.93232e-11  9.93347e-01   -5.00000e+00  5.00000e+00\n",
      " **********\n",
      " **   21 **SET ERR         0.5\n",
      " **********\n",
      " **********\n",
      " **   22 **SET PRINT           0\n",
      " **********\n",
      " **********\n",
      " **   23 **SET STR           1\n",
      " **********\n",
      " **********\n",
      " **   24 **MIGRAD        1500           1\n",
      " **********\n",
      " MIGRAD MINIMIZATION HAS CONVERGED.\n",
      " MIGRAD WILL VERIFY CONVERGENCE AND ERROR MATRIX.\n",
      " FCN=31.8234 FROM MIGRAD    STATUS=CONVERGED      39 CALLS          40 TOTAL\n",
      "                     EDM=7.70392e-11    STRATEGY= 1      ERROR MATRIX ACCURATE \n",
      "  EXT PARAMETER                                   STEP         FIRST   \n",
      "  NO.   NAME      VALUE            ERROR          SIZE      DERIVATIVE \n",
      "   1  alpha_background_shape   1.23078e-01   9.51316e-01   7.51876e-04  -2.95026e-07\n",
      "   2  alpha_bkg_norm_uncertainty  -9.72312e-03   7.02142e-01   5.53620e-04  -6.22950e-05\n",
      "   3  alpha_signal_norm_uncertainty   9.11847e-03   9.93347e-01   7.85188e-04  -2.05872e-08\n",
      "                               ERR DEF= 0.5\n",
      "AsymptoticCalculator::EvaluateNLL -  value = 31.8234 for poi fixed at = 0\tfit time : Real time 0:00:00, CP time 0.000\n",
      "[#0] PROGRESS:Eval -- \t ASIMOV data qmu_A = 0.084954 condNLL = 31.8234 uncond 31.7809\n",
      "[#0] PROGRESS:Eval -- poi = 0 qmu = 0.781164 qmu_A = 0.084954 sigma = 0  CLsplusb = 0.188393 CLb = 0.276803 CLs = 1.46929\n",
      "\n",
      "Results HypoTestAsymptotic_result: \n",
      " - Null p-value = 0.188393\n",
      " - Significance = 0.883835\n",
      " - CL_b: 0.188393\n",
      " - CL_s+b: 0.276803\n",
      " - CL_s: 1.46929\n"
     ]
    }
   ],
   "source": [
    "asResult = ac.GetHypoTest()\n",
    "asResult.Print()\n",
    "pvalue_as = asResult.NullPValue()"
   ]
  },
  {
   "cell_type": "markdown",
   "id": "historical-mauritius",
   "metadata": {},
   "source": [
    "By hand calculation\n",
    "======================="
   ]
  },
  {
   "cell_type": "code",
   "execution_count": 13,
   "id": "conditional-frederick",
   "metadata": {
    "collapsed": false,
    "execution": {
     "iopub.execute_input": "2021-04-07T01:25:47.732802Z",
     "iopub.status.busy": "2021-04-07T01:25:47.732108Z",
     "iopub.status.idle": "2021-04-07T01:25:47.842083Z",
     "shell.execute_reply": "2021-04-07T01:25:47.842658Z"
    }
   },
   "outputs": [],
   "source": [
    "w.loadSnapshot(snapshotName_init)\n",
    "sbModel = w.obj(\"ModelConfig\")\n",
    "pdf = sbModel.GetPdf()"
   ]
  },
  {
   "cell_type": "markdown",
   "id": "residential-cisco",
   "metadata": {},
   "source": [
    "Get the nuisance parameters and global observables"
   ]
  },
  {
   "cell_type": "code",
   "execution_count": 14,
   "id": "operational-profile",
   "metadata": {
    "collapsed": false,
    "execution": {
     "iopub.execute_input": "2021-04-07T01:25:47.859214Z",
     "iopub.status.busy": "2021-04-07T01:25:47.858332Z",
     "iopub.status.idle": "2021-04-07T01:25:47.968581Z",
     "shell.execute_reply": "2021-04-07T01:25:47.969172Z"
    }
   },
   "outputs": [],
   "source": [
    "constrainedParams = sbModel.GetNuisanceParameters()\n",
    "glbObs = sbModel.GetGlobalObservables()"
   ]
  },
  {
   "cell_type": "markdown",
   "id": "published-yeast",
   "metadata": {},
   "source": [
    "Create the neg-log-likelihood"
   ]
  },
  {
   "cell_type": "code",
   "execution_count": 15,
   "id": "alien-davis",
   "metadata": {
    "collapsed": false,
    "execution": {
     "iopub.execute_input": "2021-04-07T01:25:48.021416Z",
     "iopub.status.busy": "2021-04-07T01:25:48.020948Z",
     "iopub.status.idle": "2021-04-07T01:25:48.130316Z",
     "shell.execute_reply": "2021-04-07T01:25:48.131046Z"
    }
   },
   "outputs": [
    {
     "name": "stdout",
     "output_type": "stream",
     "text": [
      "Starting NLL value: 31.426611090781595\n",
      "[#1] INFO:Minization -- p.d.f. provides expected number of events, including extended term in likelihood.\n",
      "[#1] INFO:Minization -- createNLL picked up cached consraints from workspace with 3 entries\n",
      "[#1] INFO:Minization --  Including the following constraint terms in minimization: (alpha_signal_norm_uncertaintyConstraint,alpha_bkg_norm_uncertaintyConstraint,alpha_background_shapeConstraint)\n",
      "[#1] INFO:Minization -- The following global observables have been defined: (nom_alpha_signal_norm_uncertainty,nom_alpha_bkg_norm_uncertainty,nom_alpha_background_shape)\n",
      "[#1] INFO:Eval -- RooAbsTestStatistic::initMPMode: started 2 remote server process.\n",
      "[#1] INFO:Minization --  The following expressions have been identified as constant and will be precalculated and cached: (signal_SR_nominal,background_SR_Hist_alphanominal,background_SR_Hist_alpha_0low,background_SR_Hist_alpha_0high)\n",
      "[#1] INFO:Minization --  The following expressions will be evaluated in cache-and-track mode: (background_SR_Hist_alpha)\n",
      "[#1] INFO:Minization --  The following expressions have been identified as constant and will be precalculated and cached: (signal_SR_nominal,background_SR_Hist_alphanominal,background_SR_Hist_alpha_0low,background_SR_Hist_alpha_0high)\n",
      "[#1] INFO:Minization --  The following expressions will be evaluated in cache-and-track mode: (background_SR_Hist_alpha)\n",
      "[#1] INFO:Minization -- RooNLLVar::evaluatePartition(nll_model_SR_obsData_GOF0) first = 0 last = 12 Likelihood offset now set to 226.555\n",
      "[#1] INFO:Minization -- RooNLLVar::evaluatePartition(nll_model_SR_obsData_GOF1) first = 12 last = 25 Likelihood offset now set to -197.886\n"
     ]
    }
   ],
   "source": [
    "nll_sb = pdf.createNLL(data, R.RooFit.Constrain(constrainedParams), R.RooFit.GlobalObservables(glbObs), R.RooFit.Offset(1),\n",
    "                                       R.RooFit.NumCPU(2), R.RooFit.Optimize(2))\n",
    "nllval = nll_sb.getVal()\n",
    "print(\"Starting NLL value:\", nllval)"
   ]
  },
  {
   "cell_type": "markdown",
   "id": "international-increase",
   "metadata": {},
   "source": [
    "Do the minimization"
   ]
  },
  {
   "cell_type": "code",
   "execution_count": 16,
   "id": "colored-catch",
   "metadata": {
    "collapsed": false,
    "execution": {
     "iopub.execute_input": "2021-04-07T01:25:48.219438Z",
     "iopub.status.busy": "2021-04-07T01:25:48.166050Z",
     "iopub.status.idle": "2021-04-07T01:25:48.326919Z",
     "shell.execute_reply": "2021-04-07T01:25:48.327289Z"
    }
   },
   "outputs": [
    {
     "name": "stdout",
     "output_type": "stream",
     "text": [
      "\n",
      " =========== Unconditinal fit =========\n",
      "\n",
      "[#1] INFO:Fitting -- RooAddition::defaultErrorLevel(nll_model_SR_obsData_with_constr) Summation contains a RooNLLVar, using its error level\n",
      "[#1] INFO:Minization -- RooMinimizer::optimizeConst: activating const optimization\n",
      " **********\n",
      " **    1 **SET PRINT           1\n",
      " **********\n",
      " **********\n",
      " **    2 **SET NOGRAD\n",
      " **********\n",
      " PARAMETER DEFINITIONS:\n",
      "    NO.   NAME         VALUE      STEP SIZE      LIMITS\n",
      "     1 alpha_background_shape   0.00000e+00  1.00000e+00   -5.00000e+00  5.00000e+00\n",
      "     2 alpha_bkg_norm_uncertainty   0.00000e+00  1.00000e+00   -5.00000e+00  5.00000e+00\n",
      "     3 alpha_signal_norm_uncertainty   0.00000e+00  1.00000e+00   -5.00000e+00  5.00000e+00\n",
      "     4 mu           1.00000e+00  3.00000e-01    0.00000e+00  3.00000e+00\n",
      " **********\n",
      " **    3 **SET ERR         0.5\n",
      " **********\n",
      " **********\n",
      " **    4 **SET PRINT           1\n",
      " **********\n",
      " **********\n",
      " **    5 **SET STR           1\n",
      " **********\n",
      " NOW USING STRATEGY  1: TRY TO BALANCE SPEED AGAINST RELIABILITY\n",
      " **********\n",
      " **    6 **MIGRAD        2000           1\n",
      " **********\n",
      " FIRST CALL TO USER FUNCTION AT NEW START POINT, WITH IFLAG=4.\n",
      " START MIGRAD MINIMIZATION.  STRATEGY  1.  CONVERGENCE WHEN EDM .LT. 1.00e-03\n",
      " FCN=2.74779 FROM MIGRAD    STATUS=INITIATE       32 CALLS          33 TOTAL\n",
      "                     EDM= unknown      STRATEGY= 1      NO ERROR MATRIX       \n",
      "  EXT PARAMETER               CURRENT GUESS       STEP         FIRST   \n",
      "  NO.   NAME      VALUE            ERROR          SIZE      DERIVATIVE \n",
      "   1  alpha_background_shape   1.17167e-01   1.00000e+00   2.34356e-02   8.99701e-04\n",
      "   2  alpha_bkg_norm_uncertainty   0.00000e+00   1.00000e+00   0.00000e+00   5.83820e-01\n",
      "   3  alpha_signal_norm_uncertainty   0.00000e+00   1.00000e+00   0.00000e+00  -4.14982e-02\n",
      "   4  mu           1.00000e+00   3.00000e-01   0.00000e+00  -2.34664e-01\n",
      "                               ERR DEF= 0.5\n",
      " MIGRAD MINIMIZATION HAS CONVERGED.\n",
      " MIGRAD WILL VERIFY CONVERGENCE AND ERROR MATRIX.\n",
      " COVARIANCE MATRIX CALCULATED SUCCESSFULLY\n",
      " FCN=2.58022 FROM MIGRAD    STATUS=CONVERGED     103 CALLS         104 TOTAL\n",
      "                     EDM=3.70809e-05    STRATEGY= 1      ERROR MATRIX ACCURATE \n",
      "  EXT PARAMETER                                   STEP         FIRST   \n",
      "  NO.   NAME      VALUE            ERROR          SIZE      DERIVATIVE \n",
      "   1  alpha_background_shape   1.06975e-01   8.77485e-01   2.13729e-04  -1.59403e-02\n",
      "   2  alpha_bkg_norm_uncertainty  -1.54039e-01   7.10103e-01   1.71787e-04  -2.34441e-02\n",
      "   3  alpha_signal_norm_uncertainty   2.61021e-03   9.92763e-01   2.42185e-04   1.13689e-02\n",
      "   4  mu           2.99562e+00   2.89147e+00   1.83852e-02   2.57355e-04\n",
      "                               ERR DEF= 0.5\n",
      " EXTERNAL ERROR MATRIX.    NDIM=  25    NPAR=  4    ERR DEF=0.5\n",
      "  7.780e-01  1.099e-03 -3.902e-04  1.221e-02 \n",
      "  1.099e-03  5.077e-01 -4.377e-03  1.370e-01 \n",
      " -3.902e-04 -4.377e-03  9.988e-01  3.628e-02 \n",
      "  1.221e-02  1.370e-01  3.628e-02  3.050e+00 \n",
      " PARAMETER  CORRELATION COEFFICIENTS  \n",
      "       NO.  GLOBAL      1      2      3      4\n",
      "        1  0.00800   1.000  0.002 -0.000  0.008\n",
      "        2  0.11041   0.002  1.000 -0.006  0.110\n",
      "        3  0.02246  -0.000 -0.006  1.000  0.021\n",
      "        4  0.11243   0.008  0.110  0.021  1.000\n"
     ]
    }
   ],
   "source": [
    "minim = R.RooMinimizer(nll_sb)\n",
    "strategy = R.Math.MinimizerOptions.DefaultStrategy()\n",
    "minim.setStrategy(strategy)\n",
    "minim.optimizeConst(2)\n",
    "minimizer = R.Math.MinimizerOptions.DefaultMinimizerType()\n",
    "algorithm = R.Math.MinimizerOptions.DefaultMinimizerAlgo()\n",
    "print(\"\\n =========== Unconditinal fit =========\\n\")\n",
    "status = minim.minimize(minimizer, algorithm)\n",
    "\n",
    "obs_nll_min = nll_sb.getVal()\n",
    "reverse = (poi.getVal() < 0)"
   ]
  },
  {
   "cell_type": "markdown",
   "id": "weighted-diameter",
   "metadata": {},
   "source": [
    "Fix POI to 0 (B-only model) and do the minimization again"
   ]
  },
  {
   "cell_type": "code",
   "execution_count": 17,
   "id": "guided-jacksonville",
   "metadata": {
    "collapsed": false,
    "execution": {
     "iopub.execute_input": "2021-04-07T01:25:48.355445Z",
     "iopub.status.busy": "2021-04-07T01:25:48.355036Z",
     "iopub.status.idle": "2021-04-07T01:25:48.462588Z",
     "shell.execute_reply": "2021-04-07T01:25:48.463314Z"
    }
   },
   "outputs": [
    {
     "name": "stdout",
     "output_type": "stream",
     "text": [
      "\n",
      " =========== Conditinal fit =========\n",
      "\n",
      "[#1] INFO:Minization -- RooMinimizerFcn::synchronize: set of constant parameters changed, rerunning const optimizer\n",
      " **********\n",
      " **    7 **SET PRINT           1\n",
      " **********\n",
      " **********\n",
      " **    8 **SET NOGRAD\n",
      " **********\n",
      " PARAMETER DEFINITIONS:\n",
      "    NO.   NAME         VALUE      STEP SIZE      LIMITS\n",
      "     1 alpha_background_shape   0.00000e+00  1.00000e+00   -5.00000e+00  5.00000e+00\n",
      "     2 alpha_bkg_norm_uncertainty   0.00000e+00  1.00000e+00   -5.00000e+00  5.00000e+00\n",
      "     3 alpha_signal_norm_uncertainty   0.00000e+00  1.00000e+00   -5.00000e+00  5.00000e+00\n",
      "     4 mu           0.00000e+00  1.00000e-01     no limits\n",
      " **********\n",
      " **    9 **FIX           4\n",
      " **********\n",
      " **********\n",
      " **   10 **SET ERR         0.5\n",
      " **********\n",
      " **********\n",
      " **   11 **SET PRINT           1\n",
      " **********\n",
      " **********\n",
      " **   12 **SET STR           1\n",
      " **********\n",
      " NOW USING STRATEGY  1: TRY TO BALANCE SPEED AGAINST RELIABILITY\n",
      " **********\n",
      " **   13 **MIGRAD        2000           1\n",
      " **********\n",
      " FIRST CALL TO USER FUNCTION AT NEW START POINT, WITH IFLAG=4.\n",
      " START MIGRAD MINIMIZATION.  STRATEGY  1.  CONVERGENCE WHEN EDM .LT. 1.00e-03\n",
      " FCN=2.98063 FROM MIGRAD    STATUS=INITIATE       12 CALLS          13 TOTAL\n",
      "                     EDM= unknown      STRATEGY= 1      NO ERROR MATRIX       \n",
      "  EXT PARAMETER               CURRENT GUESS       STEP         FIRST   \n",
      "  NO.   NAME      VALUE            ERROR          SIZE      DERIVATIVE \n",
      "   1  alpha_background_shape   0.00000e+00   1.00000e+00   2.01358e-01  -8.13857e-01\n",
      "   2  alpha_bkg_norm_uncertainty   0.00000e+00   1.00000e+00   2.01358e-01  -2.72843e-07\n",
      "   3  alpha_signal_norm_uncertainty   0.00000e+00   1.00000e+00   2.01358e-01   0.00000e+00\n",
      "   4  mu           0.00000e+00     fixed    \n",
      "                               ERR DEF= 0.5\n",
      " MIGRAD MINIMIZATION HAS CONVERGED.\n",
      " MIGRAD WILL VERIFY CONVERGENCE AND ERROR MATRIX.\n",
      " COVARIANCE MATRIX CALCULATED SUCCESSFULLY\n",
      " FCN=2.97077 FROM MIGRAD    STATUS=CONVERGED      37 CALLS          38 TOTAL\n",
      "                     EDM=8.27911e-08    STRATEGY= 1      ERROR MATRIX ACCURATE \n",
      "  EXT PARAMETER                                   STEP         FIRST   \n",
      "  NO.   NAME      VALUE            ERROR          SIZE      DERIVATIVE \n",
      "   1  alpha_background_shape   1.21349e-01   8.58252e-01   2.22167e-04   1.66749e-03\n",
      "   2  alpha_bkg_norm_uncertainty   2.72444e-08   7.04240e-01   1.81801e-04   3.92180e-07\n",
      "   3  alpha_signal_norm_uncertainty   0.00000e+00   9.93347e-01   2.57293e-04   0.00000e+00\n",
      "   4  mu           0.00000e+00     fixed    \n",
      "                               ERR DEF= 0.5\n",
      " EXTERNAL ERROR MATRIX.    NDIM=  25    NPAR=  3    ERR DEF=0.5\n",
      "  7.440e-01  5.245e-08 -2.313e-10 \n",
      "  5.245e-08  4.993e-01 -1.630e-17 \n",
      " -2.313e-10 -1.630e-17  1.000e+00 \n",
      " PARAMETER  CORRELATION COEFFICIENTS  \n",
      "       NO.  GLOBAL      1      2      3\n",
      "        1  0.00000   1.000  0.000 -0.000\n",
      "        2  0.00000   0.000  1.000 -0.000\n",
      "        3  0.00000  -0.000 -0.000  1.000\n"
     ]
    }
   ],
   "source": [
    "print(\"\\n =========== Conditinal fit =========\\n\")\n",
    "w.loadSnapshot(snapshotName_init)\n",
    "poi.setVal(0)\n",
    "poi.setConstant(1)\n",
    "\n",
    "status = minim.minimize(minimizer, algorithm)\n",
    "\n",
    "obs_nll_min_bkg = nll_sb.getVal()"
   ]
  },
  {
   "cell_type": "markdown",
   "id": "manufactured-smoke",
   "metadata": {},
   "source": [
    "The asymptotic statistic: q0 = nll(b-only, mu=0) - nll(s+b)\n",
    "Significance: Z = sqrt( 2*q0 )"
   ]
  },
  {
   "cell_type": "code",
   "execution_count": 18,
   "id": "assured-mining",
   "metadata": {
    "collapsed": false,
    "execution": {
     "iopub.execute_input": "2021-04-07T01:25:48.467686Z",
     "iopub.status.busy": "2021-04-07T01:25:48.467023Z",
     "iopub.status.idle": "2021-04-07T01:25:48.577050Z",
     "shell.execute_reply": "2021-04-07T01:25:48.577621Z"
    }
   },
   "outputs": [],
   "source": [
    "obs_q0 = 2*(obs_nll_min_bkg - obs_nll_min)"
   ]
  },
  {
   "cell_type": "markdown",
   "id": "forbidden-specific",
   "metadata": {},
   "source": [
    "Check the sign: excess or deficit? "
   ]
  },
  {
   "cell_type": "code",
   "execution_count": 19,
   "id": "funky-floating",
   "metadata": {
    "collapsed": false,
    "execution": {
     "iopub.execute_input": "2021-04-07T01:25:48.584368Z",
     "iopub.status.busy": "2021-04-07T01:25:48.583617Z",
     "iopub.status.idle": "2021-04-07T01:25:48.693071Z",
     "shell.execute_reply": "2021-04-07T01:25:48.692427Z"
    }
   },
   "outputs": [
    {
     "name": "stdout",
     "output_type": "stream",
     "text": [
      "\n",
      "Unconditional NLL value: 31.250010639010046\n",
      "Conditional NLL value: 31.640569479530004\n",
      "==> Asymmptotic signficance:  0.8838086224064099\n"
     ]
    }
   ],
   "source": [
    "if reverse: obs_q0 = -obs_q0\n",
    "sign = 0\n",
    "if obs_q0!=0: sign = obs_q0 / fabs(obs_q0)\n",
    "obs_sig = sign*sqrt(fabs(obs_q0));\n",
    "print(\"\\nUnconditional NLL value:\", obs_nll_min)\n",
    "print(\"Conditional NLL value:\", obs_nll_min_bkg)\n",
    "print(\"==> Asymmptotic signficance: \", obs_sig)"
   ]
  },
  {
   "cell_type": "markdown",
   "id": "future-event",
   "metadata": {},
   "source": [
    "The frequentist appproach\n",
    "======================="
   ]
  },
  {
   "cell_type": "code",
   "execution_count": 20,
   "id": "deadly-northwest",
   "metadata": {
    "collapsed": false,
    "execution": {
     "iopub.execute_input": "2021-04-07T01:25:48.711566Z",
     "iopub.status.busy": "2021-04-07T01:25:48.710953Z",
     "iopub.status.idle": "2021-04-07T01:25:48.820988Z",
     "shell.execute_reply": "2021-04-07T01:25:48.821723Z"
    }
   },
   "outputs": [
    {
     "name": "stdout",
     "output_type": "stream",
     "text": [
      "RooRealVar::mu = 1  L(0 - 3) \n"
     ]
    }
   ],
   "source": [
    "w.loadSnapshot(snapshotName_init)\n",
    "poi.Print()\n",
    "fc = R.RooStats.FrequentistCalculator(data, sbModel, bModel)"
   ]
  },
  {
   "cell_type": "markdown",
   "id": "violent-louisville",
   "metadata": {},
   "source": [
    "Test statistics: profile liekelihood"
   ]
  },
  {
   "cell_type": "code",
   "execution_count": 21,
   "id": "deadly-fantasy",
   "metadata": {
    "collapsed": false,
    "execution": {
     "iopub.execute_input": "2021-04-07T01:25:48.848835Z",
     "iopub.status.busy": "2021-04-07T01:25:48.848285Z",
     "iopub.status.idle": "2021-04-07T01:25:48.958756Z",
     "shell.execute_reply": "2021-04-07T01:25:48.959343Z"
    }
   },
   "outputs": [],
   "source": [
    "profll = R.RooStats.ProfileLikelihoodTestStat(sbModel.GetPdf())\n",
    "profll.SetOneSidedDiscovery(True)\n",
    "profll.SetVarName(\"q_{0}/2\")"
   ]
  },
  {
   "cell_type": "markdown",
   "id": "breathing-lawsuit",
   "metadata": {},
   "source": [
    "Need to throw toys"
   ]
  },
  {
   "cell_type": "code",
   "execution_count": 22,
   "id": "destroyed-matter",
   "metadata": {
    "collapsed": false,
    "execution": {
     "iopub.execute_input": "2021-04-07T01:25:48.987695Z",
     "iopub.status.busy": "2021-04-07T01:25:48.987140Z",
     "iopub.status.idle": "2021-04-07T01:25:49.097746Z",
     "shell.execute_reply": "2021-04-07T01:25:49.098421Z"
    }
   },
   "outputs": [],
   "source": [
    "toymcs = fc.GetTestStatSampler()\n",
    "if not sbModel.GetPdf().canBeExtended():\n",
    "    toymcs.SetNEventsPerToy(1)\n",
    "    print('\\nAdjusting for non-extended formalism\\n')"
   ]
  },
  {
   "cell_type": "markdown",
   "id": "first-intention",
   "metadata": {},
   "source": [
    "Set the test stat"
   ]
  },
  {
   "cell_type": "code",
   "execution_count": 23,
   "id": "occupational-cornell",
   "metadata": {
    "collapsed": false,
    "execution": {
     "iopub.execute_input": "2021-04-07T01:25:49.109204Z",
     "iopub.status.busy": "2021-04-07T01:25:49.108463Z",
     "iopub.status.idle": "2021-04-07T01:25:49.219464Z",
     "shell.execute_reply": "2021-04-07T01:25:49.218715Z"
    }
   },
   "outputs": [],
   "source": [
    "toymcs.SetTestStatistic(profll)"
   ]
  },
  {
   "cell_type": "markdown",
   "id": "greek-gazette",
   "metadata": {},
   "source": [
    "Set number of toys: null toys, alt toys"
   ]
  },
  {
   "cell_type": "code",
   "execution_count": 24,
   "id": "committed-jerusalem",
   "metadata": {
    "collapsed": false,
    "execution": {
     "iopub.execute_input": "2021-04-07T01:25:49.228458Z",
     "iopub.status.busy": "2021-04-07T01:25:49.227788Z",
     "iopub.status.idle": "2021-04-07T01:25:49.337782Z",
     "shell.execute_reply": "2021-04-07T01:25:49.338384Z"
    }
   },
   "outputs": [],
   "source": [
    "fc.SetToys(2500,1000)"
   ]
  },
  {
   "cell_type": "markdown",
   "id": "external-engineering",
   "metadata": {},
   "source": [
    "Run the test"
   ]
  },
  {
   "cell_type": "code",
   "execution_count": 25,
   "id": "authentic-sterling",
   "metadata": {
    "collapsed": false,
    "execution": {
     "iopub.execute_input": "2021-04-07T01:25:55.870792Z",
     "iopub.status.busy": "2021-04-07T01:25:55.870444Z",
     "iopub.status.idle": "2021-04-07T01:25:55.978854Z",
     "shell.execute_reply": "2021-04-07T01:25:55.979241Z"
    }
   },
   "outputs": [
    {
     "name": "stdout",
     "output_type": "stream",
     "text": [
      "\n",
      "=== Using the following for B_only_model ===\n",
      "Observables:             RooArgSet:: = (obs_x_SR)\n",
      "Parameters of Interest:  RooArgSet:: = (mu)\n",
      "Nuisance Parameters:     RooArgSet:: = (alpha_background_shape,alpha_bkg_norm_uncertainty,alpha_signal_norm_uncertainty)\n",
      "Global Observables:      RooArgSet:: = (nom_alpha_signal_norm_uncertainty,nom_alpha_bkg_norm_uncertainty,nom_alpha_background_shape)\n",
      "PDF:                     RooProdPdf::model_SR[ lumiConstraint * alpha_signal_norm_uncertaintyConstraint * alpha_bkg_norm_uncertaintyConstraint * alpha_background_shapeConstraint * SR_model(obs_x_SR) ] = 0.0237772/1\n",
      "Snapshot:                \n",
      "  1) 0x137dd2bf0 RooRealVar:: mu = 0  L(0 - 3)  \"mu\"\n",
      "\n",
      "\n",
      "=== Using the following for ModelConfig ===\n",
      "Observables:             RooArgSet:: = (obs_x_SR)\n",
      "Parameters of Interest:  RooArgSet:: = (mu)\n",
      "Nuisance Parameters:     RooArgSet:: = (alpha_background_shape,alpha_bkg_norm_uncertainty,alpha_signal_norm_uncertainty)\n",
      "Global Observables:      RooArgSet:: = (nom_alpha_signal_norm_uncertainty,nom_alpha_bkg_norm_uncertainty,nom_alpha_background_shape)\n",
      "PDF:                     RooProdPdf::model_SR[ lumiConstraint * alpha_signal_norm_uncertaintyConstraint * alpha_bkg_norm_uncertaintyConstraint * alpha_background_shapeConstraint * SR_model(obs_x_SR) ] = 0.0237772/1\n",
      "Snapshot:                \n",
      "  1) 0x137dd2bf0 RooRealVar:: mu = 1  L(0 - 3)  \"mu\"\n",
      "\n",
      "[#0] PROGRESS:Generation -- Test Statistic on data: 0.390558\n",
      "[#1] INFO:InputArguments -- Profiling conditional MLEs for Null.\n",
      "[#1] INFO:InputArguments -- Using a ToyMCSampler. Now configuring for Null.\n",
      "[#0] PROGRESS:Generation -- generated toys: 500 / 2500\n",
      "[#0] PROGRESS:Generation -- generated toys: 1000 / 2500\n",
      "[#0] PROGRESS:Generation -- generated toys: 1500 / 2500\n",
      "[#0] PROGRESS:Generation -- generated toys: 2000 / 2500\n",
      "[#1] INFO:InputArguments -- Profiling conditional MLEs for Alt.\n",
      "[#1] INFO:InputArguments -- Using a ToyMCSampler. Now configuring for Alt.\n",
      "[#0] PROGRESS:Generation -- generated toys: 500 / 1000\n",
      "\n",
      "Results HypoTestCalculator_result: \n",
      " - Null p-value = 0.1792 +/- 0.00767039\n",
      " - Significance = 0.918418 +/- 0.0293136 sigma\n",
      " - Number of Alt toys: 1000\n",
      " - Number of Null toys: 2500\n",
      " - Test statistic evaluated on data: 0.390558\n",
      " - CL_b: 0.1792 +/- 0.00767039\n",
      " - CL_s+b: 0.286 +/- 0.01429\n",
      " - CL_s: 1.59598 +/- 0.105004\n",
      "\n",
      "Results HypoTestCalculator_result: \n",
      " - Null p-value = 0.1792 +/- 0.00767039\n",
      " - Significance = 0.918418 +/- 0.0293136 sigma\n",
      " - Number of Alt toys: 1000\n",
      " - Number of Null toys: 2500\n",
      " - Test statistic evaluated on data: 0.390558\n",
      " - CL_b: 0.1792 +/- 0.00767039\n",
      " - CL_s+b: 0.286 +/- 0.01429\n",
      " - CL_s: 1.59598 +/- 0.105004\n"
     ]
    }
   ],
   "source": [
    "fqResult = fc.GetHypoTest()\n",
    "fqResult.Print()\n",
    "fqResult.GetNullDistribution().SetTitle(\"b only\")\n",
    "fqResult.GetAltDistribution().SetTitle(\"s+b\")\n",
    "fqResult.Print()\n",
    "pvalue_fq = fqResult.NullPValue()"
   ]
  },
  {
   "cell_type": "markdown",
   "id": "multiple-journey",
   "metadata": {},
   "source": [
    "Plot the distributions of the test statistic"
   ]
  },
  {
   "cell_type": "code",
   "execution_count": 26,
   "id": "dated-pension",
   "metadata": {
    "collapsed": false,
    "execution": {
     "iopub.execute_input": "2021-04-07T01:25:56.008138Z",
     "iopub.status.busy": "2021-04-07T01:25:56.007735Z",
     "iopub.status.idle": "2021-04-07T01:25:56.119302Z",
     "shell.execute_reply": "2021-04-07T01:25:56.118751Z"
    }
   },
   "outputs": [],
   "source": [
    "c = R.TCanvas()\n",
    "plot = R.RooStats.HypoTestPlot(fqResult)\n",
    "plot.SetLogYaxis(True)"
   ]
  },
  {
   "cell_type": "markdown",
   "id": "eight-fundamental",
   "metadata": {},
   "source": [
    "add chi2 to plot, to check the asymptotic behavior"
   ]
  },
  {
   "cell_type": "code",
   "execution_count": 27,
   "id": "strong-karen",
   "metadata": {
    "collapsed": false,
    "execution": {
     "iopub.execute_input": "2021-04-07T01:25:56.241048Z",
     "iopub.status.busy": "2021-04-07T01:25:56.240723Z",
     "iopub.status.idle": "2021-04-07T01:25:56.393329Z",
     "shell.execute_reply": "2021-04-07T01:25:56.393072Z"
    }
   },
   "outputs": [
    {
     "name": "stderr",
     "output_type": "stream",
     "text": [
      "Info in <TCanvas::Print>: png file test_p0_1.png has been created\n",
      "Info in <TCanvas::SaveAs>: ROOT file test_p0_1.root has been created\n"
     ]
    },
    {
     "data": {
      "image/png": "[encoded data removed]",
      "text/plain": [
       "<IPython.core.display.Image object>"
      ]
     },
     "metadata": {},
     "output_type": "display_data"
    }
   ],
   "source": [
    "nPOI = 1\n",
    "fchi = R.TF1(\"f\", \"1*ROOT::Math::chisquared_pdf(2*x,{0},0)\".format(nPOI), 0, 20)\n",
    "fchi.SetLineColor(R.kBlack)\n",
    "fchi.SetLineStyle(7)\n",
    "plot.AddTF1(fchi, \"#chi^{{2}}(2x,{0})\".format(nPOI))\n",
    "plot.Draw()\n",
    "c.Draw()\n",
    "\n",
    "c.SaveAs(\"test_p0_1.png\")\n",
    "c.SaveAs(\"test_p0_1.root\")"
   ]
  },
  {
   "cell_type": "markdown",
   "id": "acceptable-gossip",
   "metadata": {},
   "source": [
    "Draw all canvases "
   ]
  },
  {
   "cell_type": "code",
   "execution_count": 28,
   "id": "passing-boating",
   "metadata": {
    "collapsed": false,
    "execution": {
     "iopub.execute_input": "2021-04-07T01:25:56.398175Z",
     "iopub.status.busy": "2021-04-07T01:25:56.397827Z",
     "iopub.status.idle": "2021-04-07T01:25:56.525011Z",
     "shell.execute_reply": "2021-04-07T01:25:56.525257Z"
    }
   },
   "outputs": [
    {
     "data": {
      "image/png": "[encoded data removed]",
      "text/plain": [
       "<IPython.core.display.Image object>"
      ]
     },
     "metadata": {},
     "output_type": "display_data"
    }
   ],
   "source": [
    "from ROOT import gROOT \n",
    "gROOT.GetListOfCanvases().Draw()"
   ]
  }
 ],
 "metadata": {
  "kernelspec": {
   "display_name": "Python 3",
   "language": "python",
   "name": "python3"
  },
  "language_info": {
   "codemirror_mode": {
    "name": "ipython",
    "version": 3
   },
   "file_extension": ".py",
   "mimetype": "text/x-python",
   "name": "python",
   "nbconvert_exporter": "python",
   "pygments_lexer": "ipython3",
   "version": "3.8.8"
  }
 },
 "nbformat": 4,
 "nbformat_minor": 5
}
